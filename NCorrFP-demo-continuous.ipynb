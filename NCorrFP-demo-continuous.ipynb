{
 "cells": [
  {
   "cell_type": "markdown",
   "id": "11098cde",
   "metadata": {},
   "source": [
    "# NCorr-FP scheme run demo - Example with correlated continuous data\n",
    "\n",
    "* [1. Insetion algorithm (fingerprint embedding)](#insertion)\n",
    "    * [Step 1](#i-step-1) - an example of mark=0\n",
    "    * [Step 2](#i-step-2) - an example of mark=1\n",
    "    * [Step 3](#i-step-3) - an example of marking an attribute with missing values\n",
    "    * ...\n",
    "* [2. Detection algorithm](#detection)\n",
    "    * [Step 1](#d-step-1)\n",
    "    * [Step 2](#d-step-2)\n",
    "    * [Step 3](#d-step-3)\n",
    "    * [Step 50 to end](#d-step-50)"
   ]
  },
  {
   "cell_type": "code",
   "execution_count": 1,
   "id": "c6e1e79d",
   "metadata": {},
   "outputs": [],
   "source": [
    "import pandas as pd\n",
    "import numpy as np\n",
    "from pprint import pprint\n",
    "from matplotlib import pyplot as plt\n",
    "from matplotlib import colors\n",
    "from scipy.stats import gaussian_kde\n",
    "from sklearn.preprocessing import LabelEncoder\n",
    "from IPython.display import Image"
   ]
  },
  {
   "cell_type": "code",
   "execution_count": 2,
   "id": "72b4ac09",
   "metadata": {},
   "outputs": [],
   "source": [
    "from NCorrFP_scheme.NCorrFP import NCorrFP, sample_from_area"
   ]
  },
  {
   "cell_type": "code",
   "execution_count": 3,
   "id": "73abb5e6",
   "metadata": {},
   "outputs": [
    {
     "data": {
      "text/html": [
       "<div>\n",
       "<style scoped>\n",
       "    .dataframe tbody tr th:only-of-type {\n",
       "        vertical-align: middle;\n",
       "    }\n",
       "\n",
       "    .dataframe tbody tr th {\n",
       "        vertical-align: top;\n",
       "    }\n",
       "\n",
       "    .dataframe thead th {\n",
       "        text-align: right;\n",
       "    }\n",
       "</style>\n",
       "<table border=\"1\" class=\"dataframe\">\n",
       "  <thead>\n",
       "    <tr style=\"text-align: right;\">\n",
       "      <th></th>\n",
       "      <th>Id</th>\n",
       "      <th>X</th>\n",
       "      <th>Y</th>\n",
       "      <th>Z</th>\n",
       "    </tr>\n",
       "  </thead>\n",
       "  <tbody>\n",
       "    <tr>\n",
       "      <th>0</th>\n",
       "      <td>0</td>\n",
       "      <td>51</td>\n",
       "      <td>42</td>\n",
       "      <td>29</td>\n",
       "    </tr>\n",
       "    <tr>\n",
       "      <th>1</th>\n",
       "      <td>1</td>\n",
       "      <td>46</td>\n",
       "      <td>29</td>\n",
       "      <td>22</td>\n",
       "    </tr>\n",
       "    <tr>\n",
       "      <th>2</th>\n",
       "      <td>2</td>\n",
       "      <td>60</td>\n",
       "      <td>44</td>\n",
       "      <td>28</td>\n",
       "    </tr>\n",
       "    <tr>\n",
       "      <th>3</th>\n",
       "      <td>3</td>\n",
       "      <td>68</td>\n",
       "      <td>52</td>\n",
       "      <td>39</td>\n",
       "    </tr>\n",
       "    <tr>\n",
       "      <th>4</th>\n",
       "      <td>4</td>\n",
       "      <td>48</td>\n",
       "      <td>35</td>\n",
       "      <td>25</td>\n",
       "    </tr>\n",
       "  </tbody>\n",
       "</table>\n",
       "</div>"
      ],
      "text/plain": [
       "   Id   X   Y   Z\n",
       "0   0  51  42  29\n",
       "1   1  46  29  22\n",
       "2   2  60  44  28\n",
       "3   3  68  52  39\n",
       "4   4  48  35  25"
      ]
     },
     "execution_count": 3,
     "metadata": {},
     "output_type": "execute_result"
    }
   ],
   "source": [
    "# original data\n",
    "data = \"NCorrFP_scheme/test/test_data/synthetic_300_3_continuous.csv\"\n",
    "dataset = pd.read_csv(data)\n",
    "correlated_attributes = ['X', 'Y']\n",
    "dataset.head(5)"
   ]
  },
  {
   "cell_type": "code",
   "execution_count": 4,
   "id": "fa4fb864",
   "metadata": {},
   "outputs": [
    {
     "name": "stdout",
     "output_type": "stream",
     "text": [
      "Start the demo NCorr fingerprint insertion algorithm...\n",
      "\tgamma: 1\n",
      "\tcorrelated attributes: ['X', 'Y']\n",
      "\n",
      "Generated fingerprint for recipient 4: 0100000001100100\n",
      "\n",
      "Generated fingerprint for recipient 4: 0100000001100100\n",
      "Inserting the fingerprint...\n",
      "\n",
      "Training balltrees in: 0.01 sec.\n",
      "Fingerprint inserted.\n",
      "Runtime: 1.31 sec.\n"
     ]
    }
   ],
   "source": [
    "# fingerprinting \n",
    "scheme = NCorrFP(gamma=1, fingerprint_bit_length=16, k=10)\n",
    "fingerprinted_data, iter_log = scheme.demo_insertion(data, primary_key_name='Id', secret_key=101, recipient_id=4,\n",
    "                                              correlated_attributes=correlated_attributes)"
   ]
  },
  {
   "cell_type": "code",
   "execution_count": 5,
   "id": "c7030e89",
   "metadata": {},
   "outputs": [],
   "source": [
    "fingerprint = [0,1,0,0,0,0,0,0,0,1,1,0,0,1,0,0]"
   ]
  },
  {
   "cell_type": "markdown",
   "id": "f8037ecd",
   "metadata": {},
   "source": [
    "## 1. Insertion algorithm (embedding) <a class=\"anchor\" id=\"insertion\"></a>\n",
    "The insertion algorithm takes as input:\n",
    "- dataset\n",
    "- owner's secret key, recipient ID\n",
    "- fingerprint length, marking ratio gamma\n",
    "- list of correlated attributes\n",
    "- whether the neighbourhood search is distance based (_d_ -- max distance) or cardinality based (_k_ -- minimum cardinality of the neighbourhood)\n",
    "\n",
    "### Step 1: <a class=\"anchor\" id=\"i-step-1\"></a>\n",
    "The marking position  (row, attribute) are chosen pseudorandomly seeded by the owner's secret key\n",
    "#### Marking position: \n",
    "- Marking row: 0\n",
    "- Marking attribute: \"_Y_\"\n",
    "- Original value: 42"
   ]
  },
  {
   "cell_type": "code",
   "execution_count": 61,
   "id": "2607c7e0",
   "metadata": {},
   "outputs": [
    {
     "name": "stdout",
     "output_type": "stream",
     "text": [
      "Marking record no. 0\n",
      "Marking attribute: Y\n"
     ]
    },
    {
     "data": {
      "text/html": [
       "<div>\n",
       "<style scoped>\n",
       "    .dataframe tbody tr th:only-of-type {\n",
       "        vertical-align: middle;\n",
       "    }\n",
       "\n",
       "    .dataframe tbody tr th {\n",
       "        vertical-align: top;\n",
       "    }\n",
       "\n",
       "    .dataframe thead th {\n",
       "        text-align: right;\n",
       "    }\n",
       "</style>\n",
       "<table border=\"1\" class=\"dataframe\">\n",
       "  <thead>\n",
       "    <tr style=\"text-align: right;\">\n",
       "      <th></th>\n",
       "      <th>Id</th>\n",
       "      <th>X</th>\n",
       "      <th>Y</th>\n",
       "      <th>Z</th>\n",
       "    </tr>\n",
       "  </thead>\n",
       "  <tbody>\n",
       "    <tr>\n",
       "      <th>0</th>\n",
       "      <td>0</td>\n",
       "      <td>51</td>\n",
       "      <td>42</td>\n",
       "      <td>29</td>\n",
       "    </tr>\n",
       "  </tbody>\n",
       "</table>\n",
       "</div>"
      ],
      "text/plain": [
       "   Id   X   Y   Z\n",
       "0   0  51  42  29"
      ]
     },
     "execution_count": 61,
     "metadata": {},
     "output_type": "execute_result"
    }
   ],
   "source": [
    "print(\"Marking record no. \" + str(iter_log[0]['row_index'])) # --> 0\n",
    "print(\"Marking attribute: \" + str(iter_log[0]['attribute'])) # --> Y\n",
    "dataset.iloc[[0]]"
   ]
  },
  {
   "cell_type": "markdown",
   "id": "31e38d46",
   "metadata": {},
   "source": [
    "#### Neighbourhood: \n",
    "We are looking now in the neighbourhood of the attribute X correlated to Y, the one we are marking. Now the neighbourhood should be the records where X is the closest to 51. "
   ]
  },
  {
   "cell_type": "code",
   "execution_count": 62,
   "id": "3d11c5b9",
   "metadata": {},
   "outputs": [
    {
     "name": "stdout",
     "output_type": "stream",
     "text": [
      "Neighbours idx: [0, 186, 249, 197, 207, 21, 143, 107, 11, 159]\n",
      "Neighbours dist: [0.0, 0.0, 0.0, 0.0, 0.0, 0.0, 0.0, 0.0, 0.0, 0.0]\n",
      "Neighbours values:[51, 51, 51, 51, 51, 51, 51, 51, 51, 51]\n"
     ]
    }
   ],
   "source": [
    "print('Neighbours idx: ' + str(iter_log[0]['neighbors']))\n",
    "print('Neighbours dist: ' + str(iter_log[0]['dist']))\n",
    "print('Neighbours values:' + str(list(dataset.iloc[iter_log[0]['neighbors']]['X'])))"
   ]
  },
  {
   "cell_type": "markdown",
   "id": "7f405e8f",
   "metadata": {},
   "source": [
    "To sum up:\n",
    "- Correlated attributes: _X, Y_\n",
    "- Neighbourhood size: 10\n",
    "- Max distance (minkowski): 9\n",
    "\n",
    "Now we look into values of Y, the attribute we are marking, in the neighbourhood, to decide on a new one."
   ]
  },
  {
   "cell_type": "code",
   "execution_count": 64,
   "id": "bfb5dc35",
   "metadata": {},
   "outputs": [
    {
     "name": "stdout",
     "output_type": "stream",
     "text": [
      "Target values:[42, 42, 35, 39, 36, 36, 36, 45, 31, 43]\n"
     ]
    }
   ],
   "source": [
    "print('Target values:' + str(list(dataset.iloc[iter_log[0]['neighbors']]['Y'])))"
   ]
  },
  {
   "cell_type": "markdown",
   "id": "3ca38f8c",
   "metadata": {},
   "source": [
    "Let's plot the distribution of the X variable in the neighbourhood.\n",
    "The mark bit is 0, so we will be sampling the new value from less dense areas."
   ]
  },
  {
   "cell_type": "code",
   "execution_count": 65,
   "id": "d487ecaf",
   "metadata": {},
   "outputs": [
    {
     "name": "stdout",
     "output_type": "stream",
     "text": [
      "0\n"
     ]
    }
   ],
   "source": [
    "mark_bit = iter_log[0]['mark_bit']\n",
    "print(mark_bit)"
   ]
  },
  {
   "cell_type": "code",
   "execution_count": 66,
   "id": "e3ea9898",
   "metadata": {},
   "outputs": [
    {
     "data": {
      "image/png": "[encoded data removed]",
      "text/plain": [
       "<Figure size 640x480 with 1 Axes>"
      ]
     },
     "metadata": {},
     "output_type": "display_data"
    },
    {
     "data": {
      "text/plain": [
       "array([34.87518344])"
      ]
     },
     "execution_count": 66,
     "metadata": {},
     "output_type": "execute_result"
    }
   ],
   "source": [
    "sample_from_area(data=list(dataset.iloc[iter_log[0]['neighbors']]['Y']), percent=0.75, dense=mark_bit, plot=True, \n",
    "                 seed=iter_log[0]['seed'])"
   ]
  },
  {
   "cell_type": "markdown",
   "id": "a089c4ee",
   "metadata": {},
   "source": [
    "#### Marking:\n",
    "\n",
    "The goal is to modify its value to something that is _likely_ to occur. To introduce pseudorandomness, we obtain _mark bit_ from PRNG based on which there are two outcomes:\n",
    "- _mark bit is 1_ (50%) -- the new value is sampled from the most dense areas of a distribution of the target variable in the neighbourhood\n",
    "- _mark bit is 0_ (50%) -- the new value is sampled from the tails of distribution of the target value in the neighbourhood\n",
    "\n",
    "We used Gaussian Kernel estimaton method to estimate the distribution of the values in the neighbourhood. Once we do that, we cut of an arbitrary percentile (e.g. 75th) and sample from the tails of the distribution since the mark bit was 0.\n",
    "If the mark bit was 1, we would have sampled from the dense areas of the distribution (we will see that in the following iterations).\n",
    "The sampled value is rounded to the closest existing from the neighbourhood (to avoid perceptibility of marks in the fingerprinted data).\n",
    "The final chosen value for attribute Y of record 0 is 35."
   ]
  },
  {
   "cell_type": "code",
   "execution_count": 69,
   "id": "3982a041",
   "metadata": {},
   "outputs": [
    {
     "data": {
      "text/plain": [
       "35"
      ]
     },
     "execution_count": 69,
     "metadata": {},
     "output_type": "execute_result"
    }
   ],
   "source": [
    "iter_log[0]['new_value']"
   ]
  },
  {
   "cell_type": "code",
   "execution_count": 71,
   "id": "98b136f2",
   "metadata": {},
   "outputs": [
    {
     "data": {
      "text/html": [
       "<div>\n",
       "<style scoped>\n",
       "    .dataframe tbody tr th:only-of-type {\n",
       "        vertical-align: middle;\n",
       "    }\n",
       "\n",
       "    .dataframe tbody tr th {\n",
       "        vertical-align: top;\n",
       "    }\n",
       "\n",
       "    .dataframe thead th {\n",
       "        text-align: right;\n",
       "    }\n",
       "</style>\n",
       "<table border=\"1\" class=\"dataframe\">\n",
       "  <thead>\n",
       "    <tr style=\"text-align: right;\">\n",
       "      <th></th>\n",
       "      <th>Id</th>\n",
       "      <th>X</th>\n",
       "      <th>Y</th>\n",
       "      <th>Z</th>\n",
       "    </tr>\n",
       "  </thead>\n",
       "  <tbody>\n",
       "    <tr>\n",
       "      <th>0</th>\n",
       "      <td>0</td>\n",
       "      <td>51</td>\n",
       "      <td>35</td>\n",
       "      <td>29</td>\n",
       "    </tr>\n",
       "  </tbody>\n",
       "</table>\n",
       "</div>"
      ],
      "text/plain": [
       "   Id   X   Y   Z\n",
       "0   0  51  35  29"
      ]
     },
     "execution_count": 71,
     "metadata": {},
     "output_type": "execute_result"
    }
   ],
   "source": [
    "fingerprinted_data.head(1)  # --> fingerprinted record"
   ]
  },
  {
   "cell_type": "markdown",
   "id": "5e92fe11",
   "metadata": {},
   "source": [
    "### Step 2: <a class=\"anchor\" id=\"i-step-2\"></a>\n",
    "#### Marking position: "
   ]
  },
  {
   "cell_type": "code",
   "execution_count": 73,
   "id": "c867c5af",
   "metadata": {},
   "outputs": [
    {
     "name": "stdout",
     "output_type": "stream",
     "text": [
      "Marking record no. 1\n",
      "Marking attribute: Z\n"
     ]
    },
    {
     "data": {
      "text/html": [
       "<div>\n",
       "<style scoped>\n",
       "    .dataframe tbody tr th:only-of-type {\n",
       "        vertical-align: middle;\n",
       "    }\n",
       "\n",
       "    .dataframe tbody tr th {\n",
       "        vertical-align: top;\n",
       "    }\n",
       "\n",
       "    .dataframe thead th {\n",
       "        text-align: right;\n",
       "    }\n",
       "</style>\n",
       "<table border=\"1\" class=\"dataframe\">\n",
       "  <thead>\n",
       "    <tr style=\"text-align: right;\">\n",
       "      <th></th>\n",
       "      <th>Id</th>\n",
       "      <th>X</th>\n",
       "      <th>Y</th>\n",
       "      <th>Z</th>\n",
       "    </tr>\n",
       "  </thead>\n",
       "  <tbody>\n",
       "    <tr>\n",
       "      <th>1</th>\n",
       "      <td>1</td>\n",
       "      <td>46</td>\n",
       "      <td>29</td>\n",
       "      <td>22</td>\n",
       "    </tr>\n",
       "  </tbody>\n",
       "</table>\n",
       "</div>"
      ],
      "text/plain": [
       "   Id   X   Y   Z\n",
       "1   1  46  29  22"
      ]
     },
     "execution_count": 73,
     "metadata": {},
     "output_type": "execute_result"
    }
   ],
   "source": [
    "print(\"Marking record no. \" + str(iter_log[1]['row_index'])) # --> 1\n",
    "print(\"Marking attribute: \" + str(iter_log[1]['attribute'])) # --> Z\n",
    "dataset.iloc[[1]]"
   ]
  },
  {
   "cell_type": "markdown",
   "id": "d853e4ed",
   "metadata": {},
   "source": [
    "Attribute Z is not correlated to the others, so we will use all other attributes to find the closest neighbours and choose a new value, to still preseve the integrity of the dataset."
   ]
  },
  {
   "cell_type": "code",
   "execution_count": 74,
   "id": "83345aa8",
   "metadata": {
    "scrolled": true
   },
   "outputs": [
    {
     "name": "stdout",
     "output_type": "stream",
     "text": [
      "Neighbours idx: [240, 188, 104, 45, 52, 56, 60, 102, 123, 163, 182, 196, 221, 224, 236, 230, 255, 23, 286, 90, 144, 198, 218, 85]\n",
      "Neighbours dist: [0.0, 0.5, 0.5, 0.5, 0.5, 0.5, 0.5, 0.5, 0.5, 0.5, 0.5, 0.5, 0.5, 0.5, 0.5, 0.5, 0.5, 0.5, 0.5, 0.5, 0.5, 0.5, 0.5, 0.5]\n"
     ]
    }
   ],
   "source": [
    "print('Neighbours idx: ' + str(iter_log[1]['neighbors']))\n",
    "print('Neighbours dist: ' + str(iter_log[1]['dist']))\n",
    "#print('Neighbours values:' + str(list(dataset.iloc[iter_log[1]['neighbors']]['X'])))"
   ]
  },
  {
   "cell_type": "markdown",
   "id": "8c232165",
   "metadata": {},
   "source": [
    "Neighbourhood is larger than k=10 because there were multiple neighbours of distance=0.5 so we take them all into account.\n",
    "The neighbourhood looks as follows:"
   ]
  },
  {
   "cell_type": "code",
   "execution_count": 75,
   "id": "ab601d3f",
   "metadata": {},
   "outputs": [
    {
     "data": {
      "text/html": [
       "<div>\n",
       "<style scoped>\n",
       "    .dataframe tbody tr th:only-of-type {\n",
       "        vertical-align: middle;\n",
       "    }\n",
       "\n",
       "    .dataframe tbody tr th {\n",
       "        vertical-align: top;\n",
       "    }\n",
       "\n",
       "    .dataframe thead th {\n",
       "        text-align: right;\n",
       "    }\n",
       "</style>\n",
       "<table border=\"1\" class=\"dataframe\">\n",
       "  <thead>\n",
       "    <tr style=\"text-align: right;\">\n",
       "      <th></th>\n",
       "      <th>Id</th>\n",
       "      <th>X</th>\n",
       "      <th>Y</th>\n",
       "      <th>Z</th>\n",
       "    </tr>\n",
       "  </thead>\n",
       "  <tbody>\n",
       "    <tr>\n",
       "      <th>240</th>\n",
       "      <td>240</td>\n",
       "      <td>46</td>\n",
       "      <td>29</td>\n",
       "      <td>20</td>\n",
       "    </tr>\n",
       "    <tr>\n",
       "      <th>188</th>\n",
       "      <td>188</td>\n",
       "      <td>50</td>\n",
       "      <td>29</td>\n",
       "      <td>19</td>\n",
       "    </tr>\n",
       "    <tr>\n",
       "      <th>104</th>\n",
       "      <td>104</td>\n",
       "      <td>46</td>\n",
       "      <td>26</td>\n",
       "      <td>28</td>\n",
       "    </tr>\n",
       "    <tr>\n",
       "      <th>45</th>\n",
       "      <td>45</td>\n",
       "      <td>44</td>\n",
       "      <td>29</td>\n",
       "      <td>16</td>\n",
       "    </tr>\n",
       "    <tr>\n",
       "      <th>52</th>\n",
       "      <td>52</td>\n",
       "      <td>48</td>\n",
       "      <td>29</td>\n",
       "      <td>15</td>\n",
       "    </tr>\n",
       "    <tr>\n",
       "      <th>56</th>\n",
       "      <td>56</td>\n",
       "      <td>42</td>\n",
       "      <td>29</td>\n",
       "      <td>23</td>\n",
       "    </tr>\n",
       "    <tr>\n",
       "      <th>60</th>\n",
       "      <td>60</td>\n",
       "      <td>48</td>\n",
       "      <td>29</td>\n",
       "      <td>26</td>\n",
       "    </tr>\n",
       "    <tr>\n",
       "      <th>102</th>\n",
       "      <td>102</td>\n",
       "      <td>47</td>\n",
       "      <td>29</td>\n",
       "      <td>24</td>\n",
       "    </tr>\n",
       "    <tr>\n",
       "      <th>123</th>\n",
       "      <td>123</td>\n",
       "      <td>41</td>\n",
       "      <td>29</td>\n",
       "      <td>29</td>\n",
       "    </tr>\n",
       "    <tr>\n",
       "      <th>163</th>\n",
       "      <td>163</td>\n",
       "      <td>43</td>\n",
       "      <td>29</td>\n",
       "      <td>12</td>\n",
       "    </tr>\n",
       "    <tr>\n",
       "      <th>182</th>\n",
       "      <td>182</td>\n",
       "      <td>31</td>\n",
       "      <td>29</td>\n",
       "      <td>18</td>\n",
       "    </tr>\n",
       "    <tr>\n",
       "      <th>196</th>\n",
       "      <td>196</td>\n",
       "      <td>36</td>\n",
       "      <td>29</td>\n",
       "      <td>21</td>\n",
       "    </tr>\n",
       "    <tr>\n",
       "      <th>221</th>\n",
       "      <td>221</td>\n",
       "      <td>34</td>\n",
       "      <td>29</td>\n",
       "      <td>22</td>\n",
       "    </tr>\n",
       "    <tr>\n",
       "      <th>224</th>\n",
       "      <td>224</td>\n",
       "      <td>41</td>\n",
       "      <td>29</td>\n",
       "      <td>31</td>\n",
       "    </tr>\n",
       "    <tr>\n",
       "      <th>236</th>\n",
       "      <td>236</td>\n",
       "      <td>25</td>\n",
       "      <td>29</td>\n",
       "      <td>21</td>\n",
       "    </tr>\n",
       "    <tr>\n",
       "      <th>230</th>\n",
       "      <td>230</td>\n",
       "      <td>46</td>\n",
       "      <td>23</td>\n",
       "      <td>23</td>\n",
       "    </tr>\n",
       "    <tr>\n",
       "      <th>255</th>\n",
       "      <td>255</td>\n",
       "      <td>43</td>\n",
       "      <td>29</td>\n",
       "      <td>28</td>\n",
       "    </tr>\n",
       "    <tr>\n",
       "      <th>23</th>\n",
       "      <td>23</td>\n",
       "      <td>46</td>\n",
       "      <td>32</td>\n",
       "      <td>14</td>\n",
       "    </tr>\n",
       "    <tr>\n",
       "      <th>286</th>\n",
       "      <td>286</td>\n",
       "      <td>46</td>\n",
       "      <td>37</td>\n",
       "      <td>19</td>\n",
       "    </tr>\n",
       "    <tr>\n",
       "      <th>90</th>\n",
       "      <td>90</td>\n",
       "      <td>46</td>\n",
       "      <td>34</td>\n",
       "      <td>27</td>\n",
       "    </tr>\n",
       "    <tr>\n",
       "      <th>144</th>\n",
       "      <td>144</td>\n",
       "      <td>46</td>\n",
       "      <td>39</td>\n",
       "      <td>25</td>\n",
       "    </tr>\n",
       "    <tr>\n",
       "      <th>198</th>\n",
       "      <td>198</td>\n",
       "      <td>46</td>\n",
       "      <td>36</td>\n",
       "      <td>30</td>\n",
       "    </tr>\n",
       "    <tr>\n",
       "      <th>218</th>\n",
       "      <td>218</td>\n",
       "      <td>46</td>\n",
       "      <td>32</td>\n",
       "      <td>24</td>\n",
       "    </tr>\n",
       "    <tr>\n",
       "      <th>85</th>\n",
       "      <td>85</td>\n",
       "      <td>46</td>\n",
       "      <td>35</td>\n",
       "      <td>17</td>\n",
       "    </tr>\n",
       "  </tbody>\n",
       "</table>\n",
       "</div>"
      ],
      "text/plain": [
       "      Id   X   Y   Z\n",
       "240  240  46  29  20\n",
       "188  188  50  29  19\n",
       "104  104  46  26  28\n",
       "45    45  44  29  16\n",
       "52    52  48  29  15\n",
       "56    56  42  29  23\n",
       "60    60  48  29  26\n",
       "102  102  47  29  24\n",
       "123  123  41  29  29\n",
       "163  163  43  29  12\n",
       "182  182  31  29  18\n",
       "196  196  36  29  21\n",
       "221  221  34  29  22\n",
       "224  224  41  29  31\n",
       "236  236  25  29  21\n",
       "230  230  46  23  23\n",
       "255  255  43  29  28\n",
       "23    23  46  32  14\n",
       "286  286  46  37  19\n",
       "90    90  46  34  27\n",
       "144  144  46  39  25\n",
       "198  198  46  36  30\n",
       "218  218  46  32  24\n",
       "85    85  46  35  17"
      ]
     },
     "execution_count": 75,
     "metadata": {},
     "output_type": "execute_result"
    }
   ],
   "source": [
    "dataset.iloc[iter_log[1]['neighbors']]"
   ]
  },
  {
   "cell_type": "code",
   "execution_count": 76,
   "id": "e29b33fe",
   "metadata": {
    "scrolled": true
   },
   "outputs": [
    {
     "name": "stdout",
     "output_type": "stream",
     "text": [
      "Target values:[20, 19, 28, 16, 15, 23, 26, 24, 29, 12, 18, 21, 22, 31, 21, 23, 28, 14, 19, 27, 25, 30, 24, 17]\n"
     ]
    }
   ],
   "source": [
    "print('Target values:' + str(list(dataset.iloc[iter_log[1]['neighbors']]['Z'])))"
   ]
  },
  {
   "cell_type": "code",
   "execution_count": 17,
   "id": "3ff948a7",
   "metadata": {},
   "outputs": [
    {
     "name": "stdout",
     "output_type": "stream",
     "text": [
      "Mark bit is 0, therefore we sample from tails of distribution of the variable Z in the neighbourhood.\n"
     ]
    }
   ],
   "source": [
    "mark_bit = iter_log[1]['mark_bit']\n",
    "print('Mark bit is {}, therefore we sample from tails of distribution of the variable Z in the neighbourhood.'.format(mark_bit))"
   ]
  },
  {
   "cell_type": "code",
   "execution_count": 18,
   "id": "7653ec1a",
   "metadata": {},
   "outputs": [
    {
     "data": {
      "image/png": "[encoded data removed]",
      "text/plain": [
       "<Figure size 640x480 with 1 Axes>"
      ]
     },
     "metadata": {},
     "output_type": "display_data"
    },
    {
     "data": {
      "text/plain": [
       "array([26.35653377])"
      ]
     },
     "execution_count": 18,
     "metadata": {},
     "output_type": "execute_result"
    }
   ],
   "source": [
    "sample_from_area(data=list(dataset.iloc[iter_log[1]['neighbors']]['Z']), percent=0.75, dense=mark_bit, plot=True, \n",
    "                 seed=iter_log[1]['seed'])"
   ]
  },
  {
   "cell_type": "code",
   "execution_count": 19,
   "id": "5ffa5e48",
   "metadata": {},
   "outputs": [
    {
     "data": {
      "text/plain": [
       "26"
      ]
     },
     "execution_count": 19,
     "metadata": {},
     "output_type": "execute_result"
    }
   ],
   "source": [
    "iter_log[1]['new_value']"
   ]
  },
  {
   "cell_type": "code",
   "execution_count": 20,
   "id": "23e1f560",
   "metadata": {},
   "outputs": [
    {
     "data": {
      "text/html": [
       "<div>\n",
       "<style scoped>\n",
       "    .dataframe tbody tr th:only-of-type {\n",
       "        vertical-align: middle;\n",
       "    }\n",
       "\n",
       "    .dataframe tbody tr th {\n",
       "        vertical-align: top;\n",
       "    }\n",
       "\n",
       "    .dataframe thead th {\n",
       "        text-align: right;\n",
       "    }\n",
       "</style>\n",
       "<table border=\"1\" class=\"dataframe\">\n",
       "  <thead>\n",
       "    <tr style=\"text-align: right;\">\n",
       "      <th></th>\n",
       "      <th>Id</th>\n",
       "      <th>X</th>\n",
       "      <th>Y</th>\n",
       "      <th>Z</th>\n",
       "    </tr>\n",
       "  </thead>\n",
       "  <tbody>\n",
       "    <tr>\n",
       "      <th>1</th>\n",
       "      <td>1</td>\n",
       "      <td>46</td>\n",
       "      <td>29</td>\n",
       "      <td>26</td>\n",
       "    </tr>\n",
       "  </tbody>\n",
       "</table>\n",
       "</div>"
      ],
      "text/plain": [
       "   Id   X   Y   Z\n",
       "1   1  46  29  26"
      ]
     },
     "execution_count": 20,
     "metadata": {},
     "output_type": "execute_result"
    }
   ],
   "source": [
    "fingerprinted_data.iloc[[1]]"
   ]
  },
  {
   "cell_type": "markdown",
   "id": "d202182e",
   "metadata": {},
   "source": [
    "### Step 3: <a class=\"anchor\" id=\"i-step-3\"></a>\n",
    "#### Marking position: \n",
    "- Marking row 2, attribute \"Z\""
   ]
  },
  {
   "cell_type": "code",
   "execution_count": 77,
   "id": "a624b4bb",
   "metadata": {},
   "outputs": [
    {
     "name": "stdout",
     "output_type": "stream",
     "text": [
      "Marking record no. 2\n",
      "Marking attribute: Z\n"
     ]
    },
    {
     "data": {
      "text/html": [
       "<div>\n",
       "<style scoped>\n",
       "    .dataframe tbody tr th:only-of-type {\n",
       "        vertical-align: middle;\n",
       "    }\n",
       "\n",
       "    .dataframe tbody tr th {\n",
       "        vertical-align: top;\n",
       "    }\n",
       "\n",
       "    .dataframe thead th {\n",
       "        text-align: right;\n",
       "    }\n",
       "</style>\n",
       "<table border=\"1\" class=\"dataframe\">\n",
       "  <thead>\n",
       "    <tr style=\"text-align: right;\">\n",
       "      <th></th>\n",
       "      <th>Id</th>\n",
       "      <th>X</th>\n",
       "      <th>Y</th>\n",
       "      <th>Z</th>\n",
       "    </tr>\n",
       "  </thead>\n",
       "  <tbody>\n",
       "    <tr>\n",
       "      <th>2</th>\n",
       "      <td>2</td>\n",
       "      <td>60</td>\n",
       "      <td>44</td>\n",
       "      <td>28</td>\n",
       "    </tr>\n",
       "  </tbody>\n",
       "</table>\n",
       "</div>"
      ],
      "text/plain": [
       "   Id   X   Y   Z\n",
       "2   2  60  44  28"
      ]
     },
     "execution_count": 77,
     "metadata": {},
     "output_type": "execute_result"
    }
   ],
   "source": [
    "print(\"Marking record no. \" + str(iter_log[2]['row_index'])) # --> 0\n",
    "print(\"Marking attribute: \" + str(iter_log[2]['attribute'])) # --> Z\n",
    "dataset.iloc[[2]]"
   ]
  },
  {
   "cell_type": "markdown",
   "id": "d2b36a6f",
   "metadata": {},
   "source": [
    "#### Neighbourhood: \n",
    "- Correlated attributes: X, Y  (we are marking Z, so checking all attributes to define the neighbourhood)\n",
    "- Neighbourhood size: 14\n",
    "- Max distance (minkowski): 0.5"
   ]
  },
  {
   "cell_type": "code",
   "execution_count": 78,
   "id": "daae3c08",
   "metadata": {},
   "outputs": [
    {
     "name": "stdout",
     "output_type": "stream",
     "text": [
      "Neighbours idx: [177, 70, 54, 67, 73, 261, 270, 256, 259, 282, 248, 294, 173, 293]\n",
      "Neighbours dist: [0.5, 0.5, 0.5, 0.5, 0.5, 0.5, 0.5, 0.5, 0.5, 0.5, 0.5, 0.5, 0.5, 0.5]\n"
     ]
    }
   ],
   "source": [
    "print('Neighbours idx: ' + str(iter_log[2]['neighbors']))\n",
    "print('Neighbours dist: ' + str(iter_log[2]['dist']))"
   ]
  },
  {
   "cell_type": "code",
   "execution_count": 23,
   "id": "926e1071",
   "metadata": {},
   "outputs": [
    {
     "name": "stdout",
     "output_type": "stream",
     "text": [
      "Target values:[30, 27, 30, 39, 30, 36, 36, 28, 27, 38, 42, 19, 20, 31]\n"
     ]
    }
   ],
   "source": [
    "print('Target values:' + str(list(dataset.iloc[iter_log[2]['neighbors']]['Z'])))"
   ]
  },
  {
   "cell_type": "code",
   "execution_count": 79,
   "id": "3e3255b8",
   "metadata": {},
   "outputs": [
    {
     "name": "stdout",
     "output_type": "stream",
     "text": [
      "Mark bit is 0, therefore we sample again from tails of distribution of the variable Z in the neighbourhood.\n"
     ]
    }
   ],
   "source": [
    "mark_bit = iter_log[2]['mark_bit']\n",
    "print('Mark bit is {}, therefore we sample again from tails of distribution of the variable Z in the neighbourhood.'.format(mark_bit))"
   ]
  },
  {
   "cell_type": "code",
   "execution_count": 25,
   "id": "e83c2e87",
   "metadata": {},
   "outputs": [
    {
     "data": {
      "image/png": "[encoded data removed]",
      "text/plain": [
       "<Figure size 640x480 with 1 Axes>"
      ]
     },
     "metadata": {},
     "output_type": "display_data"
    },
    {
     "data": {
      "text/plain": [
       "array([38.11573901])"
      ]
     },
     "execution_count": 25,
     "metadata": {},
     "output_type": "execute_result"
    }
   ],
   "source": [
    "sample_from_area(data=list(dataset.iloc[iter_log[2]['neighbors']]['Z']), percent=0.75, dense=mark_bit, plot=True, \n",
    "                 seed=iter_log[2]['seed'])"
   ]
  },
  {
   "cell_type": "code",
   "execution_count": 26,
   "id": "67a294f6",
   "metadata": {},
   "outputs": [
    {
     "name": "stdout",
     "output_type": "stream",
     "text": [
      "38\n"
     ]
    },
    {
     "data": {
      "text/html": [
       "<div>\n",
       "<style scoped>\n",
       "    .dataframe tbody tr th:only-of-type {\n",
       "        vertical-align: middle;\n",
       "    }\n",
       "\n",
       "    .dataframe tbody tr th {\n",
       "        vertical-align: top;\n",
       "    }\n",
       "\n",
       "    .dataframe thead th {\n",
       "        text-align: right;\n",
       "    }\n",
       "</style>\n",
       "<table border=\"1\" class=\"dataframe\">\n",
       "  <thead>\n",
       "    <tr style=\"text-align: right;\">\n",
       "      <th></th>\n",
       "      <th>Id</th>\n",
       "      <th>X</th>\n",
       "      <th>Y</th>\n",
       "      <th>Z</th>\n",
       "    </tr>\n",
       "  </thead>\n",
       "  <tbody>\n",
       "    <tr>\n",
       "      <th>2</th>\n",
       "      <td>2</td>\n",
       "      <td>60</td>\n",
       "      <td>44</td>\n",
       "      <td>38</td>\n",
       "    </tr>\n",
       "  </tbody>\n",
       "</table>\n",
       "</div>"
      ],
      "text/plain": [
       "   Id   X   Y   Z\n",
       "2   2  60  44  38"
      ]
     },
     "execution_count": 26,
     "metadata": {},
     "output_type": "execute_result"
    }
   ],
   "source": [
    "print(iter_log[2]['new_value'])\n",
    "fingerprinted_data.iloc[[2]]"
   ]
  },
  {
   "cell_type": "markdown",
   "id": "d4a08e8f",
   "metadata": {},
   "source": [
    "### Step 4: <a class=\"anchor\" id=\"i-step-3\"></a>"
   ]
  },
  {
   "cell_type": "code",
   "execution_count": 27,
   "id": "1aef2f85",
   "metadata": {},
   "outputs": [],
   "source": [
    "iter = 3"
   ]
  },
  {
   "cell_type": "code",
   "execution_count": 80,
   "id": "5573df7f",
   "metadata": {},
   "outputs": [
    {
     "name": "stdout",
     "output_type": "stream",
     "text": [
      "Marking record no. 3\n",
      "Marking attribute: X\n"
     ]
    },
    {
     "data": {
      "text/html": [
       "<div>\n",
       "<style scoped>\n",
       "    .dataframe tbody tr th:only-of-type {\n",
       "        vertical-align: middle;\n",
       "    }\n",
       "\n",
       "    .dataframe tbody tr th {\n",
       "        vertical-align: top;\n",
       "    }\n",
       "\n",
       "    .dataframe thead th {\n",
       "        text-align: right;\n",
       "    }\n",
       "</style>\n",
       "<table border=\"1\" class=\"dataframe\">\n",
       "  <thead>\n",
       "    <tr style=\"text-align: right;\">\n",
       "      <th></th>\n",
       "      <th>Id</th>\n",
       "      <th>X</th>\n",
       "      <th>Y</th>\n",
       "      <th>Z</th>\n",
       "    </tr>\n",
       "  </thead>\n",
       "  <tbody>\n",
       "    <tr>\n",
       "      <th>3</th>\n",
       "      <td>3</td>\n",
       "      <td>68</td>\n",
       "      <td>52</td>\n",
       "      <td>39</td>\n",
       "    </tr>\n",
       "  </tbody>\n",
       "</table>\n",
       "</div>"
      ],
      "text/plain": [
       "   Id   X   Y   Z\n",
       "3   3  68  52  39"
      ]
     },
     "execution_count": 80,
     "metadata": {},
     "output_type": "execute_result"
    }
   ],
   "source": [
    "print(\"Marking record no. \" + str(iter_log[iter]['row_index'])) # --> 3\n",
    "print(\"Marking attribute: \" + str(iter_log[iter]['attribute'])) # --> X\n",
    "dataset.iloc[[iter]]"
   ]
  },
  {
   "cell_type": "code",
   "execution_count": 29,
   "id": "c89e208e",
   "metadata": {},
   "outputs": [
    {
     "name": "stdout",
     "output_type": "stream",
     "text": [
      "Neighbours idx: [222, 156, 284, 234, 225, 67, 113, 220, 54, 125, 138, 212]\n",
      "Neighbours dist: [1.0, 1.0, 1.0, 2.0, 2.0, 2.0, 2.0, 3.0, 3.0, 3.0, 3.0, 3.0]\n"
     ]
    }
   ],
   "source": [
    "print('Neighbours idx: ' + str(iter_log[iter]['neighbors']))\n",
    "print('Neighbours dist: ' + str(iter_log[iter]['dist']))"
   ]
  },
  {
   "cell_type": "code",
   "execution_count": 30,
   "id": "48f36c7c",
   "metadata": {},
   "outputs": [
    {
     "name": "stdout",
     "output_type": "stream",
     "text": [
      "Target values:[54, 68, 72, 68, 52, 60, 81, 65, 60, 79, 50, 58]\n"
     ]
    }
   ],
   "source": [
    "print('Target values:' + str(list(dataset.iloc[iter_log[iter]['neighbors']][iter_log[iter]['attribute']])))"
   ]
  },
  {
   "cell_type": "code",
   "execution_count": 82,
   "id": "b928d4cd",
   "metadata": {},
   "outputs": [
    {
     "name": "stdout",
     "output_type": "stream",
     "text": [
      "Mark bit is 1, therefore we finally sample from the dense part of distribution of the variable X in the neighbourhood.\n"
     ]
    }
   ],
   "source": [
    "mark_bit = iter_log[iter]['mark_bit']\n",
    "print('Mark bit is {}, therefore we finally sample from the dense part of distribution of the variable X in the neighbourhood.'.format(mark_bit))"
   ]
  },
  {
   "cell_type": "code",
   "execution_count": 32,
   "id": "4815cf21",
   "metadata": {},
   "outputs": [
    {
     "data": {
      "image/png": "[encoded data removed]",
      "text/plain": [
       "<Figure size 640x480 with 1 Axes>"
      ]
     },
     "metadata": {},
     "output_type": "display_data"
    },
    {
     "data": {
      "text/plain": [
       "array([59.7599654])"
      ]
     },
     "execution_count": 32,
     "metadata": {},
     "output_type": "execute_result"
    }
   ],
   "source": [
    "sample_from_area(data=list(dataset.iloc[iter_log[iter]['neighbors']][iter_log[iter]['attribute']]), percent=0.75, \n",
    "                 dense=mark_bit, plot=True, seed=iter_log[iter]['seed'])"
   ]
  },
  {
   "cell_type": "code",
   "execution_count": 83,
   "id": "e7f50b8c",
   "metadata": {},
   "outputs": [
    {
     "name": "stdout",
     "output_type": "stream",
     "text": [
      "60\n"
     ]
    },
    {
     "data": {
      "text/html": [
       "<div>\n",
       "<style scoped>\n",
       "    .dataframe tbody tr th:only-of-type {\n",
       "        vertical-align: middle;\n",
       "    }\n",
       "\n",
       "    .dataframe tbody tr th {\n",
       "        vertical-align: top;\n",
       "    }\n",
       "\n",
       "    .dataframe thead th {\n",
       "        text-align: right;\n",
       "    }\n",
       "</style>\n",
       "<table border=\"1\" class=\"dataframe\">\n",
       "  <thead>\n",
       "    <tr style=\"text-align: right;\">\n",
       "      <th></th>\n",
       "      <th>Id</th>\n",
       "      <th>X</th>\n",
       "      <th>Y</th>\n",
       "      <th>Z</th>\n",
       "    </tr>\n",
       "  </thead>\n",
       "  <tbody>\n",
       "    <tr>\n",
       "      <th>3</th>\n",
       "      <td>3</td>\n",
       "      <td>60</td>\n",
       "      <td>52</td>\n",
       "      <td>39</td>\n",
       "    </tr>\n",
       "  </tbody>\n",
       "</table>\n",
       "</div>"
      ],
      "text/plain": [
       "   Id   X   Y   Z\n",
       "3   3  60  52  39"
      ]
     },
     "execution_count": 83,
     "metadata": {},
     "output_type": "execute_result"
    }
   ],
   "source": [
    "print(iter_log[iter]['new_value'])\n",
    "fingerprinted_data.iloc[[iter]]"
   ]
  },
  {
   "cell_type": "markdown",
   "id": "785d3cb4",
   "metadata": {},
   "source": [
    "## Insertion step for an arbitrary iteration"
   ]
  },
  {
   "cell_type": "code",
   "execution_count": 84,
   "id": "541c9369",
   "metadata": {},
   "outputs": [],
   "source": [
    "def show_embedding_iteration(iter):\n",
    "    print(\"Marking record no. \" + str(iter_log[iter]['row_index'])) \n",
    "    print(\"Marking attribute: \" + str(iter_log[iter]['attribute'])) \n",
    "    print(\"The record to mark: \\n\" + str(dataset.iloc[[iter]]))\n",
    "    print('------------------------------------------------------------------------------------------------------------------')\n",
    "    if iter_log[iter]['attribute'] in correlated_attributes:\n",
    "        other = list(correlated_attributes); other.remove(iter_log[iter]['attribute'])\n",
    "        print('Neighbourhood: ' +str(iter_log[iter]['attribute']) + ' is correlated to '+ str(other)+ ' so we are finding the records with most similar values to ' + str(other) + '=' + str(dataset.iloc[iter][other[0]]))\n",
    "    else: \n",
    "        print('Neighbourhood: ' + str(iter_log[iter]['attribute']) + ' is not a correlated attribute, so we are including all attributes to find the closest neighbourhood.')\n",
    "    print('Neighbours idx: ' + str(iter_log[iter]['neighbors']))\n",
    "    print('Neighbours dist: ' + str(iter_log[iter]['dist']))\n",
    "    print('Neighbours values:' + str(list(dataset.iloc[iter_log[iter]['neighbors']]['X'])))  \n",
    "    print('\\nNow we look at the values of attribute ' + str(iter_log[iter]['attribute']) + ' in this neighbourhood, and among these is our potential new value.')\n",
    "    print('Target values:' + str(list(dataset.iloc[iter_log[iter]['neighbors']][iter_log[iter]['attribute']])))\n",
    "    print('For this we estimate the distribution of these target values (see the plot below) before sampling one new value.')\n",
    "    print('There are generally two outcomes for the sampled value:\\n\\t-mark bit is 1 (50%) - the new value is sampled from the most dense areas of a distribution of the target variable in the neighbourhood\\n\\t-mark bit is 0(50%) - the new value is sampled from the tails of distribution of the target value in the neighbourhood')\n",
    "    print('Mark bit is generated pseudorandomly via PRNG.\\n')\n",
    "    mark_bit = iter_log[iter]['mark_bit']\n",
    "    if mark_bit == 1:\n",
    "        print('In this case, mark bit is {}, therefore we sample from the dense part of distribution of the variable {} in the neighbourhood. The thresholds are set by an arbitrary percentile (here we use 75th)'.format(mark_bit, iter_log[iter]['attribute']))\n",
    "    else:\n",
    "        print('In this case, mark bit is {}, therefore we sample from tails of distribution of the variable {} in the neighbourhood. The thresholds are set by an arbitrary percentile (here we use 75th)'.format(mark_bit, iter_log[iter]['attribute']))\n",
    "    sample_from_area(data=list(dataset.iloc[iter_log[iter]['neighbors']][iter_log[iter]['attribute']]), percent=0.75, \n",
    "                 dense=mark_bit, plot=True, seed=iter_log[iter]['seed'])\n",
    "    print(\"The sampled continuous value is rounded to the closest existing value from the data (to avoid perceptibility of marks) and is: \" + str(iter_log[iter]['new_value']))\n",
    "    print(\"The fingerprinted record is:\")\n",
    "    print(fingerprinted_data.iloc[[iter]])"
   ]
  },
  {
   "cell_type": "code",
   "execution_count": 85,
   "id": "f4fa8db0",
   "metadata": {},
   "outputs": [
    {
     "name": "stdout",
     "output_type": "stream",
     "text": [
      "Marking record no. 202\n",
      "Marking attribute: Y\n",
      "The record to mark: \n",
      "      Id   X   Y   Z\n",
      "202  202  54  43  41\n",
      "------------------------------------------------------------------------------------------------------------------\n",
      "Neighbourhood: Y is correlated to ['X'] so we are finding the records with most similar values to ['X']=54\n",
      "Neighbours idx: [99, 140, 82, 202, 9, 75, 47, 51, 68, 55, 70]\n",
      "Neighbours dist: [0.0, 0.0, 0.0, 0.0, 0.0, 0.0, 0.0, 0.0, 0.0, 0.0, 0.0]\n",
      "Neighbours values:[54, 54, 54, 54, 54, 54, 54, 54, 54, 54, 54]\n",
      "\n",
      "Now we look at the values of attribute Y in this neighbourhood, and among these is our potential new value.\n",
      "Target values:[32, 27, 43, 43, 46, 37, 42, 38, 24, 42, 44]\n",
      "For this we estimate the distribution of these target values (see the plot below) before sampling one new value.\n",
      "There are generally two outcomes for the sampled value:\n",
      "\t-mark bit is 1 (50%) - the new value is sampled from the most dense areas of a distribution of the target variable in the neighbourhood\n",
      "\t-mark bit is 0(50%) - the new value is sampled from the tails of distribution of the target value in the neighbourhood\n",
      "Mark bit is generated pseudorandomly via PRNG.\n",
      "\n",
      "In this case, mark bit is 0, therefore we sample from tails of distribution of the variable Y in the neighbourhood. The thresholds are set by an arbitrary percentile (here we use 75th)\n"
     ]
    },
    {
     "data": {
      "image/png": "[encoded data removed]",
      "text/plain": [
       "<Figure size 640x480 with 1 Axes>"
      ]
     },
     "metadata": {},
     "output_type": "display_data"
    },
    {
     "name": "stdout",
     "output_type": "stream",
     "text": [
      "The sampled continuous value is rounded to the closest existing value from the data (to avoid perceptibility of marks) and is: 38\n",
      "The fingerprinted record is:\n",
      "      Id   X   Y   Z\n",
      "202  202  54  38  41\n"
     ]
    }
   ],
   "source": [
    "show_embedding_iteration(202)"
   ]
  },
  {
   "cell_type": "markdown",
   "id": "e793050d",
   "metadata": {},
   "source": [
    "## 2. Detection Algorithm <a class=\"anchor\" id=\"detection\"></a>\n",
    "Detection algorithm takes as input the fingerpirnted dataset and following parameters:\n",
    "- owner's secret key\n",
    "- gamma (original ratio of marked rows), length of the fingerprint\n",
    "- a list of marked attribute names\n",
    "- a list of correlated attributes\n",
    "- whether the algorithm is distance based (_d_ -- max distance for the neighbourhood) or cardinality based (_k_ -- min cardinality of the neighbourhood)"
   ]
  },
  {
   "cell_type": "code",
   "execution_count": 36,
   "id": "2dab2c79",
   "metadata": {},
   "outputs": [
    {
     "data": {
      "text/html": [
       "<div>\n",
       "<style scoped>\n",
       "    .dataframe tbody tr th:only-of-type {\n",
       "        vertical-align: middle;\n",
       "    }\n",
       "\n",
       "    .dataframe tbody tr th {\n",
       "        vertical-align: top;\n",
       "    }\n",
       "\n",
       "    .dataframe thead th {\n",
       "        text-align: right;\n",
       "    }\n",
       "</style>\n",
       "<table border=\"1\" class=\"dataframe\">\n",
       "  <thead>\n",
       "    <tr style=\"text-align: right;\">\n",
       "      <th></th>\n",
       "      <th>Id</th>\n",
       "      <th>X</th>\n",
       "      <th>Y</th>\n",
       "      <th>Z</th>\n",
       "    </tr>\n",
       "  </thead>\n",
       "  <tbody>\n",
       "    <tr>\n",
       "      <th>0</th>\n",
       "      <td>0</td>\n",
       "      <td>51</td>\n",
       "      <td>35</td>\n",
       "      <td>29</td>\n",
       "    </tr>\n",
       "    <tr>\n",
       "      <th>1</th>\n",
       "      <td>1</td>\n",
       "      <td>46</td>\n",
       "      <td>29</td>\n",
       "      <td>26</td>\n",
       "    </tr>\n",
       "    <tr>\n",
       "      <th>2</th>\n",
       "      <td>2</td>\n",
       "      <td>60</td>\n",
       "      <td>44</td>\n",
       "      <td>38</td>\n",
       "    </tr>\n",
       "    <tr>\n",
       "      <th>3</th>\n",
       "      <td>3</td>\n",
       "      <td>60</td>\n",
       "      <td>52</td>\n",
       "      <td>39</td>\n",
       "    </tr>\n",
       "    <tr>\n",
       "      <th>4</th>\n",
       "      <td>4</td>\n",
       "      <td>48</td>\n",
       "      <td>32</td>\n",
       "      <td>25</td>\n",
       "    </tr>\n",
       "    <tr>\n",
       "      <th>5</th>\n",
       "      <td>5</td>\n",
       "      <td>51</td>\n",
       "      <td>43</td>\n",
       "      <td>24</td>\n",
       "    </tr>\n",
       "    <tr>\n",
       "      <th>6</th>\n",
       "      <td>6</td>\n",
       "      <td>51</td>\n",
       "      <td>42</td>\n",
       "      <td>26</td>\n",
       "    </tr>\n",
       "    <tr>\n",
       "      <th>7</th>\n",
       "      <td>7</td>\n",
       "      <td>55</td>\n",
       "      <td>34</td>\n",
       "      <td>18</td>\n",
       "    </tr>\n",
       "    <tr>\n",
       "      <th>8</th>\n",
       "      <td>8</td>\n",
       "      <td>48</td>\n",
       "      <td>29</td>\n",
       "      <td>26</td>\n",
       "    </tr>\n",
       "    <tr>\n",
       "      <th>9</th>\n",
       "      <td>9</td>\n",
       "      <td>59</td>\n",
       "      <td>46</td>\n",
       "      <td>39</td>\n",
       "    </tr>\n",
       "  </tbody>\n",
       "</table>\n",
       "</div>"
      ],
      "text/plain": [
       "   Id   X   Y   Z\n",
       "0   0  51  35  29\n",
       "1   1  46  29  26\n",
       "2   2  60  44  38\n",
       "3   3  60  52  39\n",
       "4   4  48  32  25\n",
       "5   5  51  43  24\n",
       "6   6  51  42  26\n",
       "7   7  55  34  18\n",
       "8   8  48  29  26\n",
       "9   9  59  46  39"
      ]
     },
     "execution_count": 36,
     "metadata": {},
     "output_type": "execute_result"
    }
   ],
   "source": [
    "fingerprinted_data.head(10)"
   ]
  },
  {
   "cell_type": "code",
   "execution_count": 37,
   "id": "849db65c",
   "metadata": {},
   "outputs": [
    {
     "name": "stdout",
     "output_type": "stream",
     "text": [
      "Start demo NCorr fingerprint detection algorithm ...\n",
      "\tgamma: 1\n",
      "\tcorrelated attributes: ['X', 'Y']\n",
      "Training balltrees in: 0.0 sec.\n",
      "Fingerprint detected: 0100000001100100\n",
      "Fingerprint belongs to Recipient 4\n",
      "Runtime: 1.42 sec.\n"
     ]
    }
   ],
   "source": [
    "# 1st position where the mark -should- be\n",
    "suspect, det_iter_log = scheme.demo_detection(fingerprinted_data, secret_key=101, primary_key='Id',\n",
    "                               correlated_attributes=correlated_attributes,\n",
    "                               original_columns=[\"X\", \"Y\", \"Z\"])"
   ]
  },
  {
   "cell_type": "markdown",
   "id": "173c5016",
   "metadata": {},
   "source": [
    "The detected fingerprint is correct and attributed to the correct recipient, hence, the detection was successful. \n",
    "\n",
    "\n",
    "The detection reverses the insertion process. This means that each step from detection should match the respective step from the insertion in terms of choosing the same marking row, attribute, and a fingerprint bit. \n",
    "Let's inspect the steps:"
   ]
  },
  {
   "cell_type": "markdown",
   "id": "cabcc865",
   "metadata": {},
   "source": [
    "### Step 1 <a class=\"anchor\" id=\"d-step-1\"></a>\n",
    "#### Marking position: \n",
    "- Marking row: 0\n",
    "- Marking attribute: _Y_\n",
    "- Value at the position: 35"
   ]
  },
  {
   "cell_type": "code",
   "execution_count": 38,
   "id": "2d09347b",
   "metadata": {
    "scrolled": true
   },
   "outputs": [
    {
     "name": "stdout",
     "output_type": "stream",
     "text": [
      "0\n",
      "Y\n"
     ]
    },
    {
     "data": {
      "text/html": [
       "<div>\n",
       "<style scoped>\n",
       "    .dataframe tbody tr th:only-of-type {\n",
       "        vertical-align: middle;\n",
       "    }\n",
       "\n",
       "    .dataframe tbody tr th {\n",
       "        vertical-align: top;\n",
       "    }\n",
       "\n",
       "    .dataframe thead th {\n",
       "        text-align: right;\n",
       "    }\n",
       "</style>\n",
       "<table border=\"1\" class=\"dataframe\">\n",
       "  <thead>\n",
       "    <tr style=\"text-align: right;\">\n",
       "      <th></th>\n",
       "      <th>Id</th>\n",
       "      <th>X</th>\n",
       "      <th>Y</th>\n",
       "      <th>Z</th>\n",
       "    </tr>\n",
       "  </thead>\n",
       "  <tbody>\n",
       "    <tr>\n",
       "      <th>0</th>\n",
       "      <td>0</td>\n",
       "      <td>51</td>\n",
       "      <td>35</td>\n",
       "      <td>29</td>\n",
       "    </tr>\n",
       "  </tbody>\n",
       "</table>\n",
       "</div>"
      ],
      "text/plain": [
       "   Id   X   Y   Z\n",
       "0   0  51  35  29"
      ]
     },
     "execution_count": 38,
     "metadata": {},
     "output_type": "execute_result"
    }
   ],
   "source": [
    "print(det_iter_log[0]['row_index']) # --> 0\n",
    "print(det_iter_log[0]['attribute']) # --> Y \n",
    "fingerprinted_data.iloc[[0]]"
   ]
  },
  {
   "cell_type": "code",
   "execution_count": 86,
   "id": "791115a2",
   "metadata": {},
   "outputs": [
    {
     "data": {
      "text/plain": [
       "35"
      ]
     },
     "execution_count": 86,
     "metadata": {},
     "output_type": "execute_result"
    }
   ],
   "source": [
    "fingerprinted_value = fingerprinted_data.iloc[det_iter_log[0]['row_index']][det_iter_log[0]['attribute']]\n",
    "fingerprinted_value"
   ]
  },
  {
   "cell_type": "markdown",
   "id": "5d49b58b",
   "metadata": {},
   "source": [
    "#### Neighbourhood: \n",
    "- Correlated attributes: _X, Y_\n",
    "- Neighbourhood size: 10\n",
    "- Max distance (minkowski): 7"
   ]
  },
  {
   "cell_type": "code",
   "execution_count": 40,
   "id": "f41fd553",
   "metadata": {},
   "outputs": [
    {
     "name": "stdout",
     "output_type": "stream",
     "text": [
      "Neighbourhood distances: [0.0, 0.0, 0.0, 0.0, 0.0, 0.0, 0.0, 0.0, 0.0, 0.0, 0.0]\n",
      "Neighbourhood idx: [0, 5, 6, 11, 21, 184, 207, 186, 159, 197, 81]\n"
     ]
    }
   ],
   "source": [
    "print(\"Neighbourhood distances: \" + str(det_iter_log[0]['dist']))\n",
    "print(\"Neighbourhood idx: \" + str(det_iter_log[0]['neighbors']))"
   ]
  },
  {
   "cell_type": "code",
   "execution_count": 41,
   "id": "82449ff2",
   "metadata": {
    "scrolled": true
   },
   "outputs": [
    {
     "data": {
      "text/html": [
       "<div>\n",
       "<style scoped>\n",
       "    .dataframe tbody tr th:only-of-type {\n",
       "        vertical-align: middle;\n",
       "    }\n",
       "\n",
       "    .dataframe tbody tr th {\n",
       "        vertical-align: top;\n",
       "    }\n",
       "\n",
       "    .dataframe thead th {\n",
       "        text-align: right;\n",
       "    }\n",
       "</style>\n",
       "<table border=\"1\" class=\"dataframe\">\n",
       "  <thead>\n",
       "    <tr style=\"text-align: right;\">\n",
       "      <th></th>\n",
       "      <th>Id</th>\n",
       "      <th>X</th>\n",
       "      <th>Y</th>\n",
       "      <th>Z</th>\n",
       "    </tr>\n",
       "  </thead>\n",
       "  <tbody>\n",
       "    <tr>\n",
       "      <th>0</th>\n",
       "      <td>0</td>\n",
       "      <td>51</td>\n",
       "      <td>35</td>\n",
       "      <td>29</td>\n",
       "    </tr>\n",
       "    <tr>\n",
       "      <th>5</th>\n",
       "      <td>5</td>\n",
       "      <td>51</td>\n",
       "      <td>43</td>\n",
       "      <td>24</td>\n",
       "    </tr>\n",
       "    <tr>\n",
       "      <th>6</th>\n",
       "      <td>6</td>\n",
       "      <td>51</td>\n",
       "      <td>42</td>\n",
       "      <td>26</td>\n",
       "    </tr>\n",
       "    <tr>\n",
       "      <th>11</th>\n",
       "      <td>11</td>\n",
       "      <td>51</td>\n",
       "      <td>31</td>\n",
       "      <td>24</td>\n",
       "    </tr>\n",
       "    <tr>\n",
       "      <th>21</th>\n",
       "      <td>21</td>\n",
       "      <td>51</td>\n",
       "      <td>31</td>\n",
       "      <td>19</td>\n",
       "    </tr>\n",
       "    <tr>\n",
       "      <th>184</th>\n",
       "      <td>184</td>\n",
       "      <td>51</td>\n",
       "      <td>36</td>\n",
       "      <td>26</td>\n",
       "    </tr>\n",
       "    <tr>\n",
       "      <th>207</th>\n",
       "      <td>207</td>\n",
       "      <td>51</td>\n",
       "      <td>36</td>\n",
       "      <td>26</td>\n",
       "    </tr>\n",
       "    <tr>\n",
       "      <th>186</th>\n",
       "      <td>186</td>\n",
       "      <td>51</td>\n",
       "      <td>36</td>\n",
       "      <td>33</td>\n",
       "    </tr>\n",
       "    <tr>\n",
       "      <th>159</th>\n",
       "      <td>159</td>\n",
       "      <td>51</td>\n",
       "      <td>35</td>\n",
       "      <td>26</td>\n",
       "    </tr>\n",
       "    <tr>\n",
       "      <th>197</th>\n",
       "      <td>197</td>\n",
       "      <td>51</td>\n",
       "      <td>39</td>\n",
       "      <td>24</td>\n",
       "    </tr>\n",
       "    <tr>\n",
       "      <th>81</th>\n",
       "      <td>81</td>\n",
       "      <td>51</td>\n",
       "      <td>32</td>\n",
       "      <td>26</td>\n",
       "    </tr>\n",
       "  </tbody>\n",
       "</table>\n",
       "</div>"
      ],
      "text/plain": [
       "      Id   X   Y   Z\n",
       "0      0  51  35  29\n",
       "5      5  51  43  24\n",
       "6      6  51  42  26\n",
       "11    11  51  31  24\n",
       "21    21  51  31  19\n",
       "184  184  51  36  26\n",
       "207  207  51  36  26\n",
       "186  186  51  36  33\n",
       "159  159  51  35  26\n",
       "197  197  51  39  24\n",
       "81    81  51  32  26"
      ]
     },
     "execution_count": 41,
     "metadata": {},
     "output_type": "execute_result"
    }
   ],
   "source": [
    "# max(det_iter_log[0]['dist'])\n",
    "fingerprinted_data.iloc[det_iter_log[0]['neighbors']] "
   ]
  },
  {
   "cell_type": "code",
   "execution_count": 94,
   "id": "efb8b8fc",
   "metadata": {},
   "outputs": [
    {
     "name": "stdout",
     "output_type": "stream",
     "text": [
      "Target values:[35, 43, 42, 31, 31, 36, 36, 36, 35, 39, 32]\n"
     ]
    }
   ],
   "source": [
    "target_values_det = list(fingerprinted_data.iloc[det_iter_log[0]['neighbors']][det_iter_log[0]['attribute']])\n",
    "print('Target values:' + str(target_values_det))"
   ]
  },
  {
   "cell_type": "markdown",
   "id": "d9eb193e",
   "metadata": {},
   "source": [
    "We reverse engineer the steps from the embedding, i.e. we estimate the distribution of the target variable and see where the fingerprinted value falls within this distribution. Its position will tell us what the mark bit is."
   ]
  },
  {
   "cell_type": "code",
   "execution_count": 95,
   "id": "67887921",
   "metadata": {},
   "outputs": [],
   "source": [
    "from scipy.stats import gaussian_kde\n",
    "\n",
    "def values_for_plot_distribution(target_values):\n",
    "    data = target_values\n",
    "    kde = gaussian_kde(data)\n",
    "    # Create a range of values to evaluate the PDF\n",
    "    x = np.linspace(min(data), max(data), 1000)\n",
    "    pdf_values = kde(x)\n",
    "\n",
    "    threshold = np.percentile(pdf_values, 0.75*100)\n",
    "\n",
    "    mask = (pdf_values >= threshold)\n",
    "    # Re-normalize the masked PDF and CDF\n",
    "    masked_pdf = np.where(mask, pdf_values, 0)\n",
    "    masked_cdf = np.cumsum(masked_pdf)\n",
    "    masked_cdf /= masked_cdf[-1]\n",
    "    \n",
    "    return x, pdf_values, masked_pdf"
   ]
  },
  {
   "cell_type": "code",
   "execution_count": 96,
   "id": "304c6c6f",
   "metadata": {},
   "outputs": [],
   "source": [
    "x_det, pdf_values_det, masked_pdf_det = values_for_plot_distribution(target_values_det)"
   ]
  },
  {
   "cell_type": "code",
   "execution_count": 97,
   "id": "61c66d50",
   "metadata": {},
   "outputs": [],
   "source": [
    "target_values_ins = list(dataset.iloc[iter_log[0]['neighbors']][iter_log[0]['attribute']])\n",
    "x_ins, pdf_values_ins, masked_pdf_ins = values_for_plot_distribution(target_values_ins)"
   ]
  },
  {
   "cell_type": "code",
   "execution_count": 98,
   "id": "fc5d505c",
   "metadata": {},
   "outputs": [
    {
     "data": {
      "text/plain": [
       "<matplotlib.legend.Legend at 0x20070d29c00>"
      ]
     },
     "execution_count": 98,
     "metadata": {},
     "output_type": "execute_result"
    },
    {
     "data": {
      "image/png": "[encoded data removed]",
      "text/plain": [
       "<Figure size 1000x400 with 2 Axes>"
      ]
     },
     "metadata": {},
     "output_type": "display_data"
    }
   ],
   "source": [
    "fig, axs = plt.subplots(1, 2, sharey=True, sharex=True, figsize=(10,4))\n",
    "\n",
    "axs[0].plot(x_det, pdf_values_det, label='Original PDF\\n (estimate)')\n",
    "axs[0].plot(x_det, masked_pdf_det, label='Modified PDF\\n ({}th percentile)'.format(int(100*0.75)))\n",
    "axs[0].hist(target_values_det, bins=10, density=True, alpha=0.3, label='Neighbourhood\\n data points')\n",
    "axs[0].scatter(fingerprinted_value, 0, color='red', label='Marked value', zorder=5)\n",
    "axs[0].set_ylabel('Density')\n",
    "axs[0].set_xlabel('Values')\n",
    "axs[0].set_title('Fingerprinted data')\n",
    "axs[0].legend(prop={'size': 8})\n",
    "\n",
    "axs[1].plot(x_ins, pdf_values_ins, label='Original PDF\\n (estimate)')\n",
    "axs[1].plot(x_ins, masked_pdf_ins, label='Modified PDF\\n ({}th percentile)'.format(int(100*0.75)))\n",
    "axs[1].hist(target_values_ins, bins=10, density=True, alpha=0.3, label='Neighbourhood\\n data points')\n",
    "axs[1].scatter(iter_log[0]['new_value'], 0, color='red', label='Marked value', zorder=5)\n",
    "axs[1].set_ylabel('Density')\n",
    "axs[1].set_xlabel('Values')\n",
    "axs[1].set_title('Original data')\n",
    "axs[1].legend(prop={'size': 8})"
   ]
  },
  {
   "cell_type": "markdown",
   "id": "730bd434",
   "metadata": {},
   "source": [
    "On the left-hand side, we show the distribution of the neighbourhood in the fingerprinted data obtained during the detection. On the right-hand side we show the distribution of the neighbourhoods of the same record from the original data for comparison.\n",
    "\n",
    "Note that the neighbourhood for the same record is not the same -- this is because the fingerprint marks disrupt calculating distances from the record in question. If the similar distribution is preserved, the fingerprint marks will be extracted correctly. The detection algorithm makes a decision on the fingerprint mark based on where the observed value falls within the distribution. If the obsrved value\n",
    "- falls into the dense area within the thresholds, the mark bit is detected as 1\n",
    "- falls outside of the thresholds into the tails of distribution, the mark bit is detected 0\n",
    "\n",
    "However, the shift in distribution might mean that _some_ marks are detected wrongly."
   ]
  },
  {
   "cell_type": "markdown",
   "id": "40dceaf1",
   "metadata": {},
   "source": [
    "#### Detecting the mark:\n",
    "- Mark bit is in this case be detected 1 --> the fingerprinted value falls within the 75th percentile threshold, hence the mark bit must have been 1 according to the insertion algorithm:  "
   ]
  },
  {
   "cell_type": "code",
   "execution_count": 99,
   "id": "1c635c0b",
   "metadata": {},
   "outputs": [
    {
     "data": {
      "text/plain": [
       "1"
      ]
     },
     "execution_count": 99,
     "metadata": {},
     "output_type": "execute_result"
    }
   ],
   "source": [
    "det_iter_log[0]['mark_bit'] # --> 1"
   ]
  },
  {
   "cell_type": "code",
   "execution_count": 100,
   "id": "a2cc6f10",
   "metadata": {},
   "outputs": [
    {
     "name": "stdout",
     "output_type": "stream",
     "text": [
      "Detected pseudorandomly in this step:\n",
      "\t- Mask bit: 0 (retrieved pseudorandomly in this step)\n",
      "\t- Finterprint bit position (index): 15\n",
      "\t- Fingerprint bit value: 1 (mark bit xor mask bit))\n"
     ]
    }
   ],
   "source": [
    "print(\"Detected pseudorandomly in this step:\")\n",
    "print(\"\\t- Mask bit: {} (retrieved pseudorandomly in this step)\".format(det_iter_log[0]['mask_bit']))\n",
    "print(\"\\t- Finterprint bit position (index): {}\".format(det_iter_log[0]['fingerprint_idx']))\n",
    "print(\"\\t- Fingerprint bit value: {} (mark bit xor mask bit))\".format(det_iter_log[0]['fingerprint_bit']))"
   ]
  },
  {
   "cell_type": "markdown",
   "id": "fc1c5d7c",
   "metadata": {},
   "source": [
    "The detection extracted a wrong vote for fingerprint bit at position 15 to be 1 (this does not match with the original fingerprint from embedding)."
   ]
  },
  {
   "cell_type": "markdown",
   "id": "cba4c161",
   "metadata": {},
   "source": [
    "### Step 2 <a class=\"anchor\" id=\"d-step-2\"></a>\n",
    "#### Marking position: \n",
    "- Marking row: 1\n",
    "- Marking attribute: _Z_\n",
    "- Value at the position: 29"
   ]
  },
  {
   "cell_type": "code",
   "execution_count": 101,
   "id": "7ab5ade1",
   "metadata": {},
   "outputs": [
    {
     "name": "stdout",
     "output_type": "stream",
     "text": [
      "1\n",
      "Z\n"
     ]
    },
    {
     "data": {
      "text/html": [
       "<div>\n",
       "<style scoped>\n",
       "    .dataframe tbody tr th:only-of-type {\n",
       "        vertical-align: middle;\n",
       "    }\n",
       "\n",
       "    .dataframe tbody tr th {\n",
       "        vertical-align: top;\n",
       "    }\n",
       "\n",
       "    .dataframe thead th {\n",
       "        text-align: right;\n",
       "    }\n",
       "</style>\n",
       "<table border=\"1\" class=\"dataframe\">\n",
       "  <thead>\n",
       "    <tr style=\"text-align: right;\">\n",
       "      <th></th>\n",
       "      <th>Id</th>\n",
       "      <th>X</th>\n",
       "      <th>Y</th>\n",
       "      <th>Z</th>\n",
       "    </tr>\n",
       "  </thead>\n",
       "  <tbody>\n",
       "    <tr>\n",
       "      <th>1</th>\n",
       "      <td>1</td>\n",
       "      <td>46</td>\n",
       "      <td>29</td>\n",
       "      <td>26</td>\n",
       "    </tr>\n",
       "  </tbody>\n",
       "</table>\n",
       "</div>"
      ],
      "text/plain": [
       "   Id   X   Y   Z\n",
       "1   1  46  29  26"
      ]
     },
     "execution_count": 101,
     "metadata": {},
     "output_type": "execute_result"
    }
   ],
   "source": [
    "print(det_iter_log[1]['row_index']) # --> 0\n",
    "print(det_iter_log[1]['attribute']) # --> Z\n",
    "fingerprinted_data.iloc[[1]]"
   ]
  },
  {
   "cell_type": "code",
   "execution_count": 102,
   "id": "5cdfa059",
   "metadata": {},
   "outputs": [
    {
     "data": {
      "text/plain": [
       "26"
      ]
     },
     "execution_count": 102,
     "metadata": {},
     "output_type": "execute_result"
    }
   ],
   "source": [
    "fingerprinted_value = fingerprinted_data.iloc[det_iter_log[1]['row_index']][det_iter_log[1]['attribute']]\n",
    "fingerprinted_value"
   ]
  },
  {
   "cell_type": "markdown",
   "id": "43632234",
   "metadata": {},
   "source": [
    "#### Neighbourhood: \n",
    "- Correlated attributes: _X, Y_\n",
    "- Neighbourhood size: 23\n",
    "- Max distance (minkowski): 0.5"
   ]
  },
  {
   "cell_type": "code",
   "execution_count": 51,
   "id": "f5715dc1",
   "metadata": {
    "scrolled": true
   },
   "outputs": [
    {
     "name": "stdout",
     "output_type": "stream",
     "text": [
      "Neighbourhood distances: [0.0, 0.0, 0.0, 0.0, 0.5, 0.5, 0.5, 0.5, 0.5, 0.5, 0.5, 0.5, 0.5, 0.5, 0.5, 0.5, 0.5, 0.5, 0.5, 0.5, 0.5, 0.5, 0.5]\n",
      "Neighbourhood idx: [1, 240, 104, 196, 218, 45, 163, 102, 236, 255, 188, 257, 221, 182, 52, 8, 224, 290, 39, 264, 286, 85, 23]\n"
     ]
    }
   ],
   "source": [
    "print(\"Neighbourhood distances: \" + str(det_iter_log[1]['dist']))\n",
    "print(\"Neighbourhood idx: \" + str(det_iter_log[1]['neighbors']))"
   ]
  },
  {
   "cell_type": "code",
   "execution_count": 105,
   "id": "63b0e0e4",
   "metadata": {},
   "outputs": [
    {
     "name": "stdout",
     "output_type": "stream",
     "text": [
      "Target values:[26, 24, 28, 21, 24, 16, 31, 28, 18, 23, 19, 33, 16, 18, 19, 26, 31, 24, 23, 29, 20, 22, 14]\n"
     ]
    }
   ],
   "source": [
    "# max(det_iter_log[1]['dist'])\n",
    "# fingerprinted_data.iloc[det_iter_log[1]['neighbors']] \n",
    "target_values_det = list(fingerprinted_data.iloc[det_iter_log[1]['neighbors']][det_iter_log[1]['attribute']])\n",
    "print('Target values:' + str(target_values_det))"
   ]
  },
  {
   "cell_type": "markdown",
   "id": "705d6bad",
   "metadata": {},
   "source": [
    "- Distribution in the neighbourhood:"
   ]
  },
  {
   "cell_type": "code",
   "execution_count": 106,
   "id": "387687bc",
   "metadata": {},
   "outputs": [],
   "source": [
    "x_det, pdf_values_det, masked_pdf_det = values_for_plot_distribution(target_values_det)"
   ]
  },
  {
   "cell_type": "code",
   "execution_count": 107,
   "id": "b380272d",
   "metadata": {},
   "outputs": [],
   "source": [
    "target_values_ins = list(dataset.iloc[iter_log[1]['neighbors']][iter_log[1]['attribute']])\n",
    "x_ins, pdf_values_ins, masked_pdf_ins = values_for_plot_distribution(target_values_ins)"
   ]
  },
  {
   "cell_type": "code",
   "execution_count": 108,
   "id": "113c6daa",
   "metadata": {},
   "outputs": [
    {
     "data": {
      "text/plain": [
       "<matplotlib.legend.Legend at 0x20071b15f30>"
      ]
     },
     "execution_count": 108,
     "metadata": {},
     "output_type": "execute_result"
    },
    {
     "data": {
      "image/png": "[encoded data removed]",
      "text/plain": [
       "<Figure size 1000x400 with 2 Axes>"
      ]
     },
     "metadata": {},
     "output_type": "display_data"
    }
   ],
   "source": [
    "fig, axs = plt.subplots(1, 2, sharey=True, sharex=True, figsize=(10,4))\n",
    "\n",
    "axs[0].plot(x_det, pdf_values_det, label='Original PDF\\n (estimate)')\n",
    "axs[0].plot(x_det, masked_pdf_det, label='Modified PDF\\n ({}th percentile)'.format(int(100*0.75)))\n",
    "axs[0].hist(target_values_det, bins=10, density=True, alpha=0.3, label='Neighbourhood\\n data points')\n",
    "axs[0].scatter(fingerprinted_value, 0, color='red', label='Marked value', zorder=5)\n",
    "axs[0].set_ylabel('Density')\n",
    "axs[0].set_xlabel('Values')\n",
    "axs[0].set_title('Fingerprinted data')\n",
    "axs[0].legend(prop={'size': 8})\n",
    "\n",
    "axs[1].plot(x_ins, pdf_values_ins, label='Original PDF\\n (estimate)')\n",
    "axs[1].plot(x_ins, masked_pdf_ins, label='Modified PDF\\n ({}th percentile)'.format(int(100*0.75)))\n",
    "axs[1].hist(target_values_ins, bins=10, density=True, alpha=0.3, label='Neighbourhood\\n data points')\n",
    "axs[1].scatter(iter_log[1]['new_value'], 0, color='red', label='Marked value', zorder=5)\n",
    "axs[1].set_ylabel('Density')\n",
    "axs[1].set_xlabel('Values')\n",
    "axs[1].set_title('Original data')\n",
    "axs[1].legend(prop={'size': 8})"
   ]
  },
  {
   "cell_type": "markdown",
   "id": "e326554d",
   "metadata": {},
   "source": [
    "The distribution is this time closely preserved from the original data, hence no confusion about the marking should be made by the detection algorithm: "
   ]
  },
  {
   "cell_type": "markdown",
   "id": "2c18c55f",
   "metadata": {},
   "source": [
    "#### Detecting the mark:\n",
    "- Mark bit: 0 --> the fingerprinted value falls outside of 75th percentile threshold\n",
    "- Detected pseudorandomly in this step:\n",
    "    - Mask bit: 0 \n",
    "    - Finterprint bit position (index): 15\n",
    "- Fingerprint bit value: 0 (mark bit xor mask bit)\n",
    "\n",
    "This time, the fingerprint bit is detected correctly."
   ]
  },
  {
   "cell_type": "code",
   "execution_count": 109,
   "id": "9087ed8f",
   "metadata": {},
   "outputs": [
    {
     "name": "stdout",
     "output_type": "stream",
     "text": [
      "0\n",
      "0\n",
      "15\n",
      "0\n"
     ]
    }
   ],
   "source": [
    "print(det_iter_log[1]['mark_bit']) # --> 0 (target value comes from the tails of distribution)\n",
    "print(det_iter_log[1]['mask_bit']) # --> 0 (pseudoranomly from PRNG)\n",
    "print(det_iter_log[1]['fingerprint_idx']) # --> 15 (from PRNG)\n",
    "print(det_iter_log[1]['fingerprint_bit']) # --> 0 (mark bit xor mask bit)\n",
    "\n",
    "# updating the votes for fingerprint \n",
    "# Image(\"NCorrFP_scheme/figures/CorNN-demo-Votes-step2.png\")"
   ]
  },
  {
   "cell_type": "markdown",
   "id": "2628c098",
   "metadata": {},
   "source": [
    "## Detection step for an aribitrary iteration"
   ]
  },
  {
   "cell_type": "code",
   "execution_count": 57,
   "id": "23fecd65",
   "metadata": {},
   "outputs": [],
   "source": [
    "# for converting fingerprint to color pattern for plotting the count state\n",
    "def binary_to_pairs(binary_list):\n",
    "    # Initialize an empty list to store the result\n",
    "    result = []\n",
    "    \n",
    "    # Iterate over each element in the binary list\n",
    "    for value in binary_list:\n",
    "        if value == 0:\n",
    "            # If the input value is 0, create the pair (1, 0)\n",
    "            pair = (1, 0)\n",
    "        else:\n",
    "            # If the input value is 1, create the pair (0, 1)\n",
    "            pair = (0, 1)\n",
    "        # Append the pair to the result list\n",
    "        result.append(pair)\n",
    "    \n",
    "    return result"
   ]
  },
  {
   "cell_type": "code",
   "execution_count": 58,
   "id": "a30fb3fb",
   "metadata": {},
   "outputs": [],
   "source": [
    "def plot_count_updates(count_state, fingerprint):\n",
    "    # Extract the first and second values of each pair for the rows\n",
    "    first_row = [pair[0] for pair in count_state]\n",
    "    second_row = [pair[1] for pair in count_state]\n",
    "\n",
    "    # Extract the color flags for each row\n",
    "    color_flags = binary_to_pairs(fingerprint)  # 1 = green, 0 = red\n",
    "    first_row_flags = [flag[0] for flag in color_flags]\n",
    "    second_row_flags = [flag[1] for flag in color_flags]\n",
    "    \n",
    "    # Normalize values for color intensity\n",
    "    all_values = first_row + second_row\n",
    "    norm = colors.Normalize(vmin=min(all_values), vmax=max(all_values))\n",
    "    \n",
    "    # Create figure and axis\n",
    "    fig, ax = plt.subplots(figsize=(len(count_state), 2))\n",
    "\n",
    "    # Create the table with two rows (first row, second row)\n",
    "    table_data = [first_row, second_row]\n",
    "    table = ax.table(cellText=table_data, loc='center', cellLoc='center', colWidths=[0.05]*len(count_state))\n",
    "\n",
    "    # Hide the axes\n",
    "    ax.axis('off')\n",
    "\n",
    "    # Iterate over the table cells to set the colors based on value and color flag\n",
    "    for i in range(2):  # Two rows\n",
    "        for j in range(len(count_state)):\n",
    "            # Get the value for the cell\n",
    "            value = table_data[i][j]\n",
    "            \n",
    "            # Determine the color based on the color flags\n",
    "            if i == 0:  # First row\n",
    "                if first_row_flags[j] == 1:\n",
    "                    color = plt.cm.Greens(norm(value))  # Green colormap if flag is 1\n",
    "                else:\n",
    "                    color = plt.cm.Reds(norm(value))  # Red colormap if flag is 0\n",
    "            else:  # Second row\n",
    "                if second_row_flags[j] == 1:\n",
    "                    color = plt.cm.Greens(norm(value))  # Green colormap if flag is 1\n",
    "                else:\n",
    "                    color = plt.cm.Reds(norm(value))  # Red colormap if flag is 0\n",
    "\n",
    "            # Set the color of the cell\n",
    "            cell = table[(i, j)]\n",
    "            cell.set_facecolor(color)\n",
    "            cell.set_text_props(color='black')\n",
    "\n",
    "    # Display the plot\n",
    "    plt.show()"
   ]
  },
  {
   "cell_type": "code",
   "execution_count": 59,
   "id": "b322ab60",
   "metadata": {},
   "outputs": [],
   "source": [
    "def show_detection_iteration(iteration):\n",
    "    print(\"Detecting from record at idx: \" + str(det_iter_log[iteration]['row_index']))\n",
    "    print(\"Detecting from attribute: \" + str(det_iter_log[iteration]['attribute']) )\n",
    "    print(fingerprinted_data.iloc[[iteration]])\n",
    "    fingerprinted_value = fingerprinted_data.iloc[det_iter_log[iteration]['row_index']][det_iter_log[iteration]['attribute']]\n",
    "    print('Fingerpritned value: ' + str(fingerprinted_value))\n",
    "    target_values_det = fingerprinted_data.iloc[det_iter_log[iteration]['neighbors']][det_iter_log[iteration]['attribute']].tolist()\n",
    "    print(\"----------------------------------------------------------\")\n",
    "    print(\"Obtaining neighbourhood....\")\n",
    "    print('Target values:' + str(target_values_det))\n",
    "    print(\"----------------------------------------------------------\")\n",
    "\n",
    "    x_det, pdf_values_det, masked_pdf_det = values_for_plot_distribution(target_values_det)\n",
    "    target_values_ins = list(dataset.iloc[iter_log[iteration]['neighbors']][iter_log[iteration]['attribute']])\n",
    "    x_ins, pdf_values_ins, masked_pdf_ins = values_for_plot_distribution(target_values_ins)\n",
    "    \n",
    "    fig, axs = plt.subplots(1, 2, sharey=True, sharex=True, figsize=(10,4))\n",
    "\n",
    "    axs[0].plot(x_det, pdf_values_det, label='Original PDF\\n (estimate)')\n",
    "    axs[0].plot(x_det, masked_pdf_det, label='Modified PDF\\n ({}th percentile)'.format(int(100*0.75)))\n",
    "    axs[0].hist(target_values_det, bins=10, density=True, alpha=0.3, label='Neighbourhood\\n data points')\n",
    "    axs[0].scatter(fingerprinted_value, 0, color='red', label='Marked value', zorder=5)\n",
    "    axs[0].set_ylabel('Density')\n",
    "    axs[0].set_xlabel('Values')\n",
    "    axs[0].set_title('Fingerprinted data')\n",
    "    axs[0].legend(prop={'size': 8})\n",
    "\n",
    "    axs[1].plot(x_ins, pdf_values_ins, label='Original PDF\\n (estimate)')\n",
    "    axs[1].plot(x_ins, masked_pdf_ins, label='Modified PDF\\n ({}th percentile)'.format(int(100*0.75)))\n",
    "    axs[1].hist(target_values_ins, bins=10, density=True, alpha=0.3, label='Neighbourhood\\n data points')\n",
    "    axs[1].scatter(iter_log[iteration]['new_value'], 0, color='red', label='Marked value', zorder=5)\n",
    "    axs[1].set_ylabel('Density')\n",
    "    axs[1].set_xlabel('Values')\n",
    "    axs[1].set_title('Original data')\n",
    "    axs[1].legend(prop={'size': 8})\n",
    "    \n",
    "    print(\"\\n--> Observing the distribution of target attribute {} below...\".format(det_iter_log[iteration]['attribute']))\n",
    "    message = ' (i.e. tails of distribution)' if det_iter_log[iteration]['mark_bit']==0 else ' (i.e. in densest area)'\n",
    "    print(\"Mark bit (where in distribution falls the target value?): \" + str(det_iter_log[iteration]['mark_bit']) + message)\n",
    "    print(\"Mask bit (from PRNG): \" + str(det_iter_log[iteration]['mask_bit']))\n",
    "    print(\"Fingerprint bit index (from PRNG): \" + str(det_iter_log[iteration]['fingerprint_idx']))\n",
    "    print(\"Fingerprint bit value (mark bit xor mask bit): \" + str(det_iter_log[iteration]['fingerprint_bit']))\n",
    "    \n",
    "    if det_iter_log[iteration]['fingerprint_bit'] == fingerprint[det_iter_log[iteration]['fingerprint_idx']]:\n",
    "        print('\\nFingerprint bit CORRECT :)')\n",
    "    else:\n",
    "        print('\\nFingerprint bit FALSE :( (it is just a wrong vote)')\n",
    "    \n",
    "    plot_count_updates(det_iter_log[iteration]['count_state'], fingerprint)\n",
    "    print('Table: fingerprint count updates after this iteration (iteration {}). Each column is one fingerprint bit position (e.g. 16-bit --> 16 columns), and each row represents votes for either 0 or 1 being the value of that bit. The final decision is made at the end af the detection algorithm according to majority vote.'.format(iteration))"
   ]
  },
  {
   "cell_type": "code",
   "execution_count": 111,
   "id": "0f357c36",
   "metadata": {
    "scrolled": false
   },
   "outputs": [
    {
     "name": "stdout",
     "output_type": "stream",
     "text": [
      "Detecting from record at idx: 299\n",
      "Detecting from attribute: Y\n",
      "      Id   X   Y   Z\n",
      "299  299  58  49  35\n",
      "Fingerpritned value: 49\n",
      "----------------------------------------------------------\n",
      "Obtaining neighbourhood....\n",
      "Target values:[37, 55, 31, 49, 49, 37, 56, 39, 42, 42, 30]\n",
      "----------------------------------------------------------\n",
      "\n",
      "--> Observing the distribution of target attribute Y below...\n",
      "Mark bit (where in distribution falls the target value?): 0 (i.e. tails of distribution)\n",
      "Mask bit (from PRNG): 0\n",
      "Fingerprint bit index (from PRNG): 8\n",
      "Fingerprint bit value (mark bit xor mask bit): 0\n",
      "\n",
      "Fingerprint bit CORRECT :)\n"
     ]
    },
    {
     "data": {
      "image/png": "[encoded data removed]",
      "text/plain": [
       "<Figure size 1000x400 with 2 Axes>"
      ]
     },
     "metadata": {},
     "output_type": "display_data"
    },
    {
     "data": {
      "image/png": "[encoded data removed]",
      "text/plain": [
       "<Figure size 1600x200 with 1 Axes>"
      ]
     },
     "metadata": {},
     "output_type": "display_data"
    },
    {
     "name": "stdout",
     "output_type": "stream",
     "text": [
      "Table: fingerprint count updates after this iteration (iteration -1). Each column is one fingerprint bit position (e.g. 16-bit --> 16 columns), and each row represents votes for either 0 or 1 being the value of that bit. The final decision is made at the end af the detection algorithm according to majority vote.\n"
     ]
    }
   ],
   "source": [
    "show_detection_iteration(-1)"
   ]
  }
 ],
 "metadata": {
  "kernelspec": {
   "display_name": "Python3-venv",
   "language": "python",
   "name": "venv"
  },
  "language_info": {
   "codemirror_mode": {
    "name": "ipython",
    "version": 3
   },
   "file_extension": ".py",
   "mimetype": "text/x-python",
   "name": "python",
   "nbconvert_exporter": "python",
   "pygments_lexer": "ipython3",
   "version": "3.10.6"
  }
 },
 "nbformat": 4,
 "nbformat_minor": 5
}
