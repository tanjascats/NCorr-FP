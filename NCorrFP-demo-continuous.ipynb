{
 "cells": [
  {
   "cell_type": "markdown",
   "id": "11098cde",
   "metadata": {},
   "source": [
    "# CorNN scheme run demo\n",
    "\n",
    "* [1. Insetion algorithm (fingerprint embedding)](#insertion)\n",
    "    * [Step 1](#i-step-1) - an example of mark=0\n",
    "    * [Step 2](#i-step-2) - an example of mark=1\n",
    "    * [Step 3](#i-step-3) - an example of marking an attribute with missing values\n",
    "    * ...\n",
    "* [2. Detection algorithm](#detection)\n",
    "    * [Step 1](#d-step-1)\n",
    "    * [Step 2](#d-step-2)\n",
    "    * [Step 3](#d-step-3)\n",
    "    * [Step 50 to end](#d-step-50)"
   ]
  },
  {
   "cell_type": "code",
   "execution_count": 1,
   "id": "c6e1e79d",
   "metadata": {},
   "outputs": [],
   "source": [
    "import pandas as pd\n",
    "import numpy as np\n",
    "from pprint import pprint\n",
    "from matplotlib import pyplot as plt\n",
    "from scipy.stats import gaussian_kde\n",
    "from sklearn.preprocessing import LabelEncoder\n",
    "from IPython.display import Image"
   ]
  },
  {
   "cell_type": "code",
   "execution_count": 2,
   "id": "72b4ac09",
   "metadata": {},
   "outputs": [],
   "source": [
    "from NCorrFP_scheme.NCorrFP import NCorrFP, sample_from_area"
   ]
  },
  {
   "cell_type": "code",
   "execution_count": 3,
   "id": "73abb5e6",
   "metadata": {},
   "outputs": [
    {
     "data": {
      "text/html": [
       "<div>\n",
       "<style scoped>\n",
       "    .dataframe tbody tr th:only-of-type {\n",
       "        vertical-align: middle;\n",
       "    }\n",
       "\n",
       "    .dataframe tbody tr th {\n",
       "        vertical-align: top;\n",
       "    }\n",
       "\n",
       "    .dataframe thead th {\n",
       "        text-align: right;\n",
       "    }\n",
       "</style>\n",
       "<table border=\"1\" class=\"dataframe\">\n",
       "  <thead>\n",
       "    <tr style=\"text-align: right;\">\n",
       "      <th></th>\n",
       "      <th>Id</th>\n",
       "      <th>X</th>\n",
       "      <th>Y</th>\n",
       "      <th>Z</th>\n",
       "    </tr>\n",
       "  </thead>\n",
       "  <tbody>\n",
       "    <tr>\n",
       "      <th>0</th>\n",
       "      <td>0</td>\n",
       "      <td>59</td>\n",
       "      <td>37</td>\n",
       "      <td>31</td>\n",
       "    </tr>\n",
       "    <tr>\n",
       "      <th>1</th>\n",
       "      <td>1</td>\n",
       "      <td>49</td>\n",
       "      <td>36</td>\n",
       "      <td>20</td>\n",
       "    </tr>\n",
       "    <tr>\n",
       "      <th>2</th>\n",
       "      <td>2</td>\n",
       "      <td>56</td>\n",
       "      <td>47</td>\n",
       "      <td>35</td>\n",
       "    </tr>\n",
       "    <tr>\n",
       "      <th>3</th>\n",
       "      <td>3</td>\n",
       "      <td>64</td>\n",
       "      <td>43</td>\n",
       "      <td>26</td>\n",
       "    </tr>\n",
       "    <tr>\n",
       "      <th>4</th>\n",
       "      <td>4</td>\n",
       "      <td>40</td>\n",
       "      <td>29</td>\n",
       "      <td>27</td>\n",
       "    </tr>\n",
       "    <tr>\n",
       "      <th>5</th>\n",
       "      <td>5</td>\n",
       "      <td>44</td>\n",
       "      <td>31</td>\n",
       "      <td>35</td>\n",
       "    </tr>\n",
       "    <tr>\n",
       "      <th>6</th>\n",
       "      <td>6</td>\n",
       "      <td>63</td>\n",
       "      <td>51</td>\n",
       "      <td>28</td>\n",
       "    </tr>\n",
       "    <tr>\n",
       "      <th>7</th>\n",
       "      <td>7</td>\n",
       "      <td>63</td>\n",
       "      <td>42</td>\n",
       "      <td>26</td>\n",
       "    </tr>\n",
       "    <tr>\n",
       "      <th>8</th>\n",
       "      <td>8</td>\n",
       "      <td>47</td>\n",
       "      <td>29</td>\n",
       "      <td>23</td>\n",
       "    </tr>\n",
       "    <tr>\n",
       "      <th>9</th>\n",
       "      <td>9</td>\n",
       "      <td>47</td>\n",
       "      <td>41</td>\n",
       "      <td>25</td>\n",
       "    </tr>\n",
       "    <tr>\n",
       "      <th>10</th>\n",
       "      <td>10</td>\n",
       "      <td>47</td>\n",
       "      <td>32</td>\n",
       "      <td>15</td>\n",
       "    </tr>\n",
       "    <tr>\n",
       "      <th>11</th>\n",
       "      <td>11</td>\n",
       "      <td>43</td>\n",
       "      <td>37</td>\n",
       "      <td>23</td>\n",
       "    </tr>\n",
       "    <tr>\n",
       "      <th>12</th>\n",
       "      <td>12</td>\n",
       "      <td>49</td>\n",
       "      <td>33</td>\n",
       "      <td>21</td>\n",
       "    </tr>\n",
       "    <tr>\n",
       "      <th>13</th>\n",
       "      <td>13</td>\n",
       "      <td>34</td>\n",
       "      <td>20</td>\n",
       "      <td>18</td>\n",
       "    </tr>\n",
       "    <tr>\n",
       "      <th>14</th>\n",
       "      <td>14</td>\n",
       "      <td>38</td>\n",
       "      <td>21</td>\n",
       "      <td>12</td>\n",
       "    </tr>\n",
       "    <tr>\n",
       "      <th>15</th>\n",
       "      <td>15</td>\n",
       "      <td>49</td>\n",
       "      <td>24</td>\n",
       "      <td>30</td>\n",
       "    </tr>\n",
       "    <tr>\n",
       "      <th>16</th>\n",
       "      <td>16</td>\n",
       "      <td>36</td>\n",
       "      <td>29</td>\n",
       "      <td>16</td>\n",
       "    </tr>\n",
       "    <tr>\n",
       "      <th>17</th>\n",
       "      <td>17</td>\n",
       "      <td>52</td>\n",
       "      <td>39</td>\n",
       "      <td>25</td>\n",
       "    </tr>\n",
       "    <tr>\n",
       "      <th>18</th>\n",
       "      <td>18</td>\n",
       "      <td>43</td>\n",
       "      <td>29</td>\n",
       "      <td>25</td>\n",
       "    </tr>\n",
       "    <tr>\n",
       "      <th>19</th>\n",
       "      <td>19</td>\n",
       "      <td>41</td>\n",
       "      <td>24</td>\n",
       "      <td>12</td>\n",
       "    </tr>\n",
       "  </tbody>\n",
       "</table>\n",
       "</div>"
      ],
      "text/plain": [
       "    Id   X   Y   Z\n",
       "0    0  59  37  31\n",
       "1    1  49  36  20\n",
       "2    2  56  47  35\n",
       "3    3  64  43  26\n",
       "4    4  40  29  27\n",
       "5    5  44  31  35\n",
       "6    6  63  51  28\n",
       "7    7  63  42  26\n",
       "8    8  47  29  23\n",
       "9    9  47  41  25\n",
       "10  10  47  32  15\n",
       "11  11  43  37  23\n",
       "12  12  49  33  21\n",
       "13  13  34  20  18\n",
       "14  14  38  21  12\n",
       "15  15  49  24  30\n",
       "16  16  36  29  16\n",
       "17  17  52  39  25\n",
       "18  18  43  29  25\n",
       "19  19  41  24  12"
      ]
     },
     "execution_count": 3,
     "metadata": {},
     "output_type": "execute_result"
    }
   ],
   "source": [
    "# original data\n",
    "data = \"NCorrFP_scheme/test/test_data/synthetic_40_3_continuous.csv\"\n",
    "dataset = pd.read_csv(data)\n",
    "correlated_attributes = ['X', 'Y']\n",
    "dataset.head(20)"
   ]
  },
  {
   "cell_type": "code",
   "execution_count": 4,
   "id": "fa4fb864",
   "metadata": {},
   "outputs": [
    {
     "name": "stdout",
     "output_type": "stream",
     "text": [
      "Start the demo NCorr fingerprint insertion algorithm...\n",
      "\tgamma: 1\n",
      "\tcorrelated attributes: ['X', 'Y']\n",
      "\n",
      "Generated fingerprint for recipient 4: 01011100\n",
      "\n",
      "Generated fingerprint for recipient 4: 01011100\n",
      "Inserting the fingerprint...\n",
      "\n",
      "Training balltrees in: 0.01 sec.\n",
      "Fingerprint inserted.\n",
      "Runtime: 0 ms.\n"
     ]
    }
   ],
   "source": [
    "# fingerprinting \n",
    "scheme = NCorrFP(gamma=1, fingerprint_bit_length=8, k=10)\n",
    "fingerprinted_data, iter_log = scheme.demo_insertion(data, primary_key_name='Id', secret_key=101, recipient_id=4,\n",
    "                                              correlated_attributes=correlated_attributes)"
   ]
  },
  {
   "cell_type": "code",
   "execution_count": 5,
   "id": "4535adc7",
   "metadata": {},
   "outputs": [],
   "source": [
    "fingerprint = [0,1,0,1,1,1,0,0]"
   ]
  },
  {
   "cell_type": "markdown",
   "id": "f8037ecd",
   "metadata": {},
   "source": [
    "## 1. Insertion algorithm (embedding) <a class=\"anchor\" id=\"insertion\"></a>\n",
    "The insertion algorithm takes as input:\n",
    "- dataset\n",
    "- owner's secret key, recipient ID\n",
    "- fingerprint length, marking ratio gamma\n",
    "- list of correlated attributes\n",
    "- whether the neighbourhood search is distance based (_d_ -- max distance) or cardinality based (_k_ -- minimum cardinality of the neighbourhood)\n",
    "\n",
    "### Step 1: <a class=\"anchor\" id=\"i-step-1\"></a>\n",
    "The marking position  (row, attribute) are chosen pseudorandomly seeded by the owner's secret key\n",
    "#### Marking position: \n",
    "- Marking row: 0\n",
    "- Marking attribute: \"_deg-malig_\"\n",
    "- Original value: 3"
   ]
  },
  {
   "cell_type": "code",
   "execution_count": 6,
   "id": "2607c7e0",
   "metadata": {},
   "outputs": [
    {
     "name": "stdout",
     "output_type": "stream",
     "text": [
      "Marking record no. 0\n",
      "Marking attribute: Y\n"
     ]
    },
    {
     "data": {
      "text/html": [
       "<div>\n",
       "<style scoped>\n",
       "    .dataframe tbody tr th:only-of-type {\n",
       "        vertical-align: middle;\n",
       "    }\n",
       "\n",
       "    .dataframe tbody tr th {\n",
       "        vertical-align: top;\n",
       "    }\n",
       "\n",
       "    .dataframe thead th {\n",
       "        text-align: right;\n",
       "    }\n",
       "</style>\n",
       "<table border=\"1\" class=\"dataframe\">\n",
       "  <thead>\n",
       "    <tr style=\"text-align: right;\">\n",
       "      <th></th>\n",
       "      <th>Id</th>\n",
       "      <th>X</th>\n",
       "      <th>Y</th>\n",
       "      <th>Z</th>\n",
       "    </tr>\n",
       "  </thead>\n",
       "  <tbody>\n",
       "    <tr>\n",
       "      <th>0</th>\n",
       "      <td>0</td>\n",
       "      <td>59</td>\n",
       "      <td>37</td>\n",
       "      <td>31</td>\n",
       "    </tr>\n",
       "  </tbody>\n",
       "</table>\n",
       "</div>"
      ],
      "text/plain": [
       "   Id   X   Y   Z\n",
       "0   0  59  37  31"
      ]
     },
     "execution_count": 6,
     "metadata": {},
     "output_type": "execute_result"
    }
   ],
   "source": [
    "print(\"Marking record no. \" + str(iter_log[0]['row_index'])) # --> 0\n",
    "print(\"Marking attribute: \" + str(iter_log[0]['attribute'])) # --> Y\n",
    "dataset.iloc[[0]]"
   ]
  },
  {
   "cell_type": "markdown",
   "id": "31e38d46",
   "metadata": {},
   "source": [
    "#### Neighbourhood: \n",
    "We are looking now in the neighbourhood of the attribute X correlated to Y, the one we are marking. Now the neighbourhood should be the records where X is the closest to 59. "
   ]
  },
  {
   "cell_type": "code",
   "execution_count": 7,
   "id": "3d11c5b9",
   "metadata": {},
   "outputs": [
    {
     "name": "stdout",
     "output_type": "stream",
     "text": [
      "Neighbours idx: [0, 25, 2, 20, 6, 7, 3, 36, 17, 32]\n",
      "Neighbours dist: [0.0, 1.0, 3.0, 3.0, 4.0, 4.0, 5.0, 6.0, 7.0, 9.0]\n",
      "Neighbours values:[59, 58, 56, 62, 63, 63, 64, 53, 52, 50]\n"
     ]
    }
   ],
   "source": [
    "print('Neighbours idx: ' + str(iter_log[0]['neighbors']))\n",
    "print('Neighbours dist: ' + str(iter_log[0]['dist']))\n",
    "print('Neighbours values:' + str(list(dataset.iloc[iter_log[0]['neighbors']]['X'])))"
   ]
  },
  {
   "cell_type": "markdown",
   "id": "7f405e8f",
   "metadata": {},
   "source": [
    "To sum up:\n",
    "- Correlated attributes: _X, Y_\n",
    "- Neighbourhood size: 10\n",
    "- Max distance (hamming): 9\n",
    "\n",
    "Now we look into values of Y, the attribute we are marking, in the neighbourhood, to decide on a new one."
   ]
  },
  {
   "cell_type": "code",
   "execution_count": 8,
   "id": "e76e6a10",
   "metadata": {},
   "outputs": [
    {
     "name": "stdout",
     "output_type": "stream",
     "text": [
      "Target values:[37, 38, 47, 38, 51, 42, 43, 36, 39, 35]\n"
     ]
    }
   ],
   "source": [
    "print('Target values:' + str(list(dataset.iloc[iter_log[0]['neighbors']]['Y'])))"
   ]
  },
  {
   "cell_type": "markdown",
   "id": "3ca38f8c",
   "metadata": {},
   "source": [
    "Let's plot the distribution of the X variable in the neighbourhood.\n",
    "The mark bit is 0, so we will be sampling the new value from less dense areas."
   ]
  },
  {
   "cell_type": "code",
   "execution_count": 9,
   "id": "9ef4a1ca",
   "metadata": {},
   "outputs": [
    {
     "name": "stdout",
     "output_type": "stream",
     "text": [
      "0\n"
     ]
    }
   ],
   "source": [
    "mark_bit = iter_log[0]['mark_bit']\n",
    "print(mark_bit)"
   ]
  },
  {
   "cell_type": "code",
   "execution_count": 10,
   "id": "592dd79d",
   "metadata": {},
   "outputs": [
    {
     "data": {
      "image/png": "[encoded data removed]",
      "text/plain": [
       "<Figure size 640x480 with 1 Axes>"
      ]
     },
     "metadata": {},
     "output_type": "display_data"
    },
    {
     "data": {
      "text/plain": [
       "array([41.36127574])"
      ]
     },
     "execution_count": 10,
     "metadata": {},
     "output_type": "execute_result"
    }
   ],
   "source": [
    "sample_from_area(data=list(dataset.iloc[iter_log[0]['neighbors']]['Y']), percent=0.75, dense=mark_bit, plot=True, \n",
    "                 seed=iter_log[0]['seed'])"
   ]
  },
  {
   "cell_type": "code",
   "execution_count": 11,
   "id": "b51ced14",
   "metadata": {},
   "outputs": [
    {
     "data": {
      "text/plain": [
       "42"
      ]
     },
     "execution_count": 11,
     "metadata": {},
     "output_type": "execute_result"
    }
   ],
   "source": [
    "iter_log[0]['new_value']"
   ]
  },
  {
   "cell_type": "markdown",
   "id": "a089c4ee",
   "metadata": {},
   "source": [
    "#### Marking:\n",
    "\n",
    "The goal is to modify its value to something that is _likely_ to occur. To introduce pseudorandomness, we obtain _mark bit_ from PRNG based on which there are two outcomes:\n",
    "- _mark bit is 1_ (50%) -- the new value is sampled from the most dense areas of a distribution of the target variable in the neighbourhood\n",
    "- _mark bit is 0_ (50%) -- the new value is sampled from the tails of distribution of the target value in the neighbourhood\n",
    "\n",
    "We used Gaussian Kernel estimaton method to estimate the distribution of the values in the neighbourhood. Once we do that, we cut of the 75th percentile and sample from the tails of the distribution since the mark bit was 0.\n",
    "If the mark bit was 1, we would have sampled from the dense areas of the distribution (we will see that in the following iterations).\n",
    "The sampled value is rounded to the closest existing from the neighbourhood (to avoid perceptibility of marks in the fingerprinted data).\n",
    "The final chosen value for attribute Y of record 0 is 42."
   ]
  },
  {
   "cell_type": "code",
   "execution_count": 12,
   "id": "98b136f2",
   "metadata": {},
   "outputs": [
    {
     "data": {
      "text/html": [
       "<div>\n",
       "<style scoped>\n",
       "    .dataframe tbody tr th:only-of-type {\n",
       "        vertical-align: middle;\n",
       "    }\n",
       "\n",
       "    .dataframe tbody tr th {\n",
       "        vertical-align: top;\n",
       "    }\n",
       "\n",
       "    .dataframe thead th {\n",
       "        text-align: right;\n",
       "    }\n",
       "</style>\n",
       "<table border=\"1\" class=\"dataframe\">\n",
       "  <thead>\n",
       "    <tr style=\"text-align: right;\">\n",
       "      <th></th>\n",
       "      <th>Id</th>\n",
       "      <th>X</th>\n",
       "      <th>Y</th>\n",
       "      <th>Z</th>\n",
       "    </tr>\n",
       "  </thead>\n",
       "  <tbody>\n",
       "    <tr>\n",
       "      <th>0</th>\n",
       "      <td>0</td>\n",
       "      <td>59</td>\n",
       "      <td>42</td>\n",
       "      <td>31</td>\n",
       "    </tr>\n",
       "  </tbody>\n",
       "</table>\n",
       "</div>"
      ],
      "text/plain": [
       "   Id   X   Y   Z\n",
       "0   0  59  42  31"
      ]
     },
     "execution_count": 12,
     "metadata": {},
     "output_type": "execute_result"
    }
   ],
   "source": [
    "fingerprinted_data.head(1)"
   ]
  },
  {
   "cell_type": "markdown",
   "id": "5e92fe11",
   "metadata": {},
   "source": [
    "### Step 2: <a class=\"anchor\" id=\"i-step-2\"></a>\n",
    "#### Marking position: \n",
    "- Marking row 0, attribute \"_age_\""
   ]
  },
  {
   "cell_type": "code",
   "execution_count": 13,
   "id": "fc0fe5db",
   "metadata": {},
   "outputs": [
    {
     "name": "stdout",
     "output_type": "stream",
     "text": [
      "Marking record no. 1\n",
      "Marking attribute: Z\n"
     ]
    },
    {
     "data": {
      "text/html": [
       "<div>\n",
       "<style scoped>\n",
       "    .dataframe tbody tr th:only-of-type {\n",
       "        vertical-align: middle;\n",
       "    }\n",
       "\n",
       "    .dataframe tbody tr th {\n",
       "        vertical-align: top;\n",
       "    }\n",
       "\n",
       "    .dataframe thead th {\n",
       "        text-align: right;\n",
       "    }\n",
       "</style>\n",
       "<table border=\"1\" class=\"dataframe\">\n",
       "  <thead>\n",
       "    <tr style=\"text-align: right;\">\n",
       "      <th></th>\n",
       "      <th>Id</th>\n",
       "      <th>X</th>\n",
       "      <th>Y</th>\n",
       "      <th>Z</th>\n",
       "    </tr>\n",
       "  </thead>\n",
       "  <tbody>\n",
       "    <tr>\n",
       "      <th>1</th>\n",
       "      <td>1</td>\n",
       "      <td>49</td>\n",
       "      <td>36</td>\n",
       "      <td>20</td>\n",
       "    </tr>\n",
       "  </tbody>\n",
       "</table>\n",
       "</div>"
      ],
      "text/plain": [
       "   Id   X   Y   Z\n",
       "1   1  49  36  20"
      ]
     },
     "execution_count": 13,
     "metadata": {},
     "output_type": "execute_result"
    }
   ],
   "source": [
    "print(\"Marking record no. \" + str(iter_log[1]['row_index'])) # --> 0\n",
    "print(\"Marking attribute: \" + str(iter_log[1]['attribute'])) # --> Y\n",
    "dataset.iloc[[1]]"
   ]
  },
  {
   "cell_type": "markdown",
   "id": "d853e4ed",
   "metadata": {},
   "source": [
    "Attribute Z is not correlated to the others, so we will use all other attributes to find the closest neighbours and choose a new value, to still preseve the integrity of the dataset."
   ]
  },
  {
   "cell_type": "code",
   "execution_count": 14,
   "id": "114f4e86",
   "metadata": {
    "scrolled": true
   },
   "outputs": [
    {
     "name": "stdout",
     "output_type": "stream",
     "text": [
      "Neighbours idx: [36, 12, 24, 26, 15, 39, 6, 7, 8, 9, 10, 11, 0, 13, 14, 2, 16, 17, 18, 19, 20, 21, 22, 23, 3, 25, 4, 27, 28, 29, 30, 31, 32, 33, 34, 35, 37, 38, 5]\n",
      "Neighbours dist: [0.5, 0.5, 0.5, 0.5, 0.5, 1.0, 1.0, 1.0, 1.0, 1.0, 1.0, 1.0, 1.0, 1.0, 1.0, 1.0, 1.0, 1.0, 1.0, 1.0, 1.0, 1.0, 1.0, 1.0, 1.0, 1.0, 1.0, 1.0, 1.0, 1.0, 1.0, 1.0, 1.0, 1.0, 1.0, 1.0, 1.0, 1.0, 1.0]\n",
      "Neighbours values:[53, 49, 49, 38, 49, 42, 63, 63, 47, 47, 47, 43, 59, 34, 38, 56, 36, 52, 43, 41, 62, 47, 45, 30, 64, 58, 40, 59, 46, 44, 46, 76, 50, 47, 45, 42, 29, 37, 44]\n"
     ]
    }
   ],
   "source": [
    "print('Neighbours idx: ' + str(iter_log[1]['neighbors']))\n",
    "print('Neighbours dist: ' + str(iter_log[1]['dist']))\n",
    "print('Neighbours values:' + str(list(dataset.iloc[iter_log[1]['neighbors']]['X'])))"
   ]
  },
  {
   "cell_type": "markdown",
   "id": "b6bb52bb",
   "metadata": {},
   "source": [
    "Neighbourhood is larger than k=10 because there were multiple neighbours of distance=1.0 so we take them all into account.\n",
    "The neighbourhood looks as follows:"
   ]
  },
  {
   "cell_type": "code",
   "execution_count": 15,
   "id": "ab601d3f",
   "metadata": {},
   "outputs": [
    {
     "data": {
      "text/html": [
       "<div>\n",
       "<style scoped>\n",
       "    .dataframe tbody tr th:only-of-type {\n",
       "        vertical-align: middle;\n",
       "    }\n",
       "\n",
       "    .dataframe tbody tr th {\n",
       "        vertical-align: top;\n",
       "    }\n",
       "\n",
       "    .dataframe thead th {\n",
       "        text-align: right;\n",
       "    }\n",
       "</style>\n",
       "<table border=\"1\" class=\"dataframe\">\n",
       "  <thead>\n",
       "    <tr style=\"text-align: right;\">\n",
       "      <th></th>\n",
       "      <th>Id</th>\n",
       "      <th>X</th>\n",
       "      <th>Y</th>\n",
       "      <th>Z</th>\n",
       "    </tr>\n",
       "  </thead>\n",
       "  <tbody>\n",
       "    <tr>\n",
       "      <th>36</th>\n",
       "      <td>36</td>\n",
       "      <td>53</td>\n",
       "      <td>36</td>\n",
       "      <td>35</td>\n",
       "    </tr>\n",
       "    <tr>\n",
       "      <th>12</th>\n",
       "      <td>12</td>\n",
       "      <td>49</td>\n",
       "      <td>33</td>\n",
       "      <td>21</td>\n",
       "    </tr>\n",
       "    <tr>\n",
       "      <th>24</th>\n",
       "      <td>24</td>\n",
       "      <td>49</td>\n",
       "      <td>30</td>\n",
       "      <td>24</td>\n",
       "    </tr>\n",
       "    <tr>\n",
       "      <th>26</th>\n",
       "      <td>26</td>\n",
       "      <td>38</td>\n",
       "      <td>36</td>\n",
       "      <td>13</td>\n",
       "    </tr>\n",
       "    <tr>\n",
       "      <th>15</th>\n",
       "      <td>15</td>\n",
       "      <td>49</td>\n",
       "      <td>24</td>\n",
       "      <td>30</td>\n",
       "    </tr>\n",
       "    <tr>\n",
       "      <th>39</th>\n",
       "      <td>39</td>\n",
       "      <td>42</td>\n",
       "      <td>40</td>\n",
       "      <td>29</td>\n",
       "    </tr>\n",
       "    <tr>\n",
       "      <th>6</th>\n",
       "      <td>6</td>\n",
       "      <td>63</td>\n",
       "      <td>51</td>\n",
       "      <td>28</td>\n",
       "    </tr>\n",
       "    <tr>\n",
       "      <th>7</th>\n",
       "      <td>7</td>\n",
       "      <td>63</td>\n",
       "      <td>42</td>\n",
       "      <td>26</td>\n",
       "    </tr>\n",
       "    <tr>\n",
       "      <th>8</th>\n",
       "      <td>8</td>\n",
       "      <td>47</td>\n",
       "      <td>29</td>\n",
       "      <td>23</td>\n",
       "    </tr>\n",
       "    <tr>\n",
       "      <th>9</th>\n",
       "      <td>9</td>\n",
       "      <td>47</td>\n",
       "      <td>41</td>\n",
       "      <td>25</td>\n",
       "    </tr>\n",
       "    <tr>\n",
       "      <th>10</th>\n",
       "      <td>10</td>\n",
       "      <td>47</td>\n",
       "      <td>32</td>\n",
       "      <td>15</td>\n",
       "    </tr>\n",
       "    <tr>\n",
       "      <th>11</th>\n",
       "      <td>11</td>\n",
       "      <td>43</td>\n",
       "      <td>37</td>\n",
       "      <td>23</td>\n",
       "    </tr>\n",
       "    <tr>\n",
       "      <th>0</th>\n",
       "      <td>0</td>\n",
       "      <td>59</td>\n",
       "      <td>37</td>\n",
       "      <td>31</td>\n",
       "    </tr>\n",
       "    <tr>\n",
       "      <th>13</th>\n",
       "      <td>13</td>\n",
       "      <td>34</td>\n",
       "      <td>20</td>\n",
       "      <td>18</td>\n",
       "    </tr>\n",
       "    <tr>\n",
       "      <th>14</th>\n",
       "      <td>14</td>\n",
       "      <td>38</td>\n",
       "      <td>21</td>\n",
       "      <td>12</td>\n",
       "    </tr>\n",
       "    <tr>\n",
       "      <th>2</th>\n",
       "      <td>2</td>\n",
       "      <td>56</td>\n",
       "      <td>47</td>\n",
       "      <td>35</td>\n",
       "    </tr>\n",
       "    <tr>\n",
       "      <th>16</th>\n",
       "      <td>16</td>\n",
       "      <td>36</td>\n",
       "      <td>29</td>\n",
       "      <td>16</td>\n",
       "    </tr>\n",
       "    <tr>\n",
       "      <th>17</th>\n",
       "      <td>17</td>\n",
       "      <td>52</td>\n",
       "      <td>39</td>\n",
       "      <td>25</td>\n",
       "    </tr>\n",
       "    <tr>\n",
       "      <th>18</th>\n",
       "      <td>18</td>\n",
       "      <td>43</td>\n",
       "      <td>29</td>\n",
       "      <td>25</td>\n",
       "    </tr>\n",
       "    <tr>\n",
       "      <th>19</th>\n",
       "      <td>19</td>\n",
       "      <td>41</td>\n",
       "      <td>24</td>\n",
       "      <td>12</td>\n",
       "    </tr>\n",
       "    <tr>\n",
       "      <th>20</th>\n",
       "      <td>20</td>\n",
       "      <td>62</td>\n",
       "      <td>38</td>\n",
       "      <td>33</td>\n",
       "    </tr>\n",
       "    <tr>\n",
       "      <th>21</th>\n",
       "      <td>21</td>\n",
       "      <td>47</td>\n",
       "      <td>31</td>\n",
       "      <td>30</td>\n",
       "    </tr>\n",
       "    <tr>\n",
       "      <th>22</th>\n",
       "      <td>22</td>\n",
       "      <td>45</td>\n",
       "      <td>34</td>\n",
       "      <td>17</td>\n",
       "    </tr>\n",
       "    <tr>\n",
       "      <th>23</th>\n",
       "      <td>23</td>\n",
       "      <td>30</td>\n",
       "      <td>21</td>\n",
       "      <td>19</td>\n",
       "    </tr>\n",
       "    <tr>\n",
       "      <th>3</th>\n",
       "      <td>3</td>\n",
       "      <td>64</td>\n",
       "      <td>43</td>\n",
       "      <td>26</td>\n",
       "    </tr>\n",
       "    <tr>\n",
       "      <th>25</th>\n",
       "      <td>25</td>\n",
       "      <td>58</td>\n",
       "      <td>38</td>\n",
       "      <td>29</td>\n",
       "    </tr>\n",
       "    <tr>\n",
       "      <th>4</th>\n",
       "      <td>4</td>\n",
       "      <td>40</td>\n",
       "      <td>29</td>\n",
       "      <td>27</td>\n",
       "    </tr>\n",
       "    <tr>\n",
       "      <th>27</th>\n",
       "      <td>27</td>\n",
       "      <td>59</td>\n",
       "      <td>39</td>\n",
       "      <td>20</td>\n",
       "    </tr>\n",
       "    <tr>\n",
       "      <th>28</th>\n",
       "      <td>28</td>\n",
       "      <td>46</td>\n",
       "      <td>32</td>\n",
       "      <td>25</td>\n",
       "    </tr>\n",
       "    <tr>\n",
       "      <th>29</th>\n",
       "      <td>29</td>\n",
       "      <td>44</td>\n",
       "      <td>33</td>\n",
       "      <td>25</td>\n",
       "    </tr>\n",
       "    <tr>\n",
       "      <th>30</th>\n",
       "      <td>30</td>\n",
       "      <td>46</td>\n",
       "      <td>21</td>\n",
       "      <td>23</td>\n",
       "    </tr>\n",
       "    <tr>\n",
       "      <th>31</th>\n",
       "      <td>31</td>\n",
       "      <td>76</td>\n",
       "      <td>48</td>\n",
       "      <td>36</td>\n",
       "    </tr>\n",
       "    <tr>\n",
       "      <th>32</th>\n",
       "      <td>32</td>\n",
       "      <td>50</td>\n",
       "      <td>35</td>\n",
       "      <td>22</td>\n",
       "    </tr>\n",
       "    <tr>\n",
       "      <th>33</th>\n",
       "      <td>33</td>\n",
       "      <td>47</td>\n",
       "      <td>40</td>\n",
       "      <td>21</td>\n",
       "    </tr>\n",
       "    <tr>\n",
       "      <th>34</th>\n",
       "      <td>34</td>\n",
       "      <td>45</td>\n",
       "      <td>40</td>\n",
       "      <td>31</td>\n",
       "    </tr>\n",
       "    <tr>\n",
       "      <th>35</th>\n",
       "      <td>35</td>\n",
       "      <td>42</td>\n",
       "      <td>28</td>\n",
       "      <td>15</td>\n",
       "    </tr>\n",
       "    <tr>\n",
       "      <th>37</th>\n",
       "      <td>37</td>\n",
       "      <td>29</td>\n",
       "      <td>15</td>\n",
       "      <td>18</td>\n",
       "    </tr>\n",
       "    <tr>\n",
       "      <th>38</th>\n",
       "      <td>38</td>\n",
       "      <td>37</td>\n",
       "      <td>31</td>\n",
       "      <td>12</td>\n",
       "    </tr>\n",
       "    <tr>\n",
       "      <th>5</th>\n",
       "      <td>5</td>\n",
       "      <td>44</td>\n",
       "      <td>31</td>\n",
       "      <td>35</td>\n",
       "    </tr>\n",
       "  </tbody>\n",
       "</table>\n",
       "</div>"
      ],
      "text/plain": [
       "    Id   X   Y   Z\n",
       "36  36  53  36  35\n",
       "12  12  49  33  21\n",
       "24  24  49  30  24\n",
       "26  26  38  36  13\n",
       "15  15  49  24  30\n",
       "39  39  42  40  29\n",
       "6    6  63  51  28\n",
       "7    7  63  42  26\n",
       "8    8  47  29  23\n",
       "9    9  47  41  25\n",
       "10  10  47  32  15\n",
       "11  11  43  37  23\n",
       "0    0  59  37  31\n",
       "13  13  34  20  18\n",
       "14  14  38  21  12\n",
       "2    2  56  47  35\n",
       "16  16  36  29  16\n",
       "17  17  52  39  25\n",
       "18  18  43  29  25\n",
       "19  19  41  24  12\n",
       "20  20  62  38  33\n",
       "21  21  47  31  30\n",
       "22  22  45  34  17\n",
       "23  23  30  21  19\n",
       "3    3  64  43  26\n",
       "25  25  58  38  29\n",
       "4    4  40  29  27\n",
       "27  27  59  39  20\n",
       "28  28  46  32  25\n",
       "29  29  44  33  25\n",
       "30  30  46  21  23\n",
       "31  31  76  48  36\n",
       "32  32  50  35  22\n",
       "33  33  47  40  21\n",
       "34  34  45  40  31\n",
       "35  35  42  28  15\n",
       "37  37  29  15  18\n",
       "38  38  37  31  12\n",
       "5    5  44  31  35"
      ]
     },
     "execution_count": 15,
     "metadata": {},
     "output_type": "execute_result"
    }
   ],
   "source": [
    "dataset.iloc[iter_log[1]['neighbors']]"
   ]
  },
  {
   "cell_type": "code",
   "execution_count": 16,
   "id": "e29b33fe",
   "metadata": {
    "scrolled": true
   },
   "outputs": [
    {
     "name": "stdout",
     "output_type": "stream",
     "text": [
      "Target values:[35, 21, 24, 13, 30, 29, 28, 26, 23, 25, 15, 23, 31, 18, 12, 35, 16, 25, 25, 12, 33, 30, 17, 19, 26, 29, 27, 20, 25, 25, 23, 36, 22, 21, 31, 15, 18, 12, 35]\n"
     ]
    }
   ],
   "source": [
    "print('Target values:' + str(list(dataset.iloc[iter_log[1]['neighbors']]['Z'])))"
   ]
  },
  {
   "cell_type": "code",
   "execution_count": 17,
   "id": "2ec709eb",
   "metadata": {},
   "outputs": [
    {
     "name": "stdout",
     "output_type": "stream",
     "text": [
      "Mark bit is 0, therefore we sample from tails of distribution of the variable Z in the neighbourhood.\n"
     ]
    }
   ],
   "source": [
    "mark_bit = iter_log[0]['mark_bit']\n",
    "print('Mark bit is {}, therefore we sample from tails of distribution of the variable Z in the neighbourhood.'.format(mark_bit))"
   ]
  },
  {
   "cell_type": "code",
   "execution_count": 18,
   "id": "9c7748b7",
   "metadata": {},
   "outputs": [
    {
     "data": {
      "image/png": "[encoded data removed]",
      "text/plain": [
       "<Figure size 640x480 with 1 Axes>"
      ]
     },
     "metadata": {},
     "output_type": "display_data"
    },
    {
     "data": {
      "text/plain": [
       "array([29.46914676])"
      ]
     },
     "execution_count": 18,
     "metadata": {},
     "output_type": "execute_result"
    }
   ],
   "source": [
    "sample_from_area(data=list(dataset.iloc[iter_log[1]['neighbors']]['Z']), percent=0.75, dense=mark_bit, plot=True, \n",
    "                 seed=iter_log[1]['seed'])"
   ]
  },
  {
   "cell_type": "code",
   "execution_count": 19,
   "id": "6bac9a0f",
   "metadata": {},
   "outputs": [
    {
     "data": {
      "text/plain": [
       "29"
      ]
     },
     "execution_count": 19,
     "metadata": {},
     "output_type": "execute_result"
    }
   ],
   "source": [
    "iter_log[1]['new_value']"
   ]
  },
  {
   "cell_type": "code",
   "execution_count": 20,
   "id": "23e1f560",
   "metadata": {},
   "outputs": [
    {
     "data": {
      "text/html": [
       "<div>\n",
       "<style scoped>\n",
       "    .dataframe tbody tr th:only-of-type {\n",
       "        vertical-align: middle;\n",
       "    }\n",
       "\n",
       "    .dataframe tbody tr th {\n",
       "        vertical-align: top;\n",
       "    }\n",
       "\n",
       "    .dataframe thead th {\n",
       "        text-align: right;\n",
       "    }\n",
       "</style>\n",
       "<table border=\"1\" class=\"dataframe\">\n",
       "  <thead>\n",
       "    <tr style=\"text-align: right;\">\n",
       "      <th></th>\n",
       "      <th>Id</th>\n",
       "      <th>X</th>\n",
       "      <th>Y</th>\n",
       "      <th>Z</th>\n",
       "    </tr>\n",
       "  </thead>\n",
       "  <tbody>\n",
       "    <tr>\n",
       "      <th>1</th>\n",
       "      <td>1</td>\n",
       "      <td>49</td>\n",
       "      <td>36</td>\n",
       "      <td>29</td>\n",
       "    </tr>\n",
       "  </tbody>\n",
       "</table>\n",
       "</div>"
      ],
      "text/plain": [
       "   Id   X   Y   Z\n",
       "1   1  49  36  29"
      ]
     },
     "execution_count": 20,
     "metadata": {},
     "output_type": "execute_result"
    }
   ],
   "source": [
    "fingerprinted_data.iloc[[1]]"
   ]
  },
  {
   "cell_type": "markdown",
   "id": "d202182e",
   "metadata": {},
   "source": [
    "### Step 3: <a class=\"anchor\" id=\"i-step-3\"></a>\n",
    "#### Marking position: \n",
    "- Marking row 2, attribute \"Z\""
   ]
  },
  {
   "cell_type": "code",
   "execution_count": 21,
   "id": "847fd4c4",
   "metadata": {},
   "outputs": [
    {
     "name": "stdout",
     "output_type": "stream",
     "text": [
      "Marking record no. 2\n",
      "Marking attribute: Z\n"
     ]
    },
    {
     "data": {
      "text/html": [
       "<div>\n",
       "<style scoped>\n",
       "    .dataframe tbody tr th:only-of-type {\n",
       "        vertical-align: middle;\n",
       "    }\n",
       "\n",
       "    .dataframe tbody tr th {\n",
       "        vertical-align: top;\n",
       "    }\n",
       "\n",
       "    .dataframe thead th {\n",
       "        text-align: right;\n",
       "    }\n",
       "</style>\n",
       "<table border=\"1\" class=\"dataframe\">\n",
       "  <thead>\n",
       "    <tr style=\"text-align: right;\">\n",
       "      <th></th>\n",
       "      <th>Id</th>\n",
       "      <th>X</th>\n",
       "      <th>Y</th>\n",
       "      <th>Z</th>\n",
       "    </tr>\n",
       "  </thead>\n",
       "  <tbody>\n",
       "    <tr>\n",
       "      <th>2</th>\n",
       "      <td>2</td>\n",
       "      <td>56</td>\n",
       "      <td>47</td>\n",
       "      <td>35</td>\n",
       "    </tr>\n",
       "  </tbody>\n",
       "</table>\n",
       "</div>"
      ],
      "text/plain": [
       "   Id   X   Y   Z\n",
       "2   2  56  47  35"
      ]
     },
     "execution_count": 21,
     "metadata": {},
     "output_type": "execute_result"
    }
   ],
   "source": [
    "print(\"Marking record no. \" + str(iter_log[2]['row_index'])) # --> 0\n",
    "print(\"Marking attribute: \" + str(iter_log[2]['attribute'])) # --> Y\n",
    "dataset.iloc[[2]]"
   ]
  },
  {
   "cell_type": "markdown",
   "id": "d2b36a6f",
   "metadata": {},
   "source": [
    "#### Neighbourhood: \n",
    "- Correlated attributes: X, Y  (we are marking Z, so checking all attributes to define the neighbourhood)\n",
    "- Neighbourhood size: 1.0\n",
    "- Max distance (hamming): 0"
   ]
  },
  {
   "cell_type": "code",
   "execution_count": 22,
   "id": "3e9f92af",
   "metadata": {},
   "outputs": [
    {
     "name": "stdout",
     "output_type": "stream",
     "text": [
      "Neighbours idx: [36, 12, 24, 26, 15, 39, 6, 7, 8, 9, 10, 11, 0, 13, 14, 2, 16, 17, 18, 19, 20, 21, 22, 23, 3, 25, 4, 27, 28, 29, 30, 31, 32, 33, 34, 35, 37, 38, 5]\n",
      "Neighbours dist: [0.5, 0.5, 0.5, 0.5, 0.5, 1.0, 1.0, 1.0, 1.0, 1.0, 1.0, 1.0, 1.0, 1.0, 1.0, 1.0, 1.0, 1.0, 1.0, 1.0, 1.0, 1.0, 1.0, 1.0, 1.0, 1.0, 1.0, 1.0, 1.0, 1.0, 1.0, 1.0, 1.0, 1.0, 1.0, 1.0, 1.0, 1.0, 1.0]\n"
     ]
    }
   ],
   "source": [
    "print('Neighbours idx: ' + str(iter_log[1]['neighbors']))\n",
    "print('Neighbours dist: ' + str(iter_log[1]['dist']))"
   ]
  },
  {
   "cell_type": "code",
   "execution_count": 23,
   "id": "f8cb1412",
   "metadata": {},
   "outputs": [
    {
     "name": "stdout",
     "output_type": "stream",
     "text": [
      "Target values:[29, 20, 31, 26, 27, 35, 28, 26, 23, 25, 15, 23, 21, 18, 12, 30, 16, 25, 25, 12, 33, 30, 17, 19, 24, 29, 13, 20, 25, 25, 23, 36, 22, 21, 31, 15, 18, 12, 35]\n"
     ]
    }
   ],
   "source": [
    "print('Target values:' + str(list(dataset.iloc[iter_log[2]['neighbors']]['Z'])))"
   ]
  },
  {
   "cell_type": "code",
   "execution_count": 24,
   "id": "b21554a5",
   "metadata": {},
   "outputs": [
    {
     "name": "stdout",
     "output_type": "stream",
     "text": [
      "Mark bit is 0, therefore we sample from tails of distribution of the variable Z in the neighbourhood.\n"
     ]
    }
   ],
   "source": [
    "mark_bit = iter_log[2]['mark_bit']\n",
    "print('Mark bit is {}, therefore we sample from tails of distribution of the variable Z in the neighbourhood.'.format(mark_bit))"
   ]
  },
  {
   "cell_type": "code",
   "execution_count": 25,
   "id": "0ce164d1",
   "metadata": {},
   "outputs": [
    {
     "data": {
      "image/png": "[encoded data removed]",
      "text/plain": [
       "<Figure size 640x480 with 1 Axes>"
      ]
     },
     "metadata": {},
     "output_type": "display_data"
    },
    {
     "data": {
      "text/plain": [
       "array([31.05851302])"
      ]
     },
     "execution_count": 25,
     "metadata": {},
     "output_type": "execute_result"
    }
   ],
   "source": [
    "sample_from_area(data=list(dataset.iloc[iter_log[2]['neighbors']]['Z']), percent=0.75, dense=mark_bit, plot=True, \n",
    "                 seed=iter_log[2]['seed'])"
   ]
  },
  {
   "cell_type": "code",
   "execution_count": 26,
   "id": "73e689f6",
   "metadata": {},
   "outputs": [
    {
     "name": "stdout",
     "output_type": "stream",
     "text": [
      "31\n"
     ]
    },
    {
     "data": {
      "text/html": [
       "<div>\n",
       "<style scoped>\n",
       "    .dataframe tbody tr th:only-of-type {\n",
       "        vertical-align: middle;\n",
       "    }\n",
       "\n",
       "    .dataframe tbody tr th {\n",
       "        vertical-align: top;\n",
       "    }\n",
       "\n",
       "    .dataframe thead th {\n",
       "        text-align: right;\n",
       "    }\n",
       "</style>\n",
       "<table border=\"1\" class=\"dataframe\">\n",
       "  <thead>\n",
       "    <tr style=\"text-align: right;\">\n",
       "      <th></th>\n",
       "      <th>Id</th>\n",
       "      <th>X</th>\n",
       "      <th>Y</th>\n",
       "      <th>Z</th>\n",
       "    </tr>\n",
       "  </thead>\n",
       "  <tbody>\n",
       "    <tr>\n",
       "      <th>2</th>\n",
       "      <td>2</td>\n",
       "      <td>56</td>\n",
       "      <td>47</td>\n",
       "      <td>31</td>\n",
       "    </tr>\n",
       "  </tbody>\n",
       "</table>\n",
       "</div>"
      ],
      "text/plain": [
       "   Id   X   Y   Z\n",
       "2   2  56  47  31"
      ]
     },
     "execution_count": 26,
     "metadata": {},
     "output_type": "execute_result"
    }
   ],
   "source": [
    "print(iter_log[2]['new_value'])\n",
    "fingerprinted_data.iloc[[2]]"
   ]
  },
  {
   "cell_type": "markdown",
   "id": "786475ff",
   "metadata": {},
   "source": [
    "### Step 4: <a class=\"anchor\" id=\"i-step-3\"></a>"
   ]
  },
  {
   "cell_type": "code",
   "execution_count": 27,
   "id": "747b3583",
   "metadata": {},
   "outputs": [],
   "source": [
    "iter = 3"
   ]
  },
  {
   "cell_type": "code",
   "execution_count": 28,
   "id": "022e3a97",
   "metadata": {},
   "outputs": [
    {
     "name": "stdout",
     "output_type": "stream",
     "text": [
      "Marking record no. 3\n",
      "Marking attribute: X\n"
     ]
    },
    {
     "data": {
      "text/html": [
       "<div>\n",
       "<style scoped>\n",
       "    .dataframe tbody tr th:only-of-type {\n",
       "        vertical-align: middle;\n",
       "    }\n",
       "\n",
       "    .dataframe tbody tr th {\n",
       "        vertical-align: top;\n",
       "    }\n",
       "\n",
       "    .dataframe thead th {\n",
       "        text-align: right;\n",
       "    }\n",
       "</style>\n",
       "<table border=\"1\" class=\"dataframe\">\n",
       "  <thead>\n",
       "    <tr style=\"text-align: right;\">\n",
       "      <th></th>\n",
       "      <th>Id</th>\n",
       "      <th>X</th>\n",
       "      <th>Y</th>\n",
       "      <th>Z</th>\n",
       "    </tr>\n",
       "  </thead>\n",
       "  <tbody>\n",
       "    <tr>\n",
       "      <th>3</th>\n",
       "      <td>3</td>\n",
       "      <td>64</td>\n",
       "      <td>43</td>\n",
       "      <td>26</td>\n",
       "    </tr>\n",
       "  </tbody>\n",
       "</table>\n",
       "</div>"
      ],
      "text/plain": [
       "   Id   X   Y   Z\n",
       "3   3  64  43  26"
      ]
     },
     "execution_count": 28,
     "metadata": {},
     "output_type": "execute_result"
    }
   ],
   "source": [
    "print(\"Marking record no. \" + str(iter_log[iter]['row_index'])) # --> 3\n",
    "print(\"Marking attribute: \" + str(iter_log[iter]['attribute'])) # --> X\n",
    "dataset.iloc[[iter]]"
   ]
  },
  {
   "cell_type": "code",
   "execution_count": 29,
   "id": "563dcce3",
   "metadata": {},
   "outputs": [
    {
     "name": "stdout",
     "output_type": "stream",
     "text": [
      "Neighbours idx: [7, 9, 39, 33, 34, 2, 17, 27, 31, 20, 25]\n",
      "Neighbours dist: [1.0, 2.0, 3.0, 3.0, 3.0, 4.0, 4.0, 4.0, 5.0, 5.0, 5.0]\n"
     ]
    }
   ],
   "source": [
    "print('Neighbours idx: ' + str(iter_log[iter]['neighbors']))\n",
    "print('Neighbours dist: ' + str(iter_log[iter]['dist']))"
   ]
  },
  {
   "cell_type": "code",
   "execution_count": 30,
   "id": "d974aa43",
   "metadata": {},
   "outputs": [
    {
     "name": "stdout",
     "output_type": "stream",
     "text": [
      "Target values:[63, 47, 42, 47, 45, 56, 52, 59, 76, 62, 58]\n"
     ]
    }
   ],
   "source": [
    "print('Target values:' + str(list(dataset.iloc[iter_log[iter]['neighbors']][iter_log[iter]['attribute']])))"
   ]
  },
  {
   "cell_type": "code",
   "execution_count": 31,
   "id": "257885a5",
   "metadata": {},
   "outputs": [
    {
     "name": "stdout",
     "output_type": "stream",
     "text": [
      "Mark bit is 1, therefore we sample from the dense part of distribution of the variable Z in the neighbourhood.\n"
     ]
    }
   ],
   "source": [
    "mark_bit = iter_log[iter]['mark_bit']\n",
    "print('Mark bit is {}, therefore we sample from the dense part of distribution of the variable Z in the neighbourhood.'.format(mark_bit))"
   ]
  },
  {
   "cell_type": "code",
   "execution_count": 32,
   "id": "ccf9a4a9",
   "metadata": {},
   "outputs": [
    {
     "data": {
      "image/png": "[encoded data removed]",
      "text/plain": [
       "<Figure size 640x480 with 1 Axes>"
      ]
     },
     "metadata": {},
     "output_type": "display_data"
    },
    {
     "data": {
      "text/plain": [
       "array([53.43511869])"
      ]
     },
     "execution_count": 32,
     "metadata": {},
     "output_type": "execute_result"
    }
   ],
   "source": [
    "sample_from_area(data=list(dataset.iloc[iter_log[iter]['neighbors']][iter_log[iter]['attribute']]), percent=0.75, \n",
    "                 dense=mark_bit, plot=True, seed=iter_log[iter]['seed'])"
   ]
  },
  {
   "cell_type": "code",
   "execution_count": 33,
   "id": "24e93ffb",
   "metadata": {},
   "outputs": [
    {
     "name": "stdout",
     "output_type": "stream",
     "text": [
      "52\n"
     ]
    },
    {
     "data": {
      "text/html": [
       "<div>\n",
       "<style scoped>\n",
       "    .dataframe tbody tr th:only-of-type {\n",
       "        vertical-align: middle;\n",
       "    }\n",
       "\n",
       "    .dataframe tbody tr th {\n",
       "        vertical-align: top;\n",
       "    }\n",
       "\n",
       "    .dataframe thead th {\n",
       "        text-align: right;\n",
       "    }\n",
       "</style>\n",
       "<table border=\"1\" class=\"dataframe\">\n",
       "  <thead>\n",
       "    <tr style=\"text-align: right;\">\n",
       "      <th></th>\n",
       "      <th>Id</th>\n",
       "      <th>X</th>\n",
       "      <th>Y</th>\n",
       "      <th>Z</th>\n",
       "    </tr>\n",
       "  </thead>\n",
       "  <tbody>\n",
       "    <tr>\n",
       "      <th>3</th>\n",
       "      <td>3</td>\n",
       "      <td>52</td>\n",
       "      <td>43</td>\n",
       "      <td>26</td>\n",
       "    </tr>\n",
       "  </tbody>\n",
       "</table>\n",
       "</div>"
      ],
      "text/plain": [
       "   Id   X   Y   Z\n",
       "3   3  52  43  26"
      ]
     },
     "execution_count": 33,
     "metadata": {},
     "output_type": "execute_result"
    }
   ],
   "source": [
    "print(iter_log[iter]['new_value'])\n",
    "fingerprinted_data.iloc[[iter]]"
   ]
  },
  {
   "cell_type": "code",
   "execution_count": 34,
   "id": "46a0b43d",
   "metadata": {},
   "outputs": [],
   "source": [
    "def show_iteration(iter):\n",
    "    print(\"Marking record no. \" + str(iter_log[iter]['row_index'])) \n",
    "    print(\"Marking attribute: \" + str(iter_log[iter]['attribute'])) \n",
    "    print(\"The record to mark: \\n\" + str(dataset.iloc[[iter]]))\n",
    "    print('------------------------------------------------------------------------------------------------------------------')\n",
    "    if iter_log[iter]['attribute'] in correlated_attributes:\n",
    "        other = list(correlated_attributes); other.remove(iter_log[iter]['attribute'])\n",
    "        print('Neighbourhood: ' +str(iter_log[iter]['attribute']) + ' is correlated to '+ str(other)+ ' so we are finding the records with most similar values to ' + str(other) + '=' + str(dataset.iloc[iter][other[0]]))\n",
    "    else: \n",
    "        print('Neighbourhood: ' + str(iter_log[iter]['attribute']) + ' is not a correlated attribute, so we are including all attributes to find the closest neighbourhood.')\n",
    "    print('Neighbours idx: ' + str(iter_log[iter]['neighbors']))\n",
    "    print('Neighbours dist: ' + str(iter_log[iter]['dist']))\n",
    "    print('Neighbours values:' + str(list(dataset.iloc[iter_log[iter]['neighbors']]['X'])))  \n",
    "    print('Now we look at the values of attribute ' + str(iter_log[iter]['attribute']) + ' in this neighbourhood, and among these is our potential new value.')\n",
    "    print('Target values:' + str(list(dataset.iloc[iter_log[iter]['neighbors']][iter_log[iter]['attribute']])))\n",
    "    print('------------------------------------------------------------------------------------------------------------------')\n",
    "    print('We look at the distribution of target values to sample one new value')\n",
    "    mark_bit = iter_log[iter]['mark_bit']\n",
    "    if mark_bit == 1:\n",
    "        print('Mark bit is {}, therefore we sample from the dense part of distribution of the variable {} in the neighbourhood.'.format(mark_bit, iter_log[iter]['attribute']))\n",
    "    else:\n",
    "        print('Mark bit is {}, therefore we sample from tails of distribution of the variable {} in the neighbourhood.'.format(mark_bit, iter_log[iter]['attribute']))\n",
    "    sample_from_area(data=list(dataset.iloc[iter_log[iter]['neighbors']][iter_log[iter]['attribute']]), percent=0.75, \n",
    "                 dense=mark_bit, plot=True, seed=iter_log[iter]['seed'])\n",
    "    print(\"The sampled value is rounded to the closest existing value from the data (to avoid perceptibility of marks) and is: \" + str(iter_log[iter]['new_value']))\n",
    "    print(\"The fingerprinted record is:\")\n",
    "    print(fingerprinted_data.iloc[[iter]])"
   ]
  },
  {
   "cell_type": "code",
   "execution_count": 35,
   "id": "c11552ba",
   "metadata": {},
   "outputs": [
    {
     "name": "stdout",
     "output_type": "stream",
     "text": [
      "Marking record no. 0\n",
      "Marking attribute: Y\n",
      "The record to mark: \n",
      "   Id   X   Y   Z\n",
      "0   0  59  37  31\n",
      "------------------------------------------------------------------------------------------------------------------\n",
      "Neighbourhood: Y is correlated to ['X'] so we are finding the records with most similar values to ['X']=59\n",
      "Neighbours idx: [0, 25, 2, 20, 6, 7, 3, 36, 17, 32]\n",
      "Neighbours dist: [0.0, 1.0, 3.0, 3.0, 4.0, 4.0, 5.0, 6.0, 7.0, 9.0]\n",
      "Neighbours values:[59, 58, 56, 62, 63, 63, 64, 53, 52, 50]\n",
      "Now we look at the values of attribute Y in this neighbourhood, and among these is our potential new value.\n",
      "Target values:[37, 38, 47, 38, 51, 42, 43, 36, 39, 35]\n",
      "------------------------------------------------------------------------------------------------------------------\n",
      "We look at the distribution of target values to sample one new value\n",
      "Mark bit is 0, therefore we sample from tails of distribution of the variable Y in the neighbourhood.\n"
     ]
    },
    {
     "data": {
      "image/png": "[encoded data removed]",
      "text/plain": [
       "<Figure size 640x480 with 1 Axes>"
      ]
     },
     "metadata": {},
     "output_type": "display_data"
    },
    {
     "name": "stdout",
     "output_type": "stream",
     "text": [
      "The sampled value is rounded to the closest existing value from the data (to avoid perceptibility of marks) and is: 42\n",
      "The fingerprinted record is:\n",
      "   Id   X   Y   Z\n",
      "0   0  59  42  31\n"
     ]
    }
   ],
   "source": [
    "show_iteration(0)"
   ]
  },
  {
   "cell_type": "markdown",
   "id": "e793050d",
   "metadata": {},
   "source": [
    "## 2. Detection Algorithm <a class=\"anchor\" id=\"detection\"></a>\n",
    "Detection algorithm takes as input the fingerpirnted dataset and following parameters:\n",
    "- owner's secret key\n",
    "- gamma (original ratio of marked rows), length of the fingerprint\n",
    "- a list of marked attribute names\n",
    "- a list of correlated attributes\n",
    "- whether the algorithm is distance based (_d_ -- max distance for the neighbourhood) or cardinality based (_k_ -- min cardinality of the neighbourhood)"
   ]
  },
  {
   "cell_type": "code",
   "execution_count": 36,
   "id": "2dab2c79",
   "metadata": {},
   "outputs": [
    {
     "data": {
      "text/html": [
       "<div>\n",
       "<style scoped>\n",
       "    .dataframe tbody tr th:only-of-type {\n",
       "        vertical-align: middle;\n",
       "    }\n",
       "\n",
       "    .dataframe tbody tr th {\n",
       "        vertical-align: top;\n",
       "    }\n",
       "\n",
       "    .dataframe thead th {\n",
       "        text-align: right;\n",
       "    }\n",
       "</style>\n",
       "<table border=\"1\" class=\"dataframe\">\n",
       "  <thead>\n",
       "    <tr style=\"text-align: right;\">\n",
       "      <th></th>\n",
       "      <th>Id</th>\n",
       "      <th>X</th>\n",
       "      <th>Y</th>\n",
       "      <th>Z</th>\n",
       "    </tr>\n",
       "  </thead>\n",
       "  <tbody>\n",
       "    <tr>\n",
       "      <th>0</th>\n",
       "      <td>0</td>\n",
       "      <td>59</td>\n",
       "      <td>42</td>\n",
       "      <td>31</td>\n",
       "    </tr>\n",
       "    <tr>\n",
       "      <th>1</th>\n",
       "      <td>1</td>\n",
       "      <td>49</td>\n",
       "      <td>36</td>\n",
       "      <td>29</td>\n",
       "    </tr>\n",
       "    <tr>\n",
       "      <th>2</th>\n",
       "      <td>2</td>\n",
       "      <td>56</td>\n",
       "      <td>47</td>\n",
       "      <td>31</td>\n",
       "    </tr>\n",
       "    <tr>\n",
       "      <th>3</th>\n",
       "      <td>3</td>\n",
       "      <td>52</td>\n",
       "      <td>43</td>\n",
       "      <td>26</td>\n",
       "    </tr>\n",
       "    <tr>\n",
       "      <th>4</th>\n",
       "      <td>4</td>\n",
       "      <td>40</td>\n",
       "      <td>28</td>\n",
       "      <td>27</td>\n",
       "    </tr>\n",
       "    <tr>\n",
       "      <th>5</th>\n",
       "      <td>5</td>\n",
       "      <td>46</td>\n",
       "      <td>31</td>\n",
       "      <td>35</td>\n",
       "    </tr>\n",
       "    <tr>\n",
       "      <th>6</th>\n",
       "      <td>6</td>\n",
       "      <td>47</td>\n",
       "      <td>51</td>\n",
       "      <td>28</td>\n",
       "    </tr>\n",
       "    <tr>\n",
       "      <th>7</th>\n",
       "      <td>7</td>\n",
       "      <td>63</td>\n",
       "      <td>42</td>\n",
       "      <td>22</td>\n",
       "    </tr>\n",
       "    <tr>\n",
       "      <th>8</th>\n",
       "      <td>8</td>\n",
       "      <td>47</td>\n",
       "      <td>24</td>\n",
       "      <td>23</td>\n",
       "    </tr>\n",
       "    <tr>\n",
       "      <th>9</th>\n",
       "      <td>9</td>\n",
       "      <td>63</td>\n",
       "      <td>41</td>\n",
       "      <td>25</td>\n",
       "    </tr>\n",
       "  </tbody>\n",
       "</table>\n",
       "</div>"
      ],
      "text/plain": [
       "   Id   X   Y   Z\n",
       "0   0  59  42  31\n",
       "1   1  49  36  29\n",
       "2   2  56  47  31\n",
       "3   3  52  43  26\n",
       "4   4  40  28  27\n",
       "5   5  46  31  35\n",
       "6   6  47  51  28\n",
       "7   7  63  42  22\n",
       "8   8  47  24  23\n",
       "9   9  63  41  25"
      ]
     },
     "execution_count": 36,
     "metadata": {},
     "output_type": "execute_result"
    }
   ],
   "source": [
    "fingerprinted_data.head(10)"
   ]
  },
  {
   "cell_type": "code",
   "execution_count": 37,
   "id": "849db65c",
   "metadata": {},
   "outputs": [
    {
     "name": "stdout",
     "output_type": "stream",
     "text": [
      "Start demo NCorr fingerprint detection algorithm ...\n",
      "\tgamma: 1\n",
      "\tcorrelated attributes: ['X', 'Y']\n",
      "Training balltrees in: 0.01 sec.\n",
      "Fingerprint detected: 00012120\n",
      "None suspected.\n",
      "Runtime: 0 ms.\n"
     ]
    }
   ],
   "source": [
    "# 1st position where the mark -should- be\n",
    "suspect, det_iter_log = scheme.demo_detection(fingerprinted_data, secret_key=101, primary_key='Id',\n",
    "                               correlated_attributes=correlated_attributes,\n",
    "                               original_columns=[\"X\", \"Y\", \"Z\"])"
   ]
  },
  {
   "cell_type": "markdown",
   "id": "173c5016",
   "metadata": {},
   "source": [
    "The detected fingerprint is correct and attributed to the correct recipient, hence, the detection was successful. \n",
    "\n",
    "\n",
    "The detection reverses the insertion process. This means that each step from detection should match the respective step from the insertion in terms of choosing the same marking row, attribute, and a fingerprint bit. \n",
    "Let's inspect the steps:"
   ]
  },
  {
   "cell_type": "markdown",
   "id": "cabcc865",
   "metadata": {},
   "source": [
    "### Step 1 <a class=\"anchor\" id=\"d-step-1\"></a>\n",
    "#### Marking position: \n",
    "- Marking row: 0\n",
    "- Marking attribute: _Y_\n",
    "- Value at the position: 42"
   ]
  },
  {
   "cell_type": "code",
   "execution_count": 38,
   "id": "2d09347b",
   "metadata": {
    "scrolled": true
   },
   "outputs": [
    {
     "name": "stdout",
     "output_type": "stream",
     "text": [
      "0\n",
      "Y\n"
     ]
    },
    {
     "data": {
      "text/html": [
       "<div>\n",
       "<style scoped>\n",
       "    .dataframe tbody tr th:only-of-type {\n",
       "        vertical-align: middle;\n",
       "    }\n",
       "\n",
       "    .dataframe tbody tr th {\n",
       "        vertical-align: top;\n",
       "    }\n",
       "\n",
       "    .dataframe thead th {\n",
       "        text-align: right;\n",
       "    }\n",
       "</style>\n",
       "<table border=\"1\" class=\"dataframe\">\n",
       "  <thead>\n",
       "    <tr style=\"text-align: right;\">\n",
       "      <th></th>\n",
       "      <th>Id</th>\n",
       "      <th>X</th>\n",
       "      <th>Y</th>\n",
       "      <th>Z</th>\n",
       "    </tr>\n",
       "  </thead>\n",
       "  <tbody>\n",
       "    <tr>\n",
       "      <th>0</th>\n",
       "      <td>0</td>\n",
       "      <td>59</td>\n",
       "      <td>42</td>\n",
       "      <td>31</td>\n",
       "    </tr>\n",
       "  </tbody>\n",
       "</table>\n",
       "</div>"
      ],
      "text/plain": [
       "   Id   X   Y   Z\n",
       "0   0  59  42  31"
      ]
     },
     "execution_count": 38,
     "metadata": {},
     "output_type": "execute_result"
    }
   ],
   "source": [
    "print(det_iter_log[0]['row_index']) # --> 0\n",
    "print(det_iter_log[0]['attribute']) # --> Y \n",
    "fingerprinted_data.iloc[[0]]"
   ]
  },
  {
   "cell_type": "code",
   "execution_count": 39,
   "id": "db827776",
   "metadata": {},
   "outputs": [],
   "source": [
    "fingerprinted_value = fingerprinted_data.iloc[det_iter_log[0]['row_index']][det_iter_log[0]['attribute']]"
   ]
  },
  {
   "cell_type": "markdown",
   "id": "5d49b58b",
   "metadata": {},
   "source": [
    "#### Neighbourhood: \n",
    "- Correlated attributes: _X, Y_\n",
    "- Neighbourhood size: 10\n",
    "- Max distance (minkowski): 7"
   ]
  },
  {
   "cell_type": "code",
   "execution_count": 40,
   "id": "efd8d99b",
   "metadata": {},
   "outputs": [
    {
     "name": "stdout",
     "output_type": "stream",
     "text": [
      "Neighbourhood distances: [0.0, 1.0, 3.0, 3.0, 3.0, 4.0, 4.0, 6.0, 7.0, 7.0, 7.0]\n",
      "Neighbourhood idx: [27, 25, 2, 33, 20, 9, 7, 32, 3, 39, 26]\n"
     ]
    }
   ],
   "source": [
    "print(\"Neighbourhood distances: \" + str(det_iter_log[0]['dist']))\n",
    "print(\"Neighbourhood idx: \" + str(det_iter_log[0]['neighbors']))"
   ]
  },
  {
   "cell_type": "code",
   "execution_count": 41,
   "id": "82449ff2",
   "metadata": {
    "scrolled": true
   },
   "outputs": [
    {
     "data": {
      "text/html": [
       "<div>\n",
       "<style scoped>\n",
       "    .dataframe tbody tr th:only-of-type {\n",
       "        vertical-align: middle;\n",
       "    }\n",
       "\n",
       "    .dataframe tbody tr th {\n",
       "        vertical-align: top;\n",
       "    }\n",
       "\n",
       "    .dataframe thead th {\n",
       "        text-align: right;\n",
       "    }\n",
       "</style>\n",
       "<table border=\"1\" class=\"dataframe\">\n",
       "  <thead>\n",
       "    <tr style=\"text-align: right;\">\n",
       "      <th></th>\n",
       "      <th>Id</th>\n",
       "      <th>X</th>\n",
       "      <th>Y</th>\n",
       "      <th>Z</th>\n",
       "    </tr>\n",
       "  </thead>\n",
       "  <tbody>\n",
       "    <tr>\n",
       "      <th>27</th>\n",
       "      <td>27</td>\n",
       "      <td>59</td>\n",
       "      <td>39</td>\n",
       "      <td>31</td>\n",
       "    </tr>\n",
       "    <tr>\n",
       "      <th>25</th>\n",
       "      <td>25</td>\n",
       "      <td>58</td>\n",
       "      <td>38</td>\n",
       "      <td>25</td>\n",
       "    </tr>\n",
       "    <tr>\n",
       "      <th>2</th>\n",
       "      <td>2</td>\n",
       "      <td>56</td>\n",
       "      <td>47</td>\n",
       "      <td>31</td>\n",
       "    </tr>\n",
       "    <tr>\n",
       "      <th>33</th>\n",
       "      <td>33</td>\n",
       "      <td>62</td>\n",
       "      <td>40</td>\n",
       "      <td>21</td>\n",
       "    </tr>\n",
       "    <tr>\n",
       "      <th>20</th>\n",
       "      <td>20</td>\n",
       "      <td>62</td>\n",
       "      <td>39</td>\n",
       "      <td>33</td>\n",
       "    </tr>\n",
       "    <tr>\n",
       "      <th>9</th>\n",
       "      <td>9</td>\n",
       "      <td>63</td>\n",
       "      <td>41</td>\n",
       "      <td>25</td>\n",
       "    </tr>\n",
       "    <tr>\n",
       "      <th>7</th>\n",
       "      <td>7</td>\n",
       "      <td>63</td>\n",
       "      <td>42</td>\n",
       "      <td>22</td>\n",
       "    </tr>\n",
       "    <tr>\n",
       "      <th>32</th>\n",
       "      <td>32</td>\n",
       "      <td>53</td>\n",
       "      <td>35</td>\n",
       "      <td>22</td>\n",
       "    </tr>\n",
       "    <tr>\n",
       "      <th>3</th>\n",
       "      <td>3</td>\n",
       "      <td>52</td>\n",
       "      <td>43</td>\n",
       "      <td>26</td>\n",
       "    </tr>\n",
       "    <tr>\n",
       "      <th>39</th>\n",
       "      <td>39</td>\n",
       "      <td>52</td>\n",
       "      <td>40</td>\n",
       "      <td>29</td>\n",
       "    </tr>\n",
       "    <tr>\n",
       "      <th>26</th>\n",
       "      <td>26</td>\n",
       "      <td>52</td>\n",
       "      <td>36</td>\n",
       "      <td>13</td>\n",
       "    </tr>\n",
       "  </tbody>\n",
       "</table>\n",
       "</div>"
      ],
      "text/plain": [
       "    Id   X   Y   Z\n",
       "27  27  59  39  31\n",
       "25  25  58  38  25\n",
       "2    2  56  47  31\n",
       "33  33  62  40  21\n",
       "20  20  62  39  33\n",
       "9    9  63  41  25\n",
       "7    7  63  42  22\n",
       "32  32  53  35  22\n",
       "3    3  52  43  26\n",
       "39  39  52  40  29\n",
       "26  26  52  36  13"
      ]
     },
     "execution_count": 41,
     "metadata": {},
     "output_type": "execute_result"
    }
   ],
   "source": [
    "# max(det_iter_log[0]['dist'])\n",
    "fingerprinted_data.iloc[det_iter_log[0]['neighbors']] "
   ]
  },
  {
   "cell_type": "code",
   "execution_count": 42,
   "id": "d22a4cd6",
   "metadata": {},
   "outputs": [
    {
     "name": "stdout",
     "output_type": "stream",
     "text": [
      "Target values:[39, 38, 47, 40, 38, 41, 42, 35, 43, 40, 36]\n"
     ]
    }
   ],
   "source": [
    "target_values_det = list(dataset.iloc[det_iter_log[0]['neighbors']][det_iter_log[0]['attribute']])\n",
    "print('Target values:' + str(target_values_det))"
   ]
  },
  {
   "cell_type": "markdown",
   "id": "d9eb193e",
   "metadata": {},
   "source": [
    "- Distribution in the neighbourhood."
   ]
  },
  {
   "cell_type": "code",
   "execution_count": 43,
   "id": "e397eabd",
   "metadata": {},
   "outputs": [],
   "source": [
    "from scipy.stats import gaussian_kde\n",
    "\n",
    "def values_for_plot_distribution(target_values):\n",
    "    data = target_values\n",
    "    kde = gaussian_kde(data)\n",
    "    # Create a range of values to evaluate the PDF\n",
    "    x = np.linspace(min(data), max(data), 1000)\n",
    "    pdf_values = kde(x)\n",
    "\n",
    "    threshold = np.percentile(pdf_values, 0.75*100)\n",
    "\n",
    "    mask = (pdf_values >= threshold)\n",
    "    # Re-normalize the masked PDF and CDF\n",
    "    masked_pdf = np.where(mask, pdf_values, 0)\n",
    "    masked_cdf = np.cumsum(masked_pdf)\n",
    "    masked_cdf /= masked_cdf[-1]\n",
    "    \n",
    "    return x, pdf_values, masked_pdf"
   ]
  },
  {
   "cell_type": "code",
   "execution_count": 44,
   "id": "f78374ff",
   "metadata": {},
   "outputs": [],
   "source": [
    "x_det, pdf_values_det, masked_pdf_det = values_for_plot_distribution(target_values_det)"
   ]
  },
  {
   "cell_type": "code",
   "execution_count": 45,
   "id": "6abcda4e",
   "metadata": {},
   "outputs": [],
   "source": [
    "target_values_ins = list(dataset.iloc[iter_log[0]['neighbors']][iter_log[0]['attribute']])\n",
    "x_ins, pdf_values_ins, masked_pdf_ins = values_for_plot_distribution(target_values_ins)"
   ]
  },
  {
   "cell_type": "code",
   "execution_count": 46,
   "id": "fc5d505c",
   "metadata": {},
   "outputs": [
    {
     "data": {
      "text/plain": [
       "<matplotlib.legend.Legend at 0x1abd8cfd510>"
      ]
     },
     "execution_count": 46,
     "metadata": {},
     "output_type": "execute_result"
    },
    {
     "data": {
      "image/png": "[encoded data removed]",
      "text/plain": [
       "<Figure size 1000x400 with 2 Axes>"
      ]
     },
     "metadata": {},
     "output_type": "display_data"
    }
   ],
   "source": [
    "fig, axs = plt.subplots(1, 2, sharey=True, sharex=True, figsize=(10,4))\n",
    "\n",
    "axs[0].plot(x_det, pdf_values_det, label='Original PDF\\n (estimate)')\n",
    "axs[0].plot(x_det, masked_pdf_det, label='Modified PDF\\n ({}th percentile)'.format(int(100*0.75)))\n",
    "axs[0].hist(target_values_det, bins=10, density=True, alpha=0.3, label='Neighbourhood\\n data points')\n",
    "axs[0].scatter(fingerprinted_value, 0, color='red', label='Marked value', zorder=5)\n",
    "axs[0].set_ylabel('Density')\n",
    "axs[0].set_xlabel('Values')\n",
    "axs[0].set_title('Fingerprinted data')\n",
    "axs[0].legend(prop={'size': 8})\n",
    "\n",
    "axs[1].plot(x_ins, pdf_values_ins, label='Original PDF\\n (estimate)')\n",
    "axs[1].plot(x_ins, masked_pdf_ins, label='Modified PDF\\n ({}th percentile)'.format(int(100*0.75)))\n",
    "axs[1].hist(target_values_ins, bins=10, density=True, alpha=0.3, label='Neighbourhood\\n data points')\n",
    "axs[1].scatter(iter_log[0]['new_value'], 0, color='red', label='Marked value', zorder=5)\n",
    "axs[1].set_ylabel('Density')\n",
    "axs[1].set_xlabel('Values')\n",
    "axs[1].set_title('Original data')\n",
    "axs[1].legend(prop={'size': 8})"
   ]
  },
  {
   "cell_type": "markdown",
   "id": "730bd434",
   "metadata": {},
   "source": [
    "On the left-hand side, we show the distribution of the neighbourhood in the fingerprinted data obtained during the detection. On the right-hand side we show the distribution of the neighbourhoods of the same record from the original data for comparison.\n",
    "\n",
    "Note that the neihghbourhood for the same record is not the same -- this is because the fingerprint marks disrupt calculating distances from the record in question. If the similar distribution is preserved, the fingerprint marks will be extracted correctly. The detection algorithm makes a decision on the fingerprint mark based on where the observed value falls within the distribution. If the obsrved value\n",
    "- falls into the dense area within the thresholds, the mark bit is detected as 0\n",
    "- falls outside of the thresholds into the tails of distribution, the mark bit is detected 0\n",
    "\n",
    "However, the shift in distribution might mean that _some_ marks might be detected wrongly."
   ]
  },
  {
   "cell_type": "markdown",
   "id": "40dceaf1",
   "metadata": {},
   "source": [
    "#### Detecting the mark:\n",
    "- Mark bit will be detected 0 --> the fingerprinted value falls within the tails of distribution outside of the 75th percentile threshold, hence the mark bit must have been 0 according to the insertion algorithm:  "
   ]
  },
  {
   "cell_type": "code",
   "execution_count": 47,
   "id": "93a2b35d",
   "metadata": {},
   "outputs": [
    {
     "data": {
      "text/plain": [
       "0"
      ]
     },
     "execution_count": 47,
     "metadata": {},
     "output_type": "execute_result"
    }
   ],
   "source": [
    "det_iter_log[0]['mark_bit'] # --> 0"
   ]
  },
  {
   "cell_type": "code",
   "execution_count": 48,
   "id": "279b29c8",
   "metadata": {},
   "outputs": [
    {
     "name": "stdout",
     "output_type": "stream",
     "text": [
      "Detected pseudorandomly in this step:\n",
      "\t- Mask bit: 0 (retrieved pseudorandomly in this step)\n",
      "\t- Finterprint bit position (index): 7\n",
      "\t- Fingerprint bit value: 0 (mark bit xor mask bit))\n"
     ]
    }
   ],
   "source": [
    "print(\"Detected pseudorandomly in this step:\")\n",
    "print(\"\\t- Mask bit: {} (retrieved pseudorandomly in this step)\".format(det_iter_log[0]['mask_bit']))\n",
    "print(\"\\t- Finterprint bit position (index): {}\".format(det_iter_log[0]['fingerprint_idx']))\n",
    "print(\"\\t- Fingerprint bit value: {} (mark bit xor mask bit))\".format(det_iter_log[0]['fingerprint_bit']))"
   ]
  },
  {
   "cell_type": "markdown",
   "id": "fc1c5d7c",
   "metadata": {},
   "source": [
    "The detection extracted a correct vote for fingerprint bit at position 7 to be 0 (this matches with the original fingerprint from embedding)."
   ]
  },
  {
   "cell_type": "markdown",
   "id": "cba4c161",
   "metadata": {},
   "source": [
    "### Step 2 <a class=\"anchor\" id=\"d-step-2\"></a>\n",
    "#### Marking position: \n",
    "- Marking row: 1\n",
    "- Marking attribute: _Z_\n",
    "- Value at the position: 29"
   ]
  },
  {
   "cell_type": "code",
   "execution_count": 49,
   "id": "7ab5ade1",
   "metadata": {},
   "outputs": [
    {
     "name": "stdout",
     "output_type": "stream",
     "text": [
      "1\n",
      "Z\n"
     ]
    },
    {
     "data": {
      "text/html": [
       "<div>\n",
       "<style scoped>\n",
       "    .dataframe tbody tr th:only-of-type {\n",
       "        vertical-align: middle;\n",
       "    }\n",
       "\n",
       "    .dataframe tbody tr th {\n",
       "        vertical-align: top;\n",
       "    }\n",
       "\n",
       "    .dataframe thead th {\n",
       "        text-align: right;\n",
       "    }\n",
       "</style>\n",
       "<table border=\"1\" class=\"dataframe\">\n",
       "  <thead>\n",
       "    <tr style=\"text-align: right;\">\n",
       "      <th></th>\n",
       "      <th>Id</th>\n",
       "      <th>X</th>\n",
       "      <th>Y</th>\n",
       "      <th>Z</th>\n",
       "    </tr>\n",
       "  </thead>\n",
       "  <tbody>\n",
       "    <tr>\n",
       "      <th>1</th>\n",
       "      <td>1</td>\n",
       "      <td>49</td>\n",
       "      <td>36</td>\n",
       "      <td>29</td>\n",
       "    </tr>\n",
       "  </tbody>\n",
       "</table>\n",
       "</div>"
      ],
      "text/plain": [
       "   Id   X   Y   Z\n",
       "1   1  49  36  29"
      ]
     },
     "execution_count": 49,
     "metadata": {},
     "output_type": "execute_result"
    }
   ],
   "source": [
    "print(det_iter_log[1]['row_index']) # --> 0\n",
    "print(det_iter_log[1]['attribute']) # --> Y \n",
    "fingerprinted_data.iloc[[1]]"
   ]
  },
  {
   "cell_type": "code",
   "execution_count": 50,
   "id": "5cdfa059",
   "metadata": {},
   "outputs": [
    {
     "data": {
      "text/plain": [
       "29"
      ]
     },
     "execution_count": 50,
     "metadata": {},
     "output_type": "execute_result"
    }
   ],
   "source": [
    "fingerprinted_value = fingerprinted_data.iloc[det_iter_log[1]['row_index']][det_iter_log[1]['attribute']]\n",
    "fingerprinted_value"
   ]
  },
  {
   "cell_type": "markdown",
   "id": "43632234",
   "metadata": {},
   "source": [
    "#### Neighbourhood: \n",
    "- Correlated attributes: _X, Y_\n",
    "- Neighbourhood size: 39\n",
    "- Max distance (minkowski): 1.0"
   ]
  },
  {
   "cell_type": "code",
   "execution_count": 51,
   "id": "f5715dc1",
   "metadata": {
    "scrolled": true
   },
   "outputs": [
    {
     "name": "stdout",
     "output_type": "stream",
     "text": [
      "Neighbourhood distances: [0.5, 0.5, 0.5, 0.5, 0.5, 1.0, 1.0, 1.0, 1.0, 1.0, 1.0, 1.0, 1.0, 1.0, 1.0, 1.0, 1.0, 1.0, 1.0, 1.0, 1.0, 1.0, 1.0, 1.0, 1.0, 1.0, 1.0, 1.0, 1.0, 1.0, 1.0, 1.0, 1.0, 1.0, 1.0, 1.0, 1.0, 1.0, 1.0]\n",
      "Neighbourhood idx: [36, 12, 24, 26, 15, 39, 6, 7, 8, 9, 10, 11, 0, 13, 14, 2, 16, 17, 18, 19, 20, 21, 22, 23, 3, 25, 4, 27, 28, 29, 30, 31, 32, 33, 34, 35, 37, 38, 5]\n"
     ]
    }
   ],
   "source": [
    "print(\"Neighbourhood distances: \" + str(det_iter_log[1]['dist']))\n",
    "print(\"Neighbourhood idx: \" + str(det_iter_log[1]['neighbors']))"
   ]
  },
  {
   "cell_type": "code",
   "execution_count": 52,
   "id": "e2f46b03",
   "metadata": {},
   "outputs": [
    {
     "name": "stdout",
     "output_type": "stream",
     "text": [
      "Target values:[35, 21, 24, 13, 30, 29, 28, 26, 23, 25, 15, 23, 31, 18, 12, 35, 16, 25, 25, 12, 33, 30, 17, 19, 26, 29, 27, 20, 25, 25, 23, 36, 22, 21, 31, 15, 18, 12, 35]\n"
     ]
    }
   ],
   "source": [
    "# max(det_iter_log[1]['dist'])\n",
    "# fingerprinted_data.iloc[det_iter_log[1]['neighbors']] \n",
    "target_values_det = list(dataset.iloc[det_iter_log[1]['neighbors']][det_iter_log[1]['attribute']])\n",
    "print('Target values:' + str(target_values_det))"
   ]
  },
  {
   "cell_type": "markdown",
   "id": "705d6bad",
   "metadata": {},
   "source": [
    "- Distribution in the neighbourhood:"
   ]
  },
  {
   "cell_type": "code",
   "execution_count": 53,
   "id": "4b65a709",
   "metadata": {},
   "outputs": [],
   "source": [
    "x_det, pdf_values_det, masked_pdf_det = values_for_plot_distribution(target_values_det)"
   ]
  },
  {
   "cell_type": "code",
   "execution_count": 54,
   "id": "c9c9d0a6",
   "metadata": {},
   "outputs": [],
   "source": [
    "target_values_ins = list(dataset.iloc[iter_log[1]['neighbors']][iter_log[1]['attribute']])\n",
    "x_ins, pdf_values_ins, masked_pdf_ins = values_for_plot_distribution(target_values_ins)"
   ]
  },
  {
   "cell_type": "code",
   "execution_count": 55,
   "id": "113c6daa",
   "metadata": {},
   "outputs": [
    {
     "data": {
      "text/plain": [
       "<matplotlib.legend.Legend at 0x1abd8e5ec50>"
      ]
     },
     "execution_count": 55,
     "metadata": {},
     "output_type": "execute_result"
    },
    {
     "data": {
      "image/png": "[encoded data removed]",
      "text/plain": [
       "<Figure size 1000x400 with 2 Axes>"
      ]
     },
     "metadata": {},
     "output_type": "display_data"
    }
   ],
   "source": [
    "fig, axs = plt.subplots(1, 2, sharey=True, sharex=True, figsize=(10,4))\n",
    "\n",
    "axs[0].plot(x_det, pdf_values_det, label='Original PDF\\n (estimate)')\n",
    "axs[0].plot(x_det, masked_pdf_det, label='Modified PDF\\n ({}th percentile)'.format(int(100*0.75)))\n",
    "axs[0].hist(target_values_det, bins=10, density=True, alpha=0.3, label='Neighbourhood\\n data points')\n",
    "axs[0].scatter(fingerprinted_value, 0, color='red', label='Marked value', zorder=5)\n",
    "axs[0].set_ylabel('Density')\n",
    "axs[0].set_xlabel('Values')\n",
    "axs[0].set_title('Fingerprinted data')\n",
    "axs[0].legend(prop={'size': 8})\n",
    "\n",
    "axs[1].plot(x_ins, pdf_values_ins, label='Original PDF\\n (estimate)')\n",
    "axs[1].plot(x_ins, masked_pdf_ins, label='Modified PDF\\n ({}th percentile)'.format(int(100*0.75)))\n",
    "axs[1].hist(target_values_ins, bins=10, density=True, alpha=0.3, label='Neighbourhood\\n data points')\n",
    "axs[1].scatter(iter_log[1]['new_value'], 0, color='red', label='Marked value', zorder=5)\n",
    "axs[1].set_ylabel('Density')\n",
    "axs[1].set_xlabel('Values')\n",
    "axs[1].set_title('Original data')\n",
    "axs[1].legend(prop={'size': 8})"
   ]
  },
  {
   "cell_type": "markdown",
   "id": "e326554d",
   "metadata": {},
   "source": [
    "The distribution is this time preserved from the original data, hence no confusion about the marking bit is made by the detection algorithm: "
   ]
  },
  {
   "cell_type": "markdown",
   "id": "2c18c55f",
   "metadata": {},
   "source": [
    "#### Detecting the mark:\n",
    "- Mark bit: 1 --> the fingerprinted value is the most represented in the neighbourhood, hence the mark bit must have been 1\n",
    "- Detected pseudorandomly in this step:\n",
    "    - Mask bit: 1 \n",
    "    - Finterprint bit position (index): 3\n",
    "- Fingerprint bit value: 0 (mark bit xor mask bit)"
   ]
  },
  {
   "cell_type": "code",
   "execution_count": 56,
   "id": "9087ed8f",
   "metadata": {},
   "outputs": [
    {
     "name": "stdout",
     "output_type": "stream",
     "text": [
      "1\n",
      "0\n",
      "7\n",
      "1\n"
     ]
    }
   ],
   "source": [
    "print(det_iter_log[1]['mark_bit']) # --> 0 (target value comes from the tails of distribution)\n",
    "print(det_iter_log[1]['mask_bit']) # --> 0 (pseudoranomly from PRNG)\n",
    "print(det_iter_log[1]['fingerprint_idx']) # --> 7 (from PRNG)\n",
    "print(det_iter_log[1]['fingerprint_bit']) # --> 0 (mark bit xor mask bit)\n",
    "\n",
    "# updating the votes for fingerprint \n",
    "# Image(\"NCorrFP_scheme/figures/CorNN-demo-Votes-step2.png\")"
   ]
  },
  {
   "cell_type": "code",
   "execution_count": 64,
   "id": "ee96ee60",
   "metadata": {},
   "outputs": [],
   "source": [
    "def show_detection_iteration(iteration):\n",
    "    print(\"Detecting from record at idx: \" + str(det_iter_log[iteration]['row_index']))\n",
    "    print(\"Detecting from attribute: \" + str(det_iter_log[iteration]['attribute']) )\n",
    "    print(fingerprinted_data.iloc[[iteration]])\n",
    "    fingerprinted_value = fingerprinted_data.iloc[det_iter_log[iteration]['row_index']][det_iter_log[iteration]['attribute']]\n",
    "    print('Fingerpritned value: ' + str(fingerprinted_value))\n",
    "    target_values_det = fingerprinted_data.iloc[det_iter_log[iteration]['neighbors']][det_iter_log[iteration]['attribute']].tolist()\n",
    "    print(\"----------------------------------------------------------\")\n",
    "    print(\"Obtaining neighbourhood....\")\n",
    "    print('Target values:' + str(target_values_det))\n",
    "    print(\"----------------------------------------------------------\")\n",
    "\n",
    "    x_det, pdf_values_det, masked_pdf_det = values_for_plot_distribution(target_values_det)\n",
    "    target_values_ins = list(dataset.iloc[iter_log[iteration]['neighbors']][iter_log[iteration]['attribute']])\n",
    "    x_ins, pdf_values_ins, masked_pdf_ins = values_for_plot_distribution(target_values_ins)\n",
    "    \n",
    "    fig, axs = plt.subplots(1, 2, sharey=True, sharex=True, figsize=(10,4))\n",
    "\n",
    "    axs[0].plot(x_det, pdf_values_det, label='Original PDF\\n (estimate)')\n",
    "    axs[0].plot(x_det, masked_pdf_det, label='Modified PDF\\n ({}th percentile)'.format(int(100*0.75)))\n",
    "    axs[0].hist(target_values_det, bins=10, density=True, alpha=0.3, label='Neighbourhood\\n data points')\n",
    "    axs[0].scatter(fingerprinted_value, 0, color='red', label='Marked value', zorder=5)\n",
    "    axs[0].set_ylabel('Density')\n",
    "    axs[0].set_xlabel('Values')\n",
    "    axs[0].set_title('Fingerprinted data')\n",
    "    axs[0].legend(prop={'size': 8})\n",
    "\n",
    "    axs[1].plot(x_ins, pdf_values_ins, label='Original PDF\\n (estimate)')\n",
    "    axs[1].plot(x_ins, masked_pdf_ins, label='Modified PDF\\n ({}th percentile)'.format(int(100*0.75)))\n",
    "    axs[1].hist(target_values_ins, bins=10, density=True, alpha=0.3, label='Neighbourhood\\n data points')\n",
    "    axs[1].scatter(iter_log[iteration]['new_value'], 0, color='red', label='Marked value', zorder=5)\n",
    "    axs[1].set_ylabel('Density')\n",
    "    axs[1].set_xlabel('Values')\n",
    "    axs[1].set_title('Original data')\n",
    "    axs[1].legend(prop={'size': 8})\n",
    "    \n",
    "    print(\"\\n--> Observing the distribution of target attribute {} below...\".format(det_iter_log[iteration]['attribute']))\n",
    "    message = ' (i.e. tails of distribution)' if det_iter_log[iteration]['mark_bit']==0 else ' (i.e. in densest area)'\n",
    "    print(\"Mark bit (where in distribution falls the target value?): \" + str(det_iter_log[iteration]['mark_bit']) + message)\n",
    "    print(\"Mask bit (from PRNG): \" + str(det_iter_log[iteration]['mask_bit']))\n",
    "    print(\"Fingerprint bit index (from PRNG): \" + str(det_iter_log[iteration]['fingerprint_idx']))\n",
    "    print(\"Fingerprint bit value (mark bit xor mask bit): \" + str(det_iter_log[iteration]['fingerprint_bit']))\n",
    "    \n",
    "    if det_iter_log[iteration]['fingerprint_bit'] == fingerprint[det_iter_log[iteration]['fingerprint_idx']]:\n",
    "        print('\\nFingerprint bit CORRECT :)')\n",
    "    else:\n",
    "        print('\\nFingerprint bit FALSE :( (it is just a wrong vote)')"
   ]
  },
  {
   "cell_type": "code",
   "execution_count": 80,
   "id": "1c53a201",
   "metadata": {
    "scrolled": false
   },
   "outputs": [
    {
     "name": "stdout",
     "output_type": "stream",
     "text": [
      "Detecting from record at idx: 16\n",
      "Detecting from attribute: Y\n",
      "    Id   X   Y   Z\n",
      "16  16  36  28  16\n",
      "Fingerpritned value: 28\n",
      "----------------------------------------------------------\n",
      "Obtaining neighbourhood....\n",
      "Target values:[28, 36, 28, 24, 34, 21, 21, 31, 20, 15, 37]\n",
      "----------------------------------------------------------\n",
      "\n",
      "--> Observing the distribution of target attribute Y below...\n",
      "Mark bit (where in distribution falls the target value?): 0 (i.e. tails of distribution)\n",
      "Mask bit (from PRNG): 0\n",
      "Fingerprint bit index (from PRNG): 4\n",
      "Fingerprint bit value (mark bit xor mask bit): 0\n",
      "\n",
      "Fingerprint bit FALSE :( (it is just a wrong vote)\n"
     ]
    },
    {
     "data": {
      "image/png": "[encoded data removed]",
      "text/plain": [
       "<Figure size 1000x400 with 2 Axes>"
      ]
     },
     "metadata": {},
     "output_type": "display_data"
    }
   ],
   "source": [
    "show_detection_iteration(16)"
   ]
  },
  {
   "cell_type": "code",
   "execution_count": null,
   "id": "175f6bba",
   "metadata": {},
   "outputs": [],
   "source": [
    "# Create a KDE based on the data (PDF estimation)\n",
    "data = [35, 21, 23, 13, 30, 29, 28, 22, 23, 25, 15, 29, 31, 18, 12, 31, 16, 25, 25, 22, 33, 30, 17, 19, 26, 25, 27, 31, 28, 25, 23, 36, 22, 21, 31, 15, 29, 12, 35]\n",
    "kde = gaussian_kde(data)\n",
    "\n",
    "# Create a range of values to evaluate the PDF\n",
    "x = np.linspace(min(data), max(data), 1000)\n",
    "pdf_values = kde(x)\n",
    "\n",
    "# Identify the threshold to exclude a percentage of the densest areas\n",
    "threshold = np.percentile(pdf_values, 0.75 * 100)\n",
    "mask = (pdf_values >= threshold)  # mask for the dense area "
   ]
  },
  {
   "cell_type": "code",
   "execution_count": null,
   "id": "3c23f5a5",
   "metadata": {},
   "outputs": [],
   "source": [
    "threshold"
   ]
  },
  {
   "cell_type": "code",
   "execution_count": null,
   "id": "6ec5d352",
   "metadata": {},
   "outputs": [],
   "source": [
    "area = dict(zip(np.round(x, 4), mask))"
   ]
  },
  {
   "cell_type": "code",
   "execution_count": null,
   "id": "bf4fd3f7",
   "metadata": {},
   "outputs": [],
   "source": [
    "# query 42 or the closest x to 42\n",
    "def query_area(area, point):\n",
    "    k = min(area.keys(), key=lambda x: abs(x - point))\n",
    "    return area[k]"
   ]
  },
  {
   "cell_type": "code",
   "execution_count": null,
   "id": "18dc15b4",
   "metadata": {},
   "outputs": [],
   "source": [
    "query_area(area, 46)"
   ]
  },
  {
   "cell_type": "code",
   "execution_count": null,
   "id": "6cd7073e",
   "metadata": {},
   "outputs": [],
   "source": [
    "plt.hist([35, 21, 24, 13, 30, 29, 28, 26, 23, 25, 15, 23, 31, 18, 12, 35, 16, 25, 25, 12, 33, 30, 17, 19, 26, 29, 27, 20, 25, 25, 23, 36, 22, 21, 31, 15, 18, 12, 35], bins=10, density=True)"
   ]
  },
  {
   "cell_type": "markdown",
   "id": "c9632f63",
   "metadata": {},
   "source": [
    "### Step 3 <a class=\"anchor\" id=\"d-step-3\"></a>\n",
    "#### Marking position: \n",
    "- Marking row: 3\n",
    "- Marking attribute: \"_node-caps_\"\n",
    "- Value at the position: yes"
   ]
  },
  {
   "cell_type": "code",
   "execution_count": null,
   "id": "be43cdfc",
   "metadata": {},
   "outputs": [],
   "source": [
    "fingerprinted_data.iloc[[2]]"
   ]
  },
  {
   "cell_type": "markdown",
   "id": "e840007e",
   "metadata": {},
   "source": [
    "#### Neighbourhood: \n",
    "- Correlated attributes: _age, menopause, inv-nodes, (node-caps)_\n",
    "- Neighbourhood size: 49\n",
    "- Max distance (hamming): 0"
   ]
  },
  {
   "cell_type": "code",
   "execution_count": null,
   "id": "823beffe",
   "metadata": {
    "scrolled": false
   },
   "outputs": [],
   "source": [
    "fingerprinted_data.iloc[det_iter_log[2]['neighbors']]"
   ]
  },
  {
   "cell_type": "markdown",
   "id": "10cda2da",
   "metadata": {},
   "source": [
    "- Frequencies in the neighbourhood:"
   ]
  },
  {
   "cell_type": "code",
   "execution_count": null,
   "id": "9f86497d",
   "metadata": {},
   "outputs": [],
   "source": [
    "fig, axs = plt.subplots(1, 2, sharey=True, figsize=(10,4))\n",
    "\n",
    "axs[0].bar(list(det_iter_log[2]['frequencies'].keys()), list(det_iter_log[2]['frequencies'].values()), align='center')\n",
    "axs[0].set_xticks(list(det_iter_log[2]['frequencies'].keys()))\n",
    "axs[0].set_ylabel('% in neighbourhood')\n",
    "axs[0].set_xlabel('value of \\'node-caps\\' in the neighbourhood\\n (Fingerprinted data)')\n",
    "axs[0].grid(axis='y')\n",
    "\n",
    "axs[1].bar(list(iter_log[2]['frequencies'].keys()), list(iter_log[2]['frequencies'].values()), align='center')\n",
    "axs[1].set_xticks(list(iter_log[2]['frequencies'].keys()))\n",
    "axs[1].set_xlabel('value of \\'node-caps\\' in the neighbourhood\\n (Original dataset)')\n",
    "axs[1].grid(axis='y')"
   ]
  },
  {
   "cell_type": "markdown",
   "id": "ec602cc9",
   "metadata": {},
   "source": [
    "The frequencies resemble the original and it again does not affect the fingerprint bit detection."
   ]
  },
  {
   "cell_type": "markdown",
   "id": "05aed3f3",
   "metadata": {},
   "source": [
    "#### Detecting the mark:\n",
    "- Mark bit: 0 --> the fingerprinted value is not the most represented in the neighbourhood, hence the mark bit must have been 0\n",
    "- Detected pseudorandomly in this step:\n",
    "    - Mask bit: 0\n",
    "    - Finterprint bit position (index): 14\n",
    "- Fingerprint bit value: 0 (mark bit xor mask bit)"
   ]
  },
  {
   "cell_type": "code",
   "execution_count": null,
   "id": "d9bf913e",
   "metadata": {},
   "outputs": [],
   "source": [
    "# det_iter_log[2]['mask_bit'] # --> 0\n",
    "# det_iter_log[2]['fingerprint_idx'] # --> 14\n",
    "# det_iter_log[2]['fingerprint_bit'] # --> 0\n",
    "\n",
    "# updating the votes for fingerprint \n",
    "Image(\"NCorrFP_scheme/figures/CorNN-demo-Votes-step3.png\")"
   ]
  },
  {
   "cell_type": "markdown",
   "id": "54574927",
   "metadata": {},
   "source": [
    "## ...\n",
    "We jump to steps 50, 100, 200 and the last step to see the status of the fingerprint template and the votes:\n",
    "## Step 50 <a class=\"anchor\" id=\"d-step-50\"></a>"
   ]
  },
  {
   "cell_type": "code",
   "execution_count": null,
   "id": "c70d060c",
   "metadata": {},
   "outputs": [],
   "source": [
    "# det_iter_log[49]['fingerprint_bit' # --> 0\n",
    "# [[0, 2], [0, 2], [0, 3], [5, 0], [4, 0], [4, 0], [3, 0], [1, 3], \n",
    "# [1, 1], [3, 1], [0, 5], [0, 3], [0, 2], [0, 3], [4, 0], [0, 0]]\n",
    "\n",
    "# updating the votes for fingerprint \n",
    "Image(\"NCorrFP_scheme/figures/CorNN-demo-Votes-step50.png\")"
   ]
  },
  {
   "cell_type": "markdown",
   "id": "eca98ad9",
   "metadata": {},
   "source": [
    "## Step 100"
   ]
  },
  {
   "cell_type": "code",
   "execution_count": null,
   "id": "c177fadf",
   "metadata": {},
   "outputs": [],
   "source": [
    "# det_iter_log[99]['fingerprint_idx'] # --> 5\n",
    "# [[0, 5], [0, 6], [0, 4], [5, 1], [6, 1], [5, 0], [6, 0], [1, 7], \n",
    "# [3, 1], [5, 2], [0, 7], [0, 7], [1, 7], [1, 7], [10, 0], [2, 0]]\n",
    "\n",
    "# updating the votes for fingerprint \n",
    "Image(\"NCorrFP_scheme/figures/CorNN-demo-Votes-step100.png\")"
   ]
  },
  {
   "cell_type": "markdown",
   "id": "1f2be0cf",
   "metadata": {},
   "source": [
    "## Step 200"
   ]
  },
  {
   "cell_type": "code",
   "execution_count": null,
   "id": "dbfd77de",
   "metadata": {},
   "outputs": [],
   "source": [
    "# det_iter_log[199]['fingerprint_idx'] # --> 2\n",
    "# [[1, 10], [0, 10], [3, 11], [11, 2], [14, 1], [10, 1], [9, 1], [2, 13], \n",
    "#  [9, 2], [9, 3], [1, 12], [2, 17], [2, 10], [1, 14], [15, 1], [3, 0]]\n",
    "\n",
    "\n",
    "# updating the votes for fingerprint \n",
    "Image(\"NCorrFP_scheme/figures/CorNN-demo-Votes-step200.png\")"
   ]
  },
  {
   "cell_type": "markdown",
   "id": "c2b21ea6",
   "metadata": {},
   "source": [
    "## The final result of the detection algorithm\n",
    "With minor errors in voting, the fingerprint bit-string has been recovered succcessfully. Below we see the final bit-wise votes. The corresponding fingerprint is hence [1110000100111100]"
   ]
  },
  {
   "cell_type": "code",
   "execution_count": null,
   "id": "bd314a50",
   "metadata": {},
   "outputs": [],
   "source": []
  },
  {
   "cell_type": "code",
   "execution_count": null,
   "id": "162e2ff3",
   "metadata": {},
   "outputs": [],
   "source": [
    "#[[2, 17], [1, 12], [3, 16], [17, 3], [20, 2], [12, 1], [14, 3], [2, 19], \n",
    "# [10, 3], [12, 3], [2, 18], [4, 24], [3, 15], [2, 19], [19, 2], [6, 0]]\n",
    "Image(\"NCorrFP_scheme/figures/CorNN-demo-Votes-last.png\")"
   ]
  }
 ],
 "metadata": {
  "kernelspec": {
   "display_name": "Python3-venv",
   "language": "python",
   "name": "venv"
  },
  "language_info": {
   "codemirror_mode": {
    "name": "ipython",
    "version": 3
   },
   "file_extension": ".py",
   "mimetype": "text/x-python",
   "name": "python",
   "nbconvert_exporter": "python",
   "pygments_lexer": "ipython3",
   "version": "3.10.6"
  }
 },
 "nbformat": 4,
 "nbformat_minor": 5
}
