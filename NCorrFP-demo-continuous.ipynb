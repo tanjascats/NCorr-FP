{
 "cells": [
  {
   "cell_type": "markdown",
   "id": "11098cde",
   "metadata": {},
   "source": [
    "# CorNN scheme run demo\n",
    "\n",
    "* [1. Insetion algorithm (fingerprint embedding)](#insertion)\n",
    "    * [Step 1](#i-step-1) - an example of mark=0\n",
    "    * [Step 2](#i-step-2) - an example of mark=1\n",
    "    * [Step 3](#i-step-3) - an example of marking an attribute with missing values\n",
    "    * ...\n",
    "* [2. Detection algorithm](#detection)\n",
    "    * [Step 1](#d-step-1)\n",
    "    * [Step 2](#d-step-2)\n",
    "    * [Step 3](#d-step-3)\n",
    "    * [Step 50 to end](#d-step-50)"
   ]
  },
  {
   "cell_type": "code",
   "execution_count": 1,
   "id": "c6e1e79d",
   "metadata": {},
   "outputs": [],
   "source": [
    "import pandas as pd\n",
    "from pprint import pprint\n",
    "from matplotlib import pyplot as plt\n",
    "from sklearn.preprocessing import LabelEncoder\n",
    "from IPython.display import Image"
   ]
  },
  {
   "cell_type": "code",
   "execution_count": 2,
   "id": "72b4ac09",
   "metadata": {},
   "outputs": [],
   "source": [
    "from NCorrFP_scheme.NCorrFP import NCorrFP, sample_from_area"
   ]
  },
  {
   "cell_type": "code",
   "execution_count": 3,
   "id": "73abb5e6",
   "metadata": {},
   "outputs": [
    {
     "data": {
      "text/html": [
       "<div>\n",
       "<style scoped>\n",
       "    .dataframe tbody tr th:only-of-type {\n",
       "        vertical-align: middle;\n",
       "    }\n",
       "\n",
       "    .dataframe tbody tr th {\n",
       "        vertical-align: top;\n",
       "    }\n",
       "\n",
       "    .dataframe thead th {\n",
       "        text-align: right;\n",
       "    }\n",
       "</style>\n",
       "<table border=\"1\" class=\"dataframe\">\n",
       "  <thead>\n",
       "    <tr style=\"text-align: right;\">\n",
       "      <th></th>\n",
       "      <th>Id</th>\n",
       "      <th>X</th>\n",
       "      <th>Y</th>\n",
       "      <th>Z</th>\n",
       "    </tr>\n",
       "  </thead>\n",
       "  <tbody>\n",
       "    <tr>\n",
       "      <th>0</th>\n",
       "      <td>0</td>\n",
       "      <td>59</td>\n",
       "      <td>37</td>\n",
       "      <td>31</td>\n",
       "    </tr>\n",
       "    <tr>\n",
       "      <th>1</th>\n",
       "      <td>1</td>\n",
       "      <td>49</td>\n",
       "      <td>36</td>\n",
       "      <td>20</td>\n",
       "    </tr>\n",
       "    <tr>\n",
       "      <th>2</th>\n",
       "      <td>2</td>\n",
       "      <td>56</td>\n",
       "      <td>47</td>\n",
       "      <td>35</td>\n",
       "    </tr>\n",
       "    <tr>\n",
       "      <th>3</th>\n",
       "      <td>3</td>\n",
       "      <td>64</td>\n",
       "      <td>43</td>\n",
       "      <td>26</td>\n",
       "    </tr>\n",
       "    <tr>\n",
       "      <th>4</th>\n",
       "      <td>4</td>\n",
       "      <td>40</td>\n",
       "      <td>29</td>\n",
       "      <td>27</td>\n",
       "    </tr>\n",
       "    <tr>\n",
       "      <th>5</th>\n",
       "      <td>5</td>\n",
       "      <td>44</td>\n",
       "      <td>31</td>\n",
       "      <td>35</td>\n",
       "    </tr>\n",
       "    <tr>\n",
       "      <th>6</th>\n",
       "      <td>6</td>\n",
       "      <td>63</td>\n",
       "      <td>51</td>\n",
       "      <td>28</td>\n",
       "    </tr>\n",
       "    <tr>\n",
       "      <th>7</th>\n",
       "      <td>7</td>\n",
       "      <td>63</td>\n",
       "      <td>42</td>\n",
       "      <td>26</td>\n",
       "    </tr>\n",
       "    <tr>\n",
       "      <th>8</th>\n",
       "      <td>8</td>\n",
       "      <td>47</td>\n",
       "      <td>29</td>\n",
       "      <td>23</td>\n",
       "    </tr>\n",
       "    <tr>\n",
       "      <th>9</th>\n",
       "      <td>9</td>\n",
       "      <td>47</td>\n",
       "      <td>41</td>\n",
       "      <td>25</td>\n",
       "    </tr>\n",
       "    <tr>\n",
       "      <th>10</th>\n",
       "      <td>10</td>\n",
       "      <td>47</td>\n",
       "      <td>32</td>\n",
       "      <td>15</td>\n",
       "    </tr>\n",
       "    <tr>\n",
       "      <th>11</th>\n",
       "      <td>11</td>\n",
       "      <td>43</td>\n",
       "      <td>37</td>\n",
       "      <td>23</td>\n",
       "    </tr>\n",
       "    <tr>\n",
       "      <th>12</th>\n",
       "      <td>12</td>\n",
       "      <td>49</td>\n",
       "      <td>33</td>\n",
       "      <td>21</td>\n",
       "    </tr>\n",
       "    <tr>\n",
       "      <th>13</th>\n",
       "      <td>13</td>\n",
       "      <td>34</td>\n",
       "      <td>20</td>\n",
       "      <td>18</td>\n",
       "    </tr>\n",
       "    <tr>\n",
       "      <th>14</th>\n",
       "      <td>14</td>\n",
       "      <td>38</td>\n",
       "      <td>21</td>\n",
       "      <td>12</td>\n",
       "    </tr>\n",
       "    <tr>\n",
       "      <th>15</th>\n",
       "      <td>15</td>\n",
       "      <td>49</td>\n",
       "      <td>24</td>\n",
       "      <td>30</td>\n",
       "    </tr>\n",
       "    <tr>\n",
       "      <th>16</th>\n",
       "      <td>16</td>\n",
       "      <td>36</td>\n",
       "      <td>29</td>\n",
       "      <td>16</td>\n",
       "    </tr>\n",
       "    <tr>\n",
       "      <th>17</th>\n",
       "      <td>17</td>\n",
       "      <td>52</td>\n",
       "      <td>39</td>\n",
       "      <td>25</td>\n",
       "    </tr>\n",
       "    <tr>\n",
       "      <th>18</th>\n",
       "      <td>18</td>\n",
       "      <td>43</td>\n",
       "      <td>29</td>\n",
       "      <td>25</td>\n",
       "    </tr>\n",
       "    <tr>\n",
       "      <th>19</th>\n",
       "      <td>19</td>\n",
       "      <td>41</td>\n",
       "      <td>24</td>\n",
       "      <td>12</td>\n",
       "    </tr>\n",
       "  </tbody>\n",
       "</table>\n",
       "</div>"
      ],
      "text/plain": [
       "    Id   X   Y   Z\n",
       "0    0  59  37  31\n",
       "1    1  49  36  20\n",
       "2    2  56  47  35\n",
       "3    3  64  43  26\n",
       "4    4  40  29  27\n",
       "5    5  44  31  35\n",
       "6    6  63  51  28\n",
       "7    7  63  42  26\n",
       "8    8  47  29  23\n",
       "9    9  47  41  25\n",
       "10  10  47  32  15\n",
       "11  11  43  37  23\n",
       "12  12  49  33  21\n",
       "13  13  34  20  18\n",
       "14  14  38  21  12\n",
       "15  15  49  24  30\n",
       "16  16  36  29  16\n",
       "17  17  52  39  25\n",
       "18  18  43  29  25\n",
       "19  19  41  24  12"
      ]
     },
     "execution_count": 3,
     "metadata": {},
     "output_type": "execute_result"
    }
   ],
   "source": [
    "# original data\n",
    "data = \"NCorrFP_scheme/test/test_data/synthetic_40_3_continuous.csv\"\n",
    "dataset = pd.read_csv(data)\n",
    "correlated_attributes = ['X', 'Y']\n",
    "dataset.head(20)"
   ]
  },
  {
   "cell_type": "code",
   "execution_count": 4,
   "id": "fa4fb864",
   "metadata": {},
   "outputs": [
    {
     "name": "stdout",
     "output_type": "stream",
     "text": [
      "Start the demo NCorr fingerprint insertion algorithm...\n",
      "\tgamma: 1\n",
      "\tcorrelated attributes: ['X', 'Y']\n",
      "\n",
      "Generated fingerprint for recipient 4: 01011100\n",
      "\n",
      "Generated fingerprint for recipient 4: 01011100\n",
      "Inserting the fingerprint...\n",
      "\n",
      "Training balltrees in: 0.01 sec.\n",
      "Fingerprint inserted.\n",
      "Runtime: 0 ms.\n"
     ]
    }
   ],
   "source": [
    "# fingerprinting \n",
    "scheme = NCorrFP(gamma=1, fingerprint_bit_length=8, k=10)\n",
    "fingerprinted_data, iter_log = scheme.demo_insertion(data, primary_key_name='Id', secret_key=101, recipient_id=4,\n",
    "                                              correlated_attributes=correlated_attributes)"
   ]
  },
  {
   "cell_type": "markdown",
   "id": "f8037ecd",
   "metadata": {},
   "source": [
    "## 1. Insertion algorithm (embedding) <a class=\"anchor\" id=\"insertion\"></a>\n",
    "The insertion algorithm takes as input:\n",
    "- dataset\n",
    "- owner's secret key, recipient ID\n",
    "- fingerprint length, marking ratio gamma\n",
    "- list of correlated attributes\n",
    "- whether the neighbourhood search is distance based (_d_ -- max distance) or cardinality based (_k_ -- minimum cardinality of the neighbourhood)\n",
    "\n",
    "### Step 1: <a class=\"anchor\" id=\"i-step-1\"></a>\n",
    "The marking position  (row, attribute) are chosen pseudorandomly seeded by the owner's secret key\n",
    "#### Marking position: \n",
    "- Marking row: 0\n",
    "- Marking attribute: \"_deg-malig_\"\n",
    "- Original value: 3"
   ]
  },
  {
   "cell_type": "code",
   "execution_count": 20,
   "id": "2607c7e0",
   "metadata": {},
   "outputs": [
    {
     "name": "stdout",
     "output_type": "stream",
     "text": [
      "Marking record no. 0\n",
      "Marking attribute: Y\n"
     ]
    },
    {
     "data": {
      "text/html": [
       "<div>\n",
       "<style scoped>\n",
       "    .dataframe tbody tr th:only-of-type {\n",
       "        vertical-align: middle;\n",
       "    }\n",
       "\n",
       "    .dataframe tbody tr th {\n",
       "        vertical-align: top;\n",
       "    }\n",
       "\n",
       "    .dataframe thead th {\n",
       "        text-align: right;\n",
       "    }\n",
       "</style>\n",
       "<table border=\"1\" class=\"dataframe\">\n",
       "  <thead>\n",
       "    <tr style=\"text-align: right;\">\n",
       "      <th></th>\n",
       "      <th>Id</th>\n",
       "      <th>X</th>\n",
       "      <th>Y</th>\n",
       "      <th>Z</th>\n",
       "    </tr>\n",
       "  </thead>\n",
       "  <tbody>\n",
       "    <tr>\n",
       "      <th>0</th>\n",
       "      <td>0</td>\n",
       "      <td>59</td>\n",
       "      <td>37</td>\n",
       "      <td>31</td>\n",
       "    </tr>\n",
       "  </tbody>\n",
       "</table>\n",
       "</div>"
      ],
      "text/plain": [
       "   Id   X   Y   Z\n",
       "0   0  59  37  31"
      ]
     },
     "execution_count": 20,
     "metadata": {},
     "output_type": "execute_result"
    }
   ],
   "source": [
    "print(\"Marking record no. \" + str(iter_log[0]['row_index'])) # --> 0\n",
    "print(\"Marking attribute: \" + str(iter_log[0]['attribute'])) # --> Y\n",
    "dataset.iloc[[0]]"
   ]
  },
  {
   "cell_type": "markdown",
   "id": "31e38d46",
   "metadata": {},
   "source": [
    "#### Neighbourhood: \n",
    "We are looking now in the neighbourhood of the attribute X correlated to Y, the one we are marking. Now the neighbourhood should be the records where X is the closest to 59. "
   ]
  },
  {
   "cell_type": "code",
   "execution_count": 7,
   "id": "3d11c5b9",
   "metadata": {},
   "outputs": [
    {
     "name": "stdout",
     "output_type": "stream",
     "text": [
      "Neighbours idx: [0, 25, 2, 20, 6, 7, 3, 36, 17, 32]\n",
      "Neighbours dist: [0.0, 1.0, 3.0, 3.0, 4.0, 4.0, 5.0, 6.0, 7.0, 9.0]\n",
      "Neighbours values:[59, 58, 56, 62, 63, 63, 64, 53, 52, 50]\n"
     ]
    }
   ],
   "source": [
    "print('Neighbours idx: ' + str(iter_log[0]['neighbors']))\n",
    "print('Neighbours dist: ' + str(iter_log[0]['dist']))\n",
    "print('Neighbours values:' + str(list(dataset.iloc[iter_log[0]['neighbors']]['X'])))"
   ]
  },
  {
   "cell_type": "markdown",
   "id": "7f405e8f",
   "metadata": {},
   "source": [
    "To sum up:\n",
    "- Correlated attributes: _X, Y_\n",
    "- Neighbourhood size: 10\n",
    "- Max distance (hamming): 9\n",
    "\n",
    "Now we look into values of Y, the attribute we are marking, in the neighbourhood, to decide on a new one."
   ]
  },
  {
   "cell_type": "code",
   "execution_count": 16,
   "id": "5dc16cdb",
   "metadata": {},
   "outputs": [
    {
     "name": "stdout",
     "output_type": "stream",
     "text": [
      "Target values:[37, 38, 47, 38, 51, 42, 43, 36, 39, 35]\n"
     ]
    }
   ],
   "source": [
    "print('Target values:' + str(list(dataset.iloc[iter_log[0]['neighbors']]['Y'])))"
   ]
  },
  {
   "cell_type": "markdown",
   "id": "3ca38f8c",
   "metadata": {},
   "source": [
    "Let's plot the distribution of the X variable in the neighbourhood.\n",
    "The mark bit is 0, so we will be sampling the new value from less dense areas."
   ]
  },
  {
   "cell_type": "code",
   "execution_count": 9,
   "id": "6d7fa633",
   "metadata": {},
   "outputs": [
    {
     "name": "stdout",
     "output_type": "stream",
     "text": [
      "0\n"
     ]
    }
   ],
   "source": [
    "mark_bit = iter_log[0]['mark_bit']\n",
    "print(mark_bit)"
   ]
  },
  {
   "cell_type": "code",
   "execution_count": 17,
   "id": "1c962c0d",
   "metadata": {},
   "outputs": [
    {
     "data": {
      "image/png": "[encoded data removed]",
      "text/plain": [
       "<Figure size 640x480 with 1 Axes>"
      ]
     },
     "metadata": {},
     "output_type": "display_data"
    },
    {
     "data": {
      "text/plain": [
       "array([41.36127574])"
      ]
     },
     "execution_count": 17,
     "metadata": {},
     "output_type": "execute_result"
    }
   ],
   "source": [
    "sample_from_area(data=list(dataset.iloc[iter_log[0]['neighbors']]['Y']), percent=0.75, dense=mark_bit, plot=True, \n",
    "                 seed=iter_log[0]['seed'])"
   ]
  },
  {
   "cell_type": "code",
   "execution_count": 18,
   "id": "a5715737",
   "metadata": {},
   "outputs": [
    {
     "data": {
      "text/plain": [
       "42"
      ]
     },
     "execution_count": 18,
     "metadata": {},
     "output_type": "execute_result"
    }
   ],
   "source": [
    "iter_log[0]['new_value']"
   ]
  },
  {
   "cell_type": "markdown",
   "id": "a089c4ee",
   "metadata": {},
   "source": [
    "#### Marking:\n",
    "\n",
    "The goal is to modify its value to something that is _likely_ to occur. To introduce pseudorandomness, we obtain _mark bit_ from PRNG based on which there are two outcomes:\n",
    "- _mark bit is 1_ (50%) -- the new value is sampled from the most dense areas of a distribution of the target variable in the neighbourhood\n",
    "- _mark bit is 0_ (50%) -- the new value is sampled from the tails of distribution of the target value in the neighbourhood\n",
    "\n",
    "We used Gaussian Kernel estimaton method to estimate the distribution of the values in the neighbourhood. Once we do that, we cut of the 75th percentile and sample from the tails of the distribution since the mark bit was 0.\n",
    "If the mark bit was 1, we would have sampled from the dense areas of the distribution (we will see that in the following iterations).\n",
    "The sampled value is rounded to the closest existing from the neighbourhood (to avoid perceptibility of marks in the fingerprinted data).\n",
    "The final chosen value for attribute Y of record 0 is 42."
   ]
  },
  {
   "cell_type": "code",
   "execution_count": 19,
   "id": "98b136f2",
   "metadata": {},
   "outputs": [
    {
     "data": {
      "text/html": [
       "<div>\n",
       "<style scoped>\n",
       "    .dataframe tbody tr th:only-of-type {\n",
       "        vertical-align: middle;\n",
       "    }\n",
       "\n",
       "    .dataframe tbody tr th {\n",
       "        vertical-align: top;\n",
       "    }\n",
       "\n",
       "    .dataframe thead th {\n",
       "        text-align: right;\n",
       "    }\n",
       "</style>\n",
       "<table border=\"1\" class=\"dataframe\">\n",
       "  <thead>\n",
       "    <tr style=\"text-align: right;\">\n",
       "      <th></th>\n",
       "      <th>Id</th>\n",
       "      <th>X</th>\n",
       "      <th>Y</th>\n",
       "      <th>Z</th>\n",
       "    </tr>\n",
       "  </thead>\n",
       "  <tbody>\n",
       "    <tr>\n",
       "      <th>0</th>\n",
       "      <td>0</td>\n",
       "      <td>59</td>\n",
       "      <td>42</td>\n",
       "      <td>31</td>\n",
       "    </tr>\n",
       "  </tbody>\n",
       "</table>\n",
       "</div>"
      ],
      "text/plain": [
       "   Id   X   Y   Z\n",
       "0   0  59  42  31"
      ]
     },
     "execution_count": 19,
     "metadata": {},
     "output_type": "execute_result"
    }
   ],
   "source": [
    "fingerprinted_data.head(1)"
   ]
  },
  {
   "cell_type": "markdown",
   "id": "5e92fe11",
   "metadata": {},
   "source": [
    "### Step 2: <a class=\"anchor\" id=\"i-step-2\"></a>\n",
    "#### Marking position: \n",
    "- Marking row 0, attribute \"_age_\""
   ]
  },
  {
   "cell_type": "code",
   "execution_count": 21,
   "id": "2b3a0198",
   "metadata": {},
   "outputs": [
    {
     "name": "stdout",
     "output_type": "stream",
     "text": [
      "Marking record no. 1\n",
      "Marking attribute: Z\n"
     ]
    },
    {
     "data": {
      "text/html": [
       "<div>\n",
       "<style scoped>\n",
       "    .dataframe tbody tr th:only-of-type {\n",
       "        vertical-align: middle;\n",
       "    }\n",
       "\n",
       "    .dataframe tbody tr th {\n",
       "        vertical-align: top;\n",
       "    }\n",
       "\n",
       "    .dataframe thead th {\n",
       "        text-align: right;\n",
       "    }\n",
       "</style>\n",
       "<table border=\"1\" class=\"dataframe\">\n",
       "  <thead>\n",
       "    <tr style=\"text-align: right;\">\n",
       "      <th></th>\n",
       "      <th>Id</th>\n",
       "      <th>X</th>\n",
       "      <th>Y</th>\n",
       "      <th>Z</th>\n",
       "    </tr>\n",
       "  </thead>\n",
       "  <tbody>\n",
       "    <tr>\n",
       "      <th>1</th>\n",
       "      <td>1</td>\n",
       "      <td>49</td>\n",
       "      <td>36</td>\n",
       "      <td>20</td>\n",
       "    </tr>\n",
       "  </tbody>\n",
       "</table>\n",
       "</div>"
      ],
      "text/plain": [
       "   Id   X   Y   Z\n",
       "1   1  49  36  20"
      ]
     },
     "execution_count": 21,
     "metadata": {},
     "output_type": "execute_result"
    }
   ],
   "source": [
    "print(\"Marking record no. \" + str(iter_log[1]['row_index'])) # --> 0\n",
    "print(\"Marking attribute: \" + str(iter_log[1]['attribute'])) # --> Y\n",
    "dataset.iloc[[1]]"
   ]
  },
  {
   "cell_type": "markdown",
   "id": "d853e4ed",
   "metadata": {},
   "source": [
    "Attribute Z is not correlated to the others, so we will use all other attributes to find the closest neighbours and choose a new value, to still preseve the integrity of the dataset."
   ]
  },
  {
   "cell_type": "code",
   "execution_count": 22,
   "id": "7f02be7f",
   "metadata": {
    "scrolled": true
   },
   "outputs": [
    {
     "name": "stdout",
     "output_type": "stream",
     "text": [
      "Neighbours idx: [36, 12, 24, 26, 15, 39, 6, 7, 8, 9, 10, 11, 0, 13, 14, 2, 16, 17, 18, 19, 20, 21, 22, 23, 3, 25, 4, 27, 28, 29, 30, 31, 32, 33, 34, 35, 37, 38, 5]\n",
      "Neighbours dist: [0.5, 0.5, 0.5, 0.5, 0.5, 1.0, 1.0, 1.0, 1.0, 1.0, 1.0, 1.0, 1.0, 1.0, 1.0, 1.0, 1.0, 1.0, 1.0, 1.0, 1.0, 1.0, 1.0, 1.0, 1.0, 1.0, 1.0, 1.0, 1.0, 1.0, 1.0, 1.0, 1.0, 1.0, 1.0, 1.0, 1.0, 1.0, 1.0]\n",
      "Neighbours values:[53, 49, 49, 38, 49, 42, 63, 63, 47, 47, 47, 43, 59, 34, 38, 56, 36, 52, 43, 41, 62, 47, 45, 30, 64, 58, 40, 59, 46, 44, 46, 76, 50, 47, 45, 42, 29, 37, 44]\n"
     ]
    }
   ],
   "source": [
    "print('Neighbours idx: ' + str(iter_log[1]['neighbors']))\n",
    "print('Neighbours dist: ' + str(iter_log[1]['dist']))\n",
    "print('Neighbours values:' + str(list(dataset.iloc[iter_log[1]['neighbors']]['X'])))"
   ]
  },
  {
   "cell_type": "markdown",
   "id": "1bc17d56",
   "metadata": {},
   "source": [
    "Neighbourhood is larger than k=10 because there were multiple neighbours of distance=1.0 so we take them all into account.\n",
    "The neighbourhood looks as follows:"
   ]
  },
  {
   "cell_type": "code",
   "execution_count": 14,
   "id": "ab601d3f",
   "metadata": {},
   "outputs": [
    {
     "data": {
      "text/html": [
       "<div>\n",
       "<style scoped>\n",
       "    .dataframe tbody tr th:only-of-type {\n",
       "        vertical-align: middle;\n",
       "    }\n",
       "\n",
       "    .dataframe tbody tr th {\n",
       "        vertical-align: top;\n",
       "    }\n",
       "\n",
       "    .dataframe thead th {\n",
       "        text-align: right;\n",
       "    }\n",
       "</style>\n",
       "<table border=\"1\" class=\"dataframe\">\n",
       "  <thead>\n",
       "    <tr style=\"text-align: right;\">\n",
       "      <th></th>\n",
       "      <th>Id</th>\n",
       "      <th>X</th>\n",
       "      <th>Y</th>\n",
       "      <th>Z</th>\n",
       "    </tr>\n",
       "  </thead>\n",
       "  <tbody>\n",
       "    <tr>\n",
       "      <th>36</th>\n",
       "      <td>36</td>\n",
       "      <td>53</td>\n",
       "      <td>36</td>\n",
       "      <td>35</td>\n",
       "    </tr>\n",
       "    <tr>\n",
       "      <th>12</th>\n",
       "      <td>12</td>\n",
       "      <td>49</td>\n",
       "      <td>33</td>\n",
       "      <td>21</td>\n",
       "    </tr>\n",
       "    <tr>\n",
       "      <th>24</th>\n",
       "      <td>24</td>\n",
       "      <td>49</td>\n",
       "      <td>30</td>\n",
       "      <td>24</td>\n",
       "    </tr>\n",
       "    <tr>\n",
       "      <th>26</th>\n",
       "      <td>26</td>\n",
       "      <td>38</td>\n",
       "      <td>36</td>\n",
       "      <td>13</td>\n",
       "    </tr>\n",
       "    <tr>\n",
       "      <th>15</th>\n",
       "      <td>15</td>\n",
       "      <td>49</td>\n",
       "      <td>24</td>\n",
       "      <td>30</td>\n",
       "    </tr>\n",
       "    <tr>\n",
       "      <th>39</th>\n",
       "      <td>39</td>\n",
       "      <td>42</td>\n",
       "      <td>40</td>\n",
       "      <td>29</td>\n",
       "    </tr>\n",
       "    <tr>\n",
       "      <th>6</th>\n",
       "      <td>6</td>\n",
       "      <td>63</td>\n",
       "      <td>51</td>\n",
       "      <td>28</td>\n",
       "    </tr>\n",
       "    <tr>\n",
       "      <th>7</th>\n",
       "      <td>7</td>\n",
       "      <td>63</td>\n",
       "      <td>42</td>\n",
       "      <td>26</td>\n",
       "    </tr>\n",
       "    <tr>\n",
       "      <th>8</th>\n",
       "      <td>8</td>\n",
       "      <td>47</td>\n",
       "      <td>29</td>\n",
       "      <td>23</td>\n",
       "    </tr>\n",
       "    <tr>\n",
       "      <th>9</th>\n",
       "      <td>9</td>\n",
       "      <td>47</td>\n",
       "      <td>41</td>\n",
       "      <td>25</td>\n",
       "    </tr>\n",
       "    <tr>\n",
       "      <th>10</th>\n",
       "      <td>10</td>\n",
       "      <td>47</td>\n",
       "      <td>32</td>\n",
       "      <td>15</td>\n",
       "    </tr>\n",
       "    <tr>\n",
       "      <th>11</th>\n",
       "      <td>11</td>\n",
       "      <td>43</td>\n",
       "      <td>37</td>\n",
       "      <td>23</td>\n",
       "    </tr>\n",
       "    <tr>\n",
       "      <th>0</th>\n",
       "      <td>0</td>\n",
       "      <td>59</td>\n",
       "      <td>37</td>\n",
       "      <td>31</td>\n",
       "    </tr>\n",
       "    <tr>\n",
       "      <th>13</th>\n",
       "      <td>13</td>\n",
       "      <td>34</td>\n",
       "      <td>20</td>\n",
       "      <td>18</td>\n",
       "    </tr>\n",
       "    <tr>\n",
       "      <th>14</th>\n",
       "      <td>14</td>\n",
       "      <td>38</td>\n",
       "      <td>21</td>\n",
       "      <td>12</td>\n",
       "    </tr>\n",
       "    <tr>\n",
       "      <th>2</th>\n",
       "      <td>2</td>\n",
       "      <td>56</td>\n",
       "      <td>47</td>\n",
       "      <td>35</td>\n",
       "    </tr>\n",
       "    <tr>\n",
       "      <th>16</th>\n",
       "      <td>16</td>\n",
       "      <td>36</td>\n",
       "      <td>29</td>\n",
       "      <td>16</td>\n",
       "    </tr>\n",
       "    <tr>\n",
       "      <th>17</th>\n",
       "      <td>17</td>\n",
       "      <td>52</td>\n",
       "      <td>39</td>\n",
       "      <td>25</td>\n",
       "    </tr>\n",
       "    <tr>\n",
       "      <th>18</th>\n",
       "      <td>18</td>\n",
       "      <td>43</td>\n",
       "      <td>29</td>\n",
       "      <td>25</td>\n",
       "    </tr>\n",
       "    <tr>\n",
       "      <th>19</th>\n",
       "      <td>19</td>\n",
       "      <td>41</td>\n",
       "      <td>24</td>\n",
       "      <td>12</td>\n",
       "    </tr>\n",
       "    <tr>\n",
       "      <th>20</th>\n",
       "      <td>20</td>\n",
       "      <td>62</td>\n",
       "      <td>38</td>\n",
       "      <td>33</td>\n",
       "    </tr>\n",
       "    <tr>\n",
       "      <th>21</th>\n",
       "      <td>21</td>\n",
       "      <td>47</td>\n",
       "      <td>31</td>\n",
       "      <td>30</td>\n",
       "    </tr>\n",
       "    <tr>\n",
       "      <th>22</th>\n",
       "      <td>22</td>\n",
       "      <td>45</td>\n",
       "      <td>34</td>\n",
       "      <td>17</td>\n",
       "    </tr>\n",
       "    <tr>\n",
       "      <th>23</th>\n",
       "      <td>23</td>\n",
       "      <td>30</td>\n",
       "      <td>21</td>\n",
       "      <td>19</td>\n",
       "    </tr>\n",
       "    <tr>\n",
       "      <th>3</th>\n",
       "      <td>3</td>\n",
       "      <td>64</td>\n",
       "      <td>43</td>\n",
       "      <td>26</td>\n",
       "    </tr>\n",
       "    <tr>\n",
       "      <th>25</th>\n",
       "      <td>25</td>\n",
       "      <td>58</td>\n",
       "      <td>38</td>\n",
       "      <td>29</td>\n",
       "    </tr>\n",
       "    <tr>\n",
       "      <th>4</th>\n",
       "      <td>4</td>\n",
       "      <td>40</td>\n",
       "      <td>29</td>\n",
       "      <td>27</td>\n",
       "    </tr>\n",
       "    <tr>\n",
       "      <th>27</th>\n",
       "      <td>27</td>\n",
       "      <td>59</td>\n",
       "      <td>39</td>\n",
       "      <td>20</td>\n",
       "    </tr>\n",
       "    <tr>\n",
       "      <th>28</th>\n",
       "      <td>28</td>\n",
       "      <td>46</td>\n",
       "      <td>32</td>\n",
       "      <td>25</td>\n",
       "    </tr>\n",
       "    <tr>\n",
       "      <th>29</th>\n",
       "      <td>29</td>\n",
       "      <td>44</td>\n",
       "      <td>33</td>\n",
       "      <td>25</td>\n",
       "    </tr>\n",
       "    <tr>\n",
       "      <th>30</th>\n",
       "      <td>30</td>\n",
       "      <td>46</td>\n",
       "      <td>21</td>\n",
       "      <td>23</td>\n",
       "    </tr>\n",
       "    <tr>\n",
       "      <th>31</th>\n",
       "      <td>31</td>\n",
       "      <td>76</td>\n",
       "      <td>48</td>\n",
       "      <td>36</td>\n",
       "    </tr>\n",
       "    <tr>\n",
       "      <th>32</th>\n",
       "      <td>32</td>\n",
       "      <td>50</td>\n",
       "      <td>35</td>\n",
       "      <td>22</td>\n",
       "    </tr>\n",
       "    <tr>\n",
       "      <th>33</th>\n",
       "      <td>33</td>\n",
       "      <td>47</td>\n",
       "      <td>40</td>\n",
       "      <td>21</td>\n",
       "    </tr>\n",
       "    <tr>\n",
       "      <th>34</th>\n",
       "      <td>34</td>\n",
       "      <td>45</td>\n",
       "      <td>40</td>\n",
       "      <td>31</td>\n",
       "    </tr>\n",
       "    <tr>\n",
       "      <th>35</th>\n",
       "      <td>35</td>\n",
       "      <td>42</td>\n",
       "      <td>28</td>\n",
       "      <td>15</td>\n",
       "    </tr>\n",
       "    <tr>\n",
       "      <th>37</th>\n",
       "      <td>37</td>\n",
       "      <td>29</td>\n",
       "      <td>15</td>\n",
       "      <td>18</td>\n",
       "    </tr>\n",
       "    <tr>\n",
       "      <th>38</th>\n",
       "      <td>38</td>\n",
       "      <td>37</td>\n",
       "      <td>31</td>\n",
       "      <td>12</td>\n",
       "    </tr>\n",
       "    <tr>\n",
       "      <th>5</th>\n",
       "      <td>5</td>\n",
       "      <td>44</td>\n",
       "      <td>31</td>\n",
       "      <td>35</td>\n",
       "    </tr>\n",
       "  </tbody>\n",
       "</table>\n",
       "</div>"
      ],
      "text/plain": [
       "    Id   X   Y   Z\n",
       "36  36  53  36  35\n",
       "12  12  49  33  21\n",
       "24  24  49  30  24\n",
       "26  26  38  36  13\n",
       "15  15  49  24  30\n",
       "39  39  42  40  29\n",
       "6    6  63  51  28\n",
       "7    7  63  42  26\n",
       "8    8  47  29  23\n",
       "9    9  47  41  25\n",
       "10  10  47  32  15\n",
       "11  11  43  37  23\n",
       "0    0  59  37  31\n",
       "13  13  34  20  18\n",
       "14  14  38  21  12\n",
       "2    2  56  47  35\n",
       "16  16  36  29  16\n",
       "17  17  52  39  25\n",
       "18  18  43  29  25\n",
       "19  19  41  24  12\n",
       "20  20  62  38  33\n",
       "21  21  47  31  30\n",
       "22  22  45  34  17\n",
       "23  23  30  21  19\n",
       "3    3  64  43  26\n",
       "25  25  58  38  29\n",
       "4    4  40  29  27\n",
       "27  27  59  39  20\n",
       "28  28  46  32  25\n",
       "29  29  44  33  25\n",
       "30  30  46  21  23\n",
       "31  31  76  48  36\n",
       "32  32  50  35  22\n",
       "33  33  47  40  21\n",
       "34  34  45  40  31\n",
       "35  35  42  28  15\n",
       "37  37  29  15  18\n",
       "38  38  37  31  12\n",
       "5    5  44  31  35"
      ]
     },
     "execution_count": 14,
     "metadata": {},
     "output_type": "execute_result"
    }
   ],
   "source": [
    "dataset.iloc[iter_log[1]['neighbors']]"
   ]
  },
  {
   "cell_type": "code",
   "execution_count": 23,
   "id": "e29b33fe",
   "metadata": {
    "scrolled": true
   },
   "outputs": [
    {
     "name": "stdout",
     "output_type": "stream",
     "text": [
      "Target values:[35, 21, 24, 13, 30, 29, 28, 26, 23, 25, 15, 23, 31, 18, 12, 35, 16, 25, 25, 12, 33, 30, 17, 19, 26, 29, 27, 20, 25, 25, 23, 36, 22, 21, 31, 15, 18, 12, 35]\n"
     ]
    }
   ],
   "source": [
    "print('Target values:' + str(list(dataset.iloc[iter_log[1]['neighbors']]['Z'])))"
   ]
  },
  {
   "cell_type": "code",
   "execution_count": 25,
   "id": "1acf4889",
   "metadata": {},
   "outputs": [
    {
     "name": "stdout",
     "output_type": "stream",
     "text": [
      "Mark bit is 0, therefore we sample from tails of distribution of the variable Z in the neighbourhood.\n"
     ]
    }
   ],
   "source": [
    "mark_bit = iter_log[0]['mark_bit']\n",
    "print('Mark bit is {}, therefore we sample from tails of distribution of the variable Z in the neighbourhood.'.format(mark_bit))"
   ]
  },
  {
   "cell_type": "code",
   "execution_count": 28,
   "id": "fe3369c0",
   "metadata": {},
   "outputs": [
    {
     "data": {
      "image/png": "[encoded data removed]",
      "text/plain": [
       "<Figure size 640x480 with 1 Axes>"
      ]
     },
     "metadata": {},
     "output_type": "display_data"
    },
    {
     "data": {
      "text/plain": [
       "array([29.46914676])"
      ]
     },
     "execution_count": 28,
     "metadata": {},
     "output_type": "execute_result"
    }
   ],
   "source": [
    "sample_from_area(data=list(dataset.iloc[iter_log[1]['neighbors']]['Z']), percent=0.75, dense=mark_bit, plot=True, \n",
    "                 seed=iter_log[1]['seed'])"
   ]
  },
  {
   "cell_type": "code",
   "execution_count": 30,
   "id": "f3124d90",
   "metadata": {},
   "outputs": [
    {
     "data": {
      "text/plain": [
       "29"
      ]
     },
     "execution_count": 30,
     "metadata": {},
     "output_type": "execute_result"
    }
   ],
   "source": [
    "iter_log[1]['new_value']"
   ]
  },
  {
   "cell_type": "code",
   "execution_count": 31,
   "id": "23e1f560",
   "metadata": {},
   "outputs": [
    {
     "data": {
      "text/html": [
       "<div>\n",
       "<style scoped>\n",
       "    .dataframe tbody tr th:only-of-type {\n",
       "        vertical-align: middle;\n",
       "    }\n",
       "\n",
       "    .dataframe tbody tr th {\n",
       "        vertical-align: top;\n",
       "    }\n",
       "\n",
       "    .dataframe thead th {\n",
       "        text-align: right;\n",
       "    }\n",
       "</style>\n",
       "<table border=\"1\" class=\"dataframe\">\n",
       "  <thead>\n",
       "    <tr style=\"text-align: right;\">\n",
       "      <th></th>\n",
       "      <th>Id</th>\n",
       "      <th>X</th>\n",
       "      <th>Y</th>\n",
       "      <th>Z</th>\n",
       "    </tr>\n",
       "  </thead>\n",
       "  <tbody>\n",
       "    <tr>\n",
       "      <th>1</th>\n",
       "      <td>1</td>\n",
       "      <td>49</td>\n",
       "      <td>36</td>\n",
       "      <td>29</td>\n",
       "    </tr>\n",
       "  </tbody>\n",
       "</table>\n",
       "</div>"
      ],
      "text/plain": [
       "   Id   X   Y   Z\n",
       "1   1  49  36  29"
      ]
     },
     "execution_count": 31,
     "metadata": {},
     "output_type": "execute_result"
    }
   ],
   "source": [
    "fingerprinted_data.iloc[[1]]"
   ]
  },
  {
   "cell_type": "markdown",
   "id": "d202182e",
   "metadata": {},
   "source": [
    "### Step 3: <a class=\"anchor\" id=\"i-step-3\"></a>\n",
    "#### Marking position: \n",
    "- Marking row 2, attribute \"Z\""
   ]
  },
  {
   "cell_type": "code",
   "execution_count": 43,
   "id": "63861007",
   "metadata": {},
   "outputs": [
    {
     "name": "stdout",
     "output_type": "stream",
     "text": [
      "Marking record no. 2\n",
      "Marking attribute: Z\n"
     ]
    },
    {
     "data": {
      "text/html": [
       "<div>\n",
       "<style scoped>\n",
       "    .dataframe tbody tr th:only-of-type {\n",
       "        vertical-align: middle;\n",
       "    }\n",
       "\n",
       "    .dataframe tbody tr th {\n",
       "        vertical-align: top;\n",
       "    }\n",
       "\n",
       "    .dataframe thead th {\n",
       "        text-align: right;\n",
       "    }\n",
       "</style>\n",
       "<table border=\"1\" class=\"dataframe\">\n",
       "  <thead>\n",
       "    <tr style=\"text-align: right;\">\n",
       "      <th></th>\n",
       "      <th>Id</th>\n",
       "      <th>X</th>\n",
       "      <th>Y</th>\n",
       "      <th>Z</th>\n",
       "    </tr>\n",
       "  </thead>\n",
       "  <tbody>\n",
       "    <tr>\n",
       "      <th>2</th>\n",
       "      <td>2</td>\n",
       "      <td>56</td>\n",
       "      <td>47</td>\n",
       "      <td>35</td>\n",
       "    </tr>\n",
       "  </tbody>\n",
       "</table>\n",
       "</div>"
      ],
      "text/plain": [
       "   Id   X   Y   Z\n",
       "2   2  56  47  35"
      ]
     },
     "execution_count": 43,
     "metadata": {},
     "output_type": "execute_result"
    }
   ],
   "source": [
    "print(\"Marking record no. \" + str(iter_log[2]['row_index'])) # --> 0\n",
    "print(\"Marking attribute: \" + str(iter_log[2]['attribute'])) # --> Y\n",
    "dataset.iloc[[2]]"
   ]
  },
  {
   "cell_type": "markdown",
   "id": "d2b36a6f",
   "metadata": {},
   "source": [
    "#### Neighbourhood: \n",
    "- Correlated attributes: X, Y  (we are marking Z, so checking all attributes to define the neighbourhood)\n",
    "- Neighbourhood size: 1.0\n",
    "- Max distance (hamming): 0"
   ]
  },
  {
   "cell_type": "code",
   "execution_count": 45,
   "id": "e93f7c60",
   "metadata": {},
   "outputs": [
    {
     "name": "stdout",
     "output_type": "stream",
     "text": [
      "Neighbours idx: [36, 12, 24, 26, 15, 39, 6, 7, 8, 9, 10, 11, 0, 13, 14, 2, 16, 17, 18, 19, 20, 21, 22, 23, 3, 25, 4, 27, 28, 29, 30, 31, 32, 33, 34, 35, 37, 38, 5]\n",
      "Neighbours dist: [0.5, 0.5, 0.5, 0.5, 0.5, 1.0, 1.0, 1.0, 1.0, 1.0, 1.0, 1.0, 1.0, 1.0, 1.0, 1.0, 1.0, 1.0, 1.0, 1.0, 1.0, 1.0, 1.0, 1.0, 1.0, 1.0, 1.0, 1.0, 1.0, 1.0, 1.0, 1.0, 1.0, 1.0, 1.0, 1.0, 1.0, 1.0, 1.0]\n"
     ]
    }
   ],
   "source": [
    "print('Neighbours idx: ' + str(iter_log[1]['neighbors']))\n",
    "print('Neighbours dist: ' + str(iter_log[1]['dist']))"
   ]
  },
  {
   "cell_type": "code",
   "execution_count": 42,
   "id": "9314aebe",
   "metadata": {},
   "outputs": [
    {
     "name": "stdout",
     "output_type": "stream",
     "text": [
      "Target values:[29, 20, 31, 26, 27, 35, 28, 26, 23, 25, 15, 23, 21, 18, 12, 30, 16, 25, 25, 12, 33, 30, 17, 19, 24, 29, 13, 20, 25, 25, 23, 36, 22, 21, 31, 15, 18, 12, 35]\n"
     ]
    }
   ],
   "source": [
    "print('Target values:' + str(list(dataset.iloc[iter_log[2]['neighbors']]['Z'])))"
   ]
  },
  {
   "cell_type": "code",
   "execution_count": 41,
   "id": "2cf804ba",
   "metadata": {},
   "outputs": [
    {
     "name": "stdout",
     "output_type": "stream",
     "text": [
      "Mark bit is 0, therefore we sample from tails of distribution of the variable Z in the neighbourhood.\n"
     ]
    }
   ],
   "source": [
    "mark_bit = iter_log[2]['mark_bit']\n",
    "print('Mark bit is {}, therefore we sample from tails of distribution of the variable Z in the neighbourhood.'.format(mark_bit))"
   ]
  },
  {
   "cell_type": "code",
   "execution_count": 46,
   "id": "98a04f5c",
   "metadata": {},
   "outputs": [
    {
     "data": {
      "image/png": "[encoded data removed]",
      "text/plain": [
       "<Figure size 640x480 with 1 Axes>"
      ]
     },
     "metadata": {},
     "output_type": "display_data"
    },
    {
     "data": {
      "text/plain": [
       "array([31.05851302])"
      ]
     },
     "execution_count": 46,
     "metadata": {},
     "output_type": "execute_result"
    }
   ],
   "source": [
    "sample_from_area(data=list(dataset.iloc[iter_log[2]['neighbors']]['Z']), percent=0.75, dense=mark_bit, plot=True, \n",
    "                 seed=iter_log[2]['seed'])"
   ]
  },
  {
   "cell_type": "code",
   "execution_count": 65,
   "id": "c8a20300",
   "metadata": {},
   "outputs": [
    {
     "name": "stdout",
     "output_type": "stream",
     "text": [
      "31\n"
     ]
    },
    {
     "data": {
      "text/html": [
       "<div>\n",
       "<style scoped>\n",
       "    .dataframe tbody tr th:only-of-type {\n",
       "        vertical-align: middle;\n",
       "    }\n",
       "\n",
       "    .dataframe tbody tr th {\n",
       "        vertical-align: top;\n",
       "    }\n",
       "\n",
       "    .dataframe thead th {\n",
       "        text-align: right;\n",
       "    }\n",
       "</style>\n",
       "<table border=\"1\" class=\"dataframe\">\n",
       "  <thead>\n",
       "    <tr style=\"text-align: right;\">\n",
       "      <th></th>\n",
       "      <th>Id</th>\n",
       "      <th>X</th>\n",
       "      <th>Y</th>\n",
       "      <th>Z</th>\n",
       "    </tr>\n",
       "  </thead>\n",
       "  <tbody>\n",
       "    <tr>\n",
       "      <th>2</th>\n",
       "      <td>2</td>\n",
       "      <td>56</td>\n",
       "      <td>47</td>\n",
       "      <td>31</td>\n",
       "    </tr>\n",
       "  </tbody>\n",
       "</table>\n",
       "</div>"
      ],
      "text/plain": [
       "   Id   X   Y   Z\n",
       "2   2  56  47  31"
      ]
     },
     "execution_count": 65,
     "metadata": {},
     "output_type": "execute_result"
    }
   ],
   "source": [
    "print(iter_log[2]['new_value'])\n",
    "fingerprinted_data.iloc[[2]]"
   ]
  },
  {
   "cell_type": "markdown",
   "id": "45f7cab7",
   "metadata": {},
   "source": [
    "### Step 4: <a class=\"anchor\" id=\"i-step-3\"></a>"
   ]
  },
  {
   "cell_type": "code",
   "execution_count": 57,
   "id": "5fee4b22",
   "metadata": {},
   "outputs": [],
   "source": [
    "iter = 3"
   ]
  },
  {
   "cell_type": "code",
   "execution_count": 53,
   "id": "a2c1d369",
   "metadata": {},
   "outputs": [
    {
     "name": "stdout",
     "output_type": "stream",
     "text": [
      "Marking record no. 3\n",
      "Marking attribute: X\n"
     ]
    },
    {
     "data": {
      "text/html": [
       "<div>\n",
       "<style scoped>\n",
       "    .dataframe tbody tr th:only-of-type {\n",
       "        vertical-align: middle;\n",
       "    }\n",
       "\n",
       "    .dataframe tbody tr th {\n",
       "        vertical-align: top;\n",
       "    }\n",
       "\n",
       "    .dataframe thead th {\n",
       "        text-align: right;\n",
       "    }\n",
       "</style>\n",
       "<table border=\"1\" class=\"dataframe\">\n",
       "  <thead>\n",
       "    <tr style=\"text-align: right;\">\n",
       "      <th></th>\n",
       "      <th>Id</th>\n",
       "      <th>X</th>\n",
       "      <th>Y</th>\n",
       "      <th>Z</th>\n",
       "    </tr>\n",
       "  </thead>\n",
       "  <tbody>\n",
       "    <tr>\n",
       "      <th>3</th>\n",
       "      <td>3</td>\n",
       "      <td>64</td>\n",
       "      <td>43</td>\n",
       "      <td>26</td>\n",
       "    </tr>\n",
       "  </tbody>\n",
       "</table>\n",
       "</div>"
      ],
      "text/plain": [
       "   Id   X   Y   Z\n",
       "3   3  64  43  26"
      ]
     },
     "execution_count": 53,
     "metadata": {},
     "output_type": "execute_result"
    }
   ],
   "source": [
    "print(\"Marking record no. \" + str(iter_log[iter]['row_index'])) # --> 3\n",
    "print(\"Marking attribute: \" + str(iter_log[iter]['attribute'])) # --> X\n",
    "dataset.iloc[[iter]]"
   ]
  },
  {
   "cell_type": "code",
   "execution_count": 58,
   "id": "4152dd42",
   "metadata": {},
   "outputs": [
    {
     "name": "stdout",
     "output_type": "stream",
     "text": [
      "Neighbours idx: [7, 9, 39, 33, 34, 2, 17, 27, 31, 20, 25]\n",
      "Neighbours dist: [1.0, 2.0, 3.0, 3.0, 3.0, 4.0, 4.0, 4.0, 5.0, 5.0, 5.0]\n"
     ]
    }
   ],
   "source": [
    "print('Neighbours idx: ' + str(iter_log[iter]['neighbors']))\n",
    "print('Neighbours dist: ' + str(iter_log[iter]['dist']))"
   ]
  },
  {
   "cell_type": "code",
   "execution_count": 56,
   "id": "69d0b76b",
   "metadata": {},
   "outputs": [
    {
     "name": "stdout",
     "output_type": "stream",
     "text": [
      "Target values:[63, 47, 42, 47, 45, 56, 52, 59, 76, 62, 58]\n"
     ]
    }
   ],
   "source": [
    "print('Target values:' + str(list(dataset.iloc[iter_log[iter]['neighbors']][iter_log[iter]['attribute']])))"
   ]
  },
  {
   "cell_type": "code",
   "execution_count": 61,
   "id": "faaf02b0",
   "metadata": {},
   "outputs": [
    {
     "name": "stdout",
     "output_type": "stream",
     "text": [
      "Mark bit is 1, therefore we sample from the dense part of distribution of the variable Z in the neighbourhood.\n"
     ]
    }
   ],
   "source": [
    "mark_bit = iter_log[iter]['mark_bit']\n",
    "print('Mark bit is {}, therefore we sample from the dense part of distribution of the variable Z in the neighbourhood.'.format(mark_bit))"
   ]
  },
  {
   "cell_type": "code",
   "execution_count": 63,
   "id": "5ffad3b2",
   "metadata": {},
   "outputs": [
    {
     "data": {
      "image/png": "[encoded data removed]",
      "text/plain": [
       "<Figure size 640x480 with 1 Axes>"
      ]
     },
     "metadata": {},
     "output_type": "display_data"
    },
    {
     "data": {
      "text/plain": [
       "array([53.43511869])"
      ]
     },
     "execution_count": 63,
     "metadata": {},
     "output_type": "execute_result"
    }
   ],
   "source": [
    "sample_from_area(data=list(dataset.iloc[iter_log[iter]['neighbors']][iter_log[iter]['attribute']]), percent=0.75, \n",
    "                 dense=mark_bit, plot=True, seed=iter_log[iter]['seed'])"
   ]
  },
  {
   "cell_type": "code",
   "execution_count": 64,
   "id": "612904a5",
   "metadata": {},
   "outputs": [
    {
     "name": "stdout",
     "output_type": "stream",
     "text": [
      "52\n"
     ]
    },
    {
     "data": {
      "text/html": [
       "<div>\n",
       "<style scoped>\n",
       "    .dataframe tbody tr th:only-of-type {\n",
       "        vertical-align: middle;\n",
       "    }\n",
       "\n",
       "    .dataframe tbody tr th {\n",
       "        vertical-align: top;\n",
       "    }\n",
       "\n",
       "    .dataframe thead th {\n",
       "        text-align: right;\n",
       "    }\n",
       "</style>\n",
       "<table border=\"1\" class=\"dataframe\">\n",
       "  <thead>\n",
       "    <tr style=\"text-align: right;\">\n",
       "      <th></th>\n",
       "      <th>Id</th>\n",
       "      <th>X</th>\n",
       "      <th>Y</th>\n",
       "      <th>Z</th>\n",
       "    </tr>\n",
       "  </thead>\n",
       "  <tbody>\n",
       "    <tr>\n",
       "      <th>3</th>\n",
       "      <td>3</td>\n",
       "      <td>52</td>\n",
       "      <td>43</td>\n",
       "      <td>26</td>\n",
       "    </tr>\n",
       "  </tbody>\n",
       "</table>\n",
       "</div>"
      ],
      "text/plain": [
       "   Id   X   Y   Z\n",
       "3   3  52  43  26"
      ]
     },
     "execution_count": 64,
     "metadata": {},
     "output_type": "execute_result"
    }
   ],
   "source": [
    "print(iter_log[iter]['new_value'])\n",
    "fingerprinted_data.iloc[[iter]]"
   ]
  },
  {
   "cell_type": "markdown",
   "id": "e793050d",
   "metadata": {},
   "source": [
    "## 2. Detection Algorithm <a class=\"anchor\" id=\"detection\"></a>\n",
    "Detection algorithm takes as input the fingerpirnted dataset and following parameters:\n",
    "- owner's secret key\n",
    "- gamma (original ratio of marked rows), length of the fingerprint\n",
    "- a list of marked attribute names\n",
    "- a list of correlated attributes\n",
    "- whether the algorithm is distance based (_d_ -- max distance for the neighbourhood) or cardinality based (_k_ -- min cardinality of the neighbourhood)"
   ]
  },
  {
   "cell_type": "code",
   "execution_count": null,
   "id": "2dab2c79",
   "metadata": {},
   "outputs": [],
   "source": [
    "fingerprinted_data.head(20)"
   ]
  },
  {
   "cell_type": "code",
   "execution_count": null,
   "id": "849db65c",
   "metadata": {},
   "outputs": [],
   "source": [
    "# 1st position where the mark -should- be\n",
    "suspect, det_iter_log = scheme.demo_detection(fingerprinted_data, secret_key=601, primary_key='Id',\n",
    "                               correlated_attributes=['age', 'menopause', 'inv-nodes', 'node-caps'],\n",
    "                               original_columns=[\"age\", \"menopause\", \"tumor-size\", \"inv-nodes\", \"node-caps\",\n",
    "                                                 \"deg-malig\", \"breast\", \"breast-quad\",\n",
    "                                                 \"irradiat\", \"recurrence\"])"
   ]
  },
  {
   "cell_type": "markdown",
   "id": "173c5016",
   "metadata": {},
   "source": [
    "The detected fingerprint is correct and attributed to the correct recipient, hence, the detection was successful. \n",
    "\n",
    "\n",
    "The detection reverses the insertion process. This means that each step from detection should match the respective step from the insertion in terms of choosing the same marking row, attribute, and a fingerprint bit. \n",
    "Let's inspect the steps:"
   ]
  },
  {
   "cell_type": "markdown",
   "id": "cabcc865",
   "metadata": {},
   "source": [
    "### Step 1 <a class=\"anchor\" id=\"d-step-1\"></a>\n",
    "#### Marking position: \n",
    "- Marking row: 0\n",
    "- Marking attribute: \"_deg-malig_\"\n",
    "- Value at the position: 1"
   ]
  },
  {
   "cell_type": "code",
   "execution_count": null,
   "id": "2d09347b",
   "metadata": {
    "scrolled": true
   },
   "outputs": [],
   "source": [
    "# det_iter_log[0]['row_index'] # --> 0\n",
    "# det_iter_log[0]['attribute'] # --> deg-malig\n",
    "fingerprinted_data.iloc[[0]]"
   ]
  },
  {
   "cell_type": "markdown",
   "id": "5d49b58b",
   "metadata": {},
   "source": [
    "#### Neighbourhood: \n",
    "- Correlated attributes: _age, menopause, inv-nodes, node-caps_\n",
    "- Neighbourhood size: 19\n",
    "- Max distance (hamming): 0"
   ]
  },
  {
   "cell_type": "code",
   "execution_count": null,
   "id": "82449ff2",
   "metadata": {
    "scrolled": true
   },
   "outputs": [],
   "source": [
    "# max(det_iter_log[0]['dist'])\n",
    "fingerprinted_data.iloc[det_iter_log[0]['neighbors']] "
   ]
  },
  {
   "cell_type": "markdown",
   "id": "d9eb193e",
   "metadata": {},
   "source": [
    "- Frequencies in the neighbourhood."
   ]
  },
  {
   "cell_type": "code",
   "execution_count": null,
   "id": "fc5d505c",
   "metadata": {},
   "outputs": [],
   "source": [
    "fig, axs = plt.subplots(1, 2, sharey=True, figsize=(10,4))\n",
    "\n",
    "axs[0].bar(list(det_iter_log[0]['frequencies'].keys()), list(det_iter_log[0]['frequencies'].values()), align='center')\n",
    "axs[0].set_xticks(list(det_iter_log[0]['frequencies'].keys()))\n",
    "axs[0].set_ylabel('% in neighbourhood')\n",
    "axs[0].set_xlabel('value of \\'deg-malig\\' in the neighbourhood\\n (Fingerprinted data)')\n",
    "axs[0].grid(axis='y')\n",
    "\n",
    "axs[1].bar(list(iter_log[0]['frequencies'].keys()), list(iter_log[0]['frequencies'].values()), align='center')\n",
    "axs[1].set_xticks(list(iter_log[0]['frequencies'].keys()))\n",
    "axs[1].set_xlabel('value of \\'deg-malig\\' in the neighbourhood\\n (Original dataset)')\n",
    "axs[1].grid(axis='y')"
   ]
  },
  {
   "cell_type": "markdown",
   "id": "730bd434",
   "metadata": {},
   "source": [
    "On the left-hand side, we show the neighbourhoods in the fingerprinted data obtained during the detection. On the right-hand side we show the neighbourhoods of the same record from the original data for comparison.\n",
    "\n",
    "Note that the neihghbourhood for the same record is not the same -- this is because the fingerprint marks disrupt calculating distances from the record in question. If the similar distribution is preserved, the fingerprint marks will be extracted correctly. The detection algorithm makes a decision on the fingerprint mark based on the frequency ranking and not the exact frequency value. However, this might mean that _some_ marks might be detected wrongly:"
   ]
  },
  {
   "cell_type": "markdown",
   "id": "40dceaf1",
   "metadata": {},
   "source": [
    "#### Detecting the mark:\n",
    "- Mark bit: 1 --> the fingerprinted value is the most represented in the neighbourhood, hence the mark bit must have been 1 according to the insertion algorithm. In this case, this is a detection error. \n",
    "- Detected pseudorandomly in this step:\n",
    "    - Mask bit: 0 (retrieved pseudorandomly in this step)\n",
    "    - Finterprint bit position (index): 8\n",
    "- Fingerprint bit value: 1 (mark bit xor mask bit)"
   ]
  },
  {
   "cell_type": "code",
   "execution_count": null,
   "id": "d9fa55e2",
   "metadata": {},
   "outputs": [],
   "source": [
    "# det_iter_log[0]['mark_bit'] # --> 1\n",
    "# det_iter_log[0]['mask_bit'] # --> 0\n",
    "# det_iter_log[0]['fingerprint_idx'] # --> 8\n",
    "# det_iter_log[0]['fingerprint_bit'] # --> 1\n",
    "\n",
    "# updating the votes for fingerprint \n",
    "Image(\"NCorrFP_scheme/figures/CorNN-demo-Votes-step1.png\")"
   ]
  },
  {
   "cell_type": "markdown",
   "id": "fc1c5d7c",
   "metadata": {},
   "source": [
    "The detection error is only a vote in a fingerprint template, hence, the algorithm still has a chance to recover if the majority of the votes for position 8 will be correct in upcoming steps (0)."
   ]
  },
  {
   "cell_type": "markdown",
   "id": "cba4c161",
   "metadata": {},
   "source": [
    "### Step 2 <a class=\"anchor\" id=\"d-step-2\"></a>\n",
    "#### Marking position: \n",
    "- Marking row: 1\n",
    "- Marking attribute: \"_age_\"\n",
    "- Value at the position: 40-49"
   ]
  },
  {
   "cell_type": "code",
   "execution_count": null,
   "id": "7ab5ade1",
   "metadata": {},
   "outputs": [],
   "source": [
    "det_iter_log[1]['attribute']"
   ]
  },
  {
   "cell_type": "code",
   "execution_count": null,
   "id": "5cdfa059",
   "metadata": {},
   "outputs": [],
   "source": [
    "fingerprinted_data.iloc[[1]]"
   ]
  },
  {
   "cell_type": "markdown",
   "id": "43632234",
   "metadata": {},
   "source": [
    "#### Neighbourhood: \n",
    "- Correlated attributes: _(age), menopause, inv-nodes, node-caps_\n",
    "- Neighbourhood size: 85\n",
    "- Max distance (hamming): 0"
   ]
  },
  {
   "cell_type": "code",
   "execution_count": null,
   "id": "f5715dc1",
   "metadata": {
    "scrolled": true
   },
   "outputs": [],
   "source": [
    "fingerprinted_data.iloc[det_iter_log[1]['neighbors']]"
   ]
  },
  {
   "cell_type": "markdown",
   "id": "705d6bad",
   "metadata": {},
   "source": [
    "- Frequencies in the neighbourhood:"
   ]
  },
  {
   "cell_type": "code",
   "execution_count": null,
   "id": "113c6daa",
   "metadata": {},
   "outputs": [],
   "source": [
    "fig, axs = plt.subplots(1, 2, sharey=True, figsize=(10,4))\n",
    "\n",
    "axs[0].bar(list(det_iter_log[1]['frequencies'].keys()), list(det_iter_log[1]['frequencies'].values()), align='center')\n",
    "axs[0].set_xticks(list(det_iter_log[1]['frequencies'].keys()))\n",
    "axs[0].set_ylabel('% in neighbourhood')\n",
    "axs[0].set_xlabel('value of \\'age\\' in the neighbourhood\\n (Fingerprinted data)')\n",
    "axs[0].grid(axis='y')\n",
    "\n",
    "axs[1].bar(list(iter_log[1]['frequencies'].keys()), list(iter_log[1]['frequencies'].values()), align='center')\n",
    "axs[1].set_xticks(list(iter_log[1]['frequencies'].keys()))\n",
    "axs[1].set_xlabel('value of \\'age\\' in the neighbourhood\\n (Original dataset)')\n",
    "axs[1].grid(axis='y')"
   ]
  },
  {
   "cell_type": "markdown",
   "id": "e326554d",
   "metadata": {},
   "source": [
    "The frequencies this time resemble more closely those in the original data, hence no confusion about the marking bit is made by the detection algorithm: "
   ]
  },
  {
   "cell_type": "markdown",
   "id": "2c18c55f",
   "metadata": {},
   "source": [
    "#### Detecting the mark:\n",
    "- Mark bit: 1 --> the fingerprinted value is the most represented in the neighbourhood, hence the mark bit must have been 1\n",
    "- Detected pseudorandomly in this step:\n",
    "    - Mask bit: 1 \n",
    "    - Finterprint bit position (index): 3\n",
    "- Fingerprint bit value: 0 (mark bit xor mask bit)"
   ]
  },
  {
   "cell_type": "code",
   "execution_count": null,
   "id": "9087ed8f",
   "metadata": {},
   "outputs": [],
   "source": [
    "# det_iter_log[1]['mark_bit'] # --> 1\n",
    "# det_iter_log[1]['mask_bit'] # --> 1\n",
    "# det_iter_log[1]['fingerprint_idx'] # --> 3\n",
    "# det_iter_log[1]['fingerprint_bit'] # --> 0\n",
    "\n",
    "# updating the votes for fingerprint \n",
    "Image(\"NCorrFP_scheme/figures/CorNN-demo-Votes-step2.png\")"
   ]
  },
  {
   "cell_type": "markdown",
   "id": "c9632f63",
   "metadata": {},
   "source": [
    "### Step 3 <a class=\"anchor\" id=\"d-step-3\"></a>\n",
    "#### Marking position: \n",
    "- Marking row: 3\n",
    "- Marking attribute: \"_node-caps_\"\n",
    "- Value at the position: yes"
   ]
  },
  {
   "cell_type": "code",
   "execution_count": null,
   "id": "be43cdfc",
   "metadata": {},
   "outputs": [],
   "source": [
    "fingerprinted_data.iloc[[2]]"
   ]
  },
  {
   "cell_type": "markdown",
   "id": "e840007e",
   "metadata": {},
   "source": [
    "#### Neighbourhood: \n",
    "- Correlated attributes: _age, menopause, inv-nodes, (node-caps)_\n",
    "- Neighbourhood size: 49\n",
    "- Max distance (hamming): 0"
   ]
  },
  {
   "cell_type": "code",
   "execution_count": null,
   "id": "823beffe",
   "metadata": {
    "scrolled": false
   },
   "outputs": [],
   "source": [
    "fingerprinted_data.iloc[det_iter_log[2]['neighbors']]"
   ]
  },
  {
   "cell_type": "markdown",
   "id": "10cda2da",
   "metadata": {},
   "source": [
    "- Frequencies in the neighbourhood:"
   ]
  },
  {
   "cell_type": "code",
   "execution_count": null,
   "id": "9f86497d",
   "metadata": {},
   "outputs": [],
   "source": [
    "fig, axs = plt.subplots(1, 2, sharey=True, figsize=(10,4))\n",
    "\n",
    "axs[0].bar(list(det_iter_log[2]['frequencies'].keys()), list(det_iter_log[2]['frequencies'].values()), align='center')\n",
    "axs[0].set_xticks(list(det_iter_log[2]['frequencies'].keys()))\n",
    "axs[0].set_ylabel('% in neighbourhood')\n",
    "axs[0].set_xlabel('value of \\'node-caps\\' in the neighbourhood\\n (Fingerprinted data)')\n",
    "axs[0].grid(axis='y')\n",
    "\n",
    "axs[1].bar(list(iter_log[2]['frequencies'].keys()), list(iter_log[2]['frequencies'].values()), align='center')\n",
    "axs[1].set_xticks(list(iter_log[2]['frequencies'].keys()))\n",
    "axs[1].set_xlabel('value of \\'node-caps\\' in the neighbourhood\\n (Original dataset)')\n",
    "axs[1].grid(axis='y')"
   ]
  },
  {
   "cell_type": "markdown",
   "id": "ec602cc9",
   "metadata": {},
   "source": [
    "The frequencies resemble the original and it again does not affect the fingerprint bit detection."
   ]
  },
  {
   "cell_type": "markdown",
   "id": "05aed3f3",
   "metadata": {},
   "source": [
    "#### Detecting the mark:\n",
    "- Mark bit: 0 --> the fingerprinted value is not the most represented in the neighbourhood, hence the mark bit must have been 0\n",
    "- Detected pseudorandomly in this step:\n",
    "    - Mask bit: 0\n",
    "    - Finterprint bit position (index): 14\n",
    "- Fingerprint bit value: 0 (mark bit xor mask bit)"
   ]
  },
  {
   "cell_type": "code",
   "execution_count": null,
   "id": "d9bf913e",
   "metadata": {},
   "outputs": [],
   "source": [
    "# det_iter_log[2]['mask_bit'] # --> 0\n",
    "# det_iter_log[2]['fingerprint_idx'] # --> 14\n",
    "# det_iter_log[2]['fingerprint_bit'] # --> 0\n",
    "\n",
    "# updating the votes for fingerprint \n",
    "Image(\"NCorrFP_scheme/figures/CorNN-demo-Votes-step3.png\")"
   ]
  },
  {
   "cell_type": "markdown",
   "id": "54574927",
   "metadata": {},
   "source": [
    "## ...\n",
    "We jump to steps 50, 100, 200 and the last step to see the status of the fingerprint template and the votes:\n",
    "## Step 50 <a class=\"anchor\" id=\"d-step-50\"></a>"
   ]
  },
  {
   "cell_type": "code",
   "execution_count": null,
   "id": "c70d060c",
   "metadata": {},
   "outputs": [],
   "source": [
    "# det_iter_log[49]['fingerprint_bit' # --> 0\n",
    "# [[0, 2], [0, 2], [0, 3], [5, 0], [4, 0], [4, 0], [3, 0], [1, 3], \n",
    "# [1, 1], [3, 1], [0, 5], [0, 3], [0, 2], [0, 3], [4, 0], [0, 0]]\n",
    "\n",
    "# updating the votes for fingerprint \n",
    "Image(\"NCorrFP_scheme/figures/CorNN-demo-Votes-step50.png\")"
   ]
  },
  {
   "cell_type": "markdown",
   "id": "eca98ad9",
   "metadata": {},
   "source": [
    "## Step 100"
   ]
  },
  {
   "cell_type": "code",
   "execution_count": null,
   "id": "c177fadf",
   "metadata": {},
   "outputs": [],
   "source": [
    "# det_iter_log[99]['fingerprint_idx'] # --> 5\n",
    "# [[0, 5], [0, 6], [0, 4], [5, 1], [6, 1], [5, 0], [6, 0], [1, 7], \n",
    "# [3, 1], [5, 2], [0, 7], [0, 7], [1, 7], [1, 7], [10, 0], [2, 0]]\n",
    "\n",
    "# updating the votes for fingerprint \n",
    "Image(\"NCorrFP_scheme/figures/CorNN-demo-Votes-step100.png\")"
   ]
  },
  {
   "cell_type": "markdown",
   "id": "1f2be0cf",
   "metadata": {},
   "source": [
    "## Step 200"
   ]
  },
  {
   "cell_type": "code",
   "execution_count": null,
   "id": "dbfd77de",
   "metadata": {},
   "outputs": [],
   "source": [
    "# det_iter_log[199]['fingerprint_idx'] # --> 2\n",
    "# [[1, 10], [0, 10], [3, 11], [11, 2], [14, 1], [10, 1], [9, 1], [2, 13], \n",
    "#  [9, 2], [9, 3], [1, 12], [2, 17], [2, 10], [1, 14], [15, 1], [3, 0]]\n",
    "\n",
    "\n",
    "# updating the votes for fingerprint \n",
    "Image(\"NCorrFP_scheme/figures/CorNN-demo-Votes-step200.png\")"
   ]
  },
  {
   "cell_type": "markdown",
   "id": "c2b21ea6",
   "metadata": {},
   "source": [
    "## The final result of the detection algorithm\n",
    "With minor errors in voting, the fingerprint bit-string has been recovered succcessfully. Below we see the final bit-wise votes. The corresponding fingerprint is hence [1110000100111100]"
   ]
  },
  {
   "cell_type": "code",
   "execution_count": null,
   "id": "040849e5",
   "metadata": {},
   "outputs": [],
   "source": []
  },
  {
   "cell_type": "code",
   "execution_count": null,
   "id": "162e2ff3",
   "metadata": {},
   "outputs": [],
   "source": [
    "#[[2, 17], [1, 12], [3, 16], [17, 3], [20, 2], [12, 1], [14, 3], [2, 19], \n",
    "# [10, 3], [12, 3], [2, 18], [4, 24], [3, 15], [2, 19], [19, 2], [6, 0]]\n",
    "Image(\"NCorrFP_scheme/figures/CorNN-demo-Votes-last.png\")"
   ]
  }
 ],
 "metadata": {
  "kernelspec": {
   "display_name": "Python3-venv",
   "language": "python",
   "name": "venv"
  },
  "language_info": {
   "codemirror_mode": {
    "name": "ipython",
    "version": 3
   },
   "file_extension": ".py",
   "mimetype": "text/x-python",
   "name": "python",
   "nbconvert_exporter": "python",
   "pygments_lexer": "ipython3",
   "version": "3.10.6"
  }
 },
 "nbformat": 4,
 "nbformat_minor": 5
}
