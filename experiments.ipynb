{
 "cells": [
  {
   "cell_type": "code",
   "execution_count": 1,
   "id": "7e327c57",
   "metadata": {},
   "outputs": [
    {
     "name": "stdout",
     "output_type": "stream",
     "text": [
      "Requirement already satisfied: ucimlrepo in c:\\users\\tsarcevic\\pycharmprojects\\dissertation\\venv\\lib\\site-packages (0.0.7)\n",
      "Requirement already satisfied: pandas>=1.0.0 in c:\\users\\tsarcevic\\pycharmprojects\\dissertation\\venv\\lib\\site-packages (from ucimlrepo) (2.2.2)\n",
      "Requirement already satisfied: certifi>=2020.12.5 in c:\\users\\tsarcevic\\pycharmprojects\\dissertation\\venv\\lib\\site-packages (from ucimlrepo) (2024.8.30)\n",
      "Requirement already satisfied: numpy>=1.23.2 in c:\\users\\tsarcevic\\pycharmprojects\\dissertation\\venv\\lib\\site-packages (from pandas>=1.0.0->ucimlrepo) (1.26.4)\n",
      "Requirement already satisfied: python-dateutil>=2.8.2 in c:\\users\\tsarcevic\\pycharmprojects\\dissertation\\venv\\lib\\site-packages (from pandas>=1.0.0->ucimlrepo) (2.9.0.post0)\n",
      "Requirement already satisfied: pytz>=2020.1 in c:\\users\\tsarcevic\\pycharmprojects\\dissertation\\venv\\lib\\site-packages (from pandas>=1.0.0->ucimlrepo) (2024.1)\n",
      "Requirement already satisfied: tzdata>=2022.7 in c:\\users\\tsarcevic\\pycharmprojects\\dissertation\\venv\\lib\\site-packages (from pandas>=1.0.0->ucimlrepo) (2024.1)\n",
      "Requirement already satisfied: six>=1.5 in c:\\users\\tsarcevic\\pycharmprojects\\dissertation\\venv\\lib\\site-packages (from python-dateutil>=2.8.2->pandas>=1.0.0->ucimlrepo) (1.16.0)\n"
     ]
    },
    {
     "name": "stderr",
     "output_type": "stream",
     "text": [
      "\n",
      "[notice] A new release of pip is available: 24.1.2 -> 24.2\n",
      "[notice] To update, run: python.exe -m pip install --upgrade pip\n"
     ]
    }
   ],
   "source": [
    "!pip install ucimlrepo"
   ]
  },
  {
   "cell_type": "code",
   "execution_count": 2,
   "id": "f2336fba",
   "metadata": {},
   "outputs": [],
   "source": [
    "from ucimlrepo import fetch_ucirepo\n",
    "import seaborn as sns\n",
    "from matplotlib import pyplot as plt\n",
    "import pandas as pd\n",
    "import numpy as np\n",
    "import warnings\n",
    "warnings.filterwarnings('ignore')"
   ]
  },
  {
   "cell_type": "code",
   "execution_count": 3,
   "id": "fa1bd5c6",
   "metadata": {},
   "outputs": [
    {
     "name": "stdout",
     "output_type": "stream",
     "text": [
      "{'uci_id': 14, 'name': 'Breast Cancer', 'repository_url': 'https://archive.ics.uci.edu/dataset/14/breast+cancer', 'data_url': 'https://archive.ics.uci.edu/static/public/14/data.csv', 'abstract': 'This breast cancer domain was obtained from the University Medical Centre, Institute of Oncology, Ljubljana, Yugoslavia. This is one of three domains provided by the Oncology Institute that has repeatedly appeared in the machine learning literature. (See also lymphography and primary-tumor.)', 'area': 'Health and Medicine', 'tasks': ['Classification'], 'characteristics': ['Multivariate'], 'num_instances': 286, 'num_features': 9, 'feature_types': ['Categorical'], 'demographics': ['Age'], 'target_col': ['Class'], 'index_col': None, 'has_missing_values': 'yes', 'missing_values_symbol': 'NaN', 'year_of_dataset_creation': 1988, 'last_updated': 'Thu Mar 07 2024', 'dataset_doi': '10.24432/C51P4M', 'creators': ['Matjaz Zwitter', 'Milan Soklic'], 'intro_paper': None, 'additional_info': {'summary': 'This data set includes 201 instances of one class and 85 instances of another class.  The instances are described by 9 attributes, some of which are linear and some are nominal.\\n', 'purpose': None, 'funded_by': None, 'instances_represent': None, 'recommended_data_splits': None, 'sensitive_data': None, 'preprocessing_description': None, 'variable_info': '   1. Class: no-recurrence-events, recurrence-events\\r\\n   2. age: 10-19, 20-29, 30-39, 40-49, 50-59, 60-69, 70-79, 80-89, 90-99.\\r\\n   3. menopause: lt40, ge40, premeno.\\r\\n   4. tumor-size: 0-4, 5-9, 10-14, 15-19, 20-24, 25-29, 30-34, 35-39, 40-44, 45-49, 50-54, 55-59.\\r\\n   5. inv-nodes: 0-2, 3-5, 6-8, 9-11, 12-14, 15-17, 18-20, 21-23, 24-26, 27-29, 30-32, 33-35, 36-39.\\r\\n   6. node-caps: yes, no.\\r\\n   7. deg-malig: 1, 2, 3.\\r\\n   8. breast: left, right.\\r\\n   9. breast-quad: left-up, left-low, right-up,\\tright-low, central.\\r\\n  10. irradiat:\\tyes, no.', 'citation': 'Obtained from the University Medical Centre, Institute of Oncology, Ljubljana, Yugoslavia.  Thanks go to M. Zwitter and M. Soklic for providing the data.  Please include this citation if you plan to use this database:\\nMatjaz Zwitter & Milan Soklic (physicians)\\nInstitute of Oncology \\nUniversity Medical Center\\nLjubljana, Yugoslavia'}}\n",
      "          name     role         type demographic  \\\n",
      "0        Class   Target       Binary        None   \n",
      "1          age  Feature  Categorical         Age   \n",
      "2    menopause  Feature  Categorical        None   \n",
      "3   tumor-size  Feature  Categorical        None   \n",
      "4    inv-nodes  Feature  Categorical        None   \n",
      "5    node-caps  Feature       Binary        None   \n",
      "6    deg-malig  Feature      Integer        None   \n",
      "7       breast  Feature       Binary        None   \n",
      "8  breast-quad  Feature  Categorical        None   \n",
      "9     irradiat  Feature       Binary        None   \n",
      "\n",
      "                                         description  units missing_values  \n",
      "0            no-recurrence-events, recurrence-events   None             no  \n",
      "1  10-19, 20-29, 30-39, 40-49, 50-59, 60-69, 70-7...  years             no  \n",
      "2                                lt40, ge40, premeno   None             no  \n",
      "3  0-4, 5-9, 10-14, 15-19, 20-24, 25-29, 30-34, 3...   None             no  \n",
      "4   0-2, 3-5, 6-8, 9-11, 12-14, 15-17, 18-20, 21-...   None             no  \n",
      "5                                            yes, no   None            yes  \n",
      "6                                            1, 2, 3   None             no  \n",
      "7                                        left, right   None             no  \n",
      "8   left-up, left-low, right-up,\\tright-low, central   None            yes  \n",
      "9                                            yes, no   None             no  \n"
     ]
    }
   ],
   "source": [
    "# fetch dataset\n",
    "breast_cancer = fetch_ucirepo(id=14)\n",
    "\n",
    "# data (as pandas dataframes)\n",
    "X = breast_cancer.data.features\n",
    "y = breast_cancer.data.targets\n",
    "\n",
    "# metadata\n",
    "print(breast_cancer.metadata)\n",
    "\n",
    "# variable information\n",
    "print(breast_cancer.variables)"
   ]
  },
  {
   "cell_type": "code",
   "execution_count": 4,
   "id": "3c87ed39",
   "metadata": {},
   "outputs": [],
   "source": [
    "# fix values\n",
    "X.fillna('?', inplace=True)\n",
    "X['tumor-size'] = X['tumor-size'].replace({'9-May': '05-9', '14-Oct': '10-14'})\n",
    "X['inv-nodes'] = X['inv-nodes'].replace({'11-Sep': '9-11', '14-Dec': '12-14', '5-Mar': '3-5', '8-Jun': '6-8'})"
   ]
  },
  {
   "cell_type": "code",
   "execution_count": 5,
   "id": "4ea42e38",
   "metadata": {},
   "outputs": [],
   "source": [
    "class CustomLabelEncoder:\n",
    "    def __init__(self):\n",
    "        self.class_mapping = {}\n",
    "\n",
    "    def fit(self, data):\n",
    "        unique_classes = sorted(set(data))  # Sort the data and remove duplicates\n",
    "        self.class_mapping = {label: idx for idx, label in enumerate(unique_classes)}\n",
    "\n",
    "    def transform(self, data):\n",
    "        return [self.class_mapping.get(item, -1)  # Return -1 or any other placeholder for unseen categories\n",
    "                for item in data]\n",
    "\n",
    "    def inverse_transform(self, encoded_data):\n",
    "        inv_map = {v: k for k, v in self.class_mapping.items()}\n",
    "        return [inv_map.get(item, 'Unknown')  # Handle unknown items\n",
    "                for item in encoded_data]\n",
    "\n",
    "    def fit_transform(self, data):\n",
    "        self.fit(data)\n",
    "        return self.transform(data)"
   ]
  },
  {
   "cell_type": "code",
   "execution_count": 6,
   "id": "54359231",
   "metadata": {},
   "outputs": [],
   "source": [
    "class RangeEncoder:\n",
    "    def __init__(self):\n",
    "        self.class_mapping = {}\n",
    "\n",
    "    def fit(self, data):\n",
    "        unique_classes = sorted(set(data))  # Sort the data and remove duplicates\n",
    "        class_map = {int(c.split('-')[0]):c for c in unique_classes}\n",
    "        temp_classes = sorted([int(c.split('-')[0]) for c in unique_classes])\n",
    "\n",
    "        self.class_mapping = {class_map[label]: idx for idx, label in enumerate(temp_classes)}\n",
    "\n",
    "    def transform(self, data):\n",
    "        return [self.class_mapping.get(item, -1)  # Return -1 or any other placeholder for unseen categories\n",
    "                for item in data]\n",
    "\n",
    "    def inverse_transform(self, encoded_data):\n",
    "        inv_map = {v: k for k, v in self.class_mapping.items()}\n",
    "        return [inv_map.get(item, 'Unknown')  # Handle unknown items\n",
    "                for item in encoded_data]\n",
    "\n",
    "    def fit_transform(self, data):\n",
    "        self.fit(data)\n",
    "        return self.transform(data)"
   ]
  },
  {
   "cell_type": "code",
   "execution_count": 7,
   "id": "8ef3cf7c",
   "metadata": {},
   "outputs": [],
   "source": [
    "# label encoder\n",
    "enc_age = CustomLabelEncoder()\n",
    "X['age'] = enc_age.fit_transform(X['age'])\n",
    "enc_meno = CustomLabelEncoder()\n",
    "X['menopause'] = enc_meno.fit_transform(X['menopause'])\n",
    "enc = CustomLabelEncoder()\n",
    "X['tumor-size'] = enc.fit_transform(X['tumor-size'])\n",
    "enc_nodecaps = CustomLabelEncoder()\n",
    "X['node-caps'] = enc.fit_transform(X['node-caps'])\n",
    "X['breast'] = enc.fit_transform(X['breast'])\n",
    "X['breast-quad'] = enc.fit_transform(X['breast-quad'])\n",
    "X['irradiat'] = enc.fit_transform(X['irradiat'])\n",
    "range_enc = RangeEncoder()\n",
    "X['inv-nodes'] = range_enc.fit_transform(X['inv-nodes'])"
   ]
  },
  {
   "cell_type": "code",
   "execution_count": 8,
   "id": "287a2b77",
   "metadata": {},
   "outputs": [
    {
     "name": "stdout",
     "output_type": "stream",
     "text": [
      "Start the NCorr fingerprint insertion algorithm...\n",
      "\tgamma: 1\n",
      "\tcorrelated attributes: ['inv-nodes', 'node-caps']\n",
      "\n",
      "Generated fingerprint for recipient 4: 1001111001101110\n",
      "\n",
      "Generated fingerprint for recipient 4: 1001111001101110\n",
      "Inserting the fingerprint...\n",
      "\n",
      "Training balltrees in: 0.02 sec.\n",
      "Fingerprint inserted.\n",
      "Runtime: 675.54 ms.\n",
      "Start NCorr fingerprint detection algorithm ...\n",
      "\tgamma: 1\n",
      "\tcorrelated attributes: ['inv-nodes', 'node-caps']\n",
      "Training balltrees in: 0.03 sec.\n",
      "Fingerprint detected: 1001111001101110\n",
      "[[5, 14], [10, 1], [21, 1], [4, 13], [1, 17], [5, 15], [3, 13], [14, 3], [14, 2], [1, 20], [2, 17], [17, 2], [3, 13], [4, 11], [2, 20], [17, 1]]\n",
      "Fingerprint belongs to Recipient 4\n",
      "Runtime: 0 ms.\n"
     ]
    }
   ],
   "source": [
    "# code to replicate fingerprint embedding with NCorrFP scheme\n",
    "from NCorrFP_scheme.NCorrFP import NCorrFP\n",
    "\n",
    "scheme = NCorrFP(gamma=1, fingerprint_bit_length=16)\n",
    "# data = \"datasets/breast_cancer_full.csv\"\n",
    "fp_data = scheme.insertion('breast-cancer', primary_key='Id', secret_key=501, recipient_id=4,\n",
    "#                                          outfile='NCorrFP_scheme/outfiles/fp_data_blind_corr_inv_node_501.csv',\n",
    "                                          correlated_attributes=['inv-nodes', 'node-caps'])\n",
    "\n",
    "# sanity check if the detection works\n",
    "suspect = scheme.detection(fp_data, secret_key=501, primary_key='Id',\n",
    "                               correlated_attributes=['inv-nodes', 'node-caps'],\n",
    "                               original_columns=[\"age\",\"menopause\",\"tumor-size\",\"inv-nodes\",\"node-caps\",\"deg-malig\",\"breast\",\"breast-quad\",\n",
    "    \"irradiat\",\"recurrence\"])"
   ]
  },
  {
   "cell_type": "code",
   "execution_count": 9,
   "id": "02d5ca6e",
   "metadata": {},
   "outputs": [],
   "source": [
    "enc_nodecaps = CustomLabelEncoder()\n",
    "fp_data['node-caps'] = enc_nodecaps.fit_transform(fp_data['node-caps'])\n",
    "enc_invnodes = RangeEncoder()\n",
    "fp_data['inv-nodes'] = enc_invnodes.fit_transform(fp_data['inv-nodes'])"
   ]
  },
  {
   "cell_type": "code",
   "execution_count": 10,
   "id": "93a28d1e",
   "metadata": {},
   "outputs": [],
   "source": [
    "# first decode the values\n",
    "X['node-caps'] = enc_nodecaps.inverse_transform(X['node-caps'])\n",
    "X['inv-nodes'] = enc_invnodes.inverse_transform(X['inv-nodes'])\n",
    "fp_data['node-caps'] = enc_nodecaps.inverse_transform(fp_data['node-caps'])\n",
    "fp_data['inv-nodes'] = enc_invnodes.inverse_transform(fp_data['inv-nodes'])"
   ]
  },
  {
   "cell_type": "code",
   "execution_count": 11,
   "id": "92460510",
   "metadata": {},
   "outputs": [
    {
     "data": {
      "text/plain": [
       "[Text(0, 0.5, '0-2'),\n",
       " Text(0, 1.5, '12-14'),\n",
       " Text(0, 2.5, '15-17'),\n",
       " Text(0, 3.5, '24-26'),\n",
       " Text(0, 4.5, '3-5'),\n",
       " Text(0, 5.5, '6-8'),\n",
       " Text(0, 6.5, '9-11')]"
      ]
     },
     "execution_count": 11,
     "metadata": {},
     "output_type": "execute_result"
    },
    {
     "data": {
      "image/png": "[encoded data removed]",
      "text/plain": [
       "<Figure size 1600x400 with 4 Axes>"
      ]
     },
     "metadata": {},
     "output_type": "display_data"
    }
   ],
   "source": [
    "# E.g., inv-nodes and node-caps\n",
    "fig, axs = plt.subplots(1, 2, figsize=(16,4))\n",
    "axs = axs.flat\n",
    "#fig.suptitle('Pairwise attribute distributions')\n",
    "\n",
    "############\n",
    "# ORIGINAL #\n",
    "############\n",
    "# node-caps vs inv-nodes\n",
    "df_2dhist = pd.DataFrame({\n",
    "    x_label: grp['inv-nodes'].value_counts()\n",
    "    for x_label, grp in X.groupby('node-caps')\n",
    "})\n",
    "sns.heatmap(df_2dhist, fmt=\".0f\", cmap=sns.color_palette(\"Blues\", as_cmap=True), annot=True, ax=axs[0])\n",
    "axs[0].set_xlabel('node-caps')\n",
    "axs[0].set_ylabel('inv-nodes')\n",
    "axs[0].set_yticklabels(axs[0].get_yticklabels())\n",
    "#axs[0].set_title('Original data')\n",
    "\n",
    "\n",
    "# NN scheme with correlations\n",
    "df_2dhist = pd.DataFrame({\n",
    "    x_label: grp['inv-nodes'].value_counts()\n",
    "    for x_label, grp in fp_data.groupby('node-caps')\n",
    "})\n",
    "sns.heatmap(df_2dhist, fmt=\".0f\", cmap=sns.color_palette(\"Blues\", as_cmap=True), annot=True, ax=axs[1])\n",
    "axs[1].set_xlabel('node-caps')\n",
    "axs[1].set_ylabel('inv-nodes')\n",
    "axs[1].set_yticklabels(axs[1].get_yticklabels())\n",
    "#axs[3].set_title('NN scheme using correlations')"
   ]
  }
 ],
 "metadata": {
  "kernelspec": {
   "display_name": "Python3-venv",
   "language": "python",
   "name": "venv"
  },
  "language_info": {
   "codemirror_mode": {
    "name": "ipython",
    "version": 3
   },
   "file_extension": ".py",
   "mimetype": "text/x-python",
   "name": "python",
   "nbconvert_exporter": "python",
   "pygments_lexer": "ipython3",
   "version": "3.10.6"
  }
 },
 "nbformat": 4,
 "nbformat_minor": 5
}
