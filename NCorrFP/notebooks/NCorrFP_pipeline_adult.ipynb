{
 "cells": [
  {
   "cell_type": "markdown",
   "id": "8dc92592-6853-486c-bafc-21914ff8c9e1",
   "metadata": {},
   "source": [
    "# Pipeline & Demo: Adult Census dataset\n",
    "\n",
    "This notebook showcases the usage of the NCorrFP on Adult Census dataset.\n",
    "\n",
    "Contents:\n",
    "1. [Data import](#1.-Data-import)\n",
    "\n",
    "2. [Define fingerprinting scheme](#2.-Define-fingerprint-scheme)\n",
    "\n",
    "3. [Insert fingerprint](#3.-Insert-fingerprint)\n",
    "\n",
    "4. [Detect fingerprint](#4.-Detect-fingerprint)\n",
    "\n",
    "5. [Inspect the algorithm (via demo)](#5.-Demo)"
   ]
  },
  {
   "cell_type": "code",
   "execution_count": 5,
   "id": "384b7fa5-0e8d-4635-8872-c46bf0c93e67",
   "metadata": {},
   "outputs": [],
   "source": [
    "import sys\n",
    "sys.path.insert(0, '../../../dissertation')  # make the script standalone for running on server"
   ]
  },
  {
   "cell_type": "code",
   "execution_count": 6,
   "id": "70baa318-03c4-457a-84c0-ff4623d1a9cb",
   "metadata": {},
   "outputs": [],
   "source": [
    "from datasets import Adult, AdultSample\n",
    "from NCorrFP.NCorrFP import NCorrFP\n",
    "\n",
    "import argparse\n",
    "import os\n",
    "from itertools import product\n",
    "from pprint import pprint"
   ]
  },
  {
   "cell_type": "markdown",
   "id": "cabf5cd3-06c8-48ec-9340-1dee3a2718af",
   "metadata": {},
   "source": [
    "## 1. Data import"
   ]
  },
  {
   "cell_type": "code",
   "execution_count": 7,
   "id": "52f5cd99-cf09-4b59-81b4-8ecc7fecbeb5",
   "metadata": {},
   "outputs": [
    {
     "data": {
      "text/html": [
       "<div>\n",
       "<style scoped>\n",
       "    .dataframe tbody tr th:only-of-type {\n",
       "        vertical-align: middle;\n",
       "    }\n",
       "\n",
       "    .dataframe tbody tr th {\n",
       "        vertical-align: top;\n",
       "    }\n",
       "\n",
       "    .dataframe thead th {\n",
       "        text-align: right;\n",
       "    }\n",
       "</style>\n",
       "<table border=\"1\" class=\"dataframe\">\n",
       "  <thead>\n",
       "    <tr style=\"text-align: right;\">\n",
       "      <th></th>\n",
       "      <th>Id</th>\n",
       "      <th>age</th>\n",
       "      <th>workclass</th>\n",
       "      <th>fnlwgt</th>\n",
       "      <th>education</th>\n",
       "      <th>education-num</th>\n",
       "      <th>marital-status</th>\n",
       "      <th>occupation</th>\n",
       "      <th>relationship</th>\n",
       "      <th>race</th>\n",
       "      <th>sex</th>\n",
       "      <th>capital-gain</th>\n",
       "      <th>capital-loss</th>\n",
       "      <th>hours-per-week</th>\n",
       "      <th>native-country</th>\n",
       "      <th>income</th>\n",
       "    </tr>\n",
       "  </thead>\n",
       "  <tbody>\n",
       "    <tr>\n",
       "      <th>0</th>\n",
       "      <td>0</td>\n",
       "      <td>39</td>\n",
       "      <td>State-gov</td>\n",
       "      <td>77516</td>\n",
       "      <td>Bachelors</td>\n",
       "      <td>13</td>\n",
       "      <td>Never-married</td>\n",
       "      <td>Adm-clerical</td>\n",
       "      <td>Not-in-family</td>\n",
       "      <td>White</td>\n",
       "      <td>Male</td>\n",
       "      <td>2174</td>\n",
       "      <td>0</td>\n",
       "      <td>40</td>\n",
       "      <td>United-States</td>\n",
       "      <td>&lt;=50K</td>\n",
       "    </tr>\n",
       "    <tr>\n",
       "      <th>1</th>\n",
       "      <td>1</td>\n",
       "      <td>50</td>\n",
       "      <td>Self-emp-not-inc</td>\n",
       "      <td>83311</td>\n",
       "      <td>Bachelors</td>\n",
       "      <td>13</td>\n",
       "      <td>Married-civ-spouse</td>\n",
       "      <td>Exec-managerial</td>\n",
       "      <td>Husband</td>\n",
       "      <td>White</td>\n",
       "      <td>Male</td>\n",
       "      <td>0</td>\n",
       "      <td>0</td>\n",
       "      <td>13</td>\n",
       "      <td>United-States</td>\n",
       "      <td>&lt;=50K</td>\n",
       "    </tr>\n",
       "    <tr>\n",
       "      <th>2</th>\n",
       "      <td>2</td>\n",
       "      <td>38</td>\n",
       "      <td>Private</td>\n",
       "      <td>215646</td>\n",
       "      <td>HS-grad</td>\n",
       "      <td>9</td>\n",
       "      <td>Divorced</td>\n",
       "      <td>Handlers-cleaners</td>\n",
       "      <td>Not-in-family</td>\n",
       "      <td>White</td>\n",
       "      <td>Male</td>\n",
       "      <td>0</td>\n",
       "      <td>0</td>\n",
       "      <td>40</td>\n",
       "      <td>United-States</td>\n",
       "      <td>&lt;=50K</td>\n",
       "    </tr>\n",
       "    <tr>\n",
       "      <th>3</th>\n",
       "      <td>3</td>\n",
       "      <td>53</td>\n",
       "      <td>Private</td>\n",
       "      <td>234721</td>\n",
       "      <td>11th</td>\n",
       "      <td>7</td>\n",
       "      <td>Married-civ-spouse</td>\n",
       "      <td>Handlers-cleaners</td>\n",
       "      <td>Husband</td>\n",
       "      <td>Black</td>\n",
       "      <td>Male</td>\n",
       "      <td>0</td>\n",
       "      <td>0</td>\n",
       "      <td>40</td>\n",
       "      <td>United-States</td>\n",
       "      <td>&lt;=50K</td>\n",
       "    </tr>\n",
       "    <tr>\n",
       "      <th>4</th>\n",
       "      <td>4</td>\n",
       "      <td>28</td>\n",
       "      <td>Private</td>\n",
       "      <td>338409</td>\n",
       "      <td>Bachelors</td>\n",
       "      <td>13</td>\n",
       "      <td>Married-civ-spouse</td>\n",
       "      <td>Prof-specialty</td>\n",
       "      <td>Wife</td>\n",
       "      <td>Black</td>\n",
       "      <td>Female</td>\n",
       "      <td>0</td>\n",
       "      <td>0</td>\n",
       "      <td>40</td>\n",
       "      <td>Cuba</td>\n",
       "      <td>&lt;=50K</td>\n",
       "    </tr>\n",
       "  </tbody>\n",
       "</table>\n",
       "</div>"
      ],
      "text/plain": [
       "   Id  age         workclass  fnlwgt  education  education-num  \\\n",
       "0   0   39         State-gov   77516  Bachelors             13   \n",
       "1   1   50  Self-emp-not-inc   83311  Bachelors             13   \n",
       "2   2   38           Private  215646    HS-grad              9   \n",
       "3   3   53           Private  234721       11th              7   \n",
       "4   4   28           Private  338409  Bachelors             13   \n",
       "\n",
       "       marital-status         occupation   relationship   race     sex  \\\n",
       "0       Never-married       Adm-clerical  Not-in-family  White    Male   \n",
       "1  Married-civ-spouse    Exec-managerial        Husband  White    Male   \n",
       "2            Divorced  Handlers-cleaners  Not-in-family  White    Male   \n",
       "3  Married-civ-spouse  Handlers-cleaners        Husband  Black    Male   \n",
       "4  Married-civ-spouse     Prof-specialty           Wife  Black  Female   \n",
       "\n",
       "   capital-gain  capital-loss  hours-per-week native-country income  \n",
       "0          2174             0              40  United-States  <=50K  \n",
       "1             0             0              13  United-States  <=50K  \n",
       "2             0             0              40  United-States  <=50K  \n",
       "3             0             0              40  United-States  <=50K  \n",
       "4             0             0              40           Cuba  <=50K  "
      ]
     },
     "execution_count": 7,
     "metadata": {},
     "output_type": "execute_result"
    }
   ],
   "source": [
    "data = Adult()\n",
    "data.dataframe.head()"
   ]
  },
  {
   "cell_type": "code",
   "execution_count": 8,
   "id": "ce701c85-0358-4f35-9d91-311e12fb088a",
   "metadata": {},
   "outputs": [
    {
     "data": {
      "text/plain": [
       "(32561, 16)"
      ]
     },
     "execution_count": 8,
     "metadata": {},
     "output_type": "execute_result"
    }
   ],
   "source": [
    "data.dataframe.shape"
   ]
  },
  {
   "cell_type": "code",
   "execution_count": 9,
   "id": "1f36ce71-d9d6-430d-ba03-7fa1647b04b3",
   "metadata": {},
   "outputs": [
    {
     "data": {
      "text/plain": [
       "[['marital-status', 'sex', 'relationship'], ['education', 'education-num']]"
      ]
     },
     "execution_count": 9,
     "metadata": {},
     "output_type": "execute_result"
    }
   ],
   "source": [
    "data.correlated_attributes"
   ]
  },
  {
   "cell_type": "code",
   "execution_count": 10,
   "id": "706637a7-7abe-4c82-8e38-d18571ac9281",
   "metadata": {},
   "outputs": [
    {
     "data": {
      "text/plain": [
       "Index(['Id', 'age', 'workclass', 'fnlwgt', 'education', 'education-num',\n",
       "       'marital-status', 'occupation', 'relationship', 'race', 'sex',\n",
       "       'capital-gain', 'capital-loss', 'hours-per-week', 'native-country',\n",
       "       'income'],\n",
       "      dtype='object')"
      ]
     },
     "execution_count": 10,
     "metadata": {},
     "output_type": "execute_result"
    }
   ],
   "source": [
    "data.columns"
   ]
  },
  {
   "cell_type": "markdown",
   "id": "091e0ce5-288d-4070-b0e7-4eb4da1e5d1f",
   "metadata": {},
   "source": [
    "## 2. Define fingerprint scheme"
   ]
  },
  {
   "cell_type": "code",
   "execution_count": 11,
   "id": "66617430-1299-443f-9ef6-9e66b2f349c8",
   "metadata": {},
   "outputs": [],
   "source": [
    "param = {'gamma': 3,#, 4, 8, 16, 32],\n",
    "              'k': int(0.01*data.dataframe.shape[0]), #, 1000], # 1% of data size\n",
    "              'fingerprint_length': 100, #, 256, 512],#, 128, 256],  # , 128, 256],\n",
    "              'n_recipients': 20,\n",
    "              'sk': 100,\n",
    "              'id': 0\n",
    "             }"
   ]
  },
  {
   "cell_type": "code",
   "execution_count": 12,
   "id": "8649d74b-a457-4bbf-8de2-f4de85390d89",
   "metadata": {},
   "outputs": [],
   "source": [
    "scheme = NCorrFP(gamma=param['gamma'], fingerprint_bit_length=param['fingerprint_length'], k=param['k'],\n",
    "                             number_of_recipients=param['n_recipients'], fingerprint_code_type='tardos')"
   ]
  },
  {
   "cell_type": "markdown",
   "id": "b192d12b-7cd3-4528-a083-4cf00e7eb8f2",
   "metadata": {},
   "source": [
    "## 3. Insert fingerprint"
   ]
  },
  {
   "cell_type": "code",
   "execution_count": 13,
   "id": "f41d2f22-f0f0-4610-afc0-4b196aec5edd",
   "metadata": {},
   "outputs": [
    {
     "name": "stdout",
     "output_type": "stream",
     "text": [
      "Start the NCorr fingerprint insertion algorithm...\n",
      "\tgamma: 3\n",
      "\tk: 325\n",
      "\tcorrelated attributes: [['marital-status', 'sex', 'relationship'], ['education', 'education-num']]\n",
      "\n",
      "Generated a tardos fingerprint for recipient 0: 1000111100010001110100100010110101101000011001111101010011001101010111010010110110101001011110010111\n",
      "Inserting the fingerprint...\n",
      "\n",
      "Training balltrees in: 2.7377 sec.\n",
      "Fingerprint inserted.\n",
      "Runtime: 97.14 sec.\n",
      "{'query_time': 40.672388315200806, 'write_time': 2.6565465927124023, 'read_time': 0.16793012619018555, 'mark_time': 46.479114294052124}\n"
     ]
    }
   ],
   "source": [
    "fp_data = scheme.insertion(data, secret_key=param['sk'], recipient_id=param['id'],\n",
    "                             correlated_attributes=data.correlated_attributes, save_computation=True, \n",
    "                           outfile='adult_fp_temp.csv')"
   ]
  },
  {
   "cell_type": "code",
   "execution_count": 14,
   "id": "95a45d0f-451d-40d6-a994-af5df84001b1",
   "metadata": {},
   "outputs": [
    {
     "data": {
      "text/html": [
       "<div>\n",
       "<style scoped>\n",
       "    .dataframe tbody tr th:only-of-type {\n",
       "        vertical-align: middle;\n",
       "    }\n",
       "\n",
       "    .dataframe tbody tr th {\n",
       "        vertical-align: top;\n",
       "    }\n",
       "\n",
       "    .dataframe thead th {\n",
       "        text-align: right;\n",
       "    }\n",
       "</style>\n",
       "<table border=\"1\" class=\"dataframe\">\n",
       "  <thead>\n",
       "    <tr style=\"text-align: right;\">\n",
       "      <th></th>\n",
       "      <th>Id</th>\n",
       "      <th>age</th>\n",
       "      <th>workclass</th>\n",
       "      <th>fnlwgt</th>\n",
       "      <th>education</th>\n",
       "      <th>education-num</th>\n",
       "      <th>marital-status</th>\n",
       "      <th>occupation</th>\n",
       "      <th>relationship</th>\n",
       "      <th>race</th>\n",
       "      <th>sex</th>\n",
       "      <th>capital-gain</th>\n",
       "      <th>capital-loss</th>\n",
       "      <th>hours-per-week</th>\n",
       "      <th>native-country</th>\n",
       "      <th>income</th>\n",
       "    </tr>\n",
       "  </thead>\n",
       "  <tbody>\n",
       "    <tr>\n",
       "      <th>0</th>\n",
       "      <td>0</td>\n",
       "      <td>39</td>\n",
       "      <td>State-gov</td>\n",
       "      <td>77516</td>\n",
       "      <td>Bachelors</td>\n",
       "      <td>13</td>\n",
       "      <td>Never-married</td>\n",
       "      <td>Adm-clerical</td>\n",
       "      <td>Not-in-family</td>\n",
       "      <td>White</td>\n",
       "      <td>Male</td>\n",
       "      <td>2174</td>\n",
       "      <td>0</td>\n",
       "      <td>40</td>\n",
       "      <td>United-States</td>\n",
       "      <td>&lt;=50K</td>\n",
       "    </tr>\n",
       "    <tr>\n",
       "      <th>1</th>\n",
       "      <td>1</td>\n",
       "      <td>50</td>\n",
       "      <td>Self-emp-not-inc</td>\n",
       "      <td>83311</td>\n",
       "      <td>Bachelors</td>\n",
       "      <td>13</td>\n",
       "      <td>Married-civ-spouse</td>\n",
       "      <td>Exec-managerial</td>\n",
       "      <td>Husband</td>\n",
       "      <td>White</td>\n",
       "      <td>Male</td>\n",
       "      <td>0</td>\n",
       "      <td>0</td>\n",
       "      <td>13</td>\n",
       "      <td>United-States</td>\n",
       "      <td>&lt;=50K</td>\n",
       "    </tr>\n",
       "    <tr>\n",
       "      <th>2</th>\n",
       "      <td>2</td>\n",
       "      <td>38</td>\n",
       "      <td>Private</td>\n",
       "      <td>167613</td>\n",
       "      <td>HS-grad</td>\n",
       "      <td>9</td>\n",
       "      <td>Divorced</td>\n",
       "      <td>Handlers-cleaners</td>\n",
       "      <td>Not-in-family</td>\n",
       "      <td>White</td>\n",
       "      <td>Male</td>\n",
       "      <td>0</td>\n",
       "      <td>0</td>\n",
       "      <td>40</td>\n",
       "      <td>United-States</td>\n",
       "      <td>&lt;=50K</td>\n",
       "    </tr>\n",
       "    <tr>\n",
       "      <th>3</th>\n",
       "      <td>3</td>\n",
       "      <td>53</td>\n",
       "      <td>Private</td>\n",
       "      <td>234721</td>\n",
       "      <td>11th</td>\n",
       "      <td>7</td>\n",
       "      <td>Married-civ-spouse</td>\n",
       "      <td>Handlers-cleaners</td>\n",
       "      <td>Husband</td>\n",
       "      <td>Black</td>\n",
       "      <td>Male</td>\n",
       "      <td>0</td>\n",
       "      <td>0</td>\n",
       "      <td>40</td>\n",
       "      <td>United-States</td>\n",
       "      <td>&lt;=50K</td>\n",
       "    </tr>\n",
       "    <tr>\n",
       "      <th>4</th>\n",
       "      <td>4</td>\n",
       "      <td>28</td>\n",
       "      <td>Private</td>\n",
       "      <td>338409</td>\n",
       "      <td>Bachelors</td>\n",
       "      <td>13</td>\n",
       "      <td>Married-civ-spouse</td>\n",
       "      <td>Prof-specialty</td>\n",
       "      <td>Wife</td>\n",
       "      <td>Black</td>\n",
       "      <td>Female</td>\n",
       "      <td>0</td>\n",
       "      <td>0</td>\n",
       "      <td>40</td>\n",
       "      <td>Cuba</td>\n",
       "      <td>&lt;=50K</td>\n",
       "    </tr>\n",
       "  </tbody>\n",
       "</table>\n",
       "</div>"
      ],
      "text/plain": [
       "   Id  age         workclass  fnlwgt  education  education-num  \\\n",
       "0   0   39         State-gov   77516  Bachelors             13   \n",
       "1   1   50  Self-emp-not-inc   83311  Bachelors             13   \n",
       "2   2   38           Private  167613    HS-grad              9   \n",
       "3   3   53           Private  234721       11th              7   \n",
       "4   4   28           Private  338409  Bachelors             13   \n",
       "\n",
       "       marital-status         occupation   relationship   race     sex  \\\n",
       "0       Never-married       Adm-clerical  Not-in-family  White    Male   \n",
       "1  Married-civ-spouse    Exec-managerial        Husband  White    Male   \n",
       "2            Divorced  Handlers-cleaners  Not-in-family  White    Male   \n",
       "3  Married-civ-spouse  Handlers-cleaners        Husband  Black    Male   \n",
       "4  Married-civ-spouse     Prof-specialty           Wife  Black  Female   \n",
       "\n",
       "   capital-gain  capital-loss  hours-per-week native-country income  \n",
       "0          2174             0              40  United-States  <=50K  \n",
       "1             0             0              13  United-States  <=50K  \n",
       "2             0             0              40  United-States  <=50K  \n",
       "3             0             0              40  United-States  <=50K  \n",
       "4             0             0              40           Cuba  <=50K  "
      ]
     },
     "execution_count": 14,
     "metadata": {},
     "output_type": "execute_result"
    }
   ],
   "source": [
    "fp_data.head()"
   ]
  },
  {
   "cell_type": "code",
   "execution_count": 15,
   "id": "95820e22-8eda-493e-b479-b54d2c21be42",
   "metadata": {
    "scrolled": true
   },
   "outputs": [
    {
     "data": {
      "text/html": [
       "<div>\n",
       "<style scoped>\n",
       "    .dataframe tbody tr th:only-of-type {\n",
       "        vertical-align: middle;\n",
       "    }\n",
       "\n",
       "    .dataframe tbody tr th {\n",
       "        vertical-align: top;\n",
       "    }\n",
       "\n",
       "    .dataframe thead tr th {\n",
       "        text-align: left;\n",
       "    }\n",
       "</style>\n",
       "<table border=\"1\" class=\"dataframe\">\n",
       "  <thead>\n",
       "    <tr>\n",
       "      <th></th>\n",
       "      <th colspan=\"2\" halign=\"left\">age</th>\n",
       "      <th colspan=\"2\" halign=\"left\">fnlwgt</th>\n",
       "      <th colspan=\"2\" halign=\"left\">marital-status</th>\n",
       "      <th colspan=\"2\" halign=\"left\">sex</th>\n",
       "      <th colspan=\"2\" halign=\"left\">income</th>\n",
       "    </tr>\n",
       "    <tr>\n",
       "      <th></th>\n",
       "      <th>self</th>\n",
       "      <th>other</th>\n",
       "      <th>self</th>\n",
       "      <th>other</th>\n",
       "      <th>self</th>\n",
       "      <th>other</th>\n",
       "      <th>self</th>\n",
       "      <th>other</th>\n",
       "      <th>self</th>\n",
       "      <th>other</th>\n",
       "    </tr>\n",
       "  </thead>\n",
       "  <tbody>\n",
       "    <tr>\n",
       "      <th>2</th>\n",
       "      <td>NaN</td>\n",
       "      <td>NaN</td>\n",
       "      <td>167613.0</td>\n",
       "      <td>215646.0</td>\n",
       "      <td>NaN</td>\n",
       "      <td>NaN</td>\n",
       "      <td>NaN</td>\n",
       "      <td>NaN</td>\n",
       "      <td>NaN</td>\n",
       "      <td>NaN</td>\n",
       "    </tr>\n",
       "    <tr>\n",
       "      <th>5</th>\n",
       "      <td>NaN</td>\n",
       "      <td>NaN</td>\n",
       "      <td>NaN</td>\n",
       "      <td>NaN</td>\n",
       "      <td>Married-AF-spouse</td>\n",
       "      <td>Married-civ-spouse</td>\n",
       "      <td>NaN</td>\n",
       "      <td>NaN</td>\n",
       "      <td>NaN</td>\n",
       "      <td>NaN</td>\n",
       "    </tr>\n",
       "    <tr>\n",
       "      <th>8</th>\n",
       "      <td>NaN</td>\n",
       "      <td>NaN</td>\n",
       "      <td>NaN</td>\n",
       "      <td>NaN</td>\n",
       "      <td>NaN</td>\n",
       "      <td>NaN</td>\n",
       "      <td>NaN</td>\n",
       "      <td>NaN</td>\n",
       "      <td>&lt;=50K</td>\n",
       "      <td>&gt;50K</td>\n",
       "    </tr>\n",
       "    <tr>\n",
       "      <th>9</th>\n",
       "      <td>27.0</td>\n",
       "      <td>42.0</td>\n",
       "      <td>NaN</td>\n",
       "      <td>NaN</td>\n",
       "      <td>NaN</td>\n",
       "      <td>NaN</td>\n",
       "      <td>NaN</td>\n",
       "      <td>NaN</td>\n",
       "      <td>NaN</td>\n",
       "      <td>NaN</td>\n",
       "    </tr>\n",
       "    <tr>\n",
       "      <th>19</th>\n",
       "      <td>NaN</td>\n",
       "      <td>NaN</td>\n",
       "      <td>NaN</td>\n",
       "      <td>NaN</td>\n",
       "      <td>NaN</td>\n",
       "      <td>NaN</td>\n",
       "      <td>Male</td>\n",
       "      <td>Female</td>\n",
       "      <td>NaN</td>\n",
       "      <td>NaN</td>\n",
       "    </tr>\n",
       "  </tbody>\n",
       "</table>\n",
       "</div>"
      ],
      "text/plain": [
       "     age          fnlwgt               marital-status                      \\\n",
       "    self other      self     other               self               other   \n",
       "2    NaN   NaN  167613.0  215646.0                NaN                 NaN   \n",
       "5    NaN   NaN       NaN       NaN  Married-AF-spouse  Married-civ-spouse   \n",
       "8    NaN   NaN       NaN       NaN                NaN                 NaN   \n",
       "9   27.0  42.0       NaN       NaN                NaN                 NaN   \n",
       "19   NaN   NaN       NaN       NaN                NaN                 NaN   \n",
       "\n",
       "     sex         income        \n",
       "    self   other   self other  \n",
       "2    NaN     NaN    NaN   NaN  \n",
       "5    NaN     NaN    NaN   NaN  \n",
       "8    NaN     NaN  <=50K  >50K  \n",
       "9    NaN     NaN    NaN   NaN  \n",
       "19  Male  Female    NaN   NaN  "
      ]
     },
     "execution_count": 15,
     "metadata": {},
     "output_type": "execute_result"
    }
   ],
   "source": [
    "df_diff = fp_data.head(20).compare(data.dataframe.head(20))\n",
    "df_diff"
   ]
  },
  {
   "cell_type": "markdown",
   "id": "4d9b99f5-41ae-4414-bc6b-27e8d39230a0",
   "metadata": {},
   "source": [
    "## 4. Detect fingerprint"
   ]
  },
  {
   "cell_type": "code",
   "execution_count": 16,
   "id": "8fcb6399-abfb-47cc-8c07-39bc84a59863",
   "metadata": {},
   "outputs": [
    {
     "name": "stdout",
     "output_type": "stream",
     "text": [
      "Start NCorr fingerprint detection algorithm ...\n",
      "\tgamma: 3\n",
      "\tk: 325\n",
      "\tfp length: 100\n",
      "\ttotal # recipients: 20\n",
      "\tcorrelated attributes: [['marital-status', 'sex', 'relationship'], ['education', 'education-num']]\n",
      "Training balltrees in: 1.4924 sec.\n",
      "Fingerprint detected: 1000111100010001110100100010110101101000011001111101010011001101010111010010110110101001011110010111\n",
      "[[10, 85], [94, 4], [101, 8], [89, 12], [10, 99], [8, 80], [4, 83], [9, 83], [92, 8], [80, 6], [77, 6], [6, 77], [97, 4], [86, 9], [67, 8], [8, 76], [9, 110], [9, 88], [90, 4], [4, 80], [79, 4], [75, 8], [4, 72], [72, 10], [91, 9], [78, 9], [2, 73], [90, 7], [8, 76], [3, 78], [89, 16], [4, 84], [90, 4], [10, 77], [9, 64], [71, 5], [8, 84], [84, 10], [93, 9], [83, 5], [85, 4], [9, 74], [7, 76], [85, 7], [91, 5], [6, 95], [5, 77], [5, 86], [5, 87], [1, 85], [78, 10], [7, 73], [100, 3], [11, 71], [82, 6], [84, 7], [8, 69], [8, 99], [82, 7], [87, 5], [7, 91], [14, 76], [92, 13], [9, 78], [91, 6], [10, 80], [69, 8], [10, 84], [6, 90], [6, 77], [77, 5], [2, 98], [82, 5], [86, 4], [7, 88], [97, 8], [7, 71], [8, 76], [83, 9], [6, 88], [8, 86], [82, 7], [5, 84], [94, 6], [7, 65], [81, 6], [76, 1], [4, 92], [92, 7], [5, 67], [5, 83], [13, 92], [6, 82], [82, 9], [92, 7], [10, 77], [87, 4], [7, 80], [5, 87], [5, 103]]\n",
      "Code length:  100\n",
      "The fingerprint is matched with probabilities:\n",
      "{0: 1.0, 3: 0.82, 13: 0.81, 7: 0.8, 1: 0.79, 4: 0.78, 9: 0.78, 17: 0.78, 2: 0.77, 12: 0.76, 5: 0.75, 10: 0.75, 15: 0.75, 16: 0.74, 19: 0.74, 6: 0.73, 8: 0.72, 11: 0.72, 14: 0.71, 18: 0.7}\n",
      "Collusion scores:  {4: 141.22907433736063, 3: 137.3583847800227, 0: 135.89235603485812, 17: 134.7659492868498, 13: 134.071273609141, 16: 134.03017814328354, 12: 132.80440782865432, 2: 131.9365684243283, 9: 130.36109296864973, 10: 129.91686668104322, 7: 129.8350146377001, 14: 129.19331714808158, 6: 128.251037886238, 15: 128.2344248553211, 11: 127.90616461027504, 5: 125.78008291803111, 1: 125.15637294873865, 18: 124.84469762171022, 8: 123.64029617844517, 19: 123.40512096605264}\n",
      "Runtime: 84.14 sec.\n"
     ]
    }
   ],
   "source": [
    "detected_fp, votes, suspect_probvec = scheme.detection(fp_data, secret_key=param['sk'],\n",
    "                                                                   primary_key='Id',\n",
    "                                                                   correlated_attributes=data.correlated_attributes,\n",
    "                                                                   original_columns=list(data.columns))"
   ]
  },
  {
   "cell_type": "markdown",
   "id": "3ebf5ba3-185c-42b6-a091-7032da2f3b10",
   "metadata": {},
   "source": [
    "## 5. Demo"
   ]
  },
  {
   "cell_type": "code",
   "execution_count": 17,
   "id": "8448f320-d2e1-4ba9-a83c-be5cc5bc32d6",
   "metadata": {},
   "outputs": [],
   "source": [
    "from NCorrFP.demo import *"
   ]
  },
  {
   "cell_type": "code",
   "execution_count": 18,
   "id": "2c33ae21-b5a2-4ac4-9a93-1142caec242b",
   "metadata": {},
   "outputs": [],
   "source": [
    "demo = Demo(scheme)"
   ]
  },
  {
   "cell_type": "code",
   "execution_count": 19,
   "id": "84f5b2bb-677d-4f33-8f15-6e34089346a8",
   "metadata": {},
   "outputs": [
    {
     "data": {
      "text/plain": [
       "693"
      ]
     },
     "execution_count": 19,
     "metadata": {},
     "output_type": "execute_result"
    }
   ],
   "source": [
    "len(demo.get_error_iterations())"
   ]
  },
  {
   "cell_type": "code",
   "execution_count": 20,
   "id": "335fbc22-b49c-4793-a88a-38d4714e6521",
   "metadata": {},
   "outputs": [
    {
     "data": {
      "text/plain": [
       "10723"
      ]
     },
     "execution_count": 20,
     "metadata": {},
     "output_type": "execute_result"
    }
   ],
   "source": [
    "len(demo.detection_iter_log)"
   ]
  },
  {
   "cell_type": "code",
   "execution_count": 21,
   "id": "4559eb1d-d928-4c98-8a45-9fe6fd01e05e",
   "metadata": {},
   "outputs": [
    {
     "data": {
      "text/plain": [
       "0.06462743635176722"
      ]
     },
     "execution_count": 21,
     "metadata": {},
     "output_type": "execute_result"
    }
   ],
   "source": [
    "len(demo.get_error_iterations())/len(demo.detection_iter_log)  # vote errors"
   ]
  },
  {
   "cell_type": "code",
   "execution_count": 22,
   "id": "da2e2984-9cc9-4add-bba0-ad84d7662700",
   "metadata": {},
   "outputs": [
    {
     "data": {
      "text/plain": [
       "array([ 37,  42,  48,  62,  72,  79,  88, 102, 110, 194, 196, 201, 202,\n",
       "       230, 237, 249, 252, 268, 269, 272, 284, 286, 327, 328, 334, 338,\n",
       "       342, 344, 370, 378])"
      ]
     },
     "execution_count": 22,
     "metadata": {},
     "output_type": "execute_result"
    }
   ],
   "source": [
    "np.array(demo.get_error_iterations())[:30]"
   ]
  },
  {
   "cell_type": "code",
   "execution_count": 23,
   "id": "70229295-71c6-4f4a-b63d-60c69263e86f",
   "metadata": {},
   "outputs": [
    {
     "data": {
      "text/plain": [
       "Counter({'capital-loss': 56,\n",
       "         'capital-gain': 356,\n",
       "         'hours-per-week': 10,\n",
       "         'marital-status': 146,\n",
       "         'education': 41,\n",
       "         'occupation': 9,\n",
       "         'age': 35,\n",
       "         'fnlwgt': 22,\n",
       "         'sex': 2,\n",
       "         'education-num': 9,\n",
       "         'relationship': 3,\n",
       "         'workclass': 1,\n",
       "         'income': 3})"
      ]
     },
     "execution_count": 23,
     "metadata": {},
     "output_type": "execute_result"
    }
   ],
   "source": [
    "from collections import Counter\n",
    "\n",
    "err_attrs = []\n",
    "for e in demo.get_error_iterations():\n",
    "    err_attrs.append(demo.detection_iter_log[e]['attribute'])\n",
    "Counter(err_attrs)"
   ]
  },
  {
   "cell_type": "code",
   "execution_count": 24,
   "id": "189bcc68-fe47-4547-a777-1a3312575504",
   "metadata": {},
   "outputs": [
    {
     "name": "stdout",
     "output_type": "stream",
     "text": [
      "Marking record no. 243\n",
      "Marking attribute: capital-gain\n",
      "The record to mark: \n",
      "    Id  age  workclass  fnlwgt education  education-num      marital-status  \\\n",
      "79  79   31  Local-gov  125927   7th-8th              4  Married-civ-spouse   \n",
      "\n",
      "         occupation relationship   race   sex  capital-gain  capital-loss  \\\n",
      "79  Farming-fishing      Husband  White  Male             0             0   \n",
      "\n",
      "    hours-per-week native-country income  \n",
      "79              40  United-States  <=50K  \n",
      "------------------------------------------------------------------------------------------------------------------\n",
      "Neighbourhood: capital-gain is not a correlated attribute, so we are including all attributes to find the closest neighbourhood.\n",
      "Neighbours idx: [  243  9304 15206 32124 12794  5041 10224  4926 16305  9175 29651  6924\n",
      " 12487 15929  4446 25160 19256  9558 15155  3051 32543  7781 11587 15297\n",
      " 26535 13649  1316 10457 18214 24561 16179  3154  1383 27838  8393 28217\n",
      " 31594  2158 16933   342 19932  1648 19523 25013 24590 14835 30748  6573\n",
      "  9577 32099  7140   849 26667 16447 18189 32115 30839  6656  5287  2637\n",
      "  7293 17922 12736  1827  9314 10991   762  2297 12985 18046 10953 17226\n",
      " 29809  9128  3619  9035 16009 25197 10917 24268  8833 20461 13641  9984\n",
      "  2273   121 17762  7661 29989 30152 29996 25398 17452  6921 12135 15452\n",
      " 29483  7572 22496  8840 18216 12986 29798 16790  1187 30922  3108  5985\n",
      "  2274 14015 22210 22518  4219  3770 28742 11201  7952 29762 15439  7138\n",
      " 20408  9642  8457 23674  5110 23624 28436 15021 30338 18432 32187  8186\n",
      " 32330 11392 31190 19505 18622 17489  1103 27011  5387 24748 21362 26131\n",
      "  3751 16531 16380  1921 17865 14191 27874 23607   469 28621 21515 10464\n",
      " 19398 21429 28107 31387 19034 18788 27175 11989 32111 24920 27336 30648\n",
      "  7364 25038 32352 31617  7770  6201 16241 28921 10743 26800  5731 29846\n",
      "   412 25353 20619 31612  1013  7991  1596 29755 17385 19073  5055  1899\n",
      "   729 23435  2666 19537  5014 11044  8767  9554 32184 28675  8360 26228\n",
      " 17714 31994 16488 28055 11633  6806 12959 26122 31077 26644 23926 28958\n",
      "  7937 32140 19508 18637 12159  9866 20556 15816  4504 23985 24604 16046\n",
      "  8410  5778 24539  6710  7101  4990 18246 30550 12860  9652 23819   757\n",
      "  6582 26966  7939 21618 12098 25418 20749  7840 24040 19287 25644  1108\n",
      " 26302 27635 24035  4797 26820 31240 10100  8817 16909 12109  8079 25760\n",
      " 31067 15104 12467 12141 26074 30964 15023 12501  6968  1086 16106 18663\n",
      " 16431 24084  1976  1772 14985 21198 16624  6100 12151 25534 26086  8353\n",
      " 12785 10081 26812 23537 15839  2281 28403  6692 11223 22908 12698 26968\n",
      "  5366 31848 20653 11448 26597 24010 11929  7536 19214  3972 23999  1655\n",
      " 23892  5124  1528 30742 30544 27468 31396  4681  8635  4501 16672 15162\n",
      " 19969]\n",
      "Neighbours dist: [[   0.            4.47213595    8.1240384    21.04756518   21.47091055\n",
      "    21.54065923   22.02271555   29.41088234   31.4960315    33.30165161\n",
      "    33.83784863   37.20215048   39.17907605   41.58124577   43.\n",
      "    46.70117772   47.02127178   53.38539126   54.75399529   58.58327406\n",
      "    58.71967302   59.53150426   62.16108107   62.78534861   63.71028174\n",
      "    63.97655821   64.6529195    64.96152708   68.76045375   75.7627877\n",
      "    78.17928114   86.03487665   86.68333173   96.75226096  102.20078278\n",
      "   106.65364504  107.52674086  114.0657705   114.24097339  119.63695081\n",
      "   121.20231021  122.46223908  125.31959145  125.97221916  126.2893503\n",
      "   131.36590121  131.81805643  133.4503653   151.89140858  167.11971757\n",
      "   189.01851761  190.4389666   193.450252    204.20577857  205.72068442\n",
      "   206.97342825  211.31966307  215.50638042  215.92822882  216.52020691\n",
      "   217.7957759   218.8538325   236.71079401  248.12698362  249.02208737\n",
      "   256.30060476  256.57162743  256.61449686  256.70021426  257.11476037\n",
      "   258.57494078  266.07329817  266.88574334  267.16474318  267.33312552\n",
      "   267.50700925  268.86427803  269.07619739  270.94279839  273.97080136\n",
      "   277.33733971  284.81397438  296.75747674  298.03523282  304.6686725\n",
      "   306.42943723  309.06148256  309.5464424   314.27058405  317.81913095\n",
      "   318.65184763  318.78519414  319.4526569   326.98776736  338.23364705\n",
      "   352.95750452  357.70518587  361.20492798  364.68068224  365.31903865\n",
      "   365.50923381  366.13931775  367.51190457  367.97418388  379.88024429\n",
      "   388.20870675  390.28451161  404.98271568  410.51187559  410.76757418\n",
      "   411.09244702  416.77691875  420.24040739  422.70557129  436.22471273\n",
      "   436.23961306  440.55760123  444.30282466  446.73482067  446.82882629\n",
      "   456.40661695  462.40566606  463.39184283  463.48894269  463.50296655\n",
      "   463.69925598  470.65698762  471.24940318  473.88711736  475.77305514\n",
      "   499.25945159  499.48573553  499.6678897   505.13958467  509.40357282\n",
      "   510.61531509  528.63692644  529.73672706  538.33446852  548.35390032\n",
      "   548.41863572  548.52164953  552.46628856  565.90105142  565.9337417\n",
      "   566.9753081   572.59235063  585.67653188  590.12625768  592.34111794\n",
      "   596.49476108  597.7281991   605.29414337  605.45520065  605.51300564\n",
      "   605.54933738  605.6863875   605.68721301  606.6193205   606.65970692\n",
      "   606.70915602  608.1504748   608.18089414  620.83170022  620.93800013\n",
      "   621.2728869   633.39718976  636.60113101  637.3774392   637.41744564\n",
      "   637.44568396  637.45901829  637.50764701  637.5280386   637.83696977\n",
      "   637.89575951  638.44341958  639.21983699  651.86655076  656.39850701\n",
      "   656.47162924  656.49828636  659.89317317  660.28175804  662.89818223\n",
      "   670.44612013  674.33596968  677.48948331  679.34232902  680.16321571\n",
      "   682.15907236  682.78400684  685.90232541  692.45649683  694.43070209\n",
      "   700.08785163  704.37064107  710.78688789  727.85094628  734.6829248\n",
      "   737.74521347  748.73493307  749.16820541  755.12316876  757.49455444\n",
      "   757.53085746  763.5522248   773.49402066  780.07050963  780.12178536\n",
      "   781.03905152  783.75633969  789.05703216  792.02462083  799.23776187\n",
      "   801.38255534  804.06094296  808.04331567  820.17315245  826.79138844\n",
      "   831.68984604  832.26017567  836.51001189  836.57157494  837.17202533\n",
      "   846.12114972  850.05058673  854.08723208  867.45605076  873.01317287\n",
      "   873.28746699  885.35247218  889.94887494  890.14493202  890.27748483\n",
      "   895.43118105  898.46814078  901.72944945  905.23146211  908.52187646\n",
      "   911.04280909  912.15075508  912.28723547  912.30806201  918.19333476\n",
      "   918.46284628  918.50204137  918.73391142  926.2521255   926.26346144\n",
      "   926.28451353  944.48980937  944.64331893  945.68070722  960.90790402\n",
      "   965.93426277  970.08556324  970.26491228  970.30356075  974.42444551\n",
      "   975.01589731  975.46911791  975.61057805  975.65413954  975.69103716\n",
      "   975.81504395  975.86371999  976.25099232  976.47836638  976.70722328\n",
      "   976.72155705  979.34672103  995.31703492  995.35722231  998.82781299\n",
      "   999.22870255 1007.27900802 1008.02132914 1016.24111312 1017.95825062\n",
      "  1034.80964433 1038.71314616 1046.07408915 1048.77023222 1068.21907865\n",
      "  1075.56822192 1082.23380099 1082.23564902 1082.26614102 1082.28415862\n",
      "  1082.29663217 1082.3358998  1082.42505514 1087.11866878 1087.17891812\n",
      "  1095.03287622 1098.92174426 1100.34540032 1112.05125781 1112.47022432\n",
      "  1113.20707867 1114.71117335 1121.0905405  1121.40804349 1121.42989081\n",
      "  1121.42989081 1121.43301182 1121.43925382 1121.45307526 1121.53198795\n",
      "  1121.58013534 1121.86496514 1122.09714374 1127.15704318 1131.89045406\n",
      "  1133.03309749 1133.07413703 1133.45842447 1133.9664898  1145.39949363\n",
      "  1146.81297516 1155.3795913  1155.46873605 1155.48258317 1170.17904613\n",
      "  1173.27064226 1173.27660848 1173.48285032 1193.22629874 1193.24138379\n",
      "  1193.27658152 1193.28496178 1193.29627503 1193.35661057 1193.52461223\n",
      "  1193.75164921 1194.12269051 1197.20841962 1203.21943136 1212.12004356\n",
      "  1229.24529692 1239.58985152 1241.39276621 1250.28956646 1253.60480216\n",
      "  1259.68408738 1270.22871956 1273.72760039 1275.77897772 1284.6964622\n",
      "  1293.20918648 1294.20322979 1295.60101883 1296.35527538 1304.41251144\n",
      "  1305.23101404 1305.26127653 1305.43441046 1307.47810689 1307.4926386\n",
      "  1307.50258126 1307.59244415 1307.75418179 1309.60032071 1315.26537246\n",
      "  1319.06102967 1323.03779236 1323.15267449 1323.15683122 1324.14311915\n",
      "  1329.17117032 1341.05406304 1342.5393849  1353.0133037  1354.90257952\n",
      "  1358.12149677 1362.16261878 1365.49185278 1367.08083155 1367.14666368\n",
      "  1367.17262992 1367.17811568 1367.1806757  1367.18213856 1367.6490778\n",
      "  1377.17900071 1377.20514086 1377.21748464 1377.26213917 1377.34019037\n",
      "  1378.9916606  1379.22478226 1383.33979918 1383.58664347 1383.61663766\n",
      "  1388.07888825 1389.01511871 1389.0878302  1389.11914536 1389.16269745\n",
      "  1389.22568361 1396.31085364 1405.62370498 1409.15648528 1411.14669684\n",
      "  1416.05261202 1416.14300125 1428.40610472 1434.33817491 1435.72838657\n",
      "  1435.88091428 1445.21901454 1456.5078098  1461.66035726 1461.70824722\n",
      "  1473.2864623  1473.34076167 1473.37571583 1473.43849549 1473.86329081\n",
      "  1475.66154656 1475.80418755 1482.49586846 1482.51037096 1482.57714808\n",
      "  1482.77982182 1483.05967513 1505.29365906 1516.1678667  1522.32585211\n",
      "  1528.38280545 1529.32239897 1535.06742523 1535.59727793 1538.0253574\n",
      "  1538.05656593 1538.09297508 1538.13003351 1538.14043572 1550.02967714\n",
      "  1550.06806302 1550.15096039 1550.16837795 1550.18547277 1550.54409805\n",
      "  1551.38260916 1551.47736045 1552.56529653 1561.03651463 1567.16431812\n",
      "  1568.32012038 1568.34913205 1568.60638785 1573.14335011 1573.27874199\n",
      "  1573.73600073 1586.57587275 1589.21615899 1589.62291126 1600.25248008\n",
      "  1601.64353088 1604.65915384 1607.14933967 1609.35235421 1614.73062769\n",
      "  1617.13852221 1625.09999692 1625.69462077 1625.839783   1625.84685626\n",
      "  1626.24198691 1627.48394769 1628.21036724 1628.3304333  1630.24292668\n",
      "  1631.87285044 1640.84795152 1641.1520344  1647.65075183 1649.24012806\n",
      "  1653.17936111 1654.33823627 1660.31081428 1660.32346246 1660.45174576\n",
      "  1660.87958624 1663.68055828 1676.25385906 1679.21737723 1679.52284891\n",
      "  1680.13035209 1681.82490171 1683.51061773 1683.70662528 1685.29700647\n",
      "  1693.38831932 1701.09141436 1712.03446227 1712.12937595 1712.67510054\n",
      "  1734.26699213 1746.30495619 1747.30649859 1754.09492332 1758.43652146\n",
      "  1758.43879621 1758.46723029 1763.1934097  1764.20690397 1764.4594073\n",
      "  1769.55135557 1775.21153669 1775.23942047 1775.2625158  1775.30081958\n",
      "  1775.73731165 1775.90990762 1776.15596162 1777.61413136 1783.43516843\n",
      "  1783.60505718 1783.66280446 1784.11294486 1793.06999306 1793.08254132\n",
      "  1793.12464709 1793.13161815 1800.52214649 1803.17497764 1810.30328951\n",
      "  1814.52610893 1826.8987383  1829.17057706 1829.23891277 1830.64578769\n",
      "  1843.4277854  1844.21229797 1844.23452955 1844.57745839 1846.36155723\n",
      "  1846.41355064 1849.1054594  1856.30358509 1856.30789472 1856.33536841\n",
      "  1857.45255659 1861.42418594 1861.58507729 1867.01151577 1867.0543645\n",
      "  1867.10738845 1867.15585852 1881.09781776 1882.38332972 1883.53577083\n",
      "  1884.14357202 1888.52773345 1899.28697147 1899.33514683 1899.60601178\n",
      "  1899.70155551 1903.39407375 1905.2548386  1912.18539896 1914.05982143\n",
      "  1919.67184696 1920.78629733 1929.32552982 1934.05429086 1934.10340985\n",
      "  1934.25773877 1939.20808579 1946.12049987 1946.12409676 1946.19911623\n",
      "  1946.20194225 1946.25640654 1953.78222942 1955.00127877 1955.0301788\n",
      "  1955.46260511 1955.7054993  1968.27868962 1968.29443936 1968.30104405\n",
      "  1968.32009592 1968.32466834 1968.33355913 1968.34753029 1968.40392196\n",
      "  1968.42932309 1968.4351653  1968.44380159 1968.66223614 1970.22435271\n",
      "  1971.61127    1974.22288509 1974.27632311 1979.19049108 1980.62616362\n",
      "  1986.17874322 1987.86468352 1988.04074405 1989.29912281 1990.27133829\n",
      "  1990.30299201 1994.84761323 1998.29852625 1998.5897528  2008.47753286\n",
      "  2012.28303178 2018.70280131 2031.15976723 2039.28345259 2047.00952611\n",
      "  2047.02931098 2061.3216634  2082.30905487 2083.16754007 2084.04846393\n",
      "  2089.47313933 2097.56430176 2097.61197556 2098.38223401 2108.25235681\n",
      "  2109.25555588 2112.26205761 2121.89608605 2124.25469283 2128.14473192\n",
      "  2130.00187793 2131.12669731 2131.21749242 2131.28411996 2134.22983767\n",
      "  2138.1697781  2139.67263851 2139.73152522 2144.40761051 2149.89674171\n",
      "  2151.56617374 2152.15705747 2152.1881888  2157.10732232 2157.10917665\n",
      "  2157.14858088 2157.26145842 2161.98288615 2162.81182723 2163.52651937\n",
      "  2163.54061667 2165.11362288 2170.56121775 2184.41502467 2188.16498464\n",
      "  2195.39677507 2196.24588787 2196.34833303 2204.35432724 2206.35944488\n",
      "  2214.18427417 2222.0904572  2222.18091073 2223.28495699 2229.28822722\n",
      "  2232.91513497 2246.25621869 2251.08618227 2255.35119216 2255.3780171\n",
      "  2264.15061336 2264.31247844 2268.46291572 2269.05464897 2278.33272373\n",
      "  2278.51157557 2278.86287433 2285.54413652 2293.6643172  2295.71252556\n",
      "  2304.19378525 2312.1455404  2315.10280549 2315.13023392 2315.16716459\n",
      "  2322.43406796 2326.10446885 2326.23880975 2331.39057217 2331.92902979\n",
      "  2332.16701803 2336.21360325 2344.46966284 2344.74241656 2354.33982254\n",
      "  2356.07555057 2356.38388214 2359.32469152 2365.10232337 2365.22620483\n",
      "  2367.23741944 2367.27712784 2367.44588111 2368.093537   2392.22908602\n",
      "  2403.10216179 2405.32617331 2406.06629169 2412.20355692 2416.03580271\n",
      "  2434.18199813 2446.16741046 2446.27206173 2449.44381442 2449.48219018\n",
      "  2462.37710353 2478.20560083 2479.1208119  2479.1333163  2479.15005597\n",
      "  2484.16827127 2490.14316857 2490.18694077 2490.23010985 2490.26163284\n",
      "  2490.31945742 2494.06655886 2494.10665369 2494.1166773  2515.29044049\n",
      "  2516.56293384 2521.21815795 2524.1990809  2524.21492746 2524.21908716\n",
      "  2524.23136816 2524.2575146  2524.3064394  2524.41537786 2524.43538242\n",
      "  2524.83603428 2529.33588121 2536.41459545 2538.10578976 2543.05229989\n",
      "  2543.1165919  2543.20801351 2548.11400844 2548.1334345  2548.13637783\n",
      "  2548.1424607  2548.15658859 2556.10074136 2562.11221456 2562.22793678\n",
      "  2562.3313603  2576.09374829 2594.09618172 2602.14526881 2602.55259313\n",
      "  2605.7039356  2612.09819877 2615.18029971 2616.23469895 2616.46230624\n",
      "  2617.12303876 2625.09580778 2625.10114091 2625.17370854 2628.02530429\n",
      "  2632.05053143 2636.20200288 2639.48763968 2645.15935248 2647.86328952\n",
      "  2648.16011601 2648.21128311 2648.25282026 2663.2027711  2665.59280461\n",
      "  2667.33031325 2676.44446981 2680.20614879 2680.5001399  2682.1702034\n",
      "  2688.42221386 2690.47244922 2709.37705017 2714.31869905 2714.46035152\n",
      "  2718.28364966 2718.36403007 2733.03036939 2748.05785965 2756.26613374\n",
      "  2756.35683466 2756.36935116 2762.20745057 2765.15894661 2765.16853013\n",
      "  2765.20632142 2765.31372542 2771.11692283 2777.33109297 2781.11991831\n",
      "  2784.31355993 2786.28229008 2789.27911834 2791.03350034 2791.29002434\n",
      "  2796.17381434 2798.13312764 2798.16207536 2798.20245872 2798.21514541\n",
      "  2798.45010676 2798.57785312 2800.43210951 2802.18700304 2810.11102983\n",
      "  2810.1581806  2816.08913211 2818.29310044 2826.10527051 2837.48779733\n",
      "  2842.16150139 2844.32434859 2855.15218509 2857.81839871 2869.66618268\n",
      "  2870.23274318 2870.28413228 2870.32384932 2870.47104148 2876.1529862\n",
      "  2877.22904893 2877.37032723 2882.15405556 2885.04142085 2886.13790384\n",
      "  2892.08523388 2892.08575253 2893.11423902 2895.50565532 2901.18665377\n",
      "  2910.18126583 2910.1872792  2910.24809939 2910.28417856 2919.1723142\n",
      "  2920.18475443 2926.3656641  2926.37147334 2930.23616796 2938.17783669\n",
      "  2938.40909337 2943.00594631 2945.34446203 2949.05713746 2949.3853597\n",
      "  2953.20520791 2954.57678865 2956.20212435 2960.10827505 2960.16621155\n",
      "  2970.87478699 2971.10905219 2991.67110492 2993.18041554 2993.459203\n",
      "  3003.24740906 3010.07009885 3010.1320569  3013.22169778 3013.32324851\n",
      "  3018.07571144 3018.29521419 3018.37356866 3019.08181406 3019.13663156\n",
      "  3021.22392417 3021.74634938 3023.31027187 3039.17719128 3050.07852358\n",
      "  3050.17851937 3050.20769785 3050.27015197 3050.27179117 3052.42444624\n",
      "  3053.14657362 3053.18947987 3053.22550756 3058.77933169 3059.16279397\n",
      "  3059.1838781  3064.09790966 3072.38913551 3078.25388816 3088.01392484\n",
      "  3090.33768381 3090.34884762 3090.37910296 3099.37348508 3101.06594577\n",
      "  3109.37646482 3112.18765501 3114.01878607 3116.00433247 3116.02759936\n",
      "  3116.04685459 3116.07044208 3116.07252804 3116.08071141 3120.43618746\n",
      "  3127.39748033 3132.20561266 3157.0107697  3159.18058996 3166.26562373\n",
      "  3167.32173926 3185.07833499 3185.29731736 3190.07303992 3190.07554769\n",
      "  3190.09184821 3191.17392193 3192.06453569 3192.07863312 3193.11634614\n",
      "  3193.12307937 3197.13621856 3197.18673211 3211.02273427 3211.09358319\n",
      "  3211.11600538 3224.1468639  3224.16547342 3224.16733437 3224.18191174\n",
      "  3224.21509828 3224.36272773 3224.38753874 3226.59541932 3229.20315248\n",
      "  3234.29683239 3234.39035987 3242.17303671 3244.24567504 3256.25413627\n",
      "  3260.17913618 3261.02483891 3266.35132832 3274.2973292  3276.3864241\n",
      "  3276.40504212 3286.37429396 3286.41780667 3298.09808829 3305.21421394\n",
      "  3305.21723946 3305.22374432 3307.16373952 3317.04507054 3322.23674653\n",
      "  3325.08150276 3337.13230184 3337.15882151 3337.17320497 3337.21695429\n",
      "  3341.01287037 3341.61487907 3343.32693585 3346.02884028 3353.1583619 ]]\n",
      "\n",
      "Now we look at the values of attribute capital-gain in this neighbourhood, and among these is our potential new value.\n",
      "For this we estimate the distribution of these target values (see the plot below) before sampling one new value.\n",
      "There are generally two outcomes for the sampled value:\n",
      "\t-mark bit is 1 (50%) - the new value is sampled from the most dense areas of a distribution of the target variable in the neighbourhood\n",
      "\t-mark bit is 0(50%) - the new value is sampled from the tails of distribution of the target value in the neighbourhood\n",
      "Mark bit is generated pseudorandomly via PRNG.\n",
      "\n",
      "In this case, mark bit is 0, therefore we sample from tails of distribution of the variable capital-gain in the neighbourhood. The thresholds are set by an arbitrary percentile (here we use 75th)\n",
      "The new value is:  20051\n"
     ]
    },
    {
     "data": {
      "image/png": "[encoded data removed]",
      "text/plain": [
       "<Figure size 640x480 with 1 Axes>"
      ]
     },
     "metadata": {},
     "output_type": "display_data"
    },
    {
     "name": "stdout",
     "output_type": "stream",
     "text": [
      "The sampled continuous value is rounded to the closest existing value from the data (to avoid perceptibility of marks) and is: 20051\n",
      "The fingerprinted record is:\n",
      "    Id  age  workclass  fnlwgt  education  education-num  marital-status  \\\n",
      "79  79   31          2  125927          5              4               2   \n",
      "\n",
      "    occupation  relationship  race  sex  capital-gain  capital-loss  \\\n",
      "79           5             0     4    1             0             0   \n",
      "\n",
      "    hours-per-week  native-country  income  \n",
      "79              30              39       0  \n"
     ]
    }
   ],
   "source": [
    "demo.show_embedding_iteration(79)"
   ]
  },
  {
   "cell_type": "code",
   "execution_count": 30,
   "id": "c597dfdd-857d-4732-b9ae-b13aad6cc58c",
   "metadata": {},
   "outputs": [
    {
     "name": "stdout",
     "output_type": "stream",
     "text": [
      "Detecting from record at idx: 9\n",
      "Detecting from attribute: age\n",
      "   Id  age  workclass  fnlwgt  education  education-num  marital-status  \\\n",
      "4   4   28          4  338409          9             13               2   \n",
      "\n",
      "   occupation  relationship  race  sex  capital-gain  capital-loss  \\\n",
      "4          10             5     2    0             0             0   \n",
      "\n",
      "   hours-per-week  native-country  income  \n",
      "4              40               5       0  \n",
      "Fingerpritned value: 27\n",
      "----------------------------------------------------------\n",
      "Obtaining neighbourhood....\n",
      "Target values:[27, 60, 34, 45, 36, 35, 61, 62, 38, 25, 50, 29, 53, 59, 59, 69, 70, 50, 50, 53, 50, 65, 30, 51, 61, 39, 61, 37, 64, 29, 45, 39, 24, 71, 34, 55, 55, 42, 23, 59, 29, 48, 50, 35, 57, 51, 42, 64, 31, 53, 31, 54, 28, 41, 51, 23, 34, 28, 33, 51, 56, 30, 38, 72, 72, 44, 41, 66, 27, 28, 50, 30, 48, 48, 47, 41, 33, 29, 34, 47, 26, 30, 44, 70, 33, 39, 27, 37, 45, 40, 60, 39, 24, 43, 41, 60, 33, 43, 34, 30, 59, 29, 47, 58, 32, 67, 33, 43, 43, 47, 33, 18, 24, 21, 33, 31, 33, 57, 44, 24, 19, 30, 32, 33, 31, 30, 17, 20, 25, 26, 51, 44, 27, 19, 34, 33, 50, 32, 26, 25, 52, 50, 50, 62, 68, 31, 32, 32, 31, 23, 63, 38, 38, 35, 27, 56, 47, 49, 48, 47, 25, 25, 26, 26, 26, 62, 31, 31, 30, 51, 51, 54, 52, 51, 26, 56, 30, 31, 29, 29, 29, 69, 62, 33, 17, 59, 60, 61, 48, 18, 46, 46, 47, 47, 55, 58, 36, 33, 33, 30, 59, 27, 26, 28, 52, 53, 62, 52, 61, 62, 25, 42, 33, 34, 42, 26, 39, 59, 62, 39, 54, 51, 44, 42, 43, 48, 47, 31, 17, 19, 37, 37, 38, 36, 61, 47, 47, 34, 17, 77, 26, 46, 61, 60, 28, 57, 59, 26, 34, 49, 50, 32, 17, 36, 37, 35, 39, 22, 39, 36, 59, 39, 47, 17, 62, 56, 50, 52, 53, 61, 60, 67, 28, 26, 49, 45, 27, 62, 45, 46, 49, 61, 36, 35, 17, 30, 33, 41, 45, 50, 48, 25, 46, 43, 27, 55, 25, 25, 57, 29, 34, 58, 63, 19, 69, 26, 26, 55, 36, 44, 60, 26, 43, 42, 44, 31, 55, 32, 59, 43, 42, 42, 43, 43, 44]\n",
      "----------------------------------------------------------\n",
      "\n",
      "--> Observing the distribution of target attribute age below...\n",
      "Mark bit (where in distribution falls the target value?): 1 (i.e. in densest area)\n",
      "Mask bit (from PRNG): 0\n",
      "Fingerprint bit index (from PRNG): 89\n",
      "Fingerprint bit value (mark bit xor mask bit): 1\n",
      "\n",
      "Fingerprint bit CORRECT :)\n"
     ]
    },
    {
     "data": {
      "image/png": "[encoded data removed]",
      "text/plain": [
       "<Figure size 1000x400 with 2 Axes>"
      ]
     },
     "metadata": {},
     "output_type": "display_data"
    },
    {
     "data": {
      "image/png": "[encoded data removed]",
      "text/plain": [
       "<Figure size 10000x200 with 1 Axes>"
      ]
     },
     "metadata": {},
     "output_type": "display_data"
    },
    {
     "name": "stdout",
     "output_type": "stream",
     "text": [
      "Table: fingerprint count updates after this iteration (iteration 4). Each column is one fingerprint bit position (e.g. 16-bit --> 16 columns), and each row represents votes for either 0 or 1 being the value of that bit. The final decision is made at the end af the detection algorithm according to majority vote.\n"
     ]
    }
   ],
   "source": [
    "demo.show_detection_iteration(4) ## continuous --> iteration 4"
   ]
  }
 ],
 "metadata": {
  "kernelspec": {
   "display_name": "Python3-venv",
   "language": "python",
   "name": "venv"
  },
  "language_info": {
   "codemirror_mode": {
    "name": "ipython",
    "version": 3
   },
   "file_extension": ".py",
   "mimetype": "text/x-python",
   "name": "python",
   "nbconvert_exporter": "python",
   "pygments_lexer": "ipython3",
   "version": "3.10.6"
  }
 },
 "nbformat": 4,
 "nbformat_minor": 5
}
