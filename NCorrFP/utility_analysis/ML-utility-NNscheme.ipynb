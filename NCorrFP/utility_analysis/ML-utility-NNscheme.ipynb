{
 "cells": [
  {
   "cell_type": "code",
   "execution_count": null,
   "id": "e7439681",
   "metadata": {},
   "outputs": [],
   "source": [
    "!pip install xgboost"
   ]
  },
  {
   "cell_type": "code",
   "execution_count": 134,
   "id": "df8b8536",
   "metadata": {},
   "outputs": [
    {
     "name": "stdout",
     "output_type": "stream",
     "text": [
      "Defaulting to user installation because normal site-packages is not writeable\n",
      "Requirement already satisfied: ucimlrepo in c:\\users\\tsarcevic\\appdata\\roaming\\python\\python310\\site-packages (0.0.2)\n"
     ]
    },
    {
     "name": "stderr",
     "output_type": "stream",
     "text": [
      "\n",
      "[notice] A new release of pip is available: 23.2.1 -> 24.0\n",
      "[notice] To update, run: python.exe -m pip install --upgrade pip\n"
     ]
    }
   ],
   "source": [
    "!pip install ucimlrepo"
   ]
  },
  {
   "cell_type": "code",
   "execution_count": 135,
   "id": "e0e1b6c1",
   "metadata": {},
   "outputs": [],
   "source": [
    "from utils import *\n",
    "import numpy as np\n",
    "from time import time\n",
    "from ucimlrepo import fetch_ucirepo\n",
    "\n",
    "from sklearn.model_selection import cross_val_score\n",
    "from knn_scheme.experimental.blind_scheme import BlindNNScheme\n",
    "from sklearn.model_selection import RandomizedSearchCV\n",
    "from sklearn import preprocessing\n",
    "\n",
    "from sklearn.ensemble import RandomForestClassifier, GradientBoostingClassifier\n",
    "from sklearn.neighbors import KNeighborsClassifier\n",
    "from sklearn.neural_network import MLPClassifier\n",
    "from sklearn.linear_model import LogisticRegression\n",
    "import xgboost as xgb"
   ]
  },
  {
   "cell_type": "markdown",
   "id": "dd872f77",
   "metadata": {},
   "source": [
    "## Breast Cancer: hyperparameter search & baseline performance "
   ]
  },
  {
   "cell_type": "code",
   "execution_count": 272,
   "id": "29bd3435",
   "metadata": {},
   "outputs": [],
   "source": [
    "# breast cancer data\n",
    "breast_cancer, pk = import_dataset_from_file('breast-cancer', 'Id')\n",
    "\n",
    "# preprocess\n",
    "breast_cancer = breast_cancer.drop('Id', axis=1)\n",
    "# separate target from the data\n",
    "c = len(breast_cancer.columns)\n",
    "target = breast_cancer.values[:, (c-1)]\n",
    "breast_cancer = breast_cancer.drop(\"recurrence\", axis=1)\n",
    "# one-hot encode\n",
    "breast_cancer = pd.get_dummies(breast_cancer)\n",
    "# a bit more preprocessing\n",
    "breast_cancer = breast_cancer.drop(['breast_left', 'irradiat_yes'], axis=1)\n",
    "data = breast_cancer.values"
   ]
  },
  {
   "cell_type": "markdown",
   "id": "aa318729",
   "metadata": {},
   "source": [
    "### - Gradient Boosting"
   ]
  },
  {
   "cell_type": "code",
   "execution_count": 47,
   "id": "32ca2aaf",
   "metadata": {},
   "outputs": [
    {
     "data": {
      "text/plain": [
       "0.6888687235329705"
      ]
     },
     "execution_count": 47,
     "metadata": {},
     "output_type": "execute_result"
    }
   ],
   "source": [
    "# define the model and possible hyperparameters\n",
    "n_estimators = range(20, 200, 20)\n",
    "loss = ['log_loss', 'exponential']\n",
    "criterion = ['friedman_mse', 'squared_error']\n",
    "hyperparams = dict(n_estimators=n_estimators,\n",
    "                  loss=loss,\n",
    "                  criterion=criterion)\n",
    "\n",
    "# hyperparameter random search\n",
    "gb = GradientBoostingClassifier()\n",
    "clf = RandomizedSearchCV(gb, hyperparams, random_state=0)\n",
    "search_gb = clf.fit(data, target)\n",
    "search_gb.best_score_"
   ]
  },
  {
   "cell_type": "code",
   "execution_count": 109,
   "id": "8c73e416",
   "metadata": {},
   "outputs": [
    {
     "data": {
      "text/plain": [
       "{'n_estimators': 40, 'loss': 'exponential', 'criterion': 'friedman_mse'}"
      ]
     },
     "execution_count": 109,
     "metadata": {},
     "output_type": "execute_result"
    }
   ],
   "source": [
    "search_gb.best_params_"
   ]
  },
  {
   "cell_type": "markdown",
   "id": "a087bdd9",
   "metadata": {},
   "source": [
    "### - XGBoost"
   ]
  },
  {
   "cell_type": "code",
   "execution_count": 118,
   "id": "207f0c92",
   "metadata": {},
   "outputs": [
    {
     "data": {
      "text/plain": [
       "0.7273442226255293"
      ]
     },
     "execution_count": 118,
     "metadata": {},
     "output_type": "execute_result"
    }
   ],
   "source": [
    "# define the model and possible hyperparameters\n",
    "n_estimators = range(20, 200, 20)\n",
    "max_depth = range(3,12,1)\n",
    "gamma = [i/10.0 for i in range(0,5)]\n",
    "colsample_bytree = [i/10.0 for i in range(6,10)]\n",
    "learning_rate = [i/1000.0 for i in range(1, 10, 2)]\n",
    "subsample = [i/10.0 for i in range(5,9)]\n",
    "reg_alpha = [1e-5, 1e-2, 0.1, 1, 100]\n",
    "\n",
    "hyperparams = dict(n_estimators=n_estimators,\n",
    "                  max_depth=max_depth,\n",
    "                  gamma=gamma,\n",
    "                  colsample_bytree=colsample_bytree, \n",
    "                  learning_rate=learning_rate,\n",
    "                  subsample=subsample,\n",
    "                  reg_alpha=reg_alpha)\n",
    "\n",
    "# classifier definition\n",
    "xgboost = xgb.XGBClassifier()\n",
    "le = preprocessing.LabelEncoder()\n",
    "target = le.fit_transform(target)\n",
    "\n",
    "# random search\n",
    "clf = RandomizedSearchCV(xgboost, hyperparams, random_state=4)\n",
    "search_xgb = clf.fit(data, target)\n",
    "search_xgb.best_score_"
   ]
  },
  {
   "cell_type": "code",
   "execution_count": 128,
   "id": "a9a04801",
   "metadata": {},
   "outputs": [
    {
     "data": {
      "text/plain": [
       "{'subsample': 0.6,\n",
       " 'reg_alpha': 0.01,\n",
       " 'n_estimators': 120,\n",
       " 'max_depth': 7,\n",
       " 'learning_rate': 0.009,\n",
       " 'gamma': 0.4,\n",
       " 'colsample_bytree': 0.8}"
      ]
     },
     "execution_count": 128,
     "metadata": {},
     "output_type": "execute_result"
    }
   ],
   "source": [
    "search_xgb.best_params_"
   ]
  },
  {
   "cell_type": "markdown",
   "id": "1dcdc62b",
   "metadata": {},
   "source": [
    "### - Random Forest"
   ]
  },
  {
   "cell_type": "code",
   "execution_count": 53,
   "id": "124dc1a1",
   "metadata": {},
   "outputs": [
    {
     "data": {
      "text/plain": [
       "0.7029643073200241"
      ]
     },
     "execution_count": 53,
     "metadata": {},
     "output_type": "execute_result"
    }
   ],
   "source": [
    "# define the model and possible hyperparameters\n",
    "n_estimators = range(20, 200, 20)\n",
    "criterion = ['gini', 'entropy', 'log_loss']\n",
    "\n",
    "hyperparams = dict(n_estimators=n_estimators,\n",
    "                  criterion=criterion)\n",
    "\n",
    "# hyperparameter random search\n",
    "rf = RandomForestClassifier()\n",
    "clf = RandomizedSearchCV(rf, hyperparams, random_state=0)\n",
    "search_rf = clf.fit(data, target)\n",
    "search_rf.best_score_"
   ]
  },
  {
   "cell_type": "code",
   "execution_count": 90,
   "id": "2d952af0",
   "metadata": {},
   "outputs": [
    {
     "data": {
      "text/plain": [
       "{'n_estimators': 120, 'criterion': 'entropy'}"
      ]
     },
     "execution_count": 90,
     "metadata": {},
     "output_type": "execute_result"
    }
   ],
   "source": [
    "search_rf.best_params_"
   ]
  },
  {
   "cell_type": "markdown",
   "id": "c6c2817b",
   "metadata": {},
   "source": [
    "### - Logistic Regression"
   ]
  },
  {
   "cell_type": "code",
   "execution_count": 58,
   "id": "f9795811",
   "metadata": {},
   "outputs": [
    {
     "name": "stderr",
     "output_type": "stream",
     "text": [
      "C:\\Users\\tsarcevic\\AppData\\Roaming\\Python\\Python310\\site-packages\\sklearn\\linear_model\\_sag.py:350: ConvergenceWarning: The max_iter was reached which means the coef_ did not converge\n",
      "  warnings.warn(\n",
      "C:\\Users\\tsarcevic\\AppData\\Roaming\\Python\\Python310\\site-packages\\sklearn\\linear_model\\_sag.py:350: ConvergenceWarning: The max_iter was reached which means the coef_ did not converge\n",
      "  warnings.warn(\n",
      "C:\\Users\\tsarcevic\\AppData\\Roaming\\Python\\Python310\\site-packages\\sklearn\\linear_model\\_sag.py:350: ConvergenceWarning: The max_iter was reached which means the coef_ did not converge\n",
      "  warnings.warn(\n",
      "C:\\Users\\tsarcevic\\AppData\\Roaming\\Python\\Python310\\site-packages\\sklearn\\linear_model\\_sag.py:350: ConvergenceWarning: The max_iter was reached which means the coef_ did not converge\n",
      "  warnings.warn(\n",
      "C:\\Users\\tsarcevic\\AppData\\Roaming\\Python\\Python310\\site-packages\\sklearn\\linear_model\\_sag.py:350: ConvergenceWarning: The max_iter was reached which means the coef_ did not converge\n",
      "  warnings.warn(\n",
      "C:\\Users\\tsarcevic\\AppData\\Roaming\\Python\\Python310\\site-packages\\sklearn\\linear_model\\_logistic.py:458: ConvergenceWarning: lbfgs failed to converge (status=1):\n",
      "STOP: TOTAL NO. of ITERATIONS REACHED LIMIT.\n",
      "\n",
      "Increase the number of iterations (max_iter) or scale the data as shown in:\n",
      "    https://scikit-learn.org/stable/modules/preprocessing.html\n",
      "Please also refer to the documentation for alternative solver options:\n",
      "    https://scikit-learn.org/stable/modules/linear_model.html#logistic-regression\n",
      "  n_iter_i = _check_optimize_result(\n",
      "C:\\Users\\tsarcevic\\AppData\\Roaming\\Python\\Python310\\site-packages\\sklearn\\linear_model\\_logistic.py:458: ConvergenceWarning: lbfgs failed to converge (status=1):\n",
      "STOP: TOTAL NO. of ITERATIONS REACHED LIMIT.\n",
      "\n",
      "Increase the number of iterations (max_iter) or scale the data as shown in:\n",
      "    https://scikit-learn.org/stable/modules/preprocessing.html\n",
      "Please also refer to the documentation for alternative solver options:\n",
      "    https://scikit-learn.org/stable/modules/linear_model.html#logistic-regression\n",
      "  n_iter_i = _check_optimize_result(\n",
      "C:\\Users\\tsarcevic\\AppData\\Roaming\\Python\\Python310\\site-packages\\sklearn\\linear_model\\_logistic.py:458: ConvergenceWarning: lbfgs failed to converge (status=1):\n",
      "STOP: TOTAL NO. of ITERATIONS REACHED LIMIT.\n",
      "\n",
      "Increase the number of iterations (max_iter) or scale the data as shown in:\n",
      "    https://scikit-learn.org/stable/modules/preprocessing.html\n",
      "Please also refer to the documentation for alternative solver options:\n",
      "    https://scikit-learn.org/stable/modules/linear_model.html#logistic-regression\n",
      "  n_iter_i = _check_optimize_result(\n",
      "C:\\Users\\tsarcevic\\AppData\\Roaming\\Python\\Python310\\site-packages\\sklearn\\linear_model\\_logistic.py:458: ConvergenceWarning: lbfgs failed to converge (status=1):\n",
      "STOP: TOTAL NO. of ITERATIONS REACHED LIMIT.\n",
      "\n",
      "Increase the number of iterations (max_iter) or scale the data as shown in:\n",
      "    https://scikit-learn.org/stable/modules/preprocessing.html\n",
      "Please also refer to the documentation for alternative solver options:\n",
      "    https://scikit-learn.org/stable/modules/linear_model.html#logistic-regression\n",
      "  n_iter_i = _check_optimize_result(\n",
      "C:\\Users\\tsarcevic\\AppData\\Roaming\\Python\\Python310\\site-packages\\sklearn\\linear_model\\_logistic.py:458: ConvergenceWarning: lbfgs failed to converge (status=1):\n",
      "STOP: TOTAL NO. of ITERATIONS REACHED LIMIT.\n",
      "\n",
      "Increase the number of iterations (max_iter) or scale the data as shown in:\n",
      "    https://scikit-learn.org/stable/modules/preprocessing.html\n",
      "Please also refer to the documentation for alternative solver options:\n",
      "    https://scikit-learn.org/stable/modules/linear_model.html#logistic-regression\n",
      "  n_iter_i = _check_optimize_result(\n",
      "C:\\Users\\tsarcevic\\AppData\\Roaming\\Python\\Python310\\site-packages\\sklearn\\linear_model\\_sag.py:350: ConvergenceWarning: The max_iter was reached which means the coef_ did not converge\n",
      "  warnings.warn(\n",
      "C:\\Users\\tsarcevic\\AppData\\Roaming\\Python\\Python310\\site-packages\\sklearn\\linear_model\\_sag.py:350: ConvergenceWarning: The max_iter was reached which means the coef_ did not converge\n",
      "  warnings.warn(\n",
      "C:\\Users\\tsarcevic\\AppData\\Roaming\\Python\\Python310\\site-packages\\sklearn\\linear_model\\_sag.py:350: ConvergenceWarning: The max_iter was reached which means the coef_ did not converge\n",
      "  warnings.warn(\n",
      "C:\\Users\\tsarcevic\\AppData\\Roaming\\Python\\Python310\\site-packages\\sklearn\\linear_model\\_sag.py:350: ConvergenceWarning: The max_iter was reached which means the coef_ did not converge\n",
      "  warnings.warn(\n",
      "C:\\Users\\tsarcevic\\AppData\\Roaming\\Python\\Python310\\site-packages\\sklearn\\linear_model\\_sag.py:350: ConvergenceWarning: The max_iter was reached which means the coef_ did not converge\n",
      "  warnings.warn(\n",
      "C:\\Users\\tsarcevic\\AppData\\Roaming\\Python\\Python310\\site-packages\\sklearn\\linear_model\\_logistic.py:458: ConvergenceWarning: lbfgs failed to converge (status=1):\n",
      "STOP: TOTAL NO. of ITERATIONS REACHED LIMIT.\n",
      "\n",
      "Increase the number of iterations (max_iter) or scale the data as shown in:\n",
      "    https://scikit-learn.org/stable/modules/preprocessing.html\n",
      "Please also refer to the documentation for alternative solver options:\n",
      "    https://scikit-learn.org/stable/modules/linear_model.html#logistic-regression\n",
      "  n_iter_i = _check_optimize_result(\n",
      "C:\\Users\\tsarcevic\\AppData\\Roaming\\Python\\Python310\\site-packages\\sklearn\\linear_model\\_logistic.py:458: ConvergenceWarning: lbfgs failed to converge (status=1):\n",
      "STOP: TOTAL NO. of ITERATIONS REACHED LIMIT.\n",
      "\n",
      "Increase the number of iterations (max_iter) or scale the data as shown in:\n",
      "    https://scikit-learn.org/stable/modules/preprocessing.html\n",
      "Please also refer to the documentation for alternative solver options:\n",
      "    https://scikit-learn.org/stable/modules/linear_model.html#logistic-regression\n",
      "  n_iter_i = _check_optimize_result(\n",
      "C:\\Users\\tsarcevic\\AppData\\Roaming\\Python\\Python310\\site-packages\\sklearn\\linear_model\\_logistic.py:458: ConvergenceWarning: lbfgs failed to converge (status=1):\n",
      "STOP: TOTAL NO. of ITERATIONS REACHED LIMIT.\n",
      "\n",
      "Increase the number of iterations (max_iter) or scale the data as shown in:\n",
      "    https://scikit-learn.org/stable/modules/preprocessing.html\n",
      "Please also refer to the documentation for alternative solver options:\n",
      "    https://scikit-learn.org/stable/modules/linear_model.html#logistic-regression\n",
      "  n_iter_i = _check_optimize_result(\n",
      "C:\\Users\\tsarcevic\\AppData\\Roaming\\Python\\Python310\\site-packages\\sklearn\\linear_model\\_logistic.py:458: ConvergenceWarning: lbfgs failed to converge (status=1):\n",
      "STOP: TOTAL NO. of ITERATIONS REACHED LIMIT.\n",
      "\n",
      "Increase the number of iterations (max_iter) or scale the data as shown in:\n",
      "    https://scikit-learn.org/stable/modules/preprocessing.html\n",
      "Please also refer to the documentation for alternative solver options:\n",
      "    https://scikit-learn.org/stable/modules/linear_model.html#logistic-regression\n",
      "  n_iter_i = _check_optimize_result(\n",
      "C:\\Users\\tsarcevic\\AppData\\Roaming\\Python\\Python310\\site-packages\\sklearn\\linear_model\\_logistic.py:458: ConvergenceWarning: lbfgs failed to converge (status=1):\n",
      "STOP: TOTAL NO. of ITERATIONS REACHED LIMIT.\n",
      "\n",
      "Increase the number of iterations (max_iter) or scale the data as shown in:\n",
      "    https://scikit-learn.org/stable/modules/preprocessing.html\n",
      "Please also refer to the documentation for alternative solver options:\n",
      "    https://scikit-learn.org/stable/modules/linear_model.html#logistic-regression\n",
      "  n_iter_i = _check_optimize_result(\n",
      "C:\\Users\\tsarcevic\\AppData\\Roaming\\Python\\Python310\\site-packages\\sklearn\\linear_model\\_logistic.py:458: ConvergenceWarning: lbfgs failed to converge (status=1):\n",
      "STOP: TOTAL NO. of ITERATIONS REACHED LIMIT.\n",
      "\n",
      "Increase the number of iterations (max_iter) or scale the data as shown in:\n",
      "    https://scikit-learn.org/stable/modules/preprocessing.html\n",
      "Please also refer to the documentation for alternative solver options:\n",
      "    https://scikit-learn.org/stable/modules/linear_model.html#logistic-regression\n",
      "  n_iter_i = _check_optimize_result(\n",
      "C:\\Users\\tsarcevic\\AppData\\Roaming\\Python\\Python310\\site-packages\\sklearn\\linear_model\\_logistic.py:458: ConvergenceWarning: lbfgs failed to converge (status=1):\n",
      "STOP: TOTAL NO. of ITERATIONS REACHED LIMIT.\n",
      "\n",
      "Increase the number of iterations (max_iter) or scale the data as shown in:\n",
      "    https://scikit-learn.org/stable/modules/preprocessing.html\n",
      "Please also refer to the documentation for alternative solver options:\n",
      "    https://scikit-learn.org/stable/modules/linear_model.html#logistic-regression\n",
      "  n_iter_i = _check_optimize_result(\n",
      "C:\\Users\\tsarcevic\\AppData\\Roaming\\Python\\Python310\\site-packages\\sklearn\\linear_model\\_logistic.py:458: ConvergenceWarning: lbfgs failed to converge (status=1):\n",
      "STOP: TOTAL NO. of ITERATIONS REACHED LIMIT.\n",
      "\n",
      "Increase the number of iterations (max_iter) or scale the data as shown in:\n",
      "    https://scikit-learn.org/stable/modules/preprocessing.html\n",
      "Please also refer to the documentation for alternative solver options:\n",
      "    https://scikit-learn.org/stable/modules/linear_model.html#logistic-regression\n",
      "  n_iter_i = _check_optimize_result(\n"
     ]
    },
    {
     "name": "stderr",
     "output_type": "stream",
     "text": [
      "C:\\Users\\tsarcevic\\AppData\\Roaming\\Python\\Python310\\site-packages\\sklearn\\linear_model\\_logistic.py:458: ConvergenceWarning: lbfgs failed to converge (status=1):\n",
      "STOP: TOTAL NO. of ITERATIONS REACHED LIMIT.\n",
      "\n",
      "Increase the number of iterations (max_iter) or scale the data as shown in:\n",
      "    https://scikit-learn.org/stable/modules/preprocessing.html\n",
      "Please also refer to the documentation for alternative solver options:\n",
      "    https://scikit-learn.org/stable/modules/linear_model.html#logistic-regression\n",
      "  n_iter_i = _check_optimize_result(\n",
      "C:\\Users\\tsarcevic\\AppData\\Roaming\\Python\\Python310\\site-packages\\sklearn\\linear_model\\_logistic.py:458: ConvergenceWarning: lbfgs failed to converge (status=1):\n",
      "STOP: TOTAL NO. of ITERATIONS REACHED LIMIT.\n",
      "\n",
      "Increase the number of iterations (max_iter) or scale the data as shown in:\n",
      "    https://scikit-learn.org/stable/modules/preprocessing.html\n",
      "Please also refer to the documentation for alternative solver options:\n",
      "    https://scikit-learn.org/stable/modules/linear_model.html#logistic-regression\n",
      "  n_iter_i = _check_optimize_result(\n"
     ]
    },
    {
     "data": {
      "text/plain": [
       "0.6643678160919539"
      ]
     },
     "execution_count": 58,
     "metadata": {},
     "output_type": "execute_result"
    }
   ],
   "source": [
    "solver = ['lbfgs', 'liblinear', 'newton-cg', 'newton-cholesky', 'sag', 'saga']\n",
    "C = range(10, 100, 10)\n",
    "\n",
    "hyperparams = dict(solver=solver, C=C)\n",
    "\n",
    "# hyperparameter random search\n",
    "lr = LogisticRegression(random_state=0)\n",
    "clf = RandomizedSearchCV(lr, hyperparams, random_state=0)\n",
    "search_lr = clf.fit(data, target)\n",
    "search_lr.best_score_"
   ]
  },
  {
   "cell_type": "code",
   "execution_count": 107,
   "id": "1e672822",
   "metadata": {},
   "outputs": [
    {
     "data": {
      "text/plain": [
       "{'solver': 'newton-cg', 'C': 10}"
      ]
     },
     "execution_count": 107,
     "metadata": {},
     "output_type": "execute_result"
    }
   ],
   "source": [
    "search_lr.best_params_"
   ]
  },
  {
   "cell_type": "markdown",
   "id": "3ee4e574",
   "metadata": {},
   "source": [
    "### - k-NN"
   ]
  },
  {
   "cell_type": "code",
   "execution_count": 61,
   "id": "2143e78c",
   "metadata": {},
   "outputs": [
    {
     "data": {
      "text/plain": [
       "0.7484573502722324"
      ]
     },
     "execution_count": 61,
     "metadata": {},
     "output_type": "execute_result"
    }
   ],
   "source": [
    "algorithm = ['auto', 'ball_tree', 'kd_tree', 'brute']\n",
    "n_neighbors = range(1, 20, 1)\n",
    "\n",
    "hyperparams = dict(algorithm=algorithm, n_neighbors=n_neighbors)\n",
    "\n",
    "# hyperparameter random search\n",
    "knn = KNeighborsClassifier()\n",
    "clf = RandomizedSearchCV(knn, hyperparams, random_state=0)\n",
    "search_knn = clf.fit(data, target)\n",
    "search_knn.best_score_"
   ]
  },
  {
   "cell_type": "code",
   "execution_count": 108,
   "id": "d9e7f29c",
   "metadata": {},
   "outputs": [
    {
     "data": {
      "text/plain": [
       "{'n_neighbors': 10, 'algorithm': 'ball_tree'}"
      ]
     },
     "execution_count": 108,
     "metadata": {},
     "output_type": "execute_result"
    }
   ],
   "source": [
    "search_knn.best_params_"
   ]
  },
  {
   "cell_type": "markdown",
   "id": "a362d14e",
   "metadata": {},
   "source": [
    "## Breast Cancer: performance under fingerprints"
   ]
  },
  {
   "cell_type": "code",
   "execution_count": 273,
   "id": "d5e8644b",
   "metadata": {},
   "outputs": [],
   "source": [
    "n_exp=10\n",
    "results = []\n",
    "secret_key = 2000"
   ]
  },
  {
   "cell_type": "code",
   "execution_count": 262,
   "id": "a6fb4ccc",
   "metadata": {},
   "outputs": [
    {
     "data": {
      "text/plain": [
       "{'n_estimators': 160, 'loss': 'exponential', 'criterion': 'friedman_mse'}"
      ]
     },
     "execution_count": 262,
     "metadata": {},
     "output_type": "execute_result"
    }
   ],
   "source": [
    "search_gb.best_params_"
   ]
  },
  {
   "cell_type": "code",
   "execution_count": 264,
   "id": "0383a447",
   "metadata": {},
   "outputs": [],
   "source": [
    "xgb_best_params_bc = {'subsample': 0.6,\n",
    " 'reg_alpha': 0.01,\n",
    " 'n_estimators': 120,\n",
    " 'max_depth': 7,\n",
    " 'learning_rate': 0.009,\n",
    " 'gamma': 0.4,\n",
    " 'colsample_bytree': 0.8}"
   ]
  },
  {
   "cell_type": "code",
   "execution_count": 274,
   "id": "21e945de",
   "metadata": {},
   "outputs": [],
   "source": [
    "gb_best_params_bc = {'n_estimators': 40, 'loss': 'exponential', 'criterion': 'friedman_mse'}\n",
    "knn_best_params_bc = {'n_neighbors': 10, 'algorithm': 'ball_tree'}\n",
    "lr_best_params_bc = {'solver': 'newton-cg', 'C': 10}\n",
    "rf_best_params_bc = {'n_estimators': 120, 'criterion': 'entropy'}"
   ]
  },
  {
   "cell_type": "code",
   "execution_count": 267,
   "id": "fcbe986d",
   "metadata": {},
   "outputs": [],
   "source": [
    "le = preprocessing.LabelEncoder()\n",
    "target = le.fit_transform(target)"
   ]
  },
  {
   "cell_type": "markdown",
   "id": "af4b3122",
   "metadata": {},
   "source": [
    "### Random fingerprint"
   ]
  },
  {
   "cell_type": "code",
   "execution_count": 279,
   "id": "903c96fd",
   "metadata": {},
   "outputs": [
    {
     "name": "stdout",
     "output_type": "stream",
     "text": [
      "Time: 252244 sec.\n"
     ]
    }
   ],
   "source": [
    "gamma = [1, 2, 3, 5]\n",
    "\n",
    "GB_results_all_r_bc = dict()\n",
    "XBG_results_all_r_bc = dict()\n",
    "KNN_results_all_r_bc = dict()\n",
    "RF_results_all_r_bc = dict()\n",
    "LR_results_all_r_bc = dict()\n",
    "\n",
    "for g in gamma:\n",
    "    GB_results = []\n",
    "    XGB_results = []\n",
    "    KNN_results = []\n",
    "    LR_results = []\n",
    "    RF_results = []\n",
    "    for n in range(3):\n",
    "        # fingerprint the data\n",
    "        #scheme = BlindNNScheme(gamma=g, xi=1, fingerprint_bit_length=8)\n",
    "\n",
    "#        fp_dataset = scheme.insertion(dataset_name=\"breast-cancer\", recipient_id=1, secret_key=secret_key, \n",
    "#                                     correlated_attributes=[\"age\", \"menopause\", \"inv-nodes\", \"node-caps\"])\n",
    "        # same prepocessing as above\n",
    "        fp_dataset = pd.read_csv('knn_scheme/fp_datasets/random/breast_cancer/breast_cancer_fp_{}_random_{}.csv'.format(g, sk))\n",
    "        fp_dataset = fp_dataset.drop([\"Id\", \"recurrence\"], axis=1)\n",
    "        fp_dataset = pd.get_dummies(fp_dataset)\n",
    "        fp_dataset = fp_dataset.drop(['breast_left', 'irradiat_yes'], axis=1)\n",
    "        fp_dataset = fp_dataset.values\n",
    "        # hyperparameter seach\n",
    "\n",
    "#         GB_model = GradientBoostingClassifier(**search_gb.best_params_)\n",
    "        GB_model = GradientBoostingClassifier(**gb_best_params_bc)\n",
    "        GB_scores = cross_val_score(GB_model, fp_dataset, target, cv=10)\n",
    "        GB_results.append(np.mean(GB_scores))\n",
    "\n",
    "        #XGB_model = xgb.XGBClassifier(**search_xgb.best_params_)\n",
    "#         XGB_model = xgb.XGBClassifier(**xgb_best_params_bc)\n",
    "#         XGB_scores = cross_val_score(XGB_model, fp_dataset, target, cv=10)\n",
    "#         XGB_results.append(np.mean(XGB_scores))\n",
    "\n",
    "#         KNN_model = KNeighborsClassifier(**search_knn.best_params_)\n",
    "        KNN_model = KNeighborsClassifier(**knn_best_params_bc)\n",
    "        KNN_scores = cross_val_score(KNN_model, fp_dataset, target, cv=10)\n",
    "        KNN_results.append(np.mean(KNN_scores))\n",
    "\n",
    "#         LR_model = LogisticRegression(**search_lr.best_params_)\n",
    "        LR_model = LogisticRegression(**lr_best_params_bc)\n",
    "        LR_scores = cross_val_score(LR_model, fp_dataset, target, cv=10)\n",
    "        LR_results.append(np.mean(LR_scores))\n",
    "\n",
    "#         RF_model = RandomForestClassifier(**search_rf.best_params_)\n",
    "        RF_model = RandomForestClassifier(**rf_best_params_bc)\n",
    "        RF_scores = cross_val_score(RF_model, fp_dataset, target, cv=10)\n",
    "        RF_results.append(np.mean(RF_scores))\n",
    "\n",
    "        secret_key = secret_key - 3\n",
    "        #print(secret_key)\n",
    "        \n",
    "    GB_results_all_r_bc[g] = GB_results\n",
    "    XBG_results_all_r_bc[g] = XGB_results\n",
    "    KNN_results_all_r_bc[g] = KNN_results\n",
    "    LR_results_all_r_bc[g] = LR_results\n",
    "    RF_results_all_r_bc[g] = RF_results\n",
    "\n",
    "print(\"Time: \" + str(int(time()-start)) + \" sec.\")"
   ]
  },
  {
   "cell_type": "code",
   "execution_count": 269,
   "id": "4ad86a58",
   "metadata": {},
   "outputs": [
    {
     "data": {
      "text/plain": [
       "{1: [0.7305418719211823, 0.7305418719211823, 0.7305418719211823],\n",
       " 2: [0.7342364532019705, 0.7342364532019705, 0.7342364532019705],\n",
       " 3: [0.7270935960591134, 0.7270935960591134, 0.7270935960591134],\n",
       " 5: [0.7270935960591134, 0.7270935960591134, 0.7270935960591134]}"
      ]
     },
     "execution_count": 269,
     "metadata": {},
     "output_type": "execute_result"
    }
   ],
   "source": [
    "XBG_results_all_r_bc"
   ]
  },
  {
   "cell_type": "code",
   "execution_count": 280,
   "id": "cf791ad3",
   "metadata": {},
   "outputs": [
    {
     "data": {
      "text/plain": [
       "{1: [0.7054187192118226, 0.7018472906403941, 0.7054187192118226],\n",
       " 2: [0.6910098522167487, 0.6910098522167487, 0.6944581280788178],\n",
       " 3: [0.687807881773399, 0.6915024630541872, 0.6913793103448276],\n",
       " 5: [0.6880541871921183, 0.6844827586206897, 0.6844827586206897]}"
      ]
     },
     "execution_count": 280,
     "metadata": {},
     "output_type": "execute_result"
    }
   ],
   "source": [
    "GB_results_all_r_bc"
   ]
  },
  {
   "cell_type": "code",
   "execution_count": 281,
   "id": "17a02deb",
   "metadata": {},
   "outputs": [
    {
     "data": {
      "text/plain": [
       "{1: [0.7201970443349753, 0.7201970443349753, 0.7201970443349753],\n",
       " 2: [0.7203201970443349, 0.7203201970443349, 0.7203201970443349],\n",
       " 3: [0.7238916256157635, 0.7238916256157635, 0.7238916256157635],\n",
       " 5: [0.7236453201970443, 0.7236453201970443, 0.7236453201970443]}"
      ]
     },
     "execution_count": 281,
     "metadata": {},
     "output_type": "execute_result"
    }
   ],
   "source": [
    "KNN_results_all_r_bc"
   ]
  },
  {
   "cell_type": "code",
   "execution_count": 282,
   "id": "a389db43",
   "metadata": {},
   "outputs": [
    {
     "data": {
      "text/plain": [
       "{1: [0.6985221674876847, 0.7198275862068966, 0.716256157635468],\n",
       " 2: [0.695320197044335, 0.698768472906404, 0.6950738916256157],\n",
       " 3: [0.6880541871921182, 0.695320197044335, 0.6951970443349754],\n",
       " 5: [0.7166256157635468, 0.7057881773399015, 0.702216748768473]}"
      ]
     },
     "execution_count": 282,
     "metadata": {},
     "output_type": "execute_result"
    }
   ],
   "source": [
    "RF_results_all_r_bc"
   ]
  },
  {
   "cell_type": "code",
   "execution_count": 283,
   "id": "02b94e0a",
   "metadata": {},
   "outputs": [
    {
     "data": {
      "text/plain": [
       "{1: [0.669950738916256, 0.669950738916256, 0.669950738916256],\n",
       " 2: [0.6525862068965517, 0.6525862068965517, 0.6525862068965517],\n",
       " 3: [0.6488916256157635, 0.6488916256157635, 0.6488916256157635],\n",
       " 5: [0.6386699507389163, 0.6386699507389163, 0.6386699507389163]}"
      ]
     },
     "execution_count": 283,
     "metadata": {},
     "output_type": "execute_result"
    }
   ],
   "source": [
    "LR_results_all_r_bc"
   ]
  },
  {
   "cell_type": "code",
   "execution_count": null,
   "id": "8ca69ba7",
   "metadata": {},
   "outputs": [],
   "source": []
  },
  {
   "cell_type": "markdown",
   "id": "418fbda0",
   "metadata": {},
   "source": [
    "### NN fingerprint"
   ]
  },
  {
   "cell_type": "markdown",
   "id": "525ab83b",
   "metadata": {},
   "source": [
    "### - Gradient Boosting"
   ]
  },
  {
   "cell_type": "code",
   "execution_count": 126,
   "id": "9c91775d",
   "metadata": {
    "scrolled": true
   },
   "outputs": [
    {
     "name": "stdout",
     "output_type": "stream",
     "text": [
      "Start the blind insertion algorithm of a scheme for fingerprinting categorical data (neighbourhood) ...\n",
      "\tgamma: 1\n",
      "\txi: 1\n",
      "\n",
      "Generated fingerprint for recipient 1: 00001111\n",
      "\n",
      "Generated fingerprint for recipient 1: 00001111\n",
      "Inserting the fingerprint...\n",
      "\n",
      "Training balltrees in: 0.02 sec.\n",
      "Fingerprint inserted.\n",
      "Time: 1 sec.\n",
      "Start the blind insertion algorithm of a scheme for fingerprinting categorical data (neighbourhood) ...\n",
      "\tgamma: 1\n",
      "\txi: 1\n",
      "\n",
      "Generated fingerprint for recipient 1: 11110010\n",
      "\n",
      "Generated fingerprint for recipient 1: 11110010\n",
      "Inserting the fingerprint...\n",
      "\n",
      "Training balltrees in: 0.02 sec.\n",
      "Fingerprint inserted.\n",
      "Time: 1 sec.\n",
      "Start the blind insertion algorithm of a scheme for fingerprinting categorical data (neighbourhood) ...\n",
      "\tgamma: 1\n",
      "\txi: 1\n",
      "\n",
      "Generated fingerprint for recipient 1: 01011010\n",
      "\n",
      "Generated fingerprint for recipient 1: 01011010\n",
      "Inserting the fingerprint...\n",
      "\n",
      "Training balltrees in: 0.02 sec.\n",
      "Fingerprint inserted.\n",
      "Time: 1 sec.\n",
      "Start the blind insertion algorithm of a scheme for fingerprinting categorical data (neighbourhood) ...\n",
      "\tgamma: 1\n",
      "\txi: 1\n",
      "\n",
      "Generated fingerprint for recipient 1: 11010111\n",
      "\n",
      "Generated fingerprint for recipient 1: 11010111\n",
      "Inserting the fingerprint...\n",
      "\n",
      "Training balltrees in: 0.02 sec.\n",
      "Fingerprint inserted.\n",
      "Time: 1 sec.\n",
      "Start the blind insertion algorithm of a scheme for fingerprinting categorical data (neighbourhood) ...\n",
      "\tgamma: 1\n",
      "\txi: 1\n",
      "\n",
      "Generated fingerprint for recipient 1: 00110101\n",
      "\n",
      "Generated fingerprint for recipient 1: 00110101\n",
      "Inserting the fingerprint...\n",
      "\n",
      "Training balltrees in: 0.02 sec.\n",
      "Fingerprint inserted.\n",
      "Time: 1 sec.\n",
      "Start the blind insertion algorithm of a scheme for fingerprinting categorical data (neighbourhood) ...\n",
      "\tgamma: 1\n",
      "\txi: 1\n",
      "\n",
      "Generated fingerprint for recipient 1: 10110010\n",
      "\n",
      "Generated fingerprint for recipient 1: 10110010\n",
      "Inserting the fingerprint...\n",
      "\n",
      "Training balltrees in: 0.02 sec.\n",
      "Fingerprint inserted.\n",
      "Time: 1 sec.\n",
      "Start the blind insertion algorithm of a scheme for fingerprinting categorical data (neighbourhood) ...\n",
      "\tgamma: 1\n",
      "\txi: 1\n",
      "\n",
      "Generated fingerprint for recipient 1: 10000001\n",
      "\n",
      "Generated fingerprint for recipient 1: 10000001\n",
      "Inserting the fingerprint...\n",
      "\n",
      "Training balltrees in: 0.01 sec.\n",
      "Fingerprint inserted.\n",
      "Time: 1 sec.\n",
      "Start the blind insertion algorithm of a scheme for fingerprinting categorical data (neighbourhood) ...\n",
      "\tgamma: 1\n",
      "\txi: 1\n",
      "\n",
      "Generated fingerprint for recipient 1: 00010001\n",
      "\n",
      "Generated fingerprint for recipient 1: 00010001\n",
      "Inserting the fingerprint...\n",
      "\n",
      "Training balltrees in: 0.02 sec.\n",
      "Fingerprint inserted.\n",
      "Time: 1 sec.\n",
      "Start the blind insertion algorithm of a scheme for fingerprinting categorical data (neighbourhood) ...\n",
      "\tgamma: 1\n",
      "\txi: 1\n",
      "\n",
      "Generated fingerprint for recipient 1: 11100001\n",
      "\n",
      "Generated fingerprint for recipient 1: 11100001\n",
      "Inserting the fingerprint...\n",
      "\n",
      "Training balltrees in: 0.01 sec.\n",
      "Fingerprint inserted.\n",
      "Time: 1 sec.\n",
      "Start the blind insertion algorithm of a scheme for fingerprinting categorical data (neighbourhood) ...\n",
      "\tgamma: 1\n",
      "\txi: 1\n",
      "\n",
      "Generated fingerprint for recipient 1: 00010010\n",
      "\n",
      "Generated fingerprint for recipient 1: 00010010\n",
      "Inserting the fingerprint...\n",
      "\n",
      "Training balltrees in: 0.01 sec.\n",
      "Fingerprint inserted.\n",
      "Time: 1 sec.\n",
      "Start the blind insertion algorithm of a scheme for fingerprinting categorical data (neighbourhood) ...\n",
      "\tgamma: 1\n",
      "\txi: 1\n",
      "\n",
      "Generated fingerprint for recipient 1: 00000001\n",
      "\n",
      "Generated fingerprint for recipient 1: 00000001\n",
      "Inserting the fingerprint...\n",
      "\n",
      "Training balltrees in: 0.01 sec.\n",
      "Fingerprint inserted.\n",
      "Time: 1 sec.\n",
      "Start the blind insertion algorithm of a scheme for fingerprinting categorical data (neighbourhood) ...\n",
      "\tgamma: 1\n",
      "\txi: 1\n",
      "\n",
      "Generated fingerprint for recipient 1: 01001010\n",
      "\n",
      "Generated fingerprint for recipient 1: 01001010\n",
      "Inserting the fingerprint...\n",
      "\n",
      "Training balltrees in: 0.02 sec.\n",
      "Fingerprint inserted.\n",
      "Time: 1 sec.\n",
      "Start the blind insertion algorithm of a scheme for fingerprinting categorical data (neighbourhood) ...\n",
      "\tgamma: 1\n",
      "\txi: 1\n",
      "\n",
      "Generated fingerprint for recipient 1: 10011000\n",
      "\n",
      "Generated fingerprint for recipient 1: 10011000\n",
      "Inserting the fingerprint...\n",
      "\n",
      "Training balltrees in: 0.01 sec.\n",
      "Fingerprint inserted.\n",
      "Time: 1 sec.\n",
      "Start the blind insertion algorithm of a scheme for fingerprinting categorical data (neighbourhood) ...\n",
      "\tgamma: 1\n",
      "\txi: 1\n",
      "\n",
      "Generated fingerprint for recipient 1: 00010110\n",
      "\n",
      "Generated fingerprint for recipient 1: 00010110\n",
      "Inserting the fingerprint...\n",
      "\n",
      "Training balltrees in: 0.01 sec.\n",
      "Fingerprint inserted.\n",
      "Time: 1 sec.\n",
      "Start the blind insertion algorithm of a scheme for fingerprinting categorical data (neighbourhood) ...\n",
      "\tgamma: 1\n",
      "\txi: 1\n",
      "\n",
      "Generated fingerprint for recipient 1: 11111111\n",
      "\n",
      "Generated fingerprint for recipient 1: 11111111\n",
      "Inserting the fingerprint...\n",
      "\n",
      "Training balltrees in: 0.01 sec.\n",
      "Fingerprint inserted.\n",
      "Time: 1 sec.\n",
      "Start the blind insertion algorithm of a scheme for fingerprinting categorical data (neighbourhood) ...\n",
      "\tgamma: 1\n",
      "\txi: 1\n",
      "\n",
      "Generated fingerprint for recipient 1: 11011010\n",
      "\n",
      "Generated fingerprint for recipient 1: 11011010\n",
      "Inserting the fingerprint...\n",
      "\n",
      "Training balltrees in: 0.01 sec.\n",
      "Fingerprint inserted.\n",
      "Time: 1 sec.\n",
      "Start the blind insertion algorithm of a scheme for fingerprinting categorical data (neighbourhood) ...\n",
      "\tgamma: 1\n",
      "\txi: 1\n",
      "\n",
      "Generated fingerprint for recipient 1: 10001010\n",
      "\n",
      "Generated fingerprint for recipient 1: 10001010\n",
      "Inserting the fingerprint...\n",
      "\n",
      "Training balltrees in: 0.02 sec.\n",
      "Fingerprint inserted.\n",
      "Time: 1 sec.\n",
      "Start the blind insertion algorithm of a scheme for fingerprinting categorical data (neighbourhood) ...\n",
      "\tgamma: 1\n",
      "\txi: 1\n",
      "\n",
      "Generated fingerprint for recipient 1: 01100001\n",
      "\n",
      "Generated fingerprint for recipient 1: 01100001\n",
      "Inserting the fingerprint...\n",
      "\n",
      "Training balltrees in: 0.02 sec.\n",
      "Fingerprint inserted.\n",
      "Time: 1 sec.\n",
      "Start the blind insertion algorithm of a scheme for fingerprinting categorical data (neighbourhood) ...\n",
      "\tgamma: 1\n",
      "\txi: 1\n",
      "\n",
      "Generated fingerprint for recipient 1: 11100011\n",
      "\n",
      "Generated fingerprint for recipient 1: 11100011\n",
      "Inserting the fingerprint...\n",
      "\n",
      "Training balltrees in: 0.02 sec.\n",
      "Fingerprint inserted.\n",
      "Time: 1 sec.\n",
      "Start the blind insertion algorithm of a scheme for fingerprinting categorical data (neighbourhood) ...\n",
      "\tgamma: 1\n",
      "\txi: 1\n",
      "\n",
      "Generated fingerprint for recipient 1: 01100000\n",
      "\n",
      "Generated fingerprint for recipient 1: 01100000\n",
      "Inserting the fingerprint...\n",
      "\n",
      "Training balltrees in: 0.01 sec.\n",
      "Fingerprint inserted.\n",
      "Time: 1 sec.\n",
      "Start the blind insertion algorithm of a scheme for fingerprinting categorical data (neighbourhood) ...\n",
      "\tgamma: 2\n",
      "\txi: 1\n",
      "\n",
      "Generated fingerprint for recipient 1: 11001011\n",
      "\n",
      "Generated fingerprint for recipient 1: 11001011\n",
      "Inserting the fingerprint...\n",
      "\n",
      "Training balltrees in: 0.02 sec.\n",
      "Fingerprint inserted.\n",
      "Time: 0 sec.\n",
      "Start the blind insertion algorithm of a scheme for fingerprinting categorical data (neighbourhood) ...\n",
      "\tgamma: 2\n",
      "\txi: 1\n",
      "\n",
      "Generated fingerprint for recipient 1: 00110011\n",
      "\n",
      "Generated fingerprint for recipient 1: 00110011\n",
      "Inserting the fingerprint...\n",
      "\n",
      "Training balltrees in: 0.02 sec.\n",
      "Fingerprint inserted.\n",
      "Time: 0 sec.\n",
      "Start the blind insertion algorithm of a scheme for fingerprinting categorical data (neighbourhood) ...\n",
      "\tgamma: 2\n",
      "\txi: 1\n",
      "\n",
      "Generated fingerprint for recipient 1: 00011111\n",
      "\n",
      "Generated fingerprint for recipient 1: 00011111\n",
      "Inserting the fingerprint...\n",
      "\n",
      "Training balltrees in: 0.02 sec.\n",
      "Fingerprint inserted.\n",
      "Time: 0 sec.\n",
      "Start the blind insertion algorithm of a scheme for fingerprinting categorical data (neighbourhood) ...\n",
      "\tgamma: 2\n",
      "\txi: 1\n",
      "\n",
      "Generated fingerprint for recipient 1: 00101111\n",
      "\n",
      "Generated fingerprint for recipient 1: 00101111\n",
      "Inserting the fingerprint...\n",
      "\n",
      "Training balltrees in: 0.01 sec.\n",
      "Fingerprint inserted.\n",
      "Time: 0 sec.\n",
      "Start the blind insertion algorithm of a scheme for fingerprinting categorical data (neighbourhood) ...\n",
      "\tgamma: 2\n",
      "\txi: 1\n",
      "\n",
      "Generated fingerprint for recipient 1: 10010011\n",
      "\n",
      "Generated fingerprint for recipient 1: 10010011\n",
      "Inserting the fingerprint...\n",
      "\n",
      "Training balltrees in: 0.02 sec.\n",
      "Fingerprint inserted.\n",
      "Time: 0 sec.\n",
      "Start the blind insertion algorithm of a scheme for fingerprinting categorical data (neighbourhood) ...\n",
      "\tgamma: 2\n",
      "\txi: 1\n",
      "\n",
      "Generated fingerprint for recipient 1: 11110011\n",
      "\n",
      "Generated fingerprint for recipient 1: 11110011\n",
      "Inserting the fingerprint...\n",
      "\n",
      "Training balltrees in: 0.01 sec.\n",
      "Fingerprint inserted.\n",
      "Time: 0 sec.\n",
      "Start the blind insertion algorithm of a scheme for fingerprinting categorical data (neighbourhood) ...\n",
      "\tgamma: 2\n",
      "\txi: 1\n",
      "\n",
      "Generated fingerprint for recipient 1: 00110110\n",
      "\n",
      "Generated fingerprint for recipient 1: 00110110\n",
      "Inserting the fingerprint...\n",
      "\n",
      "Training balltrees in: 0.02 sec.\n"
     ]
    },
    {
     "name": "stdout",
     "output_type": "stream",
     "text": [
      "Fingerprint inserted.\n",
      "Time: 0 sec.\n",
      "Start the blind insertion algorithm of a scheme for fingerprinting categorical data (neighbourhood) ...\n",
      "\tgamma: 2\n",
      "\txi: 1\n",
      "\n",
      "Generated fingerprint for recipient 1: 01010000\n",
      "\n",
      "Generated fingerprint for recipient 1: 01010000\n",
      "Inserting the fingerprint...\n",
      "\n",
      "Training balltrees in: 0.02 sec.\n",
      "Fingerprint inserted.\n",
      "Time: 0 sec.\n",
      "Start the blind insertion algorithm of a scheme for fingerprinting categorical data (neighbourhood) ...\n",
      "\tgamma: 2\n",
      "\txi: 1\n",
      "\n",
      "Generated fingerprint for recipient 1: 10001001\n",
      "\n",
      "Generated fingerprint for recipient 1: 10001001\n",
      "Inserting the fingerprint...\n",
      "\n",
      "Training balltrees in: 0.02 sec.\n",
      "Fingerprint inserted.\n",
      "Time: 0 sec.\n",
      "Start the blind insertion algorithm of a scheme for fingerprinting categorical data (neighbourhood) ...\n",
      "\tgamma: 2\n",
      "\txi: 1\n",
      "\n",
      "Generated fingerprint for recipient 1: 11000110\n",
      "\n",
      "Generated fingerprint for recipient 1: 11000110\n",
      "Inserting the fingerprint...\n",
      "\n",
      "Training balltrees in: 0.01 sec.\n",
      "Fingerprint inserted.\n",
      "Time: 0 sec.\n",
      "Start the blind insertion algorithm of a scheme for fingerprinting categorical data (neighbourhood) ...\n",
      "\tgamma: 2\n",
      "\txi: 1\n",
      "\n",
      "Generated fingerprint for recipient 1: 11100111\n",
      "\n",
      "Generated fingerprint for recipient 1: 11100111\n",
      "Inserting the fingerprint...\n",
      "\n",
      "Training balltrees in: 0.01 sec.\n",
      "Fingerprint inserted.\n",
      "Time: 0 sec.\n",
      "Start the blind insertion algorithm of a scheme for fingerprinting categorical data (neighbourhood) ...\n",
      "\tgamma: 2\n",
      "\txi: 1\n",
      "\n",
      "Generated fingerprint for recipient 1: 10011110\n",
      "\n",
      "Generated fingerprint for recipient 1: 10011110\n",
      "Inserting the fingerprint...\n",
      "\n",
      "Training balltrees in: 0.01 sec.\n",
      "Fingerprint inserted.\n",
      "Time: 0 sec.\n",
      "Start the blind insertion algorithm of a scheme for fingerprinting categorical data (neighbourhood) ...\n",
      "\tgamma: 2\n",
      "\txi: 1\n",
      "\n",
      "Generated fingerprint for recipient 1: 10111000\n",
      "\n",
      "Generated fingerprint for recipient 1: 10111000\n",
      "Inserting the fingerprint...\n",
      "\n",
      "Training balltrees in: 0.02 sec.\n",
      "Fingerprint inserted.\n",
      "Time: 0 sec.\n",
      "Start the blind insertion algorithm of a scheme for fingerprinting categorical data (neighbourhood) ...\n",
      "\tgamma: 2\n",
      "\txi: 1\n",
      "\n",
      "Generated fingerprint for recipient 1: 01111010\n",
      "\n",
      "Generated fingerprint for recipient 1: 01111010\n",
      "Inserting the fingerprint...\n",
      "\n",
      "Training balltrees in: 0.01 sec.\n",
      "Fingerprint inserted.\n",
      "Time: 0 sec.\n",
      "Start the blind insertion algorithm of a scheme for fingerprinting categorical data (neighbourhood) ...\n",
      "\tgamma: 2\n",
      "\txi: 1\n",
      "\n",
      "Generated fingerprint for recipient 1: 10000010\n",
      "\n",
      "Generated fingerprint for recipient 1: 10000010\n",
      "Inserting the fingerprint...\n",
      "\n",
      "Training balltrees in: 0.01 sec.\n",
      "Fingerprint inserted.\n",
      "Time: 0 sec.\n",
      "Start the blind insertion algorithm of a scheme for fingerprinting categorical data (neighbourhood) ...\n",
      "\tgamma: 2\n",
      "\txi: 1\n",
      "\n",
      "Generated fingerprint for recipient 1: 01000011\n",
      "\n",
      "Generated fingerprint for recipient 1: 01000011\n",
      "Inserting the fingerprint...\n",
      "\n",
      "Training balltrees in: 0.01 sec.\n",
      "Fingerprint inserted.\n",
      "Time: 0 sec.\n",
      "Start the blind insertion algorithm of a scheme for fingerprinting categorical data (neighbourhood) ...\n",
      "\tgamma: 2\n",
      "\txi: 1\n",
      "\n",
      "Generated fingerprint for recipient 1: 11001111\n",
      "\n",
      "Generated fingerprint for recipient 1: 11001111\n",
      "Inserting the fingerprint...\n",
      "\n",
      "Training balltrees in: 0.01 sec.\n",
      "Fingerprint inserted.\n",
      "Time: 0 sec.\n",
      "Start the blind insertion algorithm of a scheme for fingerprinting categorical data (neighbourhood) ...\n",
      "\tgamma: 2\n",
      "\txi: 1\n",
      "\n",
      "Generated fingerprint for recipient 1: 00011010\n",
      "\n",
      "Generated fingerprint for recipient 1: 00011010\n",
      "Inserting the fingerprint...\n",
      "\n",
      "Training balltrees in: 0.01 sec.\n",
      "Fingerprint inserted.\n",
      "Time: 0 sec.\n",
      "Start the blind insertion algorithm of a scheme for fingerprinting categorical data (neighbourhood) ...\n",
      "\tgamma: 2\n",
      "\txi: 1\n",
      "\n",
      "Generated fingerprint for recipient 1: 11110110\n",
      "\n",
      "Generated fingerprint for recipient 1: 11110110\n",
      "Inserting the fingerprint...\n",
      "\n",
      "Training balltrees in: 0.03 sec.\n",
      "Fingerprint inserted.\n",
      "Time: 0 sec.\n",
      "Start the blind insertion algorithm of a scheme for fingerprinting categorical data (neighbourhood) ...\n",
      "\tgamma: 2\n",
      "\txi: 1\n",
      "\n",
      "Generated fingerprint for recipient 1: 01100100\n",
      "\n",
      "Generated fingerprint for recipient 1: 01100100\n",
      "Inserting the fingerprint...\n",
      "\n",
      "Training balltrees in: 0.03 sec.\n",
      "Fingerprint inserted.\n",
      "Time: 0 sec.\n",
      "Start the blind insertion algorithm of a scheme for fingerprinting categorical data (neighbourhood) ...\n",
      "\tgamma: 3\n",
      "\txi: 1\n",
      "\n",
      "Generated fingerprint for recipient 1: 11100011\n",
      "\n",
      "Generated fingerprint for recipient 1: 11100011\n",
      "Inserting the fingerprint...\n",
      "\n",
      "Training balltrees in: 0.02 sec.\n",
      "Fingerprint inserted.\n",
      "Time: 0 sec.\n",
      "Start the blind insertion algorithm of a scheme for fingerprinting categorical data (neighbourhood) ...\n",
      "\tgamma: 3\n",
      "\txi: 1\n",
      "\n",
      "Generated fingerprint for recipient 1: 00000000\n",
      "\n",
      "Generated fingerprint for recipient 1: 00000000\n",
      "Inserting the fingerprint...\n",
      "\n",
      "Training balltrees in: 0.02 sec.\n",
      "Fingerprint inserted.\n",
      "Time: 0 sec.\n",
      "Start the blind insertion algorithm of a scheme for fingerprinting categorical data (neighbourhood) ...\n",
      "\tgamma: 3\n",
      "\txi: 1\n",
      "\n",
      "Generated fingerprint for recipient 1: 01011101\n",
      "\n",
      "Generated fingerprint for recipient 1: 01011101\n",
      "Inserting the fingerprint...\n",
      "\n",
      "Training balltrees in: 0.03 sec.\n",
      "Fingerprint inserted.\n",
      "Time: 0 sec.\n",
      "Start the blind insertion algorithm of a scheme for fingerprinting categorical data (neighbourhood) ...\n",
      "\tgamma: 3\n",
      "\txi: 1\n",
      "\n",
      "Generated fingerprint for recipient 1: 00110110\n",
      "\n",
      "Generated fingerprint for recipient 1: 00110110\n",
      "Inserting the fingerprint...\n",
      "\n",
      "Training balltrees in: 0.02 sec.\n",
      "Fingerprint inserted.\n",
      "Time: 0 sec.\n",
      "Start the blind insertion algorithm of a scheme for fingerprinting categorical data (neighbourhood) ...\n",
      "\tgamma: 3\n",
      "\txi: 1\n",
      "\n",
      "Generated fingerprint for recipient 1: 10001001\n",
      "\n",
      "Generated fingerprint for recipient 1: 10001001\n",
      "Inserting the fingerprint...\n",
      "\n",
      "Training balltrees in: 0.02 sec.\n",
      "Fingerprint inserted.\n",
      "Time: 0 sec.\n",
      "Start the blind insertion algorithm of a scheme for fingerprinting categorical data (neighbourhood) ...\n",
      "\tgamma: 3\n",
      "\txi: 1\n",
      "\n",
      "Generated fingerprint for recipient 1: 00001101\n",
      "\n",
      "Generated fingerprint for recipient 1: 00001101\n",
      "Inserting the fingerprint...\n",
      "\n",
      "Training balltrees in: 0.02 sec.\n",
      "Fingerprint inserted.\n",
      "Time: 0 sec.\n",
      "Start the blind insertion algorithm of a scheme for fingerprinting categorical data (neighbourhood) ...\n",
      "\tgamma: 3\n",
      "\txi: 1\n",
      "\n",
      "Generated fingerprint for recipient 1: 00110011\n",
      "\n",
      "Generated fingerprint for recipient 1: 00110011\n",
      "Inserting the fingerprint...\n",
      "\n",
      "Training balltrees in: 0.02 sec.\n",
      "Fingerprint inserted.\n",
      "Time: 0 sec.\n",
      "Start the blind insertion algorithm of a scheme for fingerprinting categorical data (neighbourhood) ...\n",
      "\tgamma: 3\n",
      "\txi: 1\n",
      "\n",
      "Generated fingerprint for recipient 1: 01010111\n",
      "\n",
      "Generated fingerprint for recipient 1: 01010111\n",
      "Inserting the fingerprint...\n",
      "\n",
      "Training balltrees in: 0.02 sec.\n",
      "Fingerprint inserted.\n",
      "Time: 0 sec.\n",
      "Start the blind insertion algorithm of a scheme for fingerprinting categorical data (neighbourhood) ...\n",
      "\tgamma: 3\n",
      "\txi: 1\n",
      "\n",
      "Generated fingerprint for recipient 1: 11101100\n",
      "\n",
      "Generated fingerprint for recipient 1: 11101100\n",
      "Inserting the fingerprint...\n",
      "\n",
      "Training balltrees in: 0.02 sec.\n",
      "Fingerprint inserted.\n",
      "Time: 0 sec.\n",
      "Start the blind insertion algorithm of a scheme for fingerprinting categorical data (neighbourhood) ...\n",
      "\tgamma: 3\n",
      "\txi: 1\n",
      "\n",
      "Generated fingerprint for recipient 1: 01010101\n",
      "\n",
      "Generated fingerprint for recipient 1: 01010101\n",
      "Inserting the fingerprint...\n",
      "\n",
      "Training balltrees in: 0.01 sec.\n",
      "Fingerprint inserted.\n",
      "Time: 0 sec.\n",
      "Start the blind insertion algorithm of a scheme for fingerprinting categorical data (neighbourhood) ...\n",
      "\tgamma: 3\n",
      "\txi: 1\n",
      "\n",
      "Generated fingerprint for recipient 1: 00101100\n",
      "\n",
      "Generated fingerprint for recipient 1: 00101100\n",
      "Inserting the fingerprint...\n",
      "\n",
      "Training balltrees in: 0.02 sec.\n",
      "Fingerprint inserted.\n",
      "Time: 0 sec.\n",
      "Start the blind insertion algorithm of a scheme for fingerprinting categorical data (neighbourhood) ...\n",
      "\tgamma: 3\n",
      "\txi: 1\n",
      "\n",
      "Generated fingerprint for recipient 1: 10100001\n",
      "\n",
      "Generated fingerprint for recipient 1: 10100001\n",
      "Inserting the fingerprint...\n",
      "\n",
      "Training balltrees in: 0.02 sec.\n",
      "Fingerprint inserted.\n",
      "Time: 0 sec.\n",
      "Start the blind insertion algorithm of a scheme for fingerprinting categorical data (neighbourhood) ...\n",
      "\tgamma: 3\n",
      "\txi: 1\n",
      "\n",
      "Generated fingerprint for recipient 1: 00001010\n",
      "\n",
      "Generated fingerprint for recipient 1: 00001010\n",
      "Inserting the fingerprint...\n",
      "\n",
      "Training balltrees in: 0.02 sec.\n",
      "Fingerprint inserted.\n",
      "Time: 0 sec.\n",
      "Start the blind insertion algorithm of a scheme for fingerprinting categorical data (neighbourhood) ...\n",
      "\tgamma: 3\n",
      "\txi: 1\n",
      "\n",
      "Generated fingerprint for recipient 1: 00101010\n",
      "\n",
      "Generated fingerprint for recipient 1: 00101010\n",
      "Inserting the fingerprint...\n",
      "\n",
      "Training balltrees in: 0.02 sec.\n"
     ]
    },
    {
     "name": "stdout",
     "output_type": "stream",
     "text": [
      "Fingerprint inserted.\n",
      "Time: 0 sec.\n",
      "Start the blind insertion algorithm of a scheme for fingerprinting categorical data (neighbourhood) ...\n",
      "\tgamma: 3\n",
      "\txi: 1\n",
      "\n",
      "Generated fingerprint for recipient 1: 01010000\n",
      "\n",
      "Generated fingerprint for recipient 1: 01010000\n",
      "Inserting the fingerprint...\n",
      "\n",
      "Training balltrees in: 0.02 sec.\n",
      "Fingerprint inserted.\n",
      "Time: 0 sec.\n",
      "Start the blind insertion algorithm of a scheme for fingerprinting categorical data (neighbourhood) ...\n",
      "\tgamma: 3\n",
      "\txi: 1\n",
      "\n",
      "Generated fingerprint for recipient 1: 11111000\n",
      "\n",
      "Generated fingerprint for recipient 1: 11111000\n",
      "Inserting the fingerprint...\n",
      "\n",
      "Training balltrees in: 0.02 sec.\n",
      "Fingerprint inserted.\n",
      "Time: 0 sec.\n",
      "Start the blind insertion algorithm of a scheme for fingerprinting categorical data (neighbourhood) ...\n",
      "\tgamma: 3\n",
      "\txi: 1\n",
      "\n",
      "Generated fingerprint for recipient 1: 10000110\n",
      "\n",
      "Generated fingerprint for recipient 1: 10000110\n",
      "Inserting the fingerprint...\n",
      "\n",
      "Training balltrees in: 0.02 sec.\n",
      "Fingerprint inserted.\n",
      "Time: 0 sec.\n",
      "Start the blind insertion algorithm of a scheme for fingerprinting categorical data (neighbourhood) ...\n",
      "\tgamma: 3\n",
      "\txi: 1\n",
      "\n",
      "Generated fingerprint for recipient 1: 11010110\n",
      "\n",
      "Generated fingerprint for recipient 1: 11010110\n",
      "Inserting the fingerprint...\n",
      "\n",
      "Training balltrees in: 0.02 sec.\n",
      "Fingerprint inserted.\n",
      "Time: 0 sec.\n",
      "Start the blind insertion algorithm of a scheme for fingerprinting categorical data (neighbourhood) ...\n",
      "\tgamma: 3\n",
      "\txi: 1\n",
      "\n",
      "Generated fingerprint for recipient 1: 11100101\n",
      "\n",
      "Generated fingerprint for recipient 1: 11100101\n",
      "Inserting the fingerprint...\n",
      "\n",
      "Training balltrees in: 0.02 sec.\n",
      "Fingerprint inserted.\n",
      "Time: 0 sec.\n",
      "Start the blind insertion algorithm of a scheme for fingerprinting categorical data (neighbourhood) ...\n",
      "\tgamma: 3\n",
      "\txi: 1\n",
      "\n",
      "Generated fingerprint for recipient 1: 01100011\n",
      "\n",
      "Generated fingerprint for recipient 1: 01100011\n",
      "Inserting the fingerprint...\n",
      "\n",
      "Training balltrees in: 0.02 sec.\n",
      "Fingerprint inserted.\n",
      "Time: 0 sec.\n",
      "Start the blind insertion algorithm of a scheme for fingerprinting categorical data (neighbourhood) ...\n",
      "\tgamma: 5\n",
      "\txi: 1\n",
      "\n",
      "Generated fingerprint for recipient 1: 11110011\n",
      "\n",
      "Generated fingerprint for recipient 1: 11110011\n",
      "Inserting the fingerprint...\n",
      "\n",
      "Training balltrees in: 0.01 sec.\n",
      "Fingerprint inserted.\n",
      "Time: 0 sec.\n",
      "Start the blind insertion algorithm of a scheme for fingerprinting categorical data (neighbourhood) ...\n",
      "\tgamma: 5\n",
      "\txi: 1\n",
      "\n",
      "Generated fingerprint for recipient 1: 00111100\n",
      "\n",
      "Generated fingerprint for recipient 1: 00111100\n",
      "Inserting the fingerprint...\n",
      "\n",
      "Training balltrees in: 0.02 sec.\n",
      "Fingerprint inserted.\n",
      "Time: 0 sec.\n",
      "Start the blind insertion algorithm of a scheme for fingerprinting categorical data (neighbourhood) ...\n",
      "\tgamma: 5\n",
      "\txi: 1\n",
      "\n",
      "Generated fingerprint for recipient 1: 10101000\n",
      "\n",
      "Generated fingerprint for recipient 1: 10101000\n",
      "Inserting the fingerprint...\n",
      "\n",
      "Training balltrees in: 0.02 sec.\n",
      "Fingerprint inserted.\n",
      "Time: 0 sec.\n",
      "Start the blind insertion algorithm of a scheme for fingerprinting categorical data (neighbourhood) ...\n",
      "\tgamma: 5\n",
      "\txi: 1\n",
      "\n",
      "Generated fingerprint for recipient 1: 10100110\n",
      "\n",
      "Generated fingerprint for recipient 1: 10100110\n",
      "Inserting the fingerprint...\n",
      "\n",
      "Training balltrees in: 0.02 sec.\n",
      "Fingerprint inserted.\n",
      "Time: 0 sec.\n",
      "Start the blind insertion algorithm of a scheme for fingerprinting categorical data (neighbourhood) ...\n",
      "\tgamma: 5\n",
      "\txi: 1\n",
      "\n",
      "Generated fingerprint for recipient 1: 00101001\n",
      "\n",
      "Generated fingerprint for recipient 1: 00101001\n",
      "Inserting the fingerprint...\n",
      "\n",
      "Training balltrees in: 0.02 sec.\n",
      "Fingerprint inserted.\n",
      "Time: 0 sec.\n",
      "Start the blind insertion algorithm of a scheme for fingerprinting categorical data (neighbourhood) ...\n",
      "\tgamma: 5\n",
      "\txi: 1\n",
      "\n",
      "Generated fingerprint for recipient 1: 00101111\n",
      "\n",
      "Generated fingerprint for recipient 1: 00101111\n",
      "Inserting the fingerprint...\n",
      "\n",
      "Training balltrees in: 0.02 sec.\n",
      "Fingerprint inserted.\n",
      "Time: 0 sec.\n",
      "Start the blind insertion algorithm of a scheme for fingerprinting categorical data (neighbourhood) ...\n",
      "\tgamma: 5\n",
      "\txi: 1\n",
      "\n",
      "Generated fingerprint for recipient 1: 11100110\n",
      "\n",
      "Generated fingerprint for recipient 1: 11100110\n",
      "Inserting the fingerprint...\n",
      "\n",
      "Training balltrees in: 0.02 sec.\n",
      "Fingerprint inserted.\n",
      "Time: 0 sec.\n",
      "Start the blind insertion algorithm of a scheme for fingerprinting categorical data (neighbourhood) ...\n",
      "\tgamma: 5\n",
      "\txi: 1\n",
      "\n",
      "Generated fingerprint for recipient 1: 01010100\n",
      "\n",
      "Generated fingerprint for recipient 1: 01010100\n",
      "Inserting the fingerprint...\n",
      "\n",
      "Training balltrees in: 0.02 sec.\n",
      "Fingerprint inserted.\n",
      "Time: 0 sec.\n",
      "Start the blind insertion algorithm of a scheme for fingerprinting categorical data (neighbourhood) ...\n",
      "\tgamma: 5\n",
      "\txi: 1\n",
      "\n",
      "Generated fingerprint for recipient 1: 00101111\n",
      "\n",
      "Generated fingerprint for recipient 1: 00101111\n",
      "Inserting the fingerprint...\n",
      "\n",
      "Training balltrees in: 0.02 sec.\n",
      "Fingerprint inserted.\n",
      "Time: 0 sec.\n",
      "Start the blind insertion algorithm of a scheme for fingerprinting categorical data (neighbourhood) ...\n",
      "\tgamma: 5\n",
      "\txi: 1\n",
      "\n",
      "Generated fingerprint for recipient 1: 10000100\n",
      "\n",
      "Generated fingerprint for recipient 1: 10000100\n",
      "Inserting the fingerprint...\n",
      "\n",
      "Training balltrees in: 0.02 sec.\n",
      "Fingerprint inserted.\n",
      "Time: 0 sec.\n",
      "Start the blind insertion algorithm of a scheme for fingerprinting categorical data (neighbourhood) ...\n",
      "\tgamma: 5\n",
      "\txi: 1\n",
      "\n",
      "Generated fingerprint for recipient 1: 10100000\n",
      "\n",
      "Generated fingerprint for recipient 1: 10100000\n",
      "Inserting the fingerprint...\n",
      "\n",
      "Training balltrees in: 0.02 sec.\n",
      "Fingerprint inserted.\n",
      "Time: 0 sec.\n",
      "Start the blind insertion algorithm of a scheme for fingerprinting categorical data (neighbourhood) ...\n",
      "\tgamma: 5\n",
      "\txi: 1\n",
      "\n",
      "Generated fingerprint for recipient 1: 01100011\n",
      "\n",
      "Generated fingerprint for recipient 1: 01100011\n",
      "Inserting the fingerprint...\n",
      "\n",
      "Training balltrees in: 0.02 sec.\n",
      "Fingerprint inserted.\n",
      "Time: 0 sec.\n",
      "Start the blind insertion algorithm of a scheme for fingerprinting categorical data (neighbourhood) ...\n",
      "\tgamma: 5\n",
      "\txi: 1\n",
      "\n",
      "Generated fingerprint for recipient 1: 01100101\n",
      "\n",
      "Generated fingerprint for recipient 1: 01100101\n",
      "Inserting the fingerprint...\n",
      "\n",
      "Training balltrees in: 0.02 sec.\n",
      "Fingerprint inserted.\n",
      "Time: 0 sec.\n",
      "Start the blind insertion algorithm of a scheme for fingerprinting categorical data (neighbourhood) ...\n",
      "\tgamma: 5\n",
      "\txi: 1\n",
      "\n",
      "Generated fingerprint for recipient 1: 11010011\n",
      "\n",
      "Generated fingerprint for recipient 1: 11010011\n",
      "Inserting the fingerprint...\n",
      "\n",
      "Training balltrees in: 0.02 sec.\n",
      "Fingerprint inserted.\n",
      "Time: 0 sec.\n",
      "Start the blind insertion algorithm of a scheme for fingerprinting categorical data (neighbourhood) ...\n",
      "\tgamma: 5\n",
      "\txi: 1\n",
      "\n",
      "Generated fingerprint for recipient 1: 01000100\n",
      "\n",
      "Generated fingerprint for recipient 1: 01000100\n",
      "Inserting the fingerprint...\n",
      "\n",
      "Training balltrees in: 0.02 sec.\n",
      "Fingerprint inserted.\n",
      "Time: 0 sec.\n",
      "Start the blind insertion algorithm of a scheme for fingerprinting categorical data (neighbourhood) ...\n",
      "\tgamma: 5\n",
      "\txi: 1\n",
      "\n",
      "Generated fingerprint for recipient 1: 00001010\n",
      "\n",
      "Generated fingerprint for recipient 1: 00001010\n",
      "Inserting the fingerprint...\n",
      "\n",
      "Training balltrees in: 0.02 sec.\n",
      "Fingerprint inserted.\n",
      "Time: 0 sec.\n",
      "Start the blind insertion algorithm of a scheme for fingerprinting categorical data (neighbourhood) ...\n",
      "\tgamma: 5\n",
      "\txi: 1\n",
      "\n",
      "Generated fingerprint for recipient 1: 00011110\n",
      "\n",
      "Generated fingerprint for recipient 1: 00011110\n",
      "Inserting the fingerprint...\n",
      "\n",
      "Training balltrees in: 0.02 sec.\n",
      "Fingerprint inserted.\n",
      "Time: 0 sec.\n",
      "Start the blind insertion algorithm of a scheme for fingerprinting categorical data (neighbourhood) ...\n",
      "\tgamma: 5\n",
      "\txi: 1\n",
      "\n",
      "Generated fingerprint for recipient 1: 01101101\n",
      "\n",
      "Generated fingerprint for recipient 1: 01101101\n",
      "Inserting the fingerprint...\n",
      "\n",
      "Training balltrees in: 0.02 sec.\n",
      "Fingerprint inserted.\n",
      "Time: 0 sec.\n",
      "Start the blind insertion algorithm of a scheme for fingerprinting categorical data (neighbourhood) ...\n",
      "\tgamma: 5\n",
      "\txi: 1\n",
      "\n",
      "Generated fingerprint for recipient 1: 00110100\n",
      "\n",
      "Generated fingerprint for recipient 1: 00110100\n",
      "Inserting the fingerprint...\n",
      "\n",
      "Training balltrees in: 0.02 sec.\n",
      "Fingerprint inserted.\n",
      "Time: 0 sec.\n",
      "Start the blind insertion algorithm of a scheme for fingerprinting categorical data (neighbourhood) ...\n",
      "\tgamma: 5\n",
      "\txi: 1\n",
      "\n",
      "Generated fingerprint for recipient 1: 10100101\n",
      "\n",
      "Generated fingerprint for recipient 1: 10100101\n",
      "Inserting the fingerprint...\n",
      "\n",
      "Training balltrees in: 0.02 sec.\n",
      "Fingerprint inserted.\n",
      "Time: 0 sec.\n",
      "Time: 15352 sec.\n"
     ]
    }
   ],
   "source": [
    "gamma = [1, 2, 3, 5]\n",
    "\n",
    "GB_results_all = dict()\n",
    "XBG_results_all = dict()\n",
    "KNN_results_all = dict()\n",
    "RF_results_all = dict()\n",
    "LR_results_all = dict()\n",
    "\n",
    "for g in gamma:\n",
    "    GB_results = XGB_results = KNN_results = LR_results = RF_results = []\n",
    "    for n in range(n_exp):\n",
    "        # fingerprint the data\n",
    "        scheme = BlindNNScheme(gamma=g, xi=1, fingerprint_bit_length=8)\n",
    "\n",
    "        fp_dataset = scheme.insertion(dataset_name=\"breast-cancer\", recipient_id=1, secret_key=secret_key, \n",
    "                                     correlated_attributes=[\"age\", \"menopause\", \"inv-nodes\", \"node-caps\"])\n",
    "        # same prepocessing as above\n",
    "        fp_dataset = fp_dataset.drop([\"Id\", \"recurrence\"], axis=1)\n",
    "        fp_dataset = pd.get_dummies(fp_dataset)\n",
    "        fp_dataset = fp_dataset.drop(['breast_left', 'irradiat_yes'], axis=1)\n",
    "        fp_dataset = fp_dataset.values\n",
    "        # hyperparameter seach\n",
    "\n",
    "#         GB_model = GradientBoostingClassifier(**search_gb.best_params_)\n",
    "#         GB_scores = cross_val_score(GB_model, fp_dataset, target, cv=10)\n",
    "#         GB_results.append(np.mean(GB_scores))\n",
    "\n",
    "        XGB_model = xgb.XGBClassifier(**search_xgb.best_params_)\n",
    "        XGB_scores = cross_val_score(XGB_model, fp_dataset, target, cv=10)\n",
    "        XGB_results.append(np.mean(XGB_scores))\n",
    "\n",
    "#         KNN_model = KNeighborsClassifier(**search_knn.best_params_)\n",
    "#         KNN_scores = cross_val_score(KNN_model, fp_dataset, target, cv=10)\n",
    "#         KNN_results.append(np.mean(KNN_scores))\n",
    "\n",
    "#         LR_model = LogisticRegression(**search_lr.best_params_)\n",
    "#         LR_scores = cross_val_score(LR_model, fp_dataset, target, cv=10)\n",
    "#         LR_results.append(np.mean(LR_scores))\n",
    "\n",
    "#         RF_model = RandomForestClassifier(**search_rf.best_params_)\n",
    "#         RF_scores = cross_val_score(RF_model, fp_dataset, target, cv=10)\n",
    "#         RF_results.append(np.mean(RF_scores))\n",
    "\n",
    "        secret_key = secret_key - 3\n",
    "        #print(secret_key)\n",
    "        \n",
    "    GB_results_all[g] = GB_results\n",
    "    XBG_results_all[g] = XGB_results\n",
    "    KNN_results_all[g] = KNN_results\n",
    "    LR_results_all[g] = LR_results\n",
    "    RF_results_all[g] = RF_results\n",
    "\n",
    "print(\"Time: \" + str(int(time()-start)) + \" sec.\")"
   ]
  },
  {
   "cell_type": "code",
   "execution_count": 124,
   "id": "80f24c9b",
   "metadata": {},
   "outputs": [
    {
     "name": "stdout",
     "output_type": "stream",
     "text": [
      "0.7261576354679804\n",
      "0.7278325123152709\n",
      "0.727487684729064\n",
      "0.7298522167487684\n"
     ]
    }
   ],
   "source": [
    "print(np.mean(XBG_results_all[1])-0.7273)\n",
    "print(np.mean(XBG_results_all[2])-0.7273)\n",
    "print(np.mean(XBG_results_all[3])-0.7273)\n",
    "print(np.mean(XBG_results_all[5])-0.7273)\n",
    "# with 10 exp"
   ]
  },
  {
   "cell_type": "code",
   "execution_count": 132,
   "id": "463a2ac3",
   "metadata": {},
   "outputs": [
    {
     "data": {
      "text/plain": [
       "0.0025522167487684877"
      ]
     },
     "execution_count": 132,
     "metadata": {},
     "output_type": "execute_result"
    }
   ],
   "source": [
    "0.7298522167487684-0.7273"
   ]
  },
  {
   "cell_type": "markdown",
   "id": "80d4feb6",
   "metadata": {},
   "source": [
    "# Adult data:  hyperparameter search & baseline performance "
   ]
  },
  {
   "cell_type": "code",
   "execution_count": 226,
   "id": "e38b8d0a",
   "metadata": {},
   "outputs": [],
   "source": [
    "import warnings\n",
    "warnings.filterwarnings('ignore')\n",
    "os.chdir('C:/Users/tsarcevic/PycharmProjects/dissertation')"
   ]
  },
  {
   "cell_type": "code",
   "execution_count": 156,
   "id": "f57f77a4",
   "metadata": {},
   "outputs": [],
   "source": [
    "from datasets import Adult, Dataset\n",
    "from utils import fp_cross_val_score\n",
    "from sklearn.svm import LinearSVC\n",
    "from sklearn import metrics, preprocessing, model_selection"
   ]
  },
  {
   "cell_type": "code",
   "execution_count": 235,
   "id": "d93a2fbd",
   "metadata": {},
   "outputs": [],
   "source": [
    "# fetch dataset\n",
    "original_data = Adult()"
   ]
  },
  {
   "cell_type": "code",
   "execution_count": 236,
   "id": "6e8e0c26",
   "metadata": {},
   "outputs": [
    {
     "data": {
      "text/plain": [
       "(48842, 12)"
      ]
     },
     "execution_count": 236,
     "metadata": {},
     "output_type": "execute_result"
    }
   ],
   "source": [
    "# cleaning the data \n",
    "#original_data.dropna()\n",
    "original_data.dataframe = original_data.dataframe.dropna()\n",
    "# encode categorical features and drop redundant \n",
    "original_data.number_encode_categorical()\n",
    "original_data.dataframe = original_data.dataframe.drop(['fnlwgt','education'], axis=1)\n",
    "\n",
    "# define target attribute\n",
    "X = original_data.get_features()\n",
    "y = original_data.get_target()\n",
    "\n",
    "# scale features\n",
    "scaler = preprocessing.StandardScaler()\n",
    "X = pd.DataFrame(scaler.fit_transform(X), columns=X.columns) #, index=X.index)\n",
    "X.shape"
   ]
  },
  {
   "cell_type": "markdown",
   "id": "bf768b0c",
   "metadata": {},
   "source": [
    "### - Gradient Boosting"
   ]
  },
  {
   "cell_type": "code",
   "execution_count": 189,
   "id": "6ab3cc74",
   "metadata": {},
   "outputs": [],
   "source": [
    "n_estimators = range(20, 200, 20)\n",
    "loss = ['log_loss', 'exponential']\n",
    "criterion = ['friedman_mse', 'squared_error']\n",
    "hyperparams = dict(n_estimators=n_estimators,\n",
    "                  loss=loss,\n",
    "                  criterion=criterion)\n",
    "\n",
    "gb = GradientBoostingClassifier()\n",
    "clf = RandomizedSearchCV(gb, hyperparams, random_state=0)\n",
    "search_gb = clf.fit(X, y)"
   ]
  },
  {
   "cell_type": "code",
   "execution_count": 190,
   "id": "154b29c0",
   "metadata": {},
   "outputs": [
    {
     "data": {
      "text/plain": [
       "0.8692519183306366"
      ]
     },
     "execution_count": 190,
     "metadata": {},
     "output_type": "execute_result"
    }
   ],
   "source": [
    "search_gb.best_score_"
   ]
  },
  {
   "cell_type": "code",
   "execution_count": 191,
   "id": "6f616292",
   "metadata": {},
   "outputs": [
    {
     "data": {
      "text/plain": [
       "{'n_estimators': 160, 'loss': 'exponential', 'criterion': 'friedman_mse'}"
      ]
     },
     "execution_count": 191,
     "metadata": {},
     "output_type": "execute_result"
    }
   ],
   "source": [
    "search_gb.best_params_"
   ]
  },
  {
   "cell_type": "markdown",
   "id": "71ef64c2",
   "metadata": {},
   "source": [
    "### XGBoost"
   ]
  },
  {
   "cell_type": "code",
   "execution_count": 174,
   "id": "f03c207e",
   "metadata": {},
   "outputs": [
    {
     "data": {
      "text/plain": [
       "0.8628025195278752"
      ]
     },
     "execution_count": 174,
     "metadata": {},
     "output_type": "execute_result"
    }
   ],
   "source": [
    "# define the model and possible hyperparameters\n",
    "n_estimators = range(20, 200, 20)\n",
    "max_depth = range(3,12,1)\n",
    "gamma = [i/10.0 for i in range(0,5)]\n",
    "colsample_bytree = [i/10.0 for i in range(6,10)]\n",
    "learning_rate = [i/1000.0 for i in range(1, 10, 2)]\n",
    "subsample = [i/10.0 for i in range(5,9)]\n",
    "reg_alpha = [1e-5, 1e-2, 0.1, 1, 100]\n",
    "\n",
    "hyperparams = dict(n_estimators=n_estimators,\n",
    "                  max_depth=max_depth,\n",
    "                  gamma=gamma,\n",
    "                  colsample_bytree=colsample_bytree, \n",
    "                  learning_rate=learning_rate,\n",
    "                  subsample=subsample,\n",
    "                  reg_alpha=reg_alpha)\n",
    "\n",
    "# classifier definition\n",
    "xgboost = xgb.XGBClassifier()\n",
    "le = preprocessing.LabelEncoder()\n",
    "y = le.fit_transform(y)\n",
    "\n",
    "# random search\n",
    "clf = RandomizedSearchCV(xgboost, hyperparams, random_state=4)\n",
    "search_xgb = clf.fit(X, y)\n",
    "search_xgb.best_score_"
   ]
  },
  {
   "cell_type": "code",
   "execution_count": 175,
   "id": "813f7369",
   "metadata": {},
   "outputs": [
    {
     "data": {
      "text/plain": [
       "{'subsample': 0.5,\n",
       " 'reg_alpha': 0.01,\n",
       " 'n_estimators': 160,\n",
       " 'max_depth': 10,\n",
       " 'learning_rate': 0.009,\n",
       " 'gamma': 0.0,\n",
       " 'colsample_bytree': 0.9}"
      ]
     },
     "execution_count": 175,
     "metadata": {},
     "output_type": "execute_result"
    }
   ],
   "source": [
    "search_xgb.best_params_"
   ]
  },
  {
   "cell_type": "markdown",
   "id": "d361a441",
   "metadata": {},
   "source": [
    "### - Random Forest"
   ]
  },
  {
   "cell_type": "code",
   "execution_count": 177,
   "id": "c8e7c5a5",
   "metadata": {},
   "outputs": [
    {
     "data": {
      "text/plain": [
       "0.8531796560330699"
      ]
     },
     "execution_count": 177,
     "metadata": {},
     "output_type": "execute_result"
    }
   ],
   "source": [
    "# define the model and possible hyperparameters\n",
    "n_estimators = range(20, 200, 20)\n",
    "criterion = ['gini', 'entropy', 'log_loss']\n",
    "\n",
    "hyperparams = dict(n_estimators=n_estimators,\n",
    "                  criterion=criterion)\n",
    "\n",
    "# hyperparameter random search\n",
    "rf = RandomForestClassifier()\n",
    "clf = RandomizedSearchCV(rf, hyperparams, random_state=0)\n",
    "search_rf = clf.fit(X, y)\n",
    "search_rf.best_score_"
   ]
  },
  {
   "cell_type": "code",
   "execution_count": 178,
   "id": "977c3e79",
   "metadata": {},
   "outputs": [
    {
     "data": {
      "text/plain": [
       "{'n_estimators': 180, 'criterion': 'entropy'}"
      ]
     },
     "execution_count": 178,
     "metadata": {},
     "output_type": "execute_result"
    }
   ],
   "source": [
    "search_rf.best_params_"
   ]
  },
  {
   "cell_type": "markdown",
   "id": "7e49ff6e",
   "metadata": {},
   "source": [
    "### - Logistic Regression"
   ]
  },
  {
   "cell_type": "code",
   "execution_count": 179,
   "id": "470d258c",
   "metadata": {},
   "outputs": [
    {
     "data": {
      "text/plain": [
       "0.825437082687057"
      ]
     },
     "execution_count": 179,
     "metadata": {},
     "output_type": "execute_result"
    }
   ],
   "source": [
    "solver = ['lbfgs', 'liblinear', 'newton-cg', 'newton-cholesky', 'sag', 'saga']\n",
    "C = range(10, 100, 10)\n",
    "\n",
    "hyperparams = dict(solver=solver, C=C)\n",
    "\n",
    "# hyperparameter random search\n",
    "lr = LogisticRegression(random_state=0)\n",
    "clf = RandomizedSearchCV(lr, hyperparams, random_state=0)\n",
    "search_lr = clf.fit(X, y)\n",
    "search_lr.best_score_"
   ]
  },
  {
   "cell_type": "code",
   "execution_count": 180,
   "id": "c33fd84e",
   "metadata": {},
   "outputs": [
    {
     "data": {
      "text/plain": [
       "{'solver': 'saga', 'C': 90}"
      ]
     },
     "execution_count": 180,
     "metadata": {},
     "output_type": "execute_result"
    }
   ],
   "source": [
    "search_lr.best_params_"
   ]
  },
  {
   "cell_type": "markdown",
   "id": "520f5619",
   "metadata": {},
   "source": [
    "### - kNN"
   ]
  },
  {
   "cell_type": "code",
   "execution_count": 216,
   "id": "4f95c873",
   "metadata": {},
   "outputs": [
    {
     "data": {
      "text/plain": [
       "0.8438229971472883"
      ]
     },
     "execution_count": 216,
     "metadata": {},
     "output_type": "execute_result"
    }
   ],
   "source": [
    "algorithm = ['auto', 'ball_tree', 'kd_tree', 'brute']\n",
    "n_neighbors = range(1, 20, 1)\n",
    "\n",
    "hyperparams = dict(algorithm=algorithm, n_neighbors=n_neighbors)\n",
    "\n",
    "# hyperparameter random search\n",
    "knn = KNeighborsClassifier()\n",
    "clf = RandomizedSearchCV(knn, hyperparams, random_state=20)\n",
    "search_knn = clf.fit(X, y)\n",
    "search_knn.best_score_"
   ]
  },
  {
   "cell_type": "code",
   "execution_count": 219,
   "id": "0f39aa96",
   "metadata": {},
   "outputs": [
    {
     "data": {
      "text/plain": [
       "{'n_neighbors': 18, 'algorithm': 'ball_tree'}"
      ]
     },
     "execution_count": 219,
     "metadata": {},
     "output_type": "execute_result"
    }
   ],
   "source": [
    "search_knn.best_params_"
   ]
  },
  {
   "cell_type": "code",
   "execution_count": 220,
   "id": "1251197a",
   "metadata": {},
   "outputs": [
    {
     "data": {
      "text/plain": [
       "array([0.83807574, 0.84749232, 0.84377559, 0.84418509, 0.84930385,\n",
       "       0.8507371 , 0.83947584, 0.84418509, 0.84418509, 0.84459459])"
      ]
     },
     "execution_count": 220,
     "metadata": {},
     "output_type": "execute_result"
    }
   ],
   "source": [
    "cross_val_score(KNeighborsClassifier(**search_knn.best_params_), X, y, cv=10)"
   ]
  },
  {
   "cell_type": "code",
   "execution_count": 223,
   "id": "91be041d",
   "metadata": {},
   "outputs": [
    {
     "data": {
      "text/plain": [
       "array([0.83787103, 0.84380757, 0.84193284, 0.84459459, 0.84766585,\n",
       "       0.84807535, 0.83988534, 0.8458231 , 0.84438984, 0.84377559])"
      ]
     },
     "execution_count": 223,
     "metadata": {},
     "output_type": "execute_result"
    }
   ],
   "source": [
    "cross_val_score(KNeighborsClassifier(n_neighbors=16, algorithm='ball_tree'), X, y, cv=10)"
   ]
  },
  {
   "cell_type": "code",
   "execution_count": 221,
   "id": "b1939896",
   "metadata": {},
   "outputs": [
    {
     "data": {
      "text/plain": [
       "0.84460103"
      ]
     },
     "execution_count": 221,
     "metadata": {},
     "output_type": "execute_result"
    }
   ],
   "source": [
    "np.mean([0.83807574, 0.84749232, 0.84377559, 0.84418509, 0.84930385,\n",
    "       0.8507371 , 0.83947584, 0.84418509, 0.84418509, 0.84459459])"
   ]
  },
  {
   "cell_type": "code",
   "execution_count": 224,
   "id": "a6bbb988",
   "metadata": {},
   "outputs": [
    {
     "data": {
      "text/plain": [
       "0.8437821099999999"
      ]
     },
     "execution_count": 224,
     "metadata": {},
     "output_type": "execute_result"
    }
   ],
   "source": [
    "np.mean([0.83787103, 0.84380757, 0.84193284, 0.84459459, 0.84766585,\n",
    "       0.84807535, 0.83988534, 0.8458231 , 0.84438984, 0.84377559])"
   ]
  },
  {
   "cell_type": "markdown",
   "id": "2c1956ee",
   "metadata": {},
   "source": [
    "## Adult: performance under fingerprints"
   ]
  },
  {
   "cell_type": "markdown",
   "id": "e2d68dae",
   "metadata": {},
   "source": [
    "### - Baseline fingerprint"
   ]
  },
  {
   "cell_type": "code",
   "execution_count": 228,
   "id": "0018b103",
   "metadata": {},
   "outputs": [],
   "source": [
    "data_fp_rand = pd.read_csv('knn_scheme/fp_datasets/random/adult/adult_fp_5_random_100.csv')"
   ]
  },
  {
   "cell_type": "code",
   "execution_count": 229,
   "id": "fa3b5beb",
   "metadata": {},
   "outputs": [],
   "source": [
    "n_exp=5\n",
    "results = []\n",
    "secret_key = 2000\n",
    "\n",
    "categorical_attributes = list(original_data.categorical_attributes); categorical_attributes.remove('income'); categorical_attributes.remove('education')"
   ]
  },
  {
   "cell_type": "code",
   "execution_count": 253,
   "id": "039de31d",
   "metadata": {},
   "outputs": [
    {
     "data": {
      "text/plain": [
       "{'subsample': 0.5,\n",
       " 'reg_alpha': 0.01,\n",
       " 'n_estimators': 160,\n",
       " 'max_depth': 10,\n",
       " 'learning_rate': 0.009,\n",
       " 'gamma': 0.0,\n",
       " 'colsample_bytree': 0.9}"
      ]
     },
     "execution_count": 253,
     "metadata": {},
     "output_type": "execute_result"
    }
   ],
   "source": [
    "search_xgb.best_params_"
   ]
  },
  {
   "cell_type": "code",
   "execution_count": 255,
   "id": "4db56bf9",
   "metadata": {},
   "outputs": [],
   "source": [
    "le = preprocessing.LabelEncoder()\n",
    "y = le.fit_transform(y)"
   ]
  },
  {
   "cell_type": "code",
   "execution_count": 259,
   "id": "c94203e0",
   "metadata": {},
   "outputs": [
    {
     "name": "stdout",
     "output_type": "stream",
     "text": [
      "Time: 249796 sec.\n"
     ]
    }
   ],
   "source": [
    "gamma = [5, 10, 20]  # 5 10 20 40\n",
    "\n",
    "GB_results_all_rand = dict()\n",
    "XBG_results_all_rand = dict()\n",
    "KNN_results_all_rand = dict()\n",
    "RF_results_all_rand = dict()\n",
    "LR_results_all_rand = dict()\n",
    "\n",
    "for g in gamma:\n",
    "    sk = 100\n",
    "    GB_results = []\n",
    "    KNN_results = []\n",
    "    LR_results = []\n",
    "    RF_results = []\n",
    "    XGB_results = []\n",
    "    for n in range(1):\n",
    "        # fingerprint the data\n",
    "        #scheme = BlindNNScheme(gamma=g, xi=1, fingerprint_bit_length=64)\n",
    "\n",
    "        #fp_dataset = scheme.insertion(dataset_name=\"adult\", recipient_id=1, secret_key=secret_key, \n",
    "        #                             correlated_attributes=[\"relationship\", \"marital-status\", \"occupation\", \"workclass\",\n",
    "        #                                              \"education-num\"])\n",
    "        # same prepocessing as above\n",
    "        fp_dataset = pd.read_csv('knn_scheme/fp_datasets/random/adult/adult_fp_{}_random_{}.csv'.format(g, sk))\n",
    "        sk += 1\n",
    "        fp_dataset = fp_dataset.drop([\"income\", 'fnlwgt','education'], axis=1)\n",
    "        #fp_dataset = fp_dataset.dropna()\n",
    "        for cat in categorical_attributes:\n",
    "            label_enc = preprocessing.LabelEncoder()  # the current version of label encoder works in alphanumeric order\n",
    "            fp_dataset[cat] = label_enc.fit_transform(fp_dataset[cat])\n",
    "        \n",
    "        fp_dataset = pd.DataFrame(scaler.fit_transform(fp_dataset), columns=fp_dataset.columns)\n",
    "\n",
    "        fp_dataset = fp_dataset.values\n",
    "        # hyperparameter seach\n",
    "\n",
    "   #     GB_model = GradientBoostingClassifier(**search_gb.best_params_)\n",
    "  #      GB_scores = cross_val_score(GB_model, fp_dataset, y, cv=10)\n",
    " #       GB_results.append(np.mean(GB_scores))\n",
    "#        print(GB_results)\n",
    "\n",
    "        XGB_model = xgb.XGBClassifier(**search_xgb.best_params_)\n",
    "        XGB_scores = cross_val_score(XGB_model, fp_dataset, y, cv=10)\n",
    "        XGB_results.append(np.mean(XGB_scores))\n",
    "\n",
    "#         KNN_model = KNeighborsClassifier(**search_knn.best_params_)\n",
    "#         KNN_scores = cross_val_score(KNN_model, fp_dataset, y, cv=10)\n",
    "#         KNN_results.append(np.mean(KNN_scores))\n",
    "\n",
    "#         LR_model = LogisticRegression(**search_lr.best_params_)\n",
    "#         LR_scores = cross_val_score(LR_model, fp_dataset, y, cv=10)\n",
    "#         LR_results.append(np.mean(LR_scores))\n",
    "#         print(LR_results)\n",
    "\n",
    "#         RF_model = RandomForestClassifier(**search_rf.best_params_)\n",
    "#         RF_scores = cross_val_score(RF_model, fp_dataset, y, cv=10)\n",
    "#         RF_results.append(np.mean(RF_scores))\n",
    "#         print(RF_results)\n",
    "\n",
    "        secret_key = secret_key - 3\n",
    "        #print(secret_key)\n",
    "        \n",
    "#    GB_results_all_rand[g] = GB_results\n",
    "    XBG_results_all_rand[g] = XGB_results\n",
    "    KNN_results_all_rand[g] = KNN_results\n",
    "    #LR_results_all_rand[g] = LR_results\n",
    "    #RF_results_all_rand[g] = RF_results\n",
    "\n",
    "print(\"Time: \" + str(int(time()-start)) + \" sec.\")"
   ]
  },
  {
   "cell_type": "code",
   "execution_count": 260,
   "id": "71aabaa6",
   "metadata": {},
   "outputs": [
    {
     "data": {
      "text/plain": [
       "{5: [0.8619016620603108], 10: [0.8629663170195412], 20: [0.862863988022637]}"
      ]
     },
     "execution_count": 260,
     "metadata": {},
     "output_type": "execute_result"
    }
   ],
   "source": [
    "XBG_results_all_rand"
   ]
  },
  {
   "cell_type": "code",
   "execution_count": 250,
   "id": "faa656df",
   "metadata": {},
   "outputs": [
    {
     "data": {
      "text/plain": [
       "{5: [0.8426969562844692],\n",
       " 10: [0.8440891445087966],\n",
       " 20: [0.8437615274155703],\n",
       " 40: [0.8447033741660149]}"
      ]
     },
     "execution_count": 250,
     "metadata": {},
     "output_type": "execute_result"
    }
   ],
   "source": [
    "KNN_results_all_rand"
   ]
  },
  {
   "cell_type": "code",
   "execution_count": 238,
   "id": "754c7623",
   "metadata": {},
   "outputs": [
    {
     "data": {
      "text/plain": [
       "{5: [0.8677368920050601,\n",
       "  0.8250071798792371,\n",
       "  0.851029887242784,\n",
       "  0.8672250542158423,\n",
       "  0.8249048257338943,\n",
       "  0.8512550412140996,\n",
       "  0.8682897468977305,\n",
       "  0.8250277303450282,\n",
       "  0.8532615764550258,\n",
       "  0.8678188172353988,\n",
       "  0.8249867677298589,\n",
       "  0.8523402634047466,\n",
       "  0.8680849254390708,\n",
       "  0.8253143596746462,\n",
       "  0.8526062752060705]}"
      ]
     },
     "execution_count": 238,
     "metadata": {},
     "output_type": "execute_result"
    }
   ],
   "source": [
    "GB_results_all_rand"
   ]
  },
  {
   "cell_type": "code",
   "execution_count": 240,
   "id": "23756c11",
   "metadata": {},
   "outputs": [
    {
     "data": {
      "text/plain": [
       "{10: [0.8678392335761835,\n",
       "  0.8252324092958689,\n",
       "  0.8517669502572266,\n",
       "  0.8684740095077863,\n",
       "  0.8253552594187189,\n",
       "  0.8517054665161113,\n",
       "  0.8688834721946289,\n",
       "  0.8253553013327833,\n",
       "  0.8517055335786144,\n",
       "  0.8687606094975593,\n",
       "  0.8254781388814143,\n",
       "  0.8532615680722131,\n",
       "  0.8688834638118159,\n",
       "  0.8253553139070027,\n",
       "  0.852319671024891]}"
      ]
     },
     "execution_count": 240,
     "metadata": {},
     "output_type": "execute_result"
    }
   ],
   "source": [
    "LR_results_all_rand"
   ]
  },
  {
   "cell_type": "code",
   "execution_count": 241,
   "id": "7839c750",
   "metadata": {},
   "outputs": [
    {
     "data": {
      "text/plain": [
       "{10: [0.8678392335761835,\n",
       "  0.8252324092958689,\n",
       "  0.8517669502572266,\n",
       "  0.8684740095077863,\n",
       "  0.8253552594187189,\n",
       "  0.8517054665161113,\n",
       "  0.8688834721946289,\n",
       "  0.8253553013327833,\n",
       "  0.8517055335786144,\n",
       "  0.8687606094975593,\n",
       "  0.8254781388814143,\n",
       "  0.8532615680722131,\n",
       "  0.8688834638118159,\n",
       "  0.8253553139070027,\n",
       "  0.852319671024891]}"
      ]
     },
     "execution_count": 241,
     "metadata": {},
     "output_type": "execute_result"
    }
   ],
   "source": [
    "RF_results_all_rand"
   ]
  },
  {
   "cell_type": "code",
   "execution_count": 242,
   "id": "37abe6f0",
   "metadata": {},
   "outputs": [
    {
     "data": {
      "text/plain": [
       "{10: [0.8678392335761835,\n",
       "  0.8252324092958689,\n",
       "  0.8517669502572266,\n",
       "  0.8684740095077863,\n",
       "  0.8253552594187189,\n",
       "  0.8517054665161113,\n",
       "  0.8688834721946289,\n",
       "  0.8253553013327833,\n",
       "  0.8517055335786144,\n",
       "  0.8687606094975593,\n",
       "  0.8254781388814143,\n",
       "  0.8532615680722131,\n",
       "  0.8688834638118159,\n",
       "  0.8253553139070027,\n",
       "  0.852319671024891]}"
      ]
     },
     "execution_count": 242,
     "metadata": {},
     "output_type": "execute_result"
    }
   ],
   "source": [
    "GB_results_all_rand"
   ]
  },
  {
   "cell_type": "markdown",
   "id": "f550e94f",
   "metadata": {},
   "source": [
    "### - NN fingerprint"
   ]
  },
  {
   "cell_type": "code",
   "execution_count": 187,
   "id": "71c4ccda",
   "metadata": {},
   "outputs": [],
   "source": [
    "n_exp=5\n",
    "results = []\n",
    "secret_key = 2000\n",
    "\n",
    "categorical_attributes = list(original_data.categorical_attributes); categorical_attributes.remove('income'); categorical_attributes.remove('education')"
   ]
  },
  {
   "cell_type": "code",
   "execution_count": 198,
   "id": "cb60fc26",
   "metadata": {},
   "outputs": [
    {
     "name": "stdout",
     "output_type": "stream",
     "text": [
      "Start the blind insertion algorithm of a scheme for fingerprinting categorical data (neighbourhood) ...\n",
      "\tgamma: 5\n",
      "\txi: 1\n",
      "\n",
      "Generated fingerprint for recipient 1: 11001011\n",
      "\n",
      "Generated fingerprint for recipient 1: 11001011\n",
      "Inserting the fingerprint...\n",
      "\n",
      "Training balltrees in: 0.55 sec.\n",
      "Fingerprint inserted.\n",
      "Time: 100 sec.\n",
      "Start the blind insertion algorithm of a scheme for fingerprinting categorical data (neighbourhood) ...\n",
      "\tgamma: 5\n",
      "\txi: 1\n",
      "\n",
      "Generated fingerprint for recipient 1: 00110011\n",
      "\n",
      "Generated fingerprint for recipient 1: 00110011\n",
      "Inserting the fingerprint...\n",
      "\n",
      "Training balltrees in: 0.52 sec.\n",
      "Fingerprint inserted.\n",
      "Time: 113 sec.\n",
      "Start the blind insertion algorithm of a scheme for fingerprinting categorical data (neighbourhood) ...\n",
      "\tgamma: 5\n",
      "\txi: 1\n",
      "\n",
      "Generated fingerprint for recipient 1: 00011111\n",
      "\n",
      "Generated fingerprint for recipient 1: 00011111\n",
      "Inserting the fingerprint...\n",
      "\n",
      "Training balltrees in: 0.46 sec.\n",
      "Fingerprint inserted.\n",
      "Time: 100 sec.\n",
      "Start the blind insertion algorithm of a scheme for fingerprinting categorical data (neighbourhood) ...\n",
      "\tgamma: 5\n",
      "\txi: 1\n",
      "\n",
      "Generated fingerprint for recipient 1: 00101111\n",
      "\n",
      "Generated fingerprint for recipient 1: 00101111\n",
      "Inserting the fingerprint...\n",
      "\n",
      "Training balltrees in: 0.49 sec.\n",
      "Fingerprint inserted.\n",
      "Time: 81 sec.\n",
      "Start the blind insertion algorithm of a scheme for fingerprinting categorical data (neighbourhood) ...\n",
      "\tgamma: 5\n",
      "\txi: 1\n",
      "\n",
      "Generated fingerprint for recipient 1: 10010011\n",
      "\n",
      "Generated fingerprint for recipient 1: 10010011\n",
      "Inserting the fingerprint...\n",
      "\n",
      "Training balltrees in: 0.39 sec.\n",
      "Fingerprint inserted.\n",
      "Time: 82 sec.\n",
      "Start the blind insertion algorithm of a scheme for fingerprinting categorical data (neighbourhood) ...\n",
      "\tgamma: 10\n",
      "\txi: 1\n",
      "\n",
      "Generated fingerprint for recipient 1: 11110011\n",
      "\n",
      "Generated fingerprint for recipient 1: 11110011\n",
      "Inserting the fingerprint...\n",
      "\n",
      "Training balltrees in: 0.36 sec.\n",
      "Fingerprint inserted.\n",
      "Time: 36 sec.\n",
      "Start the blind insertion algorithm of a scheme for fingerprinting categorical data (neighbourhood) ...\n",
      "\tgamma: 10\n",
      "\txi: 1\n",
      "\n",
      "Generated fingerprint for recipient 1: 00110110\n",
      "\n",
      "Generated fingerprint for recipient 1: 00110110\n",
      "Inserting the fingerprint...\n",
      "\n",
      "Training balltrees in: 0.36 sec.\n",
      "Fingerprint inserted.\n",
      "Time: 2862 sec.\n",
      "Start the blind insertion algorithm of a scheme for fingerprinting categorical data (neighbourhood) ...\n",
      "\tgamma: 10\n",
      "\txi: 1\n",
      "\n",
      "Generated fingerprint for recipient 1: 01010000\n",
      "\n",
      "Generated fingerprint for recipient 1: 01010000\n",
      "Inserting the fingerprint...\n",
      "\n",
      "Training balltrees in: 0.36 sec.\n",
      "Fingerprint inserted.\n",
      "Time: 36 sec.\n",
      "Start the blind insertion algorithm of a scheme for fingerprinting categorical data (neighbourhood) ...\n",
      "\tgamma: 10\n",
      "\txi: 1\n",
      "\n",
      "Generated fingerprint for recipient 1: 10001001\n",
      "\n",
      "Generated fingerprint for recipient 1: 10001001\n",
      "Inserting the fingerprint...\n",
      "\n",
      "Training balltrees in: 0.36 sec.\n",
      "Fingerprint inserted.\n",
      "Time: 36 sec.\n",
      "Start the blind insertion algorithm of a scheme for fingerprinting categorical data (neighbourhood) ...\n",
      "\tgamma: 10\n",
      "\txi: 1\n",
      "\n",
      "Generated fingerprint for recipient 1: 11000110\n",
      "\n",
      "Generated fingerprint for recipient 1: 11000110\n",
      "Inserting the fingerprint...\n",
      "\n",
      "Training balltrees in: 0.36 sec.\n",
      "Fingerprint inserted.\n",
      "Time: 35 sec.\n",
      "Start the blind insertion algorithm of a scheme for fingerprinting categorical data (neighbourhood) ...\n",
      "\tgamma: 20\n",
      "\txi: 1\n",
      "\n",
      "Generated fingerprint for recipient 1: 11100111\n",
      "\n",
      "Generated fingerprint for recipient 1: 11100111\n",
      "Inserting the fingerprint...\n",
      "\n",
      "Training balltrees in: 0.4 sec.\n",
      "Fingerprint inserted.\n",
      "Time: 23 sec.\n",
      "Start the blind insertion algorithm of a scheme for fingerprinting categorical data (neighbourhood) ...\n",
      "\tgamma: 20\n",
      "\txi: 1\n",
      "\n",
      "Generated fingerprint for recipient 1: 10011110\n",
      "\n",
      "Generated fingerprint for recipient 1: 10011110\n",
      "Inserting the fingerprint...\n",
      "\n",
      "Training balltrees in: 0.46 sec.\n",
      "Fingerprint inserted.\n",
      "Time: 21 sec.\n",
      "Start the blind insertion algorithm of a scheme for fingerprinting categorical data (neighbourhood) ...\n",
      "\tgamma: 20\n",
      "\txi: 1\n",
      "\n",
      "Generated fingerprint for recipient 1: 10111000\n",
      "\n",
      "Generated fingerprint for recipient 1: 10111000\n",
      "Inserting the fingerprint...\n",
      "\n",
      "Training balltrees in: 1.14 sec.\n",
      "Fingerprint inserted.\n",
      "Time: 57 sec.\n",
      "Start the blind insertion algorithm of a scheme for fingerprinting categorical data (neighbourhood) ...\n",
      "\tgamma: 20\n",
      "\txi: 1\n",
      "\n",
      "Generated fingerprint for recipient 1: 01111010\n",
      "\n",
      "Generated fingerprint for recipient 1: 01111010\n",
      "Inserting the fingerprint...\n",
      "\n",
      "Training balltrees in: 0.39 sec.\n",
      "Fingerprint inserted.\n",
      "Time: 25 sec.\n",
      "Start the blind insertion algorithm of a scheme for fingerprinting categorical data (neighbourhood) ...\n",
      "\tgamma: 20\n",
      "\txi: 1\n",
      "\n",
      "Generated fingerprint for recipient 1: 10000010\n",
      "\n",
      "Generated fingerprint for recipient 1: 10000010\n",
      "Inserting the fingerprint...\n",
      "\n",
      "Training balltrees in: 1.18 sec.\n",
      "Fingerprint inserted.\n",
      "Time: 60 sec.\n",
      "Start the blind insertion algorithm of a scheme for fingerprinting categorical data (neighbourhood) ...\n",
      "\tgamma: 40\n",
      "\txi: 1\n",
      "\n",
      "Generated fingerprint for recipient 1: 01000011\n",
      "\n",
      "Generated fingerprint for recipient 1: 01000011\n",
      "Inserting the fingerprint...\n",
      "\n",
      "Training balltrees in: 1.2 sec.\n",
      "Fingerprint inserted.\n",
      "Time: 36 sec.\n",
      "Start the blind insertion algorithm of a scheme for fingerprinting categorical data (neighbourhood) ...\n",
      "\tgamma: 40\n",
      "\txi: 1\n",
      "\n",
      "Generated fingerprint for recipient 1: 11001111\n",
      "\n",
      "Generated fingerprint for recipient 1: 11001111\n",
      "Inserting the fingerprint...\n",
      "\n",
      "Training balltrees in: 1.19 sec.\n",
      "Fingerprint inserted.\n",
      "Time: 33 sec.\n",
      "Start the blind insertion algorithm of a scheme for fingerprinting categorical data (neighbourhood) ...\n",
      "\tgamma: 40\n",
      "\txi: 1\n",
      "\n",
      "Generated fingerprint for recipient 1: 00011010\n",
      "\n",
      "Generated fingerprint for recipient 1: 00011010\n",
      "Inserting the fingerprint...\n",
      "\n",
      "Training balltrees in: 0.47 sec.\n",
      "Fingerprint inserted.\n",
      "Time: 18 sec.\n",
      "Start the blind insertion algorithm of a scheme for fingerprinting categorical data (neighbourhood) ...\n",
      "\tgamma: 40\n",
      "\txi: 1\n",
      "\n",
      "Generated fingerprint for recipient 1: 11110110\n",
      "\n",
      "Generated fingerprint for recipient 1: 11110110\n",
      "Inserting the fingerprint...\n",
      "\n",
      "Training balltrees in: 0.53 sec.\n",
      "Fingerprint inserted.\n",
      "Time: 17 sec.\n",
      "Start the blind insertion algorithm of a scheme for fingerprinting categorical data (neighbourhood) ...\n",
      "\tgamma: 40\n",
      "\txi: 1\n",
      "\n",
      "Generated fingerprint for recipient 1: 01100100\n",
      "\n",
      "Generated fingerprint for recipient 1: 01100100\n",
      "Inserting the fingerprint...\n",
      "\n",
      "Training balltrees in: 1.14 sec.\n",
      "Fingerprint inserted.\n",
      "Time: 36 sec.\n",
      "Time: 160715 sec.\n"
     ]
    }
   ],
   "source": [
    "gamma = [5, 10, 20, 40]\n",
    "\n",
    "GB_results_all = dict()\n",
    "#XBG_results_all = dict()\n",
    "KNN_results_all = dict()\n",
    "RF_results_all = dict()\n",
    "LR_results_all = dict()\n",
    "\n",
    "for g in gamma:\n",
    "    GB_results = KNN_results = LR_results = RF_results = []\n",
    "    #XGB_results = []\n",
    "    for n in range(n_exp):\n",
    "        # fingerprint the data\n",
    "        scheme = BlindNNScheme(gamma=g, xi=1, fingerprint_bit_length=64)\n",
    "\n",
    "        fp_dataset = scheme.insertion(dataset_name=\"adult\", recipient_id=1, secret_key=secret_key, \n",
    "                                     correlated_attributes=[\"relationship\", \"marital-status\", \"occupation\", \"workclass\",\n",
    "                                                      \"education-num\"])\n",
    "        # same prepocessing as above\n",
    "        fp_dataset = fp_dataset.drop([\"Id\", \"income\", 'fnlwgt','education'], axis=1)\n",
    "        fp_dataset = fp_dataset.dropna()\n",
    "        for cat in categorical_attributes:\n",
    "            label_enc = preprocessing.LabelEncoder()  # the current version of label encoder works in alphanumeric order\n",
    "            fp_dataset[cat] = label_enc.fit_transform(fp_dataset[cat])\n",
    "        \n",
    "        fp_dataset = pd.DataFrame(scaler.fit_transform(fp_dataset), columns=fp_dataset.columns)\n",
    "\n",
    "        fp_dataset = fp_dataset.values\n",
    "        # hyperparameter seach\n",
    "\n",
    "        GB_model = GradientBoostingClassifier(**search_gb.best_params_)\n",
    "        GB_scores = cross_val_score(GB_model, fp_dataset, y, cv=10)\n",
    "        GB_results.append(np.mean(GB_scores))\n",
    "\n",
    "#         XGB_model = xgb.XGBClassifier(**search_xgb.best_params_)\n",
    "#         XGB_scores = cross_val_score(XGB_model, fp_dataset, y, cv=10)\n",
    "#         XGB_results.append(np.mean(XGB_scores))\n",
    "\n",
    "        KNN_model = KNeighborsClassifier(**search_knn.best_params_)\n",
    "        KNN_scores = cross_val_score(KNN_model, fp_dataset, y, cv=10)\n",
    "        KNN_results.append(np.mean(KNN_scores))\n",
    "\n",
    "        LR_model = LogisticRegression(**search_lr.best_params_)\n",
    "        LR_scores = cross_val_score(LR_model, fp_dataset, y, cv=10)\n",
    "        LR_results.append(np.mean(LR_scores))\n",
    "\n",
    "        RF_model = RandomForestClassifier(**search_rf.best_params_)\n",
    "        RF_scores = cross_val_score(RF_model, fp_dataset, y, cv=10)\n",
    "        RF_results.append(np.mean(RF_scores))\n",
    "\n",
    "        secret_key = secret_key - 3\n",
    "        #print(secret_key)\n",
    "        \n",
    "    GB_results_all[g] = GB_results\n",
    "    #XBG_results_all[g] = XGB_results\n",
    "    KNN_results_all[g] = KNN_results\n",
    "    LR_results_all[g] = LR_results\n",
    "    RF_results_all[g] = RF_results\n",
    "\n",
    "print(\"Time: \" + str(int(time()-start)) + \" sec.\")"
   ]
  },
  {
   "cell_type": "code",
   "execution_count": 196,
   "id": "d056cd20",
   "metadata": {},
   "outputs": [
    {
     "data": {
      "text/plain": [
       "{5: [0.8601613817222823,\n",
       "  0.8610008030734745,\n",
       "  0.8601409486158719,\n",
       "  0.8607346739127701,\n",
       "  0.8614102992915684],\n",
       " 10: [0.8619016662517174,\n",
       "  0.8618812373367133,\n",
       "  0.8628230505559064,\n",
       "  0.8615331577972315,\n",
       "  0.8617378786621366],\n",
       " 20: [0.8627001962416496,\n",
       "  0.862352108319355,\n",
       "  0.8629663463593863,\n",
       "  0.8622292959191629,\n",
       "  0.8625978001822425],\n",
       " 40: [0.8629663505507927,\n",
       "  0.8629458713389113,\n",
       "  0.8631915757760179,\n",
       "  0.8632324839029035,\n",
       "  0.8629458922959434]}"
      ]
     },
     "execution_count": 196,
     "metadata": {},
     "output_type": "execute_result"
    }
   ],
   "source": [
    "XBG_results_all"
   ]
  },
  {
   "cell_type": "code",
   "execution_count": 202,
   "id": "abbf41cc",
   "metadata": {},
   "outputs": [
    {
     "name": "stdout",
     "output_type": "stream",
     "text": [
      "-0.023854427717938442\n",
      "-0.023040582328862746\n",
      "-0.022295313588455712\n",
      "-0.022089550949479397\n"
     ]
    }
   ],
   "source": [
    "print(np.mean(GB_results_all[5]) - 0.8693)\n",
    "print(np.mean(GB_results_all[10]) - 0.8693)\n",
    "print(np.mean(GB_results_all[20]) - 0.8693)\n",
    "print(np.mean(GB_results_all[40]) - 0.8693)"
   ]
  },
  {
   "cell_type": "code",
   "execution_count": 222,
   "id": "6ea5d1e2",
   "metadata": {},
   "outputs": [
    {
     "name": "stdout",
     "output_type": "stream",
     "text": [
      "5\n",
      "-0.11393975440034954\n",
      "10\n",
      "-0.0306123728641583\n",
      "20\n",
      "0.06336579158481292\n",
      "40\n",
      "0.09325856702520063\n"
     ]
    }
   ],
   "source": [
    "for g in gamma:\n",
    "    print(g)\n",
    "    print((np.mean(KNN_results_all[g][10:]) - 0.8446)*100)"
   ]
  },
  {
   "cell_type": "code",
   "execution_count": 217,
   "id": "e6fa29af",
   "metadata": {},
   "outputs": [
    {
     "name": "stdout",
     "output_type": "stream",
     "text": [
      "5\n",
      "-1.1939397544003527\n",
      "10\n",
      "-1.1106123728641615\n",
      "20\n",
      "-1.0166342084151903\n",
      "40\n",
      "-0.9867414329748025\n"
     ]
    }
   ],
   "source": [
    "for g in gamma:\n",
    "    print(g)\n",
    "    print((np.mean(LR_results_all[g][10:]) - 0.8554)*100)"
   ]
  },
  {
   "cell_type": "code",
   "execution_count": 218,
   "id": "47456a90",
   "metadata": {},
   "outputs": [
    {
     "name": "stdout",
     "output_type": "stream",
     "text": [
      "5\n",
      "-0.7754427717938439\n",
      "10\n",
      "-0.6940582328862743\n",
      "20\n",
      "-0.6195313588455709\n",
      "40\n",
      "-0.5989550949479394\n"
     ]
    }
   ],
   "source": [
    "for g in gamma:\n",
    "    print(g)\n",
    "    print((np.mean(RF_results_all[g][:]) - 0.8532)*100)"
   ]
  }
 ],
 "metadata": {
  "kernelspec": {
   "display_name": "Python3-venv",
   "language": "python",
   "name": "venv"
  },
  "language_info": {
   "codemirror_mode": {
    "name": "ipython",
    "version": 3
   },
   "file_extension": ".py",
   "mimetype": "text/x-python",
   "name": "python",
   "nbconvert_exporter": "python",
   "pygments_lexer": "ipython3",
   "version": "3.10.6"
  }
 },
 "nbformat": 4,
 "nbformat_minor": 5
}
