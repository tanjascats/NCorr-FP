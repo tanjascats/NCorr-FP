{
 "cells": [
  {
   "cell_type": "code",
   "execution_count": 1,
   "id": "70baa318-03c4-457a-84c0-ff4623d1a9cb",
   "metadata": {},
   "outputs": [],
   "source": [
    "from datasets import Adult\n",
    "from NCorrFP.NCorrFP import NCorrFP\n",
    "\n",
    "import argparse\n",
    "import os\n",
    "from itertools import product\n",
    "from pprint import pprint"
   ]
  },
  {
   "cell_type": "code",
   "execution_count": 2,
   "id": "66617430-1299-443f-9ef6-9e66b2f349c8",
   "metadata": {},
   "outputs": [],
   "source": [
    "param = {'gamma': 2,#, 4, 8, 16, 32],\n",
    "              'k': 500, #, 1000],\n",
    "              'fingerprint_length': 128, #, 256, 512],#, 128, 256],  # , 128, 256],\n",
    "              'n_recipients': 20,\n",
    "              'sk': 100,\n",
    "              'id': 0\n",
    "             }"
   ]
  },
  {
   "cell_type": "code",
   "execution_count": 3,
   "id": "8649d74b-a457-4bbf-8de2-f4de85390d89",
   "metadata": {},
   "outputs": [],
   "source": [
    "scheme = NCorrFP(gamma=param['gamma'], fingerprint_bit_length=param['fingerprint_length'], k=param['k'],\n",
    "                             number_of_recipients=param['n_recipients'], fingerprint_code_type='tardos')"
   ]
  },
  {
   "cell_type": "code",
   "execution_count": null,
   "id": "9e24f494-ab33-47ff-8199-59c8820bc970",
   "metadata": {},
   "outputs": [],
   "source": [
    "data = Adult()\n",
    "data.dataframe.head()"
   ]
  },
  {
   "cell_type": "code",
   "execution_count": null,
   "id": "1f36ce71-d9d6-430d-ba03-7fa1647b04b3",
   "metadata": {},
   "outputs": [],
   "source": [
    "data.correlated_attributes"
   ]
  },
  {
   "cell_type": "code",
   "execution_count": null,
   "id": "706637a7-7abe-4c82-8e38-d18571ac9281",
   "metadata": {},
   "outputs": [],
   "source": [
    "data.columns"
   ]
  },
  {
   "cell_type": "code",
   "execution_count": null,
   "id": "f41d2f22-f0f0-4610-afc0-4b196aec5edd",
   "metadata": {},
   "outputs": [],
   "source": [
    "fp_data = scheme.insertion(data, secret_key=param['sk'], recipient_id=param['id'],\n",
    "                             correlated_attributes=data.correlated_attributes, save_computation=True, \n",
    "                           outfile='adult_fp_temp.csv')"
   ]
  },
  {
   "cell_type": "code",
   "execution_count": null,
   "id": "95a45d0f-451d-40d6-a994-af5df84001b1",
   "metadata": {},
   "outputs": [],
   "source": [
    "fp_data.head()"
   ]
  },
  {
   "cell_type": "code",
   "execution_count": null,
   "id": "95820e22-8eda-493e-b479-b54d2c21be42",
   "metadata": {},
   "outputs": [],
   "source": [
    "df_diff = fp_data.head(10).compare(data.dataframe.head(10))\n",
    "df_diff"
   ]
  },
  {
   "cell_type": "code",
   "execution_count": null,
   "id": "8fcb6399-abfb-47cc-8c07-39bc84a59863",
   "metadata": {},
   "outputs": [],
   "source": [
    "detected_fp, votes, suspect_probvec = scheme.detection(fp_data, secret_key=param['sk'],\n",
    "                                                                   primary_key='Id',\n",
    "                                                                   correlated_attributes=data.correlated_attributes,\n",
    "                                                                   original_columns=list(data.columns))"
   ]
  },
  {
   "cell_type": "code",
   "execution_count": null,
   "id": "efa9e595-ce23-4c08-99b9-fe531bd6508b",
   "metadata": {},
   "outputs": [],
   "source": [
    "scheme.insertion_iter_log[0]"
   ]
  },
  {
   "cell_type": "code",
   "execution_count": null,
   "id": "59a15d22-b4f6-481e-b2ba-bce6cdc9d2ca",
   "metadata": {},
   "outputs": [],
   "source": [
    "scheme.detection_iter_log[0]"
   ]
  },
  {
   "cell_type": "code",
   "execution_count": null,
   "id": "8448f320-d2e1-4ba9-a83c-be5cc5bc32d6",
   "metadata": {},
   "outputs": [],
   "source": [
    "from NCorrFP.demo import *"
   ]
  },
  {
   "cell_type": "code",
   "execution_count": null,
   "id": "2c33ae21-b5a2-4ac4-9a93-1142caec242b",
   "metadata": {},
   "outputs": [],
   "source": [
    "demo = Demo(scheme)"
   ]
  }
 ],
 "metadata": {
  "kernelspec": {
   "display_name": "Python3-venv",
   "language": "python",
   "name": "venv"
  },
  "language_info": {
   "codemirror_mode": {
    "name": "ipython",
    "version": 3
   },
   "file_extension": ".py",
   "mimetype": "text/x-python",
   "name": "python",
   "nbconvert_exporter": "python",
   "pygments_lexer": "ipython3",
   "version": "3.10.6"
  }
 },
 "nbformat": 4,
 "nbformat_minor": 5
}
