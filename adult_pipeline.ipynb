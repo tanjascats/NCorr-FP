{
 "cells": [
  {
   "cell_type": "code",
   "execution_count": 1,
   "id": "70baa318-03c4-457a-84c0-ff4623d1a9cb",
   "metadata": {},
   "outputs": [],
   "source": [
    "from datasets import Adult\n",
    "from NCorrFP.NCorrFP import NCorrFP\n",
    "\n",
    "import argparse\n",
    "import os\n",
    "from itertools import product\n",
    "from pprint import pprint"
   ]
  },
  {
   "cell_type": "code",
   "execution_count": 2,
   "id": "66617430-1299-443f-9ef6-9e66b2f349c8",
   "metadata": {},
   "outputs": [],
   "source": [
    "param = {'gamma': 2,#, 4, 8, 16, 32],\n",
    "              'k': 400, #, 1000],\n",
    "              'fingerprint_length': 128, #, 256, 512],#, 128, 256],  # , 128, 256],\n",
    "              'n_recipients': 20,\n",
    "              'sk': 100,\n",
    "              'id': 0\n",
    "             }"
   ]
  },
  {
   "cell_type": "code",
   "execution_count": 3,
   "id": "8649d74b-a457-4bbf-8de2-f4de85390d89",
   "metadata": {},
   "outputs": [],
   "source": [
    "scheme = NCorrFP(gamma=param['gamma'], fingerprint_bit_length=param['fingerprint_length'], k=param['k'],\n",
    "                             number_of_recipients=param['n_recipients'], fingerprint_code_type='tardos')"
   ]
  },
  {
   "cell_type": "code",
   "execution_count": 4,
   "id": "9e24f494-ab33-47ff-8199-59c8820bc970",
   "metadata": {},
   "outputs": [
    {
     "data": {
      "text/html": [
       "<div>\n",
       "<style scoped>\n",
       "    .dataframe tbody tr th:only-of-type {\n",
       "        vertical-align: middle;\n",
       "    }\n",
       "\n",
       "    .dataframe tbody tr th {\n",
       "        vertical-align: top;\n",
       "    }\n",
       "\n",
       "    .dataframe thead th {\n",
       "        text-align: right;\n",
       "    }\n",
       "</style>\n",
       "<table border=\"1\" class=\"dataframe\">\n",
       "  <thead>\n",
       "    <tr style=\"text-align: right;\">\n",
       "      <th></th>\n",
       "      <th>Id</th>\n",
       "      <th>age</th>\n",
       "      <th>workclass</th>\n",
       "      <th>fnlwgt</th>\n",
       "      <th>education</th>\n",
       "      <th>education-num</th>\n",
       "      <th>marital-status</th>\n",
       "      <th>occupation</th>\n",
       "      <th>relationship</th>\n",
       "      <th>race</th>\n",
       "      <th>sex</th>\n",
       "      <th>capital-gain</th>\n",
       "      <th>capital-loss</th>\n",
       "      <th>hours-per-week</th>\n",
       "      <th>native-country</th>\n",
       "      <th>income</th>\n",
       "    </tr>\n",
       "  </thead>\n",
       "  <tbody>\n",
       "    <tr>\n",
       "      <th>0</th>\n",
       "      <td>0</td>\n",
       "      <td>39</td>\n",
       "      <td>State-gov</td>\n",
       "      <td>77516</td>\n",
       "      <td>Bachelors</td>\n",
       "      <td>13</td>\n",
       "      <td>Never-married</td>\n",
       "      <td>Adm-clerical</td>\n",
       "      <td>Not-in-family</td>\n",
       "      <td>White</td>\n",
       "      <td>Male</td>\n",
       "      <td>2174</td>\n",
       "      <td>0</td>\n",
       "      <td>40</td>\n",
       "      <td>United-States</td>\n",
       "      <td>&lt;=50K</td>\n",
       "    </tr>\n",
       "    <tr>\n",
       "      <th>1</th>\n",
       "      <td>1</td>\n",
       "      <td>50</td>\n",
       "      <td>Self-emp-not-inc</td>\n",
       "      <td>83311</td>\n",
       "      <td>Bachelors</td>\n",
       "      <td>13</td>\n",
       "      <td>Married-civ-spouse</td>\n",
       "      <td>Exec-managerial</td>\n",
       "      <td>Husband</td>\n",
       "      <td>White</td>\n",
       "      <td>Male</td>\n",
       "      <td>0</td>\n",
       "      <td>0</td>\n",
       "      <td>13</td>\n",
       "      <td>United-States</td>\n",
       "      <td>&lt;=50K</td>\n",
       "    </tr>\n",
       "    <tr>\n",
       "      <th>2</th>\n",
       "      <td>2</td>\n",
       "      <td>38</td>\n",
       "      <td>Private</td>\n",
       "      <td>215646</td>\n",
       "      <td>HS-grad</td>\n",
       "      <td>9</td>\n",
       "      <td>Divorced</td>\n",
       "      <td>Handlers-cleaners</td>\n",
       "      <td>Not-in-family</td>\n",
       "      <td>White</td>\n",
       "      <td>Male</td>\n",
       "      <td>0</td>\n",
       "      <td>0</td>\n",
       "      <td>40</td>\n",
       "      <td>United-States</td>\n",
       "      <td>&lt;=50K</td>\n",
       "    </tr>\n",
       "    <tr>\n",
       "      <th>3</th>\n",
       "      <td>3</td>\n",
       "      <td>53</td>\n",
       "      <td>Private</td>\n",
       "      <td>234721</td>\n",
       "      <td>11th</td>\n",
       "      <td>7</td>\n",
       "      <td>Married-civ-spouse</td>\n",
       "      <td>Handlers-cleaners</td>\n",
       "      <td>Husband</td>\n",
       "      <td>Black</td>\n",
       "      <td>Male</td>\n",
       "      <td>0</td>\n",
       "      <td>0</td>\n",
       "      <td>40</td>\n",
       "      <td>United-States</td>\n",
       "      <td>&lt;=50K</td>\n",
       "    </tr>\n",
       "    <tr>\n",
       "      <th>4</th>\n",
       "      <td>4</td>\n",
       "      <td>28</td>\n",
       "      <td>Private</td>\n",
       "      <td>338409</td>\n",
       "      <td>Bachelors</td>\n",
       "      <td>13</td>\n",
       "      <td>Married-civ-spouse</td>\n",
       "      <td>Prof-specialty</td>\n",
       "      <td>Wife</td>\n",
       "      <td>Black</td>\n",
       "      <td>Female</td>\n",
       "      <td>0</td>\n",
       "      <td>0</td>\n",
       "      <td>40</td>\n",
       "      <td>Cuba</td>\n",
       "      <td>&lt;=50K</td>\n",
       "    </tr>\n",
       "  </tbody>\n",
       "</table>\n",
       "</div>"
      ],
      "text/plain": [
       "   Id  age         workclass  fnlwgt  education  education-num  \\\n",
       "0   0   39         State-gov   77516  Bachelors             13   \n",
       "1   1   50  Self-emp-not-inc   83311  Bachelors             13   \n",
       "2   2   38           Private  215646    HS-grad              9   \n",
       "3   3   53           Private  234721       11th              7   \n",
       "4   4   28           Private  338409  Bachelors             13   \n",
       "\n",
       "       marital-status         occupation   relationship   race     sex  \\\n",
       "0       Never-married       Adm-clerical  Not-in-family  White    Male   \n",
       "1  Married-civ-spouse    Exec-managerial        Husband  White    Male   \n",
       "2            Divorced  Handlers-cleaners  Not-in-family  White    Male   \n",
       "3  Married-civ-spouse  Handlers-cleaners        Husband  Black    Male   \n",
       "4  Married-civ-spouse     Prof-specialty           Wife  Black  Female   \n",
       "\n",
       "   capital-gain  capital-loss  hours-per-week native-country income  \n",
       "0          2174             0              40  United-States  <=50K  \n",
       "1             0             0              13  United-States  <=50K  \n",
       "2             0             0              40  United-States  <=50K  \n",
       "3             0             0              40  United-States  <=50K  \n",
       "4             0             0              40           Cuba  <=50K  "
      ]
     },
     "execution_count": 4,
     "metadata": {},
     "output_type": "execute_result"
    }
   ],
   "source": [
    "data = Adult()\n",
    "data.dataframe.head()"
   ]
  },
  {
   "cell_type": "code",
   "execution_count": 5,
   "id": "1f36ce71-d9d6-430d-ba03-7fa1647b04b3",
   "metadata": {},
   "outputs": [
    {
     "data": {
      "text/plain": [
       "[['age', 'relationship', 'sex', 'marital-status'],\n",
       " ['education', 'education-num']]"
      ]
     },
     "execution_count": 5,
     "metadata": {},
     "output_type": "execute_result"
    }
   ],
   "source": [
    "data.correlated_attributes"
   ]
  },
  {
   "cell_type": "code",
   "execution_count": 6,
   "id": "706637a7-7abe-4c82-8e38-d18571ac9281",
   "metadata": {},
   "outputs": [
    {
     "data": {
      "text/plain": [
       "Index(['Id', 'age', 'workclass', 'fnlwgt', 'education', 'education-num',\n",
       "       'marital-status', 'occupation', 'relationship', 'race', 'sex',\n",
       "       'capital-gain', 'capital-loss', 'hours-per-week', 'native-country',\n",
       "       'income'],\n",
       "      dtype='object')"
      ]
     },
     "execution_count": 6,
     "metadata": {},
     "output_type": "execute_result"
    }
   ],
   "source": [
    "data.columns"
   ]
  },
  {
   "cell_type": "code",
   "execution_count": 7,
   "id": "f41d2f22-f0f0-4610-afc0-4b196aec5edd",
   "metadata": {},
   "outputs": [
    {
     "name": "stdout",
     "output_type": "stream",
     "text": [
      "Start the NCorr fingerprint insertion algorithm...\n",
      "\tgamma: 2\n",
      "\tcorrelated attributes: [['age', 'relationship', 'sex', 'marital-status'], ['education', 'education-num']]\n",
      "\n",
      "Generated a tardos fingerprint for recipient 0: 10001111000100011101001000101101011010000110011111010100110011010101110100101101101010010111100101111000100100101000100101001111\n",
      "Inserting the fingerprint...\n",
      "\n",
      "Training balltrees in: 0.2663 sec.\n",
      "Fingerprint inserted.\n",
      "Runtime: 29.03 sec.\n",
      "{'query_time': 10.779498100280762, 'write_time': 1.1347684860229492, 'read_time': 0.0806584358215332, 'mark_time': 15.254706382751465}\n"
     ]
    }
   ],
   "source": [
    "fp_data = scheme.insertion(data, secret_key=param['sk'], recipient_id=param['id'],\n",
    "                             correlated_attributes=data.correlated_attributes, save_computation=True, \n",
    "                           outfile='adult_fp_temp.csv')"
   ]
  },
  {
   "cell_type": "code",
   "execution_count": 8,
   "id": "95a45d0f-451d-40d6-a994-af5df84001b1",
   "metadata": {},
   "outputs": [
    {
     "data": {
      "text/html": [
       "<div>\n",
       "<style scoped>\n",
       "    .dataframe tbody tr th:only-of-type {\n",
       "        vertical-align: middle;\n",
       "    }\n",
       "\n",
       "    .dataframe tbody tr th {\n",
       "        vertical-align: top;\n",
       "    }\n",
       "\n",
       "    .dataframe thead th {\n",
       "        text-align: right;\n",
       "    }\n",
       "</style>\n",
       "<table border=\"1\" class=\"dataframe\">\n",
       "  <thead>\n",
       "    <tr style=\"text-align: right;\">\n",
       "      <th></th>\n",
       "      <th>Id</th>\n",
       "      <th>age</th>\n",
       "      <th>workclass</th>\n",
       "      <th>fnlwgt</th>\n",
       "      <th>education</th>\n",
       "      <th>education-num</th>\n",
       "      <th>marital-status</th>\n",
       "      <th>occupation</th>\n",
       "      <th>relationship</th>\n",
       "      <th>race</th>\n",
       "      <th>sex</th>\n",
       "      <th>capital-gain</th>\n",
       "      <th>capital-loss</th>\n",
       "      <th>hours-per-week</th>\n",
       "      <th>native-country</th>\n",
       "      <th>income</th>\n",
       "    </tr>\n",
       "  </thead>\n",
       "  <tbody>\n",
       "    <tr>\n",
       "      <th>0</th>\n",
       "      <td>0</td>\n",
       "      <td>39</td>\n",
       "      <td>State-gov</td>\n",
       "      <td>77516</td>\n",
       "      <td>Bachelors</td>\n",
       "      <td>13</td>\n",
       "      <td>Never-married</td>\n",
       "      <td>Adm-clerical</td>\n",
       "      <td>Not-in-family</td>\n",
       "      <td>White</td>\n",
       "      <td>Male</td>\n",
       "      <td>2174</td>\n",
       "      <td>0</td>\n",
       "      <td>40</td>\n",
       "      <td>United-States</td>\n",
       "      <td>&lt;=50K</td>\n",
       "    </tr>\n",
       "    <tr>\n",
       "      <th>1</th>\n",
       "      <td>1</td>\n",
       "      <td>50</td>\n",
       "      <td>Self-emp-not-inc</td>\n",
       "      <td>83311</td>\n",
       "      <td>Bachelors</td>\n",
       "      <td>13</td>\n",
       "      <td>Married-civ-spouse</td>\n",
       "      <td>Exec-managerial</td>\n",
       "      <td>Husband</td>\n",
       "      <td>White</td>\n",
       "      <td>Male</td>\n",
       "      <td>0</td>\n",
       "      <td>0</td>\n",
       "      <td>13</td>\n",
       "      <td>United-States</td>\n",
       "      <td>&lt;=50K</td>\n",
       "    </tr>\n",
       "    <tr>\n",
       "      <th>2</th>\n",
       "      <td>2</td>\n",
       "      <td>38</td>\n",
       "      <td>Private</td>\n",
       "      <td>301614</td>\n",
       "      <td>HS-grad</td>\n",
       "      <td>9</td>\n",
       "      <td>Divorced</td>\n",
       "      <td>Handlers-cleaners</td>\n",
       "      <td>Not-in-family</td>\n",
       "      <td>White</td>\n",
       "      <td>Male</td>\n",
       "      <td>0</td>\n",
       "      <td>0</td>\n",
       "      <td>40</td>\n",
       "      <td>United-States</td>\n",
       "      <td>&lt;=50K</td>\n",
       "    </tr>\n",
       "    <tr>\n",
       "      <th>3</th>\n",
       "      <td>3</td>\n",
       "      <td>53</td>\n",
       "      <td>Private</td>\n",
       "      <td>234721</td>\n",
       "      <td>11th</td>\n",
       "      <td>7</td>\n",
       "      <td>Married-civ-spouse</td>\n",
       "      <td>Handlers-cleaners</td>\n",
       "      <td>Husband</td>\n",
       "      <td>Black</td>\n",
       "      <td>Male</td>\n",
       "      <td>0</td>\n",
       "      <td>0</td>\n",
       "      <td>40</td>\n",
       "      <td>United-States</td>\n",
       "      <td>&lt;=50K</td>\n",
       "    </tr>\n",
       "    <tr>\n",
       "      <th>4</th>\n",
       "      <td>4</td>\n",
       "      <td>28</td>\n",
       "      <td>Private</td>\n",
       "      <td>338409</td>\n",
       "      <td>Bachelors</td>\n",
       "      <td>13</td>\n",
       "      <td>Married-civ-spouse</td>\n",
       "      <td>Prof-specialty</td>\n",
       "      <td>Wife</td>\n",
       "      <td>Black</td>\n",
       "      <td>Female</td>\n",
       "      <td>0</td>\n",
       "      <td>0</td>\n",
       "      <td>40</td>\n",
       "      <td>Cuba</td>\n",
       "      <td>&lt;=50K</td>\n",
       "    </tr>\n",
       "  </tbody>\n",
       "</table>\n",
       "</div>"
      ],
      "text/plain": [
       "   Id  age         workclass  fnlwgt  education  education-num  \\\n",
       "0   0   39         State-gov   77516  Bachelors             13   \n",
       "1   1   50  Self-emp-not-inc   83311  Bachelors             13   \n",
       "2   2   38           Private  301614    HS-grad              9   \n",
       "3   3   53           Private  234721       11th              7   \n",
       "4   4   28           Private  338409  Bachelors             13   \n",
       "\n",
       "       marital-status         occupation   relationship   race     sex  \\\n",
       "0       Never-married       Adm-clerical  Not-in-family  White    Male   \n",
       "1  Married-civ-spouse    Exec-managerial        Husband  White    Male   \n",
       "2            Divorced  Handlers-cleaners  Not-in-family  White    Male   \n",
       "3  Married-civ-spouse  Handlers-cleaners        Husband  Black    Male   \n",
       "4  Married-civ-spouse     Prof-specialty           Wife  Black  Female   \n",
       "\n",
       "   capital-gain  capital-loss  hours-per-week native-country income  \n",
       "0          2174             0              40  United-States  <=50K  \n",
       "1             0             0              13  United-States  <=50K  \n",
       "2             0             0              40  United-States  <=50K  \n",
       "3             0             0              40  United-States  <=50K  \n",
       "4             0             0              40           Cuba  <=50K  "
      ]
     },
     "execution_count": 8,
     "metadata": {},
     "output_type": "execute_result"
    }
   ],
   "source": [
    "fp_data.head()"
   ]
  },
  {
   "cell_type": "code",
   "execution_count": 9,
   "id": "95820e22-8eda-493e-b479-b54d2c21be42",
   "metadata": {},
   "outputs": [
    {
     "data": {
      "text/html": [
       "<div>\n",
       "<style scoped>\n",
       "    .dataframe tbody tr th:only-of-type {\n",
       "        vertical-align: middle;\n",
       "    }\n",
       "\n",
       "    .dataframe tbody tr th {\n",
       "        vertical-align: top;\n",
       "    }\n",
       "\n",
       "    .dataframe thead tr th {\n",
       "        text-align: left;\n",
       "    }\n",
       "</style>\n",
       "<table border=\"1\" class=\"dataframe\">\n",
       "  <thead>\n",
       "    <tr>\n",
       "      <th></th>\n",
       "      <th colspan=\"2\" halign=\"left\">age</th>\n",
       "      <th colspan=\"2\" halign=\"left\">workclass</th>\n",
       "      <th colspan=\"2\" halign=\"left\">fnlwgt</th>\n",
       "      <th colspan=\"2\" halign=\"left\">marital-status</th>\n",
       "      <th colspan=\"2\" halign=\"left\">capital-loss</th>\n",
       "      <th colspan=\"2\" halign=\"left\">income</th>\n",
       "    </tr>\n",
       "    <tr>\n",
       "      <th></th>\n",
       "      <th>self</th>\n",
       "      <th>other</th>\n",
       "      <th>self</th>\n",
       "      <th>other</th>\n",
       "      <th>self</th>\n",
       "      <th>other</th>\n",
       "      <th>self</th>\n",
       "      <th>other</th>\n",
       "      <th>self</th>\n",
       "      <th>other</th>\n",
       "      <th>self</th>\n",
       "      <th>other</th>\n",
       "    </tr>\n",
       "  </thead>\n",
       "  <tbody>\n",
       "    <tr>\n",
       "      <th>2</th>\n",
       "      <td>NaN</td>\n",
       "      <td>NaN</td>\n",
       "      <td>NaN</td>\n",
       "      <td>NaN</td>\n",
       "      <td>301614.0</td>\n",
       "      <td>215646.0</td>\n",
       "      <td>NaN</td>\n",
       "      <td>NaN</td>\n",
       "      <td>NaN</td>\n",
       "      <td>NaN</td>\n",
       "      <td>NaN</td>\n",
       "      <td>NaN</td>\n",
       "    </tr>\n",
       "    <tr>\n",
       "      <th>5</th>\n",
       "      <td>NaN</td>\n",
       "      <td>NaN</td>\n",
       "      <td>NaN</td>\n",
       "      <td>NaN</td>\n",
       "      <td>NaN</td>\n",
       "      <td>NaN</td>\n",
       "      <td>Divorced</td>\n",
       "      <td>Married-civ-spouse</td>\n",
       "      <td>NaN</td>\n",
       "      <td>NaN</td>\n",
       "      <td>NaN</td>\n",
       "      <td>NaN</td>\n",
       "    </tr>\n",
       "    <tr>\n",
       "      <th>6</th>\n",
       "      <td>NaN</td>\n",
       "      <td>NaN</td>\n",
       "      <td>Local-gov</td>\n",
       "      <td>Private</td>\n",
       "      <td>NaN</td>\n",
       "      <td>NaN</td>\n",
       "      <td>NaN</td>\n",
       "      <td>NaN</td>\n",
       "      <td>NaN</td>\n",
       "      <td>NaN</td>\n",
       "      <td>NaN</td>\n",
       "      <td>NaN</td>\n",
       "    </tr>\n",
       "    <tr>\n",
       "      <th>8</th>\n",
       "      <td>NaN</td>\n",
       "      <td>NaN</td>\n",
       "      <td>NaN</td>\n",
       "      <td>NaN</td>\n",
       "      <td>NaN</td>\n",
       "      <td>NaN</td>\n",
       "      <td>NaN</td>\n",
       "      <td>NaN</td>\n",
       "      <td>NaN</td>\n",
       "      <td>NaN</td>\n",
       "      <td>&lt;=50K</td>\n",
       "      <td>&gt;50K</td>\n",
       "    </tr>\n",
       "    <tr>\n",
       "      <th>9</th>\n",
       "      <td>25.0</td>\n",
       "      <td>42.0</td>\n",
       "      <td>NaN</td>\n",
       "      <td>NaN</td>\n",
       "      <td>NaN</td>\n",
       "      <td>NaN</td>\n",
       "      <td>NaN</td>\n",
       "      <td>NaN</td>\n",
       "      <td>NaN</td>\n",
       "      <td>NaN</td>\n",
       "      <td>NaN</td>\n",
       "      <td>NaN</td>\n",
       "    </tr>\n",
       "    <tr>\n",
       "      <th>12</th>\n",
       "      <td>NaN</td>\n",
       "      <td>NaN</td>\n",
       "      <td>NaN</td>\n",
       "      <td>NaN</td>\n",
       "      <td>NaN</td>\n",
       "      <td>NaN</td>\n",
       "      <td>NaN</td>\n",
       "      <td>NaN</td>\n",
       "      <td>1564.0</td>\n",
       "      <td>0.0</td>\n",
       "      <td>NaN</td>\n",
       "      <td>NaN</td>\n",
       "    </tr>\n",
       "  </tbody>\n",
       "</table>\n",
       "</div>"
      ],
      "text/plain": [
       "     age        workclass             fnlwgt           marital-status  \\\n",
       "    self other       self    other      self     other           self   \n",
       "2    NaN   NaN        NaN      NaN  301614.0  215646.0            NaN   \n",
       "5    NaN   NaN        NaN      NaN       NaN       NaN       Divorced   \n",
       "6    NaN   NaN  Local-gov  Private       NaN       NaN            NaN   \n",
       "8    NaN   NaN        NaN      NaN       NaN       NaN            NaN   \n",
       "9   25.0  42.0        NaN      NaN       NaN       NaN            NaN   \n",
       "12   NaN   NaN        NaN      NaN       NaN       NaN            NaN   \n",
       "\n",
       "                       capital-loss       income        \n",
       "                 other         self other   self other  \n",
       "2                  NaN          NaN   NaN    NaN   NaN  \n",
       "5   Married-civ-spouse          NaN   NaN    NaN   NaN  \n",
       "6                  NaN          NaN   NaN    NaN   NaN  \n",
       "8                  NaN          NaN   NaN  <=50K  >50K  \n",
       "9                  NaN          NaN   NaN    NaN   NaN  \n",
       "12                 NaN       1564.0   0.0    NaN   NaN  "
      ]
     },
     "execution_count": 9,
     "metadata": {},
     "output_type": "execute_result"
    }
   ],
   "source": [
    "df_diff = fp_data.head(20).compare(data.dataframe.head(20))\n",
    "df_diff"
   ]
  },
  {
   "cell_type": "code",
   "execution_count": 10,
   "id": "8fcb6399-abfb-47cc-8c07-39bc84a59863",
   "metadata": {},
   "outputs": [
    {
     "name": "stdout",
     "output_type": "stream",
     "text": [
      "Start NCorr fingerprint detection algorithm ...\n",
      "\tgamma: 2\n",
      "\tk: 400\n",
      "\tfp length: 128\n",
      "\ttotal # recipients: 20\n",
      "\tcorrelated attributes: [['age', 'relationship', 'sex', 'marital-status'], ['education', 'education-num']]\n",
      "Training balltrees in: 0.2807 sec.\n",
      "Fingerprint detected: 10001111000100011101001000101101011010000110011111010100110011010101110100101101101010010111100101111000100100101000100101001111\n",
      "[[3, 28], [32, 5], [34, 6], [31, 1], [6, 34], [1, 24], [3, 29], [1, 30], [39, 3], [28, 5], [23, 4], [5, 31], [27, 0], [27, 2], [32, 3], [3, 31], [4, 32], [3, 41], [38, 3], [4, 45], [31, 5], [44, 3], [0, 29], [25, 1], [41, 3], [38, 2], [3, 42], [31, 7], [7, 28], [3, 28], [44, 2], [2, 35], [37, 5], [1, 25], [3, 38], [34, 3], [6, 31], [37, 6], [26, 1], [42, 4], [29, 3], [4, 22], [4, 33], [35, 6], [30, 5], [3, 35], [2, 25], [3, 37], [4, 40], [4, 30], [42, 2], [4, 33], [36, 3], [2, 38], [29, 3], [30, 3], [3, 34], [6, 35], [26, 3], [17, 4], [5, 37], [3, 32], [29, 6], [1, 31], [31, 2], [5, 32], [36, 0], [5, 26], [4, 29], [5, 34], [26, 3], [3, 38], [48, 5], [31, 8], [3, 36], [28, 4], [1, 35], [5, 38], [29, 3], [2, 31], [6, 36], [28, 3], [0, 34], [35, 1], [2, 44], [32, 5], [38, 4], [6, 35], [40, 0], [1, 28], [1, 30], [0, 32], [5, 34], [34, 3], [32, 4], [4, 30], [37, 0], [3, 38], [6, 33], [4, 28], [5, 36], [35, 8], [39, 3], [35, 6], [2, 39], [49, 4], [31, 3], [1, 41], [46, 1], [36, 2], [7, 26], [34, 4], [4, 37], [45, 3], [39, 4], [28, 7], [6, 37], [34, 2], [36, 0], [2, 39], [44, 3], [3, 32], [42, 3], [31, 4], [3, 25], [3, 33], [0, 36], [5, 33]]\n",
      "The fingerprint is matched with probabilities:\n",
      "{0: 0.4375, 1: 0.546875, 2: 0.4921875, 3: 0.484375, 4: 0.5859375, 5: 0.5, 6: 0.546875, 7: 0.5078125, 8: 0.4921875, 9: 0.5, 10: 0.484375, 11: 0.5078125, 12: 0.578125, 13: 0.4765625, 14: 0.453125, 15: 0.5546875, 16: 0.53125, 17: 0.4921875, 18: 0.5078125, 19: 0.5625}\n",
      "[(4, 0.5859375), (12, 0.578125), (19, 0.5625), (15, 0.5546875), (1, 0.546875), (6, 0.546875), (16, 0.53125), (7, 0.5078125), (11, 0.5078125), (18, 0.5078125), (5, 0.5), (9, 0.5), (2, 0.4921875), (8, 0.4921875), (17, 0.4921875), (3, 0.484375), (10, 0.484375), (13, 0.4765625), (14, 0.453125), (0, 0.4375)]\n",
      "Scores:  [182.0567752  167.63563884 177.46012026 183.57882754 188.52687452\n",
      " 170.60820565 173.72218406 173.02766781 165.12090031 175.62109014\n",
      " 172.84267028 173.30436945 178.55644451 180.17898818 171.57755077\n",
      " 174.08105161 182.42781128 181.32264589 168.35878272 172.58213028]\n",
      "Collusion scores:  {0: 182.05677519549297, 1: 167.63563883523344, 2: 177.4601202590312, 3: 183.57882754472922, 4: 188.52687451742474, 5: 170.60820565109455, 6: 173.72218406069467, 7: 173.02766780704331, 8: 165.12090031089872, 9: 175.62109014441887, 10: 172.84267028367097, 11: 173.3043694464022, 12: 178.5564445119062, 13: 180.1789881843119, 14: 171.5775507690966, 15: 174.08105161367092, 16: 182.4278112764309, 17: 181.32264589081953, 18: 168.35878271574927, 19: 172.5821302811869}\n",
      "Runtime: 27.72 sec.\n"
     ]
    }
   ],
   "source": [
    "detected_fp, votes, suspect_probvec = scheme.detection(fp_data, secret_key=param['sk'],\n",
    "                                                                   primary_key='Id',\n",
    "                                                                   correlated_attributes=data.correlated_attributes,\n",
    "                                                                   original_columns=list(data.columns))"
   ]
  },
  {
   "cell_type": "code",
   "execution_count": 11,
   "id": "8448f320-d2e1-4ba9-a83c-be5cc5bc32d6",
   "metadata": {},
   "outputs": [],
   "source": [
    "from NCorrFP.demo import *"
   ]
  },
  {
   "cell_type": "code",
   "execution_count": 12,
   "id": "2c33ae21-b5a2-4ac4-9a93-1142caec242b",
   "metadata": {},
   "outputs": [],
   "source": [
    "demo = Demo(scheme)"
   ]
  },
  {
   "cell_type": "code",
   "execution_count": 13,
   "id": "84f5b2bb-677d-4f33-8f15-6e34089346a8",
   "metadata": {},
   "outputs": [
    {
     "data": {
      "text/plain": [
       "432"
      ]
     },
     "execution_count": 13,
     "metadata": {},
     "output_type": "execute_result"
    }
   ],
   "source": [
    "len(demo.get_error_iterations())"
   ]
  },
  {
   "cell_type": "code",
   "execution_count": 14,
   "id": "335fbc22-b49c-4793-a88a-38d4714e6521",
   "metadata": {},
   "outputs": [
    {
     "data": {
      "text/plain": [
       "5030"
      ]
     },
     "execution_count": 14,
     "metadata": {},
     "output_type": "execute_result"
    }
   ],
   "source": [
    "len(demo.detection_iter_log)"
   ]
  },
  {
   "cell_type": "code",
   "execution_count": 15,
   "id": "4559eb1d-d928-4c98-8a45-9fe6fd01e05e",
   "metadata": {},
   "outputs": [
    {
     "data": {
      "text/plain": [
       "0.08290258449304175"
      ]
     },
     "execution_count": 15,
     "metadata": {},
     "output_type": "execute_result"
    }
   ],
   "source": [
    "417/5030"
   ]
  },
  {
   "cell_type": "code",
   "execution_count": 16,
   "id": "da2e2984-9cc9-4add-bba0-ad84d7662700",
   "metadata": {},
   "outputs": [
    {
     "data": {
      "text/plain": [
       "array([ 17,  21,  60,  62,  65,  92, 102, 133, 136, 144, 152, 153, 156,\n",
       "       188, 189, 207, 211, 224, 236, 297, 308, 335, 351, 357, 358, 367,\n",
       "       386, 389, 404, 405])"
      ]
     },
     "execution_count": 16,
     "metadata": {},
     "output_type": "execute_result"
    }
   ],
   "source": [
    "np.array(demo.get_error_iterations())[:30]"
   ]
  },
  {
   "cell_type": "code",
   "execution_count": 17,
   "id": "fa54f967-8a72-426e-ae13-f221265a7b56",
   "metadata": {},
   "outputs": [
    {
     "data": {
      "text/plain": [
       "19906.03099565556"
      ]
     },
     "execution_count": 17,
     "metadata": {},
     "output_type": "execute_result"
    }
   ],
   "source": [
    "max(demo.detection_iter_log[26]['dist'][0])"
   ]
  },
  {
   "cell_type": "code",
   "execution_count": 18,
   "id": "189bcc68-fe47-4547-a777-1a3312575504",
   "metadata": {},
   "outputs": [
    {
     "name": "stdout",
     "output_type": "stream",
     "text": [
      "Marking record no. 132\n",
      "Marking attribute: education\n",
      "The record to mark: \n",
      "    Id  age workclass  fnlwgt education  education-num      marital-status  \\\n",
      "65  65   36   Private  155537   HS-grad              9  Married-civ-spouse   \n",
      "\n",
      "      occupation relationship   race   sex  capital-gain  capital-loss  \\\n",
      "65  Craft-repair      Husband  White  Male             0             0   \n",
      "\n",
      "    hours-per-week native-country income  \n",
      "65              40  United-States  <=50K  \n",
      "------------------------------------------------------------------------------------------------------------------\n",
      "Neighbourhood: education is not a correlated attribute, so we are including all attributes to find the closest neighbourhood.\n",
      "Neighbours idx: [1082 3779 2097 ... 1061 1062 1035]\n",
      "Neighbours dist: [[0. 0. 0. ... 0. 0. 0.]]\n",
      "\n",
      "Now we look at the values of attribute education in this neighbourhood, and among these is our potential new value.\n",
      "For this we estimate the distribution of these target values (see the plot below) before sampling one new value.\n",
      "There are generally two outcomes for the sampled value:\n",
      "\t-mark bit is 1 (50%) - the new value is sampled from the most dense areas of a distribution of the target variable in the neighbourhood\n",
      "\t-mark bit is 0(50%) - the new value is sampled from the tails of distribution of the target value in the neighbourhood\n",
      "Mark bit is generated pseudorandomly via PRNG.\n",
      "\n",
      "In this case, mark bit is 0, therefore we sample from tails of distribution of the variable education in the neighbourhood. The thresholds are set by an arbitrary percentile (here we use 75th)\n",
      "The new value is:  HS-grad\n"
     ]
    },
    {
     "data": {
      "image/png": "[encoded data removed]",
      "text/plain": [
       "<Figure size 640x480 with 1 Axes>"
      ]
     },
     "metadata": {},
     "output_type": "display_data"
    },
    {
     "name": "stdout",
     "output_type": "stream",
     "text": [
      "The sampled continuous value is rounded to the closest existing value from the data (to avoid perceptibility of marks) and is: HS-grad\n",
      "The fingerprinted record is:\n",
      "    Id  age  workclass  fnlwgt  education  education-num  marital-status  \\\n",
      "65  65   36          6  155537         11              9               2   \n",
      "\n",
      "    occupation  relationship  race  sex  capital-gain  capital-loss  \\\n",
      "65           3             0     4    1             0             0   \n",
      "\n",
      "    hours-per-week  native-country  income  \n",
      "65              40              38       0  \n"
     ]
    }
   ],
   "source": [
    "demo.show_embedding_iteration(65)"
   ]
  },
  {
   "cell_type": "code",
   "execution_count": 19,
   "id": "4613125e-1757-4847-bb01-dfbb7a131a22",
   "metadata": {},
   "outputs": [
    {
     "ename": "KeyError",
     "evalue": "'new_value'",
     "output_type": "error",
     "traceback": [
      "\u001b[1;31m---------------------------------------------------------------------------\u001b[0m",
      "\u001b[1;31mKeyError\u001b[0m                                  Traceback (most recent call last)",
      "Input \u001b[1;32mIn [19]\u001b[0m, in \u001b[0;36m<cell line: 1>\u001b[1;34m()\u001b[0m\n\u001b[1;32m----> 1\u001b[0m \u001b[43mdemo\u001b[49m\u001b[38;5;241;43m.\u001b[39;49m\u001b[43mdetection_iter_log\u001b[49m\u001b[43m[\u001b[49m\u001b[38;5;241;43m65\u001b[39;49m\u001b[43m]\u001b[49m\u001b[43m[\u001b[49m\u001b[38;5;124;43m'\u001b[39;49m\u001b[38;5;124;43mnew_value\u001b[39;49m\u001b[38;5;124;43m'\u001b[39;49m\u001b[43m]\u001b[49m\n",
      "\u001b[1;31mKeyError\u001b[0m: 'new_value'"
     ]
    }
   ],
   "source": [
    "demo.detection_iter_log[65]['new_value']"
   ]
  },
  {
   "cell_type": "code",
   "execution_count": null,
   "id": "c597dfdd-857d-4732-b9ae-b13aad6cc58c",
   "metadata": {},
   "outputs": [],
   "source": [
    "demo.show_detection_iteration(65)"
   ]
  }
 ],
 "metadata": {
  "kernelspec": {
   "display_name": "Python3-venv",
   "language": "python",
   "name": "venv"
  },
  "language_info": {
   "codemirror_mode": {
    "name": "ipython",
    "version": 3
   },
   "file_extension": ".py",
   "mimetype": "text/x-python",
   "name": "python",
   "nbconvert_exporter": "python",
   "pygments_lexer": "ipython3",
   "version": "3.10.6"
  }
 },
 "nbformat": 4,
 "nbformat_minor": 5
}
